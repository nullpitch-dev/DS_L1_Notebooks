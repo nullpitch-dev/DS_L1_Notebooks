{
  "nbformat": 4,
  "nbformat_minor": 0,
  "metadata": {
    "colab": {
      "name": "DS_L1_EX#11",
      "provenance": [],
      "collapsed_sections": [],
      "include_colab_link": true
    },
    "kernelspec": {
      "display_name": "Python 3",
      "name": "python3"
    }
  },
  "cells": [
    {
      "cell_type": "markdown",
      "metadata": {
        "id": "view-in-github",
        "colab_type": "text"
      },
      "source": [
        "<a href=\"https://colab.research.google.com/github/nullpitch-dev/DS_L1_Notebooks/blob/master/DS_L1_EX_11.ipynb\" target=\"_parent\"><img src=\"https://colab.research.google.com/assets/colab-badge.svg\" alt=\"Open In Colab\"/></a>"
      ]
    },
    {
      "cell_type": "code",
      "metadata": {
        "id": "j6BvBx2BCOdk",
        "colab_type": "code",
        "colab": {}
      },
      "source": [
        "import pandas as pd\n",
        "\n",
        "url = 'https://raw.githubusercontent.com/nullpitch-dev/hj_public/master/Gestures.csv'\n",
        "data = pd.read_csv(url)\n",
        "cols = list(data.columns)"
      ],
      "execution_count": 0,
      "outputs": []
    },
    {
      "cell_type": "code",
      "metadata": {
        "id": "xgI5F96_6YiT",
        "colab_type": "code",
        "outputId": "a1a1b008-e098-43fe-a55a-58033cee219d",
        "colab": {
          "base_uri": "https://localhost:8080/",
          "height": 34
        }
      },
      "source": [
        "# [1]\n",
        "\n",
        "ans_cnt = 0\n",
        "\n",
        "for i in cols[3:82]:\n",
        "    ans_cnt += len(data[data[i] !=0])\n",
        "\n",
        "print(f'Answer [1] : {ans_cnt}')"
      ],
      "execution_count": 0,
      "outputs": [
        {
          "output_type": "stream",
          "text": [
            "Answer [1] : 469041\n"
          ],
          "name": "stdout"
        }
      ]
    },
    {
      "cell_type": "code",
      "metadata": {
        "id": "RjcbH7dG6yVp",
        "colab_type": "code",
        "outputId": "06b859ce-f404-4fed-d446-b44477d5e36f",
        "colab": {
          "base_uri": "https://localhost:8080/",
          "height": 34
        }
      },
      "source": [
        "# [2]\n",
        "\n",
        "from scipy import stats\n",
        "import math\n",
        "\n",
        "data_dist = data\n",
        "data_dist['ttl_dist'] = data_dist[cols[82:]].sum(axis=1)\n",
        "\n",
        "characters = data_dist.groupby('character').agg({'seq':'count'})\n",
        "\n",
        "arr = []\n",
        "for i in characters.index:\n",
        "    arr.append(data_dist[data_dist['character'] == i]['ttl_dist'])\n",
        "\n",
        "f_value, p_value = stats.f_oneway(arr[0], arr[1], arr[2], arr[3], arr[4],\n",
        "                                  arr[5], arr[6], arr[7], arr[8], arr[9])\n",
        "\n",
        "print(f'Answer [2] : F-value = {math.trunc(f_value)}')"
      ],
      "execution_count": 0,
      "outputs": [
        {
          "output_type": "stream",
          "text": [
            "Answer [2] : F-value = 814\n"
          ],
          "name": "stdout"
        }
      ]
    },
    {
      "cell_type": "code",
      "metadata": {
        "id": "CU6hcBEk837l",
        "colab_type": "code",
        "outputId": "84cd796b-6fb9-4571-b4c5-e4de9f28370b",
        "colab": {
          "base_uri": "https://localhost:8080/",
          "height": 34
        }
      },
      "source": [
        "# [3]\n",
        "\n",
        "from sklearn.preprocessing import StandardScaler\n",
        "from sklearn.decomposition import PCA\n",
        "\n",
        "scaler = StandardScaler()\n",
        "pca = PCA(n_components=15)\n",
        "\n",
        "norm_data = scaler.fit_transform(data[cols[3:]])\n",
        "pca_result = pca.fit(norm_data)\n",
        "\n",
        "explain = pca_result.explained_variance_ratio_.sum() * 100\n",
        "eigen = pca_result.components_[1][2]\n",
        "\n",
        "print(f'Answer [3] : explain = {explain:.4f}, eigen = {eigen:.4f}')"
      ],
      "execution_count": 0,
      "outputs": [
        {
          "output_type": "stream",
          "text": [
            "Answer [3] : explain = 57.8805, eigen = 0.0658\n"
          ],
          "name": "stdout"
        }
      ]
    },
    {
      "cell_type": "code",
      "metadata": {
        "id": "8NNqjUIwBMSR",
        "colab_type": "code",
        "outputId": "5246be9d-3b5d-41a9-f6cb-26b62cf4b213",
        "colab": {
          "base_uri": "https://localhost:8080/",
          "height": 34
        }
      },
      "source": [
        "# [4]\n",
        "\n",
        "from sklearn.neighbors import KNeighborsClassifier\n",
        "\n",
        "train = data[data['XGRP'] == 'TRAIN']\n",
        "test = data[data['XGRP'] == 'TEST']\n",
        "\n",
        "train_x = pca.transform(scaler.transform(train[cols[3:]]))\n",
        "test_x = pca.transform(scaler.transform(test[cols[3:]]))\n",
        "\n",
        "knn = KNeighborsClassifier(n_neighbors=characters.size)\n",
        "knn.fit(train_x, train['character'])\n",
        "accuracy = knn.score(test_x, test['character'])\n",
        "\n",
        "print(f'Answer [4] : Accuracy = {accuracy:.3f}')"
      ],
      "execution_count": 0,
      "outputs": [
        {
          "output_type": "stream",
          "text": [
            "Answer [4] : Accuracy = 0.817\n"
          ],
          "name": "stdout"
        }
      ]
    }
  ]
}