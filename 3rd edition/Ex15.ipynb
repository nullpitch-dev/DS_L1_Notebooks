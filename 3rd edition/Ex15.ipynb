{
 "cells": [
  {
   "cell_type": "code",
   "execution_count": 1,
   "metadata": {},
   "outputs": [],
   "source": [
    "import pandas as pd\n",
    "import numpy as np\n",
    "import math"
   ]
  },
  {
   "cell_type": "code",
   "execution_count": 2,
   "metadata": {},
   "outputs": [],
   "source": [
    "url_1 = 'https://raw.githubusercontent.com/nullpitch-dev/hj_public/master/16Part1.csv'\n",
    "url_2 = 'https://raw.githubusercontent.com/nullpitch-dev/hj_public/master/16Part2.csv'\n",
    "data_1 = pd.read_csv(url_1)\n",
    "data_2 = pd.read_csv(url_2)"
   ]
  },
  {
   "cell_type": "markdown",
   "metadata": {},
   "source": [
    "### [0]"
   ]
  },
  {
   "cell_type": "code",
   "execution_count": 3,
   "metadata": {},
   "outputs": [],
   "source": [
    "d1 = data_1.dropna(subset=['Year'])\n",
    "d1 = d1[d1.Year >= 1980]"
   ]
  },
  {
   "cell_type": "code",
   "execution_count": 4,
   "metadata": {},
   "outputs": [],
   "source": [
    "d1[d1.columns[6:]] = d1[d1.columns[6:]].fillna(value=0)"
   ]
  },
  {
   "cell_type": "code",
   "execution_count": 5,
   "metadata": {},
   "outputs": [],
   "source": [
    "d2 = data_2.dropna()"
   ]
  },
  {
   "cell_type": "code",
   "execution_count": 6,
   "metadata": {},
   "outputs": [],
   "source": [
    "def convert_height(h):\n",
    "    feet, inch = h.split('-')\n",
    "    return round(int(feet) * 30.5 + int(inch) * 2.54)\n",
    "\n",
    "d2 = d2.assign(Hcm=d2.height.apply(lambda x: convert_height(x)))\n",
    "d2 = d2.assign(Wkg=d2.weight.apply(lambda x: round(x / 2.2046)))"
   ]
  },
  {
   "cell_type": "code",
   "execution_count": 7,
   "metadata": {},
   "outputs": [],
   "source": [
    "same_name = d1.groupby(['Year', 'Player']).agg({'Age': 'nunique'})\n",
    "same_name = same_name[same_name.Age >= 2].reset_index()\n",
    "same_name = same_name.Player.unique()"
   ]
  },
  {
   "cell_type": "code",
   "execution_count": 8,
   "metadata": {},
   "outputs": [],
   "source": [
    "d1 = d1[~d1.Player.isin(same_name)]"
   ]
  },
  {
   "cell_type": "code",
   "execution_count": 9,
   "metadata": {},
   "outputs": [],
   "source": [
    "min_year = d1.groupby('Player').agg({'Year': 'min'})\n",
    "max_year = d1.groupby('Player').agg({'Year': 'max'})\n",
    "\n",
    "years = pd.merge(min_year, max_year, how='inner', left_index=True,\n",
    "                 right_index=True)\n",
    "years = years.assign(yr_range=years.Year_y - years.Year_x)\n",
    "years = years[(years.yr_range >= 3) & (years.yr_range <= 20)]\n",
    "d1 = d1[d1.Player.isin(years.index)]"
   ]
  },
  {
   "cell_type": "code",
   "execution_count": 10,
   "metadata": {},
   "outputs": [],
   "source": [
    "d = pd.merge(d1, d2[['name', 'Hcm', 'Wkg']], how='inner', left_on='Player', right_on='name')"
   ]
  },
  {
   "cell_type": "markdown",
   "metadata": {},
   "source": [
    "### [5]"
   ]
  },
  {
   "cell_type": "code",
   "execution_count": 11,
   "metadata": {},
   "outputs": [],
   "source": [
    "mean_age = d.groupby(['Tm', 'Year']).agg({'Age': 'mean'})\n",
    "mean_age = mean_age.sort_values(by='Age', ascending=False)\n",
    "h_team = mean_age.index[0][0]\n",
    "h_year = mean_age.index[0][1]"
   ]
  },
  {
   "cell_type": "code",
   "execution_count": 12,
   "metadata": {},
   "outputs": [],
   "source": [
    "d5 = d[(d.Tm == h_team) & (d.Year == h_year)].sort_values(by=['Age', 'G'],\n",
    "                                                       ascending=[False, False])"
   ]
  },
  {
   "cell_type": "code",
   "execution_count": 13,
   "metadata": {},
   "outputs": [
    {
     "name": "stdout",
     "output_type": "stream",
     "text": [
      "Tim Duncan\n"
     ]
    }
   ],
   "source": [
    "print(f\"{d5.iloc[0, 2]}\")"
   ]
  },
  {
   "cell_type": "markdown",
   "metadata": {},
   "source": [
    "### [6]"
   ]
  },
  {
   "cell_type": "code",
   "execution_count": 14,
   "metadata": {},
   "outputs": [],
   "source": [
    "d6 = d.groupby('Player').agg({'Pos': 'nunique', 'Hcm': 'mean'})"
   ]
  },
  {
   "cell_type": "code",
   "execution_count": 15,
   "metadata": {},
   "outputs": [],
   "source": [
    "from scipy.stats import ttest_ind\n",
    "\n",
    "t_val, p_val = ttest_ind(d6[d6.Pos >= 2].Hcm, d6[d6.Pos == 1].Hcm,\n",
    "                         equal_var=False)"
   ]
  },
  {
   "cell_type": "code",
   "execution_count": 16,
   "metadata": {},
   "outputs": [
    {
     "name": "stdout",
     "output_type": "stream",
     "text": [
      "0.1676\n"
     ]
    }
   ],
   "source": [
    "print(f\"{math.floor(p_val * 10000) / 10000:.4f}\")"
   ]
  },
  {
   "cell_type": "markdown",
   "metadata": {},
   "source": [
    "### [7~8 Prep]"
   ]
  },
  {
   "cell_type": "code",
   "execution_count": 17,
   "metadata": {},
   "outputs": [],
   "source": [
    "tm_cnt = d.groupby(['Player', 'Year']).agg({'Tm': 'nunique'})\n",
    "mved = tm_cnt[tm_cnt.Tm > 1].reset_index()"
   ]
  },
  {
   "cell_type": "code",
   "execution_count": 18,
   "metadata": {},
   "outputs": [],
   "source": [
    "mov = pd.merge(d, mved, how='inner', on=['Player', 'Year'])\n",
    "mov = mov.drop(labels=['name', 'Tm_y'], axis=1)\n",
    "mov = mov.rename(columns={'Tm_x': 'Tm'})"
   ]
  },
  {
   "cell_type": "code",
   "execution_count": 19,
   "metadata": {},
   "outputs": [],
   "source": [
    "prev = d[~d.Index.isin(mov.Index)]\n",
    "prev = prev.drop(labels=['name'], axis=1)"
   ]
  },
  {
   "cell_type": "markdown",
   "metadata": {},
   "source": [
    "### [7]"
   ]
  },
  {
   "cell_type": "code",
   "execution_count": 20,
   "metadata": {},
   "outputs": [
    {
     "name": "stdout",
     "output_type": "stream",
     "text": [
      "0.3002\n"
     ]
    }
   ],
   "source": [
    "# d7 = mov.assign(ThreeS=mov.ThreeP / mov.ThreePA)\n",
    "d7 = mov.groupby(['Year', 'Player']).agg({'ThreeP': 'sum', 'ThreePA': 'sum'})\n",
    "d7 = d7[d7.ThreePA >= 10]\n",
    "d7 = d7.assign(ThreeS=d7.ThreeP / d7.ThreePA)\n",
    "\n",
    "print(f\"{math.floor(d7.ThreeS.mean() * 10000) / 10000:.4f}\")"
   ]
  },
  {
   "cell_type": "markdown",
   "metadata": {},
   "source": [
    "### [8]"
   ]
  },
  {
   "cell_type": "code",
   "execution_count": 21,
   "metadata": {},
   "outputs": [],
   "source": [
    "d8 = pd.get_dummies(prev, columns=['Pos'], drop_first=True)"
   ]
  },
  {
   "cell_type": "code",
   "execution_count": 22,
   "metadata": {},
   "outputs": [],
   "source": [
    "d8 = d8.assign(TwoS=d8.TwoP / d8.TwoPA)\n",
    "d8 = d8.assign(ThreeS=d8.ThreeP / d8.ThreePA)\n",
    "d8 = d8.assign(FTS=d8.FT / d8.FTA)\n",
    "\n",
    "d8[['TwoS', 'ThreeS', 'FTS']] = d8[['TwoS', 'ThreeS', 'FTS']].fillna(value=0)"
   ]
  },
  {
   "cell_type": "code",
   "execution_count": 23,
   "metadata": {},
   "outputs": [],
   "source": [
    "X_var = list(d8.columns[-7:-3]) + list(['Age', 'MP', 'TwoS', 'ThreeS', 'FTS',\n",
    "                                      'AST', 'Hcm', 'Wkg'])"
   ]
  },
  {
   "cell_type": "code",
   "execution_count": 24,
   "metadata": {},
   "outputs": [],
   "source": [
    "from sklearn.linear_model import LinearRegression\n",
    "\n",
    "d8_train = d8[d8.Year <= 2000]\n",
    "\n",
    "model = LinearRegression().fit(d8_train[X_var], d8_train.PTS)"
   ]
  },
  {
   "cell_type": "code",
   "execution_count": 25,
   "metadata": {},
   "outputs": [],
   "source": [
    "d8_test = d8[d8.Year >= 2001]\n",
    "\n",
    "pred = model.predict(d8_test[X_var])\n",
    "pred = pd.DataFrame(pred, columns=['esti'])"
   ]
  },
  {
   "cell_type": "code",
   "execution_count": 26,
   "metadata": {},
   "outputs": [
    {
     "name": "stdout",
     "output_type": "stream",
     "text": [
      "38384\n"
     ]
    }
   ],
   "source": [
    "from sklearn.metrics import mean_squared_error\n",
    "\n",
    "mse = mean_squared_error(d8_test.PTS, pred.esti)\n",
    "\n",
    "print(f\"{math.floor(mse):.0f}\")"
   ]
  }
 ],
 "metadata": {
  "kernelspec": {
   "display_name": "Python 3",
   "language": "python",
   "name": "python3"
  },
  "language_info": {
   "codemirror_mode": {
    "name": "ipython",
    "version": 3
   },
   "file_extension": ".py",
   "mimetype": "text/x-python",
   "name": "python",
   "nbconvert_exporter": "python",
   "pygments_lexer": "ipython3",
   "version": "3.6.9"
  }
 },
 "nbformat": 4,
 "nbformat_minor": 4
}
