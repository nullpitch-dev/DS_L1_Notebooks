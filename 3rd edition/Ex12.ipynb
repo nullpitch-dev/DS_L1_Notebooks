{
 "cells": [
  {
   "cell_type": "code",
   "execution_count": 1,
   "metadata": {},
   "outputs": [],
   "source": [
    "import pandas as pd\n",
    "import numpy as np\n",
    "import math"
   ]
  },
  {
   "cell_type": "code",
   "execution_count": 2,
   "metadata": {},
   "outputs": [],
   "source": [
    "url_baseball = 'https://raw.githubusercontent.com/nullpitch-dev/hj_public/master/baseball.csv'\n",
    "data = pd.read_csv(url_baseball)"
   ]
  },
  {
   "cell_type": "markdown",
   "metadata": {},
   "source": [
    "### [1]"
   ]
  },
  {
   "cell_type": "code",
   "execution_count": 3,
   "metadata": {},
   "outputs": [],
   "source": [
    "d1 = data[(data['yearID'] == 2015) | (data['yearID'] == 2016)]"
   ]
  },
  {
   "cell_type": "code",
   "execution_count": 4,
   "metadata": {},
   "outputs": [],
   "source": [
    "players = d1.groupby('playerID').agg({'teamID': 'nunique'})\n",
    "players = players[players['teamID'] > 1]\n",
    "\n",
    "mvd_player = players.index\n",
    "\n",
    "d1 = d1[d1['playerID'].isin(mvd_player)]"
   ]
  },
  {
   "cell_type": "code",
   "execution_count": 5,
   "metadata": {},
   "outputs": [],
   "source": [
    "# 방법 1\n",
    "d1_15 = d1[(d1['yearID'] == 2015) & (d1['AB'] > 400)]['playerID']\n",
    "d1_16 = d1[(d1['yearID'] == 2016)& (d1['AB'] > 400)]['playerID']\n",
    "d1_400 = pd.merge(d1_15, d1_16, how='inner')"
   ]
  },
  {
   "cell_type": "code",
   "execution_count": 6,
   "metadata": {},
   "outputs": [],
   "source": [
    "# 방법 2\n",
    "# d1_400 = d1[d1['AB'] > 400]\n",
    "# d1_400 = d1_400.groupby('playerID').agg({'yearID': 'count'})\n",
    "# d1_400 = d1_400[d1_400['yearID'] >= 2]"
   ]
  },
  {
   "cell_type": "code",
   "execution_count": 7,
   "metadata": {},
   "outputs": [
    {
     "name": "stdout",
     "output_type": "stream",
     "text": [
      "17\n"
     ]
    }
   ],
   "source": [
    "print(f\"{len(d1_400)}\")"
   ]
  },
  {
   "cell_type": "markdown",
   "metadata": {},
   "source": [
    "### [2]"
   ]
  },
  {
   "cell_type": "code",
   "execution_count": 8,
   "metadata": {},
   "outputs": [],
   "source": [
    "d2 = d1[d1['playerID'].isin(d1_400['playerID'])]"
   ]
  },
  {
   "cell_type": "code",
   "execution_count": 9,
   "metadata": {},
   "outputs": [],
   "source": [
    "d2_15 = d2[d2['yearID'] == 2015]\n",
    "d2_16 = d2[d2['yearID'] == 2016]"
   ]
  },
  {
   "cell_type": "code",
   "execution_count": 10,
   "metadata": {},
   "outputs": [],
   "source": [
    "d2 = pd.merge(d2_15, d2_16, on='playerID', how='inner', suffixes=('_15', '_16'))"
   ]
  },
  {
   "cell_type": "code",
   "execution_count": 11,
   "metadata": {},
   "outputs": [],
   "source": [
    "d2 = d2.assign(HR=d2['H_15'] / d2['AB_15'])\n",
    "d2 = d2.assign(CHRBI=d2['RBI_16'] / d2['RBI_15'])\n",
    "d2 = d2.assign(SS=d2['SH_15'] + d2['SF_15'])"
   ]
  },
  {
   "cell_type": "code",
   "execution_count": 12,
   "metadata": {},
   "outputs": [],
   "source": [
    "ans1 = d2[['HR', 'CHRBI']].corr(method='pearson').iloc[0, 1]\n",
    "ans2 = d2[['SS', 'CHRBI']].corr(method='pearson').iloc[0, 1]"
   ]
  },
  {
   "cell_type": "code",
   "execution_count": 13,
   "metadata": {},
   "outputs": [
    {
     "name": "stdout",
     "output_type": "stream",
     "text": [
      "-0.37, 0.42\n"
     ]
    }
   ],
   "source": [
    "print(f\"{ans1:.2f}, {ans2:.2f}\")"
   ]
  },
  {
   "cell_type": "markdown",
   "metadata": {},
   "source": [
    "### [3]"
   ]
  },
  {
   "cell_type": "code",
   "execution_count": 14,
   "metadata": {},
   "outputs": [],
   "source": [
    "d3 = data.groupby('playerID').agg({'yearID': 'min', 'AB': 'sum', 'RBI': 'mean'})\n",
    "d3 = d3[d3['AB'] >= 200]\n",
    "d3 = d3.assign(GRP=d3['yearID'].apply(lambda x: 'A' if x <= 2013 else 'B'))"
   ]
  },
  {
   "cell_type": "code",
   "execution_count": 15,
   "metadata": {},
   "outputs": [],
   "source": [
    "d3_A = d3[d3['GRP'] == 'A']\n",
    "d3_B = d3[d3['GRP'] == 'B']"
   ]
  },
  {
   "cell_type": "code",
   "execution_count": 16,
   "metadata": {},
   "outputs": [
    {
     "name": "stdout",
     "output_type": "stream",
     "text": [
      "0.328\n"
     ]
    }
   ],
   "source": [
    "from scipy.stats import ttest_ind\n",
    "\n",
    "t_val, p_val = ttest_ind(d3_A['RBI'], d3_B['RBI'], equal_var=False)\n",
    "\n",
    "print(f\"{math.floor(p_val * 1000) / 1000:.3f}\")"
   ]
  },
  {
   "cell_type": "markdown",
   "metadata": {},
   "source": [
    "### [4]"
   ]
  },
  {
   "cell_type": "code",
   "execution_count": 17,
   "metadata": {},
   "outputs": [],
   "source": [
    "d4_teamcnt = data.groupby('playerID').agg({'teamID': 'nunique'})\n",
    "d4_teamcnt = d4_teamcnt[d4_teamcnt.teamID >= 2].reset_index()\n",
    "d4 = data[data.playerID.isin(d4_teamcnt.playerID)]"
   ]
  },
  {
   "cell_type": "code",
   "execution_count": 18,
   "metadata": {},
   "outputs": [],
   "source": [
    "pivot = d4.pivot_table(index='playerID', columns='teamID', aggfunc='size', fill_value=0)\n",
    "pivot = (pivot >= 1) * 1"
   ]
  },
  {
   "cell_type": "code",
   "execution_count": 19,
   "metadata": {},
   "outputs": [],
   "source": [
    "from mlxtend.frequent_patterns import apriori, association_rules\n",
    "\n",
    "freq_items = apriori(pivot, min_support=0.0015, use_colnames=True)\n",
    "ass_rule = association_rules(freq_items, metric='confidence', min_threshold=0.5)"
   ]
  },
  {
   "cell_type": "code",
   "execution_count": 20,
   "metadata": {},
   "outputs": [
    {
     "name": "stdout",
     "output_type": "stream",
     "text": [
      "65\n"
     ]
    }
   ],
   "source": [
    "print(f\"{ass_rule.shape[0]}\")"
   ]
  },
  {
   "cell_type": "markdown",
   "metadata": {},
   "source": [
    "### [5]"
   ]
  },
  {
   "cell_type": "code",
   "execution_count": 21,
   "metadata": {},
   "outputs": [],
   "source": [
    "d5 = data[(data.AB >= 400) & (data.yearID >= 2014)]"
   ]
  },
  {
   "cell_type": "code",
   "execution_count": 22,
   "metadata": {},
   "outputs": [],
   "source": [
    "d5 = d5.assign(hitRate=d5.H / d5.AB)\n",
    "d5 = d5.assign(Rank=d5.groupby('yearID').hitRate.rank(ascending=False,\n",
    "                                                      method='dense'))\n",
    "d5 = d5.assign(T30=d5.Rank.apply(lambda x: 'Y' if x <= 30 else 'N'))"
   ]
  },
  {
   "cell_type": "code",
   "execution_count": 23,
   "metadata": {},
   "outputs": [],
   "source": [
    "d5 = d5.assign(GC=d5.HBP + d5.BB)\n",
    "d5 = d5.assign(LH=(d5.H + d5.X2B + d5.X3B * 2 + d5.HR * 3) / d5.AB)"
   ]
  },
  {
   "cell_type": "code",
   "execution_count": 24,
   "metadata": {},
   "outputs": [],
   "source": [
    "def checkNY(player, year):\n",
    "    NY = d5[(d5.playerID == player) & (d5.yearID == year + 1)]\n",
    "    if len(NY) != 0:\n",
    "        return NY.T30.iloc[0]\n",
    "    \n",
    "d5 = d5.assign(target=d5.apply(lambda x: checkNY(x.playerID, x.yearID), axis=1))"
   ]
  },
  {
   "cell_type": "code",
   "execution_count": 25,
   "metadata": {},
   "outputs": [],
   "source": [
    "d5 = d5[~d5.target.isna()]"
   ]
  },
  {
   "cell_type": "code",
   "execution_count": 26,
   "metadata": {},
   "outputs": [],
   "source": [
    "from sklearn.linear_model import LogisticRegression\n",
    "\n",
    "X_var = ['RBI', 'GC', 'LH', 'SO']\n",
    "\n",
    "train = d5[d5.yearID == 2014]\n",
    "test = d5[d5.yearID == 2015]\n",
    "\n",
    "model = LogisticRegression(penalty='l2', C=100000, random_state=1234,\n",
    "                           solver='newton-cg').fit(train[X_var], train.target)\n",
    "pred = model.predict_proba(test[X_var])"
   ]
  },
  {
   "cell_type": "code",
   "execution_count": 27,
   "metadata": {},
   "outputs": [],
   "source": [
    "pred = pd.DataFrame(pred)\n",
    "pred = pred.rename(columns={0: 'N', 1: 'Y'})\n",
    "pred = pred.assign(esti=pred.Y.apply(lambda x: 'Y' if x >= 0.18 else 'N'))\n",
    "\n",
    "test_y = test.target.reset_index()\n",
    "\n",
    "pred = pd.merge(pred, test_y, left_index=True, right_index=True)"
   ]
  },
  {
   "cell_type": "code",
   "execution_count": 28,
   "metadata": {},
   "outputs": [
    {
     "name": "stdout",
     "output_type": "stream",
     "text": [
      "21\n"
     ]
    }
   ],
   "source": [
    "print(f\"{len(pred[(pred.target == 'Y') & (pred.esti == 'Y')])}\")"
   ]
  }
 ],
 "metadata": {
  "kernelspec": {
   "display_name": "Python 3",
   "language": "python",
   "name": "python3"
  },
  "language_info": {
   "codemirror_mode": {
    "name": "ipython",
    "version": 3
   },
   "file_extension": ".py",
   "mimetype": "text/x-python",
   "name": "python",
   "nbconvert_exporter": "python",
   "pygments_lexer": "ipython3",
   "version": "3.6.9"
  }
 },
 "nbformat": 4,
 "nbformat_minor": 4
}
