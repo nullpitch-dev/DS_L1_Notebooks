{
 "cells": [
  {
   "cell_type": "code",
   "execution_count": 1,
   "metadata": {},
   "outputs": [],
   "source": [
    "import pandas as pd\n",
    "import numpy as np\n",
    "import math"
   ]
  },
  {
   "cell_type": "markdown",
   "metadata": {},
   "source": [
    "### [0]"
   ]
  },
  {
   "cell_type": "code",
   "execution_count": 2,
   "metadata": {},
   "outputs": [],
   "source": [
    "url_imdb = 'https://raw.githubusercontent.com/nullpitch-dev/hj_public/master/imdb.csv'\n",
    "data_imdb = pd.read_csv(url_imdb)"
   ]
  },
  {
   "cell_type": "code",
   "execution_count": 3,
   "metadata": {},
   "outputs": [],
   "source": [
    "base = data_imdb.dropna()"
   ]
  },
  {
   "cell_type": "markdown",
   "metadata": {},
   "source": [
    "### [1]"
   ]
  },
  {
   "cell_type": "code",
   "execution_count": 4,
   "metadata": {},
   "outputs": [],
   "source": [
    "d1_scifi = base[base['SciFi'] == 1]\n",
    "d1_nonscifi = base[base['SciFi'] != 1]"
   ]
  },
  {
   "cell_type": "code",
   "execution_count": 5,
   "metadata": {},
   "outputs": [
    {
     "name": "stdout",
     "output_type": "stream",
     "text": [
      "9.792\n"
     ]
    }
   ],
   "source": [
    "from scipy.stats import ttest_ind\n",
    "\n",
    "t_val, p_val = ttest_ind(d1_scifi['imdbRating'], d1_nonscifi['imdbRating'],\n",
    "                         equal_var=False)\n",
    "\n",
    "print(f\"{math.floor(abs(t_val) * 1000) / 1000}\")"
   ]
  },
  {
   "cell_type": "markdown",
   "metadata": {},
   "source": [
    "### [2]"
   ]
  },
  {
   "cell_type": "code",
   "execution_count": 6,
   "metadata": {},
   "outputs": [],
   "source": [
    "d2_cnt = base.groupby('year').agg({'tid': 'count'})\n",
    "d2_cnt = d2_cnt[d2_cnt['tid'] >= 50]\n",
    "d2_cnt = d2_cnt.reset_index()\n",
    "\n",
    "d2_mv = base[base['year'].isin(d2_cnt['year'])]"
   ]
  },
  {
   "cell_type": "code",
   "execution_count": 7,
   "metadata": {},
   "outputs": [],
   "source": [
    "d2_year = d2_mv.groupby('year').agg({'duration': 'mean', 'imdbRating': 'mean',\n",
    "                           'nrOfGenre': 'mean', 'nrOfNewsArticles': 'mean',\n",
    "                           'nrOfUserReviews': 'mean', 'ratingCount': 'mean'})"
   ]
  },
  {
   "cell_type": "code",
   "execution_count": 8,
   "metadata": {},
   "outputs": [],
   "source": [
    "d2_norm = d2_year.apply(lambda x: (x - x.min()) / (x.max() - x.min()))"
   ]
  },
  {
   "cell_type": "code",
   "execution_count": 9,
   "metadata": {},
   "outputs": [],
   "source": [
    "from sklearn.cluster import KMeans\n",
    "\n",
    "cluster = KMeans(n_clusters=7, n_init=1234, random_state=1234).fit(d2_norm)"
   ]
  },
  {
   "cell_type": "code",
   "execution_count": 10,
   "metadata": {},
   "outputs": [],
   "source": [
    "label = cluster.labels_[np.where(d2_norm.index == 1977)[0][0]]\n",
    "idx_samelabel = [i for i, val in enumerate(cluster.labels_) if val == label]\n",
    "yr_samelabel = d2_norm.index[idx_samelabel]"
   ]
  },
  {
   "cell_type": "code",
   "execution_count": 11,
   "metadata": {},
   "outputs": [
    {
     "name": "stdout",
     "output_type": "stream",
     "text": [
      "1047\n"
     ]
    }
   ],
   "source": [
    "d2_result = base[base['year'].isin(yr_samelabel)]['tid'].count()\n",
    "print(f\"{d2_result}\")"
   ]
  },
  {
   "cell_type": "markdown",
   "metadata": {},
   "source": [
    "### [3]"
   ]
  },
  {
   "cell_type": "code",
   "execution_count": 12,
   "metadata": {},
   "outputs": [],
   "source": [
    "X_var = ['ratingCount', 'duration', 'nrOfWins', 'nrOfNewsArticles',\n",
    "         'nrOfUserReviews', 'nrOfGenre']\n",
    "base = base.assign(reco=base['imdbRating'].apply(lambda x:\n",
    "                                                 'Y' if x > 9 else 'N'))\n",
    "episode = base[base['type'] == 'video.episode']\n",
    "movie = base[base['type'] == 'video.movie']"
   ]
  },
  {
   "cell_type": "code",
   "execution_count": 13,
   "metadata": {},
   "outputs": [
    {
     "name": "stderr",
     "output_type": "stream",
     "text": [
      "/etc/python_venv/TensorFlow/local/lib/python3.6/site-packages/sklearn/utils/optimize.py:212: ConvergenceWarning: newton-cg failed to converge. Increase the number of iterations.\n",
      "  \"number of iterations.\", ConvergenceWarning)\n",
      "/etc/python_venv/TensorFlow/local/lib/python3.6/site-packages/scipy/optimize/linesearch.py:466: LineSearchWarning: The line search algorithm did not converge\n",
      "  warn('The line search algorithm did not converge', LineSearchWarning)\n",
      "/etc/python_venv/TensorFlow/local/lib/python3.6/site-packages/scipy/optimize/linesearch.py:314: LineSearchWarning: The line search algorithm did not converge\n",
      "  warn('The line search algorithm did not converge', LineSearchWarning)\n",
      "/etc/python_venv/TensorFlow/local/lib/python3.6/site-packages/sklearn/utils/optimize.py:212: ConvergenceWarning: newton-cg failed to converge. Increase the number of iterations.\n",
      "  \"number of iterations.\", ConvergenceWarning)\n"
     ]
    }
   ],
   "source": [
    "from sklearn.linear_model import LogisticRegression\n",
    "\n",
    "model_episode = LogisticRegression(penalty='l2', C=100000, random_state=1234,\n",
    "                        solver='newton-cg').fit(episode[X_var], episode['reco'])\n",
    "model_movie = LogisticRegression(penalty='l2', C=100000, random_state=1234,\n",
    "                            solver='newton-cg').fit(movie[X_var], movie['reco'])"
   ]
  },
  {
   "cell_type": "code",
   "execution_count": 14,
   "metadata": {},
   "outputs": [],
   "source": [
    "idx_episode = np.where(\n",
    "                   model_episode.coef_[0] == model_episode.coef_[0].max())[0][0]\n",
    "idx_movie = np.where(\n",
    "                       model_movie.coef_[0] == model_movie.coef_[0].max())[0][0]"
   ]
  },
  {
   "cell_type": "code",
   "execution_count": 15,
   "metadata": {},
   "outputs": [],
   "source": [
    "val_episode = [val for i, val in enumerate(X_var) if i == idx_episode]\n",
    "val_movie = [val for i, val in enumerate(X_var) if i == idx_movie]"
   ]
  },
  {
   "cell_type": "code",
   "execution_count": 16,
   "metadata": {},
   "outputs": [
    {
     "name": "stdout",
     "output_type": "stream",
     "text": [
      "nrOfUserReviews, ratingCount\n"
     ]
    }
   ],
   "source": [
    "print(f\"{val_episode[0]}, {val_movie[0]}\")"
   ]
  },
  {
   "cell_type": "markdown",
   "metadata": {},
   "source": [
    "### [4]"
   ]
  },
  {
   "cell_type": "code",
   "execution_count": 17,
   "metadata": {},
   "outputs": [],
   "source": [
    "d4 = base[base['type'] == 'video.episode']\n",
    "d4 = d4[d4['nrOfGenre'] > 1]\n",
    "d4 = d4.iloc[:, 10:-1]"
   ]
  },
  {
   "cell_type": "code",
   "execution_count": 18,
   "metadata": {},
   "outputs": [],
   "source": [
    "from mlxtend.frequent_patterns import apriori, association_rules\n",
    "\n",
    "frequent_items = apriori(d4, min_support=0.01, use_colnames=True)\n",
    "asso_rule = association_rules(frequent_items, metric='confidence',\n",
    "                              min_threshold=0.01)"
   ]
  },
  {
   "cell_type": "code",
   "execution_count": 19,
   "metadata": {},
   "outputs": [],
   "source": [
    "asso_rule = asso_rule.assign(ant_len=asso_rule['antecedents'].apply(\n",
    "                                                              lambda x: len(x)))\n",
    "asso_rule = asso_rule.assign(con_len=asso_rule['consequents'].apply(\n",
    "                                                              lambda x: len(x)))\n",
    "asso_rule = asso_rule[(asso_rule['ant_len'] == 1) & (asso_rule['con_len'] == 1)]"
   ]
  },
  {
   "cell_type": "code",
   "execution_count": 20,
   "metadata": {},
   "outputs": [],
   "source": [
    "genre = list(asso_rule[asso_rule['antecedents'] == {'Animation'}].sort_values(\n",
    "                                       by='lift', ascending=True).iloc[0, 1])[0]"
   ]
  },
  {
   "cell_type": "code",
   "execution_count": 21,
   "metadata": {},
   "outputs": [],
   "source": [
    "conf = asso_rule[(asso_rule['antecedents'] == {'Animation'}) &\n",
    "                 (asso_rule['consequents'] == {genre})]['confidence'].iloc[0]"
   ]
  },
  {
   "cell_type": "code",
   "execution_count": 22,
   "metadata": {},
   "outputs": [
    {
     "name": "stdout",
     "output_type": "stream",
     "text": [
      "Drama, 0.062\n"
     ]
    }
   ],
   "source": [
    "print(f\"{genre}, {conf:.3f}\")"
   ]
  }
 ],
 "metadata": {
  "kernelspec": {
   "display_name": "Python 3",
   "language": "python",
   "name": "python3"
  },
  "language_info": {
   "codemirror_mode": {
    "name": "ipython",
    "version": 3
   },
   "file_extension": ".py",
   "mimetype": "text/x-python",
   "name": "python",
   "nbconvert_exporter": "python",
   "pygments_lexer": "ipython3",
   "version": "3.6.9"
  }
 },
 "nbformat": 4,
 "nbformat_minor": 4
}
