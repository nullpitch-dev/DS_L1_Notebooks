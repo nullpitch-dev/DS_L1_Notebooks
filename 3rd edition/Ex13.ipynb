{
 "cells": [
  {
   "cell_type": "code",
   "execution_count": 1,
   "metadata": {},
   "outputs": [],
   "source": [
    "import pandas as pd\n",
    "import numpy as np\n",
    "import math"
   ]
  },
  {
   "cell_type": "code",
   "execution_count": 2,
   "metadata": {},
   "outputs": [],
   "source": [
    "url_game = 'https://raw.githubusercontent.com/nullpitch-dev/hj_public/master/13.csv'\n",
    "data = pd.read_csv(url_game)"
   ]
  },
  {
   "cell_type": "markdown",
   "metadata": {},
   "source": [
    "### [0]"
   ]
  },
  {
   "cell_type": "code",
   "execution_count": 3,
   "metadata": {},
   "outputs": [],
   "source": [
    "base = data.dropna(subset=['Year'])"
   ]
  },
  {
   "cell_type": "code",
   "execution_count": 4,
   "metadata": {},
   "outputs": [],
   "source": [
    "base = base.sort_values(by=['Name', 'Platform', 'Year'],\n",
    "                        ascending=['True', 'True', 'True'])\n",
    "base = base.drop_duplicates(subset=['Name', 'Platform'], keep='last')"
   ]
  },
  {
   "cell_type": "code",
   "execution_count": 5,
   "metadata": {},
   "outputs": [],
   "source": [
    "base[['NA_Sales', 'EU_Sales', 'JP_Sales', 'Other_Sales']] = base[['NA_Sales',\n",
    "                               'EU_Sales', 'JP_Sales', 'Other_Sales']].fillna(0)"
   ]
  },
  {
   "cell_type": "code",
   "execution_count": 6,
   "metadata": {},
   "outputs": [],
   "source": [
    "base = base.assign(Global_sales=base[['NA_Sales', 'EU_Sales', 'JP_Sales',\n",
    "                                     'Other_Sales']].sum(axis=1))"
   ]
  },
  {
   "cell_type": "code",
   "execution_count": 7,
   "metadata": {},
   "outputs": [],
   "source": [
    "platforms = base.groupby('Platform').agg({'Global_sales': 'sum'})\n",
    "platforms = platforms[platforms.Global_sales >= 20000]\n",
    "\n",
    "base = base[base.Platform.isin(platforms.index)]"
   ]
  },
  {
   "cell_type": "markdown",
   "metadata": {},
   "source": [
    "### [1]"
   ]
  },
  {
   "cell_type": "code",
   "execution_count": 8,
   "metadata": {},
   "outputs": [],
   "source": [
    "max_sales = base.Global_sales.max()\n",
    "min_sales = base.Global_sales.min()\n",
    "med_sales = base.Global_sales.median()\n",
    "\n",
    "d1 = base.assign(Type=base.Global_sales.apply(lambda x: 'Type1'\n",
    "                                  if (x == max_sales) | (x == min_sales) else (\n",
    "                                  'Type2' if x == med_sales else 'Not CP')))"
   ]
  },
  {
   "cell_type": "code",
   "execution_count": 9,
   "metadata": {},
   "outputs": [],
   "source": [
    "from sklearn.neighbors import KNeighborsClassifier\n",
    "\n",
    "X_var = ['NA_Sales', 'EU_Sales', 'JP_Sales', 'Other_Sales']\n",
    "\n",
    "train = d1[d1.Type != 'Not CP']\n",
    "test = d1[d1.Type == 'Not CP']\n",
    "\n",
    "model = KNeighborsClassifier(n_neighbors=1).fit(train[X_var], train.Type)\n",
    "pred = model.predict(test[X_var])\n",
    "pred = pd.DataFrame(pred, columns=['outlier'])"
   ]
  },
  {
   "cell_type": "code",
   "execution_count": 10,
   "metadata": {},
   "outputs": [],
   "source": [
    "test = test.reset_index()\n",
    "test = test.assign(Type=pred.outlier)\n",
    "test = test.set_index(keys='index')"
   ]
  },
  {
   "cell_type": "code",
   "execution_count": 11,
   "metadata": {},
   "outputs": [],
   "source": [
    "d = pd.concat([train, test], axis=0)\n",
    "d = d[d.Type == 'Type2']"
   ]
  },
  {
   "cell_type": "code",
   "execution_count": 12,
   "metadata": {},
   "outputs": [
    {
     "name": "stdout",
     "output_type": "stream",
     "text": [
      "74.201\n"
     ]
    }
   ],
   "source": [
    "print(f\"{d.Global_sales.mean():.3f}\")"
   ]
  },
  {
   "cell_type": "markdown",
   "metadata": {},
   "source": [
    "### [2]"
   ]
  },
  {
   "cell_type": "code",
   "execution_count": 13,
   "metadata": {},
   "outputs": [],
   "source": [
    "d2 = d.groupby('Name').agg({'Genre': 'last', 'Platform': 'nunique'})\n",
    "d2 = d2.reset_index()\n",
    "\n",
    "d2_genre = d2.groupby('Genre').agg({'Platform': 'mean'}).sort_values(\n",
    "                                                  by='Platform', ascending=True)"
   ]
  },
  {
   "cell_type": "code",
   "execution_count": 14,
   "metadata": {},
   "outputs": [
    {
     "name": "stdout",
     "output_type": "stream",
     "text": [
      "Action, Puzzle\n"
     ]
    }
   ],
   "source": [
    "max_genre = d2_genre.index[-1]\n",
    "min_genre = d2_genre.index[0]\n",
    "\n",
    "print(f\"{max_genre}, {min_genre}\")"
   ]
  },
  {
   "cell_type": "markdown",
   "metadata": {},
   "source": [
    "### [3]"
   ]
  },
  {
   "cell_type": "code",
   "execution_count": 15,
   "metadata": {},
   "outputs": [],
   "source": [
    "d3 = d.groupby('Name').agg({'Platform': lambda x: set(list(x))})"
   ]
  },
  {
   "cell_type": "code",
   "execution_count": 16,
   "metadata": {},
   "outputs": [],
   "source": [
    "d3 = d3.assign(check=d3.Platform.apply(lambda x:\n",
    "                                   'Y' if ('PC' in x) & ('X360' in x) else 'N'))"
   ]
  },
  {
   "cell_type": "code",
   "execution_count": 17,
   "metadata": {},
   "outputs": [],
   "source": [
    "d3 = d3[d3.check == 'Y']"
   ]
  },
  {
   "cell_type": "code",
   "execution_count": 18,
   "metadata": {},
   "outputs": [],
   "source": [
    "d3_pc = d[(d.Name.isin(d3.index)) & (d.Platform == 'PC')].Global_sales\n",
    "d3_x360 = d[(d.Name.isin(d3.index)) & (d.Platform == 'X360')].Global_sales"
   ]
  },
  {
   "cell_type": "code",
   "execution_count": 19,
   "metadata": {},
   "outputs": [
    {
     "name": "stdout",
     "output_type": "stream",
     "text": [
      "7.772\n"
     ]
    }
   ],
   "source": [
    "from scipy.stats import ttest_rel\n",
    "\n",
    "t_val, p_val = ttest_rel(d3_pc, d3_x360)\n",
    "\n",
    "print(f\"{abs(t_val):.3f}\")"
   ]
  },
  {
   "cell_type": "markdown",
   "metadata": {},
   "source": [
    "### [4]"
   ]
  },
  {
   "cell_type": "code",
   "execution_count": 20,
   "metadata": {},
   "outputs": [],
   "source": [
    "d4 = pd.get_dummies(d, columns=['Platform'], drop_first=True)\n",
    "d4 = d4.assign(target=d4.Genre.apply(lambda x: 1 if x == 'Sports' else 0))\n",
    "\n",
    "d4_train = d4[d4.XGRP == 'A']\n",
    "d4_test = d4[d4.XGRP == 'B']\n",
    "\n",
    "d4_X = list(d4.columns[4:8]) + list(d4.columns[11:-1])"
   ]
  },
  {
   "cell_type": "code",
   "execution_count": 21,
   "metadata": {},
   "outputs": [],
   "source": [
    "from sklearn.linear_model import LogisticRegression\n",
    "\n",
    "model = LogisticRegression(penalty='l2', random_state=1234, solver='newton-cg',\n",
    "                           C=100000).fit(d4_train[d4_X], d4_train.target)\n",
    "\n",
    "pred = model.predict_proba(d4_test[d4_X])\n",
    "pred = pd.DataFrame(pred, columns=['neg', 'pos'])"
   ]
  },
  {
   "cell_type": "code",
   "execution_count": 22,
   "metadata": {},
   "outputs": [],
   "source": [
    "pred = pred.assign(odds=pred.pos / (1 - pred.pos))\n",
    "pred = pred.assign(esti=pred.odds.apply(lambda x: 1 if x >= 0.12 else 0))\n",
    "\n",
    "fact = pd.DataFrame(d4_test.target).reset_index()\n",
    "pred = pd.merge(pred, fact, left_index=True, right_index=True)\n",
    "\n",
    "pred = pred.assign(accu=(pred.esti == pred.target) * 1)"
   ]
  },
  {
   "cell_type": "code",
   "execution_count": 23,
   "metadata": {},
   "outputs": [],
   "source": [
    "accuracy = pred.accu.sum() / pred.accu.count()"
   ]
  },
  {
   "cell_type": "code",
   "execution_count": 24,
   "metadata": {},
   "outputs": [
    {
     "name": "stdout",
     "output_type": "stream",
     "text": [
      "0.383\n"
     ]
    }
   ],
   "source": [
    "print(f\"{accuracy:.3f}\")"
   ]
  }
 ],
 "metadata": {
  "kernelspec": {
   "display_name": "Python 3",
   "language": "python",
   "name": "python3"
  },
  "language_info": {
   "codemirror_mode": {
    "name": "ipython",
    "version": 3
   },
   "file_extension": ".py",
   "mimetype": "text/x-python",
   "name": "python",
   "nbconvert_exporter": "python",
   "pygments_lexer": "ipython3",
   "version": "3.6.9"
  }
 },
 "nbformat": 4,
 "nbformat_minor": 4
}
