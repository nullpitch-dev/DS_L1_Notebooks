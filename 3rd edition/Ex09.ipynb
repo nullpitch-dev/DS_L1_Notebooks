{
 "cells": [
  {
   "cell_type": "code",
   "execution_count": 1,
   "metadata": {},
   "outputs": [],
   "source": [
    "import pandas as pd\n",
    "import numpy as np\n",
    "import math"
   ]
  },
  {
   "cell_type": "code",
   "execution_count": 2,
   "metadata": {},
   "outputs": [],
   "source": [
    "url_clothing = 'https://raw.githubusercontent.com/nullpitch-dev/hj_public/master/Womens_Clkothing_Reviews.csv'\n",
    "data_clothing = pd.read_csv(url_clothing)"
   ]
  },
  {
   "cell_type": "markdown",
   "metadata": {},
   "source": [
    "### [0]"
   ]
  },
  {
   "cell_type": "code",
   "execution_count": 3,
   "metadata": {},
   "outputs": [],
   "source": [
    "base = data_clothing.dropna(subset=data_clothing.columns[:6])"
   ]
  },
  {
   "cell_type": "code",
   "execution_count": 4,
   "metadata": {},
   "outputs": [],
   "source": [
    "base = base.assign(ageCD=base['Age'].apply(\n",
    "                             lambda x: 'A' if (x >= 20) & (x < 30) else (\n",
    "                                       'B' if (x >= 30) & (x < 40) else (\n",
    "                                       'C' if (x >= 40) & (x < 50) else (\n",
    "                                       'D' if (x >= 50) & (x < 60) else 'E')))))"
   ]
  },
  {
   "cell_type": "code",
   "execution_count": 5,
   "metadata": {},
   "outputs": [],
   "source": [
    "base = base.assign(Pos_Neg=base['Rating'].apply(lambda x: 1 if x > 4 else 0))"
   ]
  },
  {
   "cell_type": "markdown",
   "metadata": {},
   "source": [
    "### [1]"
   ]
  },
  {
   "cell_type": "code",
   "execution_count": 6,
   "metadata": {},
   "outputs": [],
   "source": [
    "d1 = base.dropna()"
   ]
  },
  {
   "cell_type": "code",
   "execution_count": 7,
   "metadata": {},
   "outputs": [],
   "source": [
    "dep_std = d1.groupby('DepartmentName').agg({'Rating': 'std'})\n",
    "dep_mean = d1.groupby('DepartmentName').agg({'Rating': 'mean'})"
   ]
  },
  {
   "cell_type": "code",
   "execution_count": 8,
   "metadata": {},
   "outputs": [],
   "source": [
    "dep = pd.merge(dep_std, dep_mean, left_index=True, right_index=True)\n",
    "dep = dep.rename(columns={'Rating_x': 'std', 'Rating_y': 'mean'})"
   ]
  },
  {
   "cell_type": "code",
   "execution_count": 9,
   "metadata": {},
   "outputs": [],
   "source": [
    "dep = dep.assign(CV=dep['std'] / dep['mean'])"
   ]
  },
  {
   "cell_type": "code",
   "execution_count": 10,
   "metadata": {},
   "outputs": [],
   "source": [
    "dep = dep.sort_values(by='CV', ascending=False)"
   ]
  },
  {
   "cell_type": "code",
   "execution_count": 11,
   "metadata": {},
   "outputs": [
    {
     "name": "stdout",
     "output_type": "stream",
     "text": [
      "Trend, 0.35\n"
     ]
    }
   ],
   "source": [
    "top_dev = dep.index[0]\n",
    "cv = dep.iloc[0, 2]\n",
    "\n",
    "print(f\"{top_dev}, {cv:.2f}\")"
   ]
  },
  {
   "cell_type": "markdown",
   "metadata": {},
   "source": [
    "### [2]"
   ]
  },
  {
   "cell_type": "code",
   "execution_count": 13,
   "metadata": {},
   "outputs": [],
   "source": [
    "d2 = base.groupby('ClothingID').agg({'Seq': 'count', 'Pos_Neg': 'sum'})"
   ]
  },
  {
   "cell_type": "code",
   "execution_count": 15,
   "metadata": {},
   "outputs": [],
   "source": [
    "d2 = d2[d2['Seq'] >= 30]"
   ]
  },
  {
   "cell_type": "code",
   "execution_count": 17,
   "metadata": {},
   "outputs": [],
   "source": [
    "d2 = d2.assign(PosRatio=d2['Pos_Neg'] / d2['Seq'])"
   ]
  },
  {
   "cell_type": "code",
   "execution_count": 19,
   "metadata": {},
   "outputs": [],
   "source": [
    "d2 = d2.sort_values(by='PosRatio', ascending=False)"
   ]
  },
  {
   "cell_type": "code",
   "execution_count": 30,
   "metadata": {},
   "outputs": [],
   "source": [
    "cloth = d2.index[1]\n",
    "posrate = d2.loc[cloth, 'PosRatio']"
   ]
  },
  {
   "cell_type": "code",
   "execution_count": 32,
   "metadata": {},
   "outputs": [
    {
     "name": "stdout",
     "output_type": "stream",
     "text": [
      "964, 0.794\n"
     ]
    }
   ],
   "source": [
    "print(f\"{cloth:.0f}, {math.floor(posrate * 1000) / 1000:.3f}\")"
   ]
  },
  {
   "cell_type": "markdown",
   "metadata": {},
   "source": [
    "### [3]"
   ]
  },
  {
   "cell_type": "code",
   "execution_count": 42,
   "metadata": {},
   "outputs": [
    {
     "data": {
      "text/html": [
       "<div>\n",
       "<style scoped>\n",
       "    .dataframe tbody tr th:only-of-type {\n",
       "        vertical-align: middle;\n",
       "    }\n",
       "\n",
       "    .dataframe tbody tr th {\n",
       "        vertical-align: top;\n",
       "    }\n",
       "\n",
       "    .dataframe thead th {\n",
       "        text-align: right;\n",
       "    }\n",
       "</style>\n",
       "<table border=\"1\" class=\"dataframe\">\n",
       "  <thead>\n",
       "    <tr style=\"text-align: right;\">\n",
       "      <th></th>\n",
       "      <th>df</th>\n",
       "      <th>sum_sq</th>\n",
       "      <th>mean_sq</th>\n",
       "      <th>F</th>\n",
       "      <th>PR(&gt;F)</th>\n",
       "    </tr>\n",
       "  </thead>\n",
       "  <tbody>\n",
       "    <tr>\n",
       "      <th>C(ageCD)</th>\n",
       "      <td>4.0</td>\n",
       "      <td>41.742820</td>\n",
       "      <td>10.435705</td>\n",
       "      <td>8.49895</td>\n",
       "      <td>7.553928e-07</td>\n",
       "    </tr>\n",
       "    <tr>\n",
       "      <th>Residual</th>\n",
       "      <td>22083.0</td>\n",
       "      <td>27115.310421</td>\n",
       "      <td>1.227882</td>\n",
       "      <td>NaN</td>\n",
       "      <td>NaN</td>\n",
       "    </tr>\n",
       "  </tbody>\n",
       "</table>\n",
       "</div>"
      ],
      "text/plain": [
       "               df        sum_sq    mean_sq        F        PR(>F)\n",
       "C(ageCD)      4.0     41.742820  10.435705  8.49895  7.553928e-07\n",
       "Residual  22083.0  27115.310421   1.227882      NaN           NaN"
      ]
     },
     "execution_count": 42,
     "metadata": {},
     "output_type": "execute_result"
    }
   ],
   "source": [
    "from statsmodels.formula.api import ols\n",
    "from statsmodels.stats.anova import anova_lm\n",
    "\n",
    "formula = 'Rating ~ C(ageCD)'\n",
    "\n",
    "result = ols(formula=formula, data=base).fit()\n",
    "anova_table = anova_lm(result)\n",
    "\n",
    "anova_table"
   ]
  },
  {
   "cell_type": "code",
   "execution_count": 46,
   "metadata": {},
   "outputs": [
    {
     "name": "stdout",
     "output_type": "stream",
     "text": [
      "f-value: 8.4989\n",
      "p-value is less than 0.05 so H0 is rejected,\n",
      "meanding Rating is Different by ageCD\n"
     ]
    }
   ],
   "source": [
    "f_val = anova_table.loc['C(ageCD)', 'F']\n",
    "p_val = anova_table.loc['C(ageCD)', 'PR(>F)']\n",
    "\n",
    "print(f\"f-value: {math.floor(f_val * 10000) / 10000:.4f}\")\n",
    "print(f\"p-value is less than 0.05 so H0 is rejected,\")\n",
    "print(f\"meanding Rating is Different by ageCD\")"
   ]
  },
  {
   "cell_type": "markdown",
   "metadata": {},
   "source": [
    "### [4]"
   ]
  },
  {
   "cell_type": "code",
   "execution_count": 121,
   "metadata": {},
   "outputs": [],
   "source": [
    "d4 = base[base['ClassName'] != '0']\n",
    "d4 = pd.get_dummies(data=d4, columns=['ageCD'], drop_first=True)\n",
    "\n",
    "def getPrior(seq):\n",
    "    if len(d4[d4['Seq'] == seq - 1]):\n",
    "        return d4[d4['Seq'] == seq - 1]['Rating'].iloc[0]\n",
    "    else:\n",
    "        return d4[d4['Seq'] == seq]['Rating'].iloc[0] \n",
    "\n",
    "d4 = d4.assign(prior_Rating=d4['Seq'].apply(lambda x: getPrior(x)))"
   ]
  },
  {
   "cell_type": "code",
   "execution_count": 122,
   "metadata": {},
   "outputs": [],
   "source": [
    "train = d4[d4['ClassName'] != 'Intimates']\n",
    "test = d4[d4['ClassName'] == 'Intimates']\n",
    "\n",
    "X_var = list(d4.columns[3:6]) + list(d4.columns[-5:])"
   ]
  },
  {
   "cell_type": "code",
   "execution_count": 126,
   "metadata": {},
   "outputs": [],
   "source": [
    "from sklearn.linear_model import LogisticRegression\n",
    "\n",
    "model = LogisticRegression(penalty='l2', C=100000, random_state=1234,\n",
    "                           solver='newton-cg').fit(train[X_var],\n",
    "                                                   train['RecommendedIND'])\n",
    "\n",
    "result = model.predict_proba(test[X_var])\n",
    "result = pd.DataFrame(result)\n",
    "result = result.assign(Reco=result[1].apply(lambda x: 'Y' if x >= 0.5 else 'N'))"
   ]
  },
  {
   "cell_type": "code",
   "execution_count": 133,
   "metadata": {},
   "outputs": [],
   "source": [
    "test_y = test['RecommendedIND'].reset_index()\n",
    "result = pd.merge(result, test_y, left_index=True, right_index=True)"
   ]
  },
  {
   "cell_type": "code",
   "execution_count": 135,
   "metadata": {},
   "outputs": [],
   "source": [
    "result = result.assign(accu=(result['Reco'] == result['RecommendedIND']) * 1)"
   ]
  },
  {
   "cell_type": "code",
   "execution_count": 138,
   "metadata": {},
   "outputs": [
    {
     "name": "stdout",
     "output_type": "stream",
     "text": [
      "0.946\n"
     ]
    }
   ],
   "source": [
    "accuracy = result['accu'].sum() / result['accu'].count()\n",
    "print(f\"{accuracy:.3f}\")"
   ]
  },
  {
   "cell_type": "code",
   "execution_count": 81,
   "metadata": {},
   "outputs": [],
   "source": [
    "#123456789#123456789#123456789#123456789#123456789#123456789#123456789#123456789"
   ]
  },
  {
   "cell_type": "code",
   "execution_count": null,
   "metadata": {},
   "outputs": [],
   "source": [
    "#123456789#123456789#123456789#123456789#123456789#123456789#123456789#123456789"
   ]
  }
 ],
 "metadata": {
  "kernelspec": {
   "display_name": "Python 3",
   "language": "python",
   "name": "python3"
  },
  "language_info": {
   "codemirror_mode": {
    "name": "ipython",
    "version": 3
   },
   "file_extension": ".py",
   "mimetype": "text/x-python",
   "name": "python",
   "nbconvert_exporter": "python",
   "pygments_lexer": "ipython3",
   "version": "3.6.9"
  }
 },
 "nbformat": 4,
 "nbformat_minor": 4
}
