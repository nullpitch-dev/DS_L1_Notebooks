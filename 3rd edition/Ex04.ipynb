{
  "cells": [
    {
      "metadata": {
        "trusted": true
      },
      "cell_type": "code",
      "source": "import pandas as pd\nimport numpy as np\nimport math",
      "execution_count": 1,
      "outputs": []
    },
    {
      "metadata": {
        "trusted": true
      },
      "cell_type": "code",
      "source": "url_corolla_1 = 'https://raw.githubusercontent.com/nullpitch-dev/hj_public/master/corolla_1.csv'\nurl_corolla_2 = 'https://raw.githubusercontent.com/nullpitch-dev/hj_public/master/corolla_2.csv'\n\ndata1 = pd.read_csv(url_corolla_1)\ndata2 = pd.read_csv(url_corolla_2)",
      "execution_count": 2,
      "outputs": []
    },
    {
      "metadata": {
        "trusted": true
      },
      "cell_type": "code",
      "source": "data1.head()",
      "execution_count": 3,
      "outputs": [
        {
          "output_type": "execute_result",
          "execution_count": 3,
          "data": {
            "text/html": "<div>\n<style scoped>\n    .dataframe tbody tr th:only-of-type {\n        vertical-align: middle;\n    }\n\n    .dataframe tbody tr th {\n        vertical-align: top;\n    }\n\n    .dataframe thead th {\n        text-align: right;\n    }\n</style>\n<table border=\"1\" class=\"dataframe\">\n  <thead>\n    <tr style=\"text-align: right;\">\n      <th></th>\n      <th>ID</th>\n      <th>Price</th>\n      <th>Age</th>\n      <th>KM</th>\n      <th>HP</th>\n      <th>CC</th>\n      <th>Weight</th>\n    </tr>\n  </thead>\n  <tbody>\n    <tr>\n      <th>0</th>\n      <td>1</td>\n      <td>13500</td>\n      <td>23</td>\n      <td>46986</td>\n      <td>90</td>\n      <td>2000</td>\n      <td>1165</td>\n    </tr>\n    <tr>\n      <th>1</th>\n      <td>2</td>\n      <td>13750</td>\n      <td>23</td>\n      <td>72937</td>\n      <td>90</td>\n      <td>2000</td>\n      <td>1165</td>\n    </tr>\n    <tr>\n      <th>2</th>\n      <td>3</td>\n      <td>13950</td>\n      <td>24</td>\n      <td>41711</td>\n      <td>90</td>\n      <td>2000</td>\n      <td>1165</td>\n    </tr>\n    <tr>\n      <th>3</th>\n      <td>4</td>\n      <td>14950</td>\n      <td>26</td>\n      <td>48000</td>\n      <td>90</td>\n      <td>2000</td>\n      <td>1165</td>\n    </tr>\n    <tr>\n      <th>4</th>\n      <td>5</td>\n      <td>13750</td>\n      <td>30</td>\n      <td>38500</td>\n      <td>90</td>\n      <td>2000</td>\n      <td>1170</td>\n    </tr>\n  </tbody>\n</table>\n</div>",
            "text/plain": "   ID  Price  Age     KM  HP    CC  Weight\n0   1  13500   23  46986  90  2000    1165\n1   2  13750   23  72937  90  2000    1165\n2   3  13950   24  41711  90  2000    1165\n3   4  14950   26  48000  90  2000    1165\n4   5  13750   30  38500  90  2000    1170"
          },
          "metadata": {}
        }
      ]
    },
    {
      "metadata": {
        "trusted": true
      },
      "cell_type": "code",
      "source": "data2.head()",
      "execution_count": 4,
      "outputs": [
        {
          "output_type": "execute_result",
          "execution_count": 4,
          "data": {
            "text/html": "<div>\n<style scoped>\n    .dataframe tbody tr th:only-of-type {\n        vertical-align: middle;\n    }\n\n    .dataframe tbody tr th {\n        vertical-align: top;\n    }\n\n    .dataframe thead th {\n        text-align: right;\n    }\n</style>\n<table border=\"1\" class=\"dataframe\">\n  <thead>\n    <tr style=\"text-align: right;\">\n      <th></th>\n      <th>ID</th>\n      <th>FuelType</th>\n      <th>TransmissionType</th>\n      <th>Doors</th>\n    </tr>\n  </thead>\n  <tbody>\n    <tr>\n      <th>0</th>\n      <td>43.0</td>\n      <td>Petrol</td>\n      <td>Manual</td>\n      <td>2doors</td>\n    </tr>\n    <tr>\n      <th>1</th>\n      <td>44.0</td>\n      <td>Diesel</td>\n      <td>Manual</td>\n      <td>2doors</td>\n    </tr>\n    <tr>\n      <th>2</th>\n      <td>45.0</td>\n      <td>Diesel</td>\n      <td>Manual</td>\n      <td>5doors</td>\n    </tr>\n    <tr>\n      <th>3</th>\n      <td>46.0</td>\n      <td>Diesel</td>\n      <td>Manual</td>\n      <td>5doors</td>\n    </tr>\n    <tr>\n      <th>4</th>\n      <td>47.0</td>\n      <td>Diesel</td>\n      <td>Manual</td>\n      <td>5doors</td>\n    </tr>\n  </tbody>\n</table>\n</div>",
            "text/plain": "     ID FuelType TransmissionType   Doors\n0  43.0   Petrol           Manual  2doors\n1  44.0   Diesel           Manual  2doors\n2  45.0   Diesel           Manual  5doors\n3  46.0   Diesel           Manual  5doors\n4  47.0   Diesel           Manual  5doors"
          },
          "metadata": {}
        }
      ]
    },
    {
      "metadata": {},
      "cell_type": "markdown",
      "source": "### [0] 전처리"
    },
    {
      "metadata": {
        "trusted": true
      },
      "cell_type": "code",
      "source": "base = pd.merge(data1, data2, on='ID')\nbase = base.dropna()",
      "execution_count": 5,
      "outputs": []
    },
    {
      "metadata": {},
      "cell_type": "markdown",
      "source": "### [1]"
    },
    {
      "metadata": {
        "trusted": true
      },
      "cell_type": "code",
      "source": "d1_auto = base[base.TransmissionType == 'Automatic']['Price']\nd1_manual = base[base.TransmissionType == 'Manual']['Price']",
      "execution_count": 6,
      "outputs": []
    },
    {
      "metadata": {
        "trusted": true
      },
      "cell_type": "code",
      "source": "from scipy.stats import ttest_ind\n\nt_val, p_val = ttest_ind(d1_auto, d1_manual, equal_var=True)\n\nprint(f\"{math.floor(p_val * 1000) / 1000}\")",
      "execution_count": 7,
      "outputs": [
        {
          "output_type": "stream",
          "text": "0.095\n",
          "name": "stdout"
        }
      ]
    },
    {
      "metadata": {},
      "cell_type": "markdown",
      "source": "### [2]"
    },
    {
      "metadata": {
        "trusted": true
      },
      "cell_type": "code",
      "source": "from statsmodels.formula.api import ols\nfrom statsmodels.stats.anova import anova_lm\n\nmodel = ols('Price ~ C(Doors)', base).fit()\nresult = anova_lm(model)\n\nresult",
      "execution_count": 8,
      "outputs": [
        {
          "output_type": "execute_result",
          "execution_count": 8,
          "data": {
            "text/html": "<div>\n<style scoped>\n    .dataframe tbody tr th:only-of-type {\n        vertical-align: middle;\n    }\n\n    .dataframe tbody tr th {\n        vertical-align: top;\n    }\n\n    .dataframe thead th {\n        text-align: right;\n    }\n</style>\n<table border=\"1\" class=\"dataframe\">\n  <thead>\n    <tr style=\"text-align: right;\">\n      <th></th>\n      <th>df</th>\n      <th>sum_sq</th>\n      <th>mean_sq</th>\n      <th>F</th>\n      <th>PR(&gt;F)</th>\n    </tr>\n  </thead>\n  <tbody>\n    <tr>\n      <th>C(Doors)</th>\n      <td>3.0</td>\n      <td>2.769641e+08</td>\n      <td>9.232138e+07</td>\n      <td>6.652761</td>\n      <td>0.000189</td>\n    </tr>\n    <tr>\n      <th>Residual</th>\n      <td>991.0</td>\n      <td>1.375226e+10</td>\n      <td>1.387715e+07</td>\n      <td>NaN</td>\n      <td>NaN</td>\n    </tr>\n  </tbody>\n</table>\n</div>",
            "text/plain": "             df        sum_sq       mean_sq         F    PR(>F)\nC(Doors)    3.0  2.769641e+08  9.232138e+07  6.652761  0.000189\nResidual  991.0  1.375226e+10  1.387715e+07       NaN       NaN"
          },
          "metadata": {}
        }
      ]
    },
    {
      "metadata": {
        "trusted": true
      },
      "cell_type": "code",
      "source": "f_val = result.iloc[0]['F']\np_val = result.iloc[0]['PR(>F)']\n\nprint(f\"f-value : {math.floor(f_val * 100) / 100}, p-value : {math.floor(p_val * 10000) / 10000}\")",
      "execution_count": 9,
      "outputs": [
        {
          "output_type": "stream",
          "text": "f-value : 6.65, p-value : 0.0001\n",
          "name": "stdout"
        }
      ]
    },
    {
      "metadata": {},
      "cell_type": "markdown",
      "source": "### [3]"
    },
    {
      "metadata": {
        "trusted": true
      },
      "cell_type": "code",
      "source": "corr = base.corr(method='pearson').loc['Price', 'Age':]\nidx = [i for i, corr in enumerate(corr) if abs(corr) >= 0.3]\nX_var1 = corr[idx].index",
      "execution_count": 10,
      "outputs": []
    },
    {
      "metadata": {
        "trusted": true
      },
      "cell_type": "code",
      "source": "d3 = pd.get_dummies(base, columns=base.columns[-3:], drop_first=True)",
      "execution_count": 11,
      "outputs": []
    },
    {
      "metadata": {
        "trusted": true
      },
      "cell_type": "code",
      "source": "X_var2 = d3.columns[7:]\nX_var = list(X_var1) + list(X_var2)\n\ntrain_X = d3[X_var]\ntrain_y = d3['Price']",
      "execution_count": 12,
      "outputs": []
    },
    {
      "metadata": {
        "trusted": true
      },
      "cell_type": "code",
      "source": "from statsmodels.api import add_constant, OLS\n\ntrain_X = add_constant(train_X)\nmodel = OLS(train_y, train_X)\nols_result = model.fit()\n\np_val = ols_result.pvalues\nadj_r2 = ols_result.rsquared_adj\n\nn_of_effective_var = len(p_val[[i for i, val in enumerate(p_val) if val < 0.05]][1:])\n\nprint(f\"{n_of_effective_var}, {math.floor(adj_r2 * 1000) / 1000:.3f}\")",
      "execution_count": 13,
      "outputs": [
        {
          "output_type": "stream",
          "text": "5, 0.860\n",
          "name": "stdout"
        }
      ]
    },
    {
      "metadata": {},
      "cell_type": "markdown",
      "source": "### [4]"
    },
    {
      "metadata": {
        "trusted": true
      },
      "cell_type": "code",
      "source": "test_X = pd.DataFrame([[1, 5, 50000, 143, 1170, 1, 0, 0, 0, 1, 0]], columns=train_X.columns)",
      "execution_count": 66,
      "outputs": []
    },
    {
      "metadata": {
        "trusted": true
      },
      "cell_type": "code",
      "source": "pred = ols_result.predict(test_X)",
      "execution_count": 67,
      "outputs": []
    },
    {
      "metadata": {
        "trusted": true
      },
      "cell_type": "code",
      "source": "print(f\"{math.floor(pred)}\")",
      "execution_count": 69,
      "outputs": [
        {
          "output_type": "stream",
          "text": "21053\n",
          "name": "stdout"
        }
      ]
    }
  ],
  "metadata": {
    "kernelspec": {
      "name": "python36",
      "display_name": "Python 3.6",
      "language": "python"
    },
    "language_info": {
      "mimetype": "text/x-python",
      "nbconvert_exporter": "python",
      "name": "python",
      "pygments_lexer": "ipython3",
      "version": "3.6.6",
      "file_extension": ".py",
      "codemirror_mode": {
        "version": 3,
        "name": "ipython"
      }
    }
  },
  "nbformat": 4,
  "nbformat_minor": 2
}