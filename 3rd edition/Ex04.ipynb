{
  "nbformat": 4,
  "nbformat_minor": 0,
  "metadata": {
    "kernelspec": {
      "name": "python36",
      "display_name": "Python 3.6",
      "language": "python"
    },
    "language_info": {
      "mimetype": "text/x-python",
      "nbconvert_exporter": "python",
      "name": "python",
      "pygments_lexer": "ipython3",
      "version": "3.6.6",
      "file_extension": ".py",
      "codemirror_mode": {
        "version": 3,
        "name": "ipython"
      }
    },
    "colab": {
      "name": "Ex04.ipynb",
      "provenance": [],
      "include_colab_link": true
    }
  },
  "cells": [
    {
      "cell_type": "markdown",
      "metadata": {
        "id": "view-in-github",
        "colab_type": "text"
      },
      "source": [
        "<a href=\"https://colab.research.google.com/github/nullpitch-dev/DS_L1_Notebooks/blob/master/3rd%20edition/Ex04.ipynb\" target=\"_parent\"><img src=\"https://colab.research.google.com/assets/colab-badge.svg\" alt=\"Open In Colab\"/></a>"
      ]
    },
    {
      "cell_type": "code",
      "metadata": {
        "trusted": true,
        "id": "j7K8395tm6MB",
        "colab_type": "code",
        "colab": {}
      },
      "source": [
        "import pandas as pd\n",
        "import numpy as np\n",
        "import math"
      ],
      "execution_count": null,
      "outputs": []
    },
    {
      "cell_type": "code",
      "metadata": {
        "trusted": true,
        "id": "lfykbwz3m6MO",
        "colab_type": "code",
        "colab": {}
      },
      "source": [
        "url_corolla_1 = 'https://raw.githubusercontent.com/nullpitch-dev/hj_public/master/corolla_1.csv'\n",
        "url_corolla_2 = 'https://raw.githubusercontent.com/nullpitch-dev/hj_public/master/corolla_2.csv'\n",
        "\n",
        "data1 = pd.read_csv(url_corolla_1)\n",
        "data2 = pd.read_csv(url_corolla_2)"
      ],
      "execution_count": null,
      "outputs": []
    },
    {
      "cell_type": "code",
      "metadata": {
        "trusted": true,
        "id": "7icTOcDQm6Mb",
        "colab_type": "code",
        "colab": {},
        "outputId": "52809055-b771-4572-df49-571f0a0b62e5"
      },
      "source": [
        "data1.head()"
      ],
      "execution_count": null,
      "outputs": [
        {
          "output_type": "execute_result",
          "data": {
            "text/html": [
              "<div>\n",
              "<style scoped>\n",
              "    .dataframe tbody tr th:only-of-type {\n",
              "        vertical-align: middle;\n",
              "    }\n",
              "\n",
              "    .dataframe tbody tr th {\n",
              "        vertical-align: top;\n",
              "    }\n",
              "\n",
              "    .dataframe thead th {\n",
              "        text-align: right;\n",
              "    }\n",
              "</style>\n",
              "<table border=\"1\" class=\"dataframe\">\n",
              "  <thead>\n",
              "    <tr style=\"text-align: right;\">\n",
              "      <th></th>\n",
              "      <th>ID</th>\n",
              "      <th>Price</th>\n",
              "      <th>Age</th>\n",
              "      <th>KM</th>\n",
              "      <th>HP</th>\n",
              "      <th>CC</th>\n",
              "      <th>Weight</th>\n",
              "    </tr>\n",
              "  </thead>\n",
              "  <tbody>\n",
              "    <tr>\n",
              "      <th>0</th>\n",
              "      <td>1</td>\n",
              "      <td>13500</td>\n",
              "      <td>23</td>\n",
              "      <td>46986</td>\n",
              "      <td>90</td>\n",
              "      <td>2000</td>\n",
              "      <td>1165</td>\n",
              "    </tr>\n",
              "    <tr>\n",
              "      <th>1</th>\n",
              "      <td>2</td>\n",
              "      <td>13750</td>\n",
              "      <td>23</td>\n",
              "      <td>72937</td>\n",
              "      <td>90</td>\n",
              "      <td>2000</td>\n",
              "      <td>1165</td>\n",
              "    </tr>\n",
              "    <tr>\n",
              "      <th>2</th>\n",
              "      <td>3</td>\n",
              "      <td>13950</td>\n",
              "      <td>24</td>\n",
              "      <td>41711</td>\n",
              "      <td>90</td>\n",
              "      <td>2000</td>\n",
              "      <td>1165</td>\n",
              "    </tr>\n",
              "    <tr>\n",
              "      <th>3</th>\n",
              "      <td>4</td>\n",
              "      <td>14950</td>\n",
              "      <td>26</td>\n",
              "      <td>48000</td>\n",
              "      <td>90</td>\n",
              "      <td>2000</td>\n",
              "      <td>1165</td>\n",
              "    </tr>\n",
              "    <tr>\n",
              "      <th>4</th>\n",
              "      <td>5</td>\n",
              "      <td>13750</td>\n",
              "      <td>30</td>\n",
              "      <td>38500</td>\n",
              "      <td>90</td>\n",
              "      <td>2000</td>\n",
              "      <td>1170</td>\n",
              "    </tr>\n",
              "  </tbody>\n",
              "</table>\n",
              "</div>"
            ],
            "text/plain": [
              "   ID  Price  Age     KM  HP    CC  Weight\n",
              "0   1  13500   23  46986  90  2000    1165\n",
              "1   2  13750   23  72937  90  2000    1165\n",
              "2   3  13950   24  41711  90  2000    1165\n",
              "3   4  14950   26  48000  90  2000    1165\n",
              "4   5  13750   30  38500  90  2000    1170"
            ]
          },
          "metadata": {
            "tags": []
          },
          "execution_count": 3
        }
      ]
    },
    {
      "cell_type": "code",
      "metadata": {
        "trusted": true,
        "id": "Ym-U1-s_m6Mk",
        "colab_type": "code",
        "colab": {},
        "outputId": "30460574-e4a0-4dc4-dc54-831a166f1579"
      },
      "source": [
        "data2.head()"
      ],
      "execution_count": null,
      "outputs": [
        {
          "output_type": "execute_result",
          "data": {
            "text/html": [
              "<div>\n",
              "<style scoped>\n",
              "    .dataframe tbody tr th:only-of-type {\n",
              "        vertical-align: middle;\n",
              "    }\n",
              "\n",
              "    .dataframe tbody tr th {\n",
              "        vertical-align: top;\n",
              "    }\n",
              "\n",
              "    .dataframe thead th {\n",
              "        text-align: right;\n",
              "    }\n",
              "</style>\n",
              "<table border=\"1\" class=\"dataframe\">\n",
              "  <thead>\n",
              "    <tr style=\"text-align: right;\">\n",
              "      <th></th>\n",
              "      <th>ID</th>\n",
              "      <th>FuelType</th>\n",
              "      <th>TransmissionType</th>\n",
              "      <th>Doors</th>\n",
              "    </tr>\n",
              "  </thead>\n",
              "  <tbody>\n",
              "    <tr>\n",
              "      <th>0</th>\n",
              "      <td>43.0</td>\n",
              "      <td>Petrol</td>\n",
              "      <td>Manual</td>\n",
              "      <td>2doors</td>\n",
              "    </tr>\n",
              "    <tr>\n",
              "      <th>1</th>\n",
              "      <td>44.0</td>\n",
              "      <td>Diesel</td>\n",
              "      <td>Manual</td>\n",
              "      <td>2doors</td>\n",
              "    </tr>\n",
              "    <tr>\n",
              "      <th>2</th>\n",
              "      <td>45.0</td>\n",
              "      <td>Diesel</td>\n",
              "      <td>Manual</td>\n",
              "      <td>5doors</td>\n",
              "    </tr>\n",
              "    <tr>\n",
              "      <th>3</th>\n",
              "      <td>46.0</td>\n",
              "      <td>Diesel</td>\n",
              "      <td>Manual</td>\n",
              "      <td>5doors</td>\n",
              "    </tr>\n",
              "    <tr>\n",
              "      <th>4</th>\n",
              "      <td>47.0</td>\n",
              "      <td>Diesel</td>\n",
              "      <td>Manual</td>\n",
              "      <td>5doors</td>\n",
              "    </tr>\n",
              "  </tbody>\n",
              "</table>\n",
              "</div>"
            ],
            "text/plain": [
              "     ID FuelType TransmissionType   Doors\n",
              "0  43.0   Petrol           Manual  2doors\n",
              "1  44.0   Diesel           Manual  2doors\n",
              "2  45.0   Diesel           Manual  5doors\n",
              "3  46.0   Diesel           Manual  5doors\n",
              "4  47.0   Diesel           Manual  5doors"
            ]
          },
          "metadata": {
            "tags": []
          },
          "execution_count": 4
        }
      ]
    },
    {
      "cell_type": "markdown",
      "metadata": {
        "id": "zUl1aSlkm6Mr",
        "colab_type": "text"
      },
      "source": [
        "### [0] 전처리"
      ]
    },
    {
      "cell_type": "code",
      "metadata": {
        "trusted": true,
        "id": "SP-45gRpm6Ms",
        "colab_type": "code",
        "colab": {}
      },
      "source": [
        "base = pd.merge(data1, data2, on='ID')\n",
        "base = base.dropna()"
      ],
      "execution_count": null,
      "outputs": []
    },
    {
      "cell_type": "markdown",
      "metadata": {
        "id": "Jr_e3MFLm6M0",
        "colab_type": "text"
      },
      "source": [
        "### [1]"
      ]
    },
    {
      "cell_type": "code",
      "metadata": {
        "trusted": true,
        "id": "Ib0gbHvCm6M1",
        "colab_type": "code",
        "colab": {}
      },
      "source": [
        "d1_auto = base[base.TransmissionType == 'Automatic']['Price']\n",
        "d1_manual = base[base.TransmissionType == 'Manual']['Price']"
      ],
      "execution_count": null,
      "outputs": []
    },
    {
      "cell_type": "code",
      "metadata": {
        "trusted": true,
        "id": "zFrW7jRSm6M8",
        "colab_type": "code",
        "colab": {},
        "outputId": "8ad57bc5-6928-4673-96b8-1b0a54b4e2f4"
      },
      "source": [
        "from scipy.stats import ttest_ind\n",
        "\n",
        "t_val, p_val = ttest_ind(d1_auto, d1_manual, equal_var=True)\n",
        "\n",
        "print(f\"{math.floor(p_val * 1000) / 1000}\")"
      ],
      "execution_count": null,
      "outputs": [
        {
          "output_type": "stream",
          "text": [
            "0.095\n"
          ],
          "name": "stdout"
        }
      ]
    },
    {
      "cell_type": "markdown",
      "metadata": {
        "id": "Lg-SDBl7m6NB",
        "colab_type": "text"
      },
      "source": [
        "### [2]"
      ]
    },
    {
      "cell_type": "code",
      "metadata": {
        "trusted": true,
        "id": "nb-JmV77m6ND",
        "colab_type": "code",
        "colab": {},
        "outputId": "51f1043d-df95-480a-a309-fddbfbc73815"
      },
      "source": [
        "from statsmodels.formula.api import ols\n",
        "from statsmodels.stats.anova import anova_lm\n",
        "\n",
        "model = ols('Price ~ C(Doors)', base).fit()\n",
        "result = anova_lm(model)\n",
        "\n",
        "result"
      ],
      "execution_count": null,
      "outputs": [
        {
          "output_type": "execute_result",
          "data": {
            "text/html": [
              "<div>\n",
              "<style scoped>\n",
              "    .dataframe tbody tr th:only-of-type {\n",
              "        vertical-align: middle;\n",
              "    }\n",
              "\n",
              "    .dataframe tbody tr th {\n",
              "        vertical-align: top;\n",
              "    }\n",
              "\n",
              "    .dataframe thead th {\n",
              "        text-align: right;\n",
              "    }\n",
              "</style>\n",
              "<table border=\"1\" class=\"dataframe\">\n",
              "  <thead>\n",
              "    <tr style=\"text-align: right;\">\n",
              "      <th></th>\n",
              "      <th>df</th>\n",
              "      <th>sum_sq</th>\n",
              "      <th>mean_sq</th>\n",
              "      <th>F</th>\n",
              "      <th>PR(&gt;F)</th>\n",
              "    </tr>\n",
              "  </thead>\n",
              "  <tbody>\n",
              "    <tr>\n",
              "      <th>C(Doors)</th>\n",
              "      <td>3.0</td>\n",
              "      <td>2.769641e+08</td>\n",
              "      <td>9.232138e+07</td>\n",
              "      <td>6.652761</td>\n",
              "      <td>0.000189</td>\n",
              "    </tr>\n",
              "    <tr>\n",
              "      <th>Residual</th>\n",
              "      <td>991.0</td>\n",
              "      <td>1.375226e+10</td>\n",
              "      <td>1.387715e+07</td>\n",
              "      <td>NaN</td>\n",
              "      <td>NaN</td>\n",
              "    </tr>\n",
              "  </tbody>\n",
              "</table>\n",
              "</div>"
            ],
            "text/plain": [
              "             df        sum_sq       mean_sq         F    PR(>F)\n",
              "C(Doors)    3.0  2.769641e+08  9.232138e+07  6.652761  0.000189\n",
              "Residual  991.0  1.375226e+10  1.387715e+07       NaN       NaN"
            ]
          },
          "metadata": {
            "tags": []
          },
          "execution_count": 8
        }
      ]
    },
    {
      "cell_type": "code",
      "metadata": {
        "trusted": true,
        "id": "dR5mknDwm6NJ",
        "colab_type": "code",
        "colab": {},
        "outputId": "23bac942-d15a-4402-d493-dbd4165b9930"
      },
      "source": [
        "f_val = result.iloc[0]['F']\n",
        "p_val = result.iloc[0]['PR(>F)']\n",
        "\n",
        "print(f\"f-value : {math.floor(f_val * 100) / 100}, p-value : {math.floor(p_val * 10000) / 10000}\")"
      ],
      "execution_count": null,
      "outputs": [
        {
          "output_type": "stream",
          "text": [
            "f-value : 6.65, p-value : 0.0001\n"
          ],
          "name": "stdout"
        }
      ]
    },
    {
      "cell_type": "markdown",
      "metadata": {
        "id": "g7uu0CGLm6NO",
        "colab_type": "text"
      },
      "source": [
        "### [3]"
      ]
    },
    {
      "cell_type": "code",
      "metadata": {
        "trusted": true,
        "id": "TJPX3fLnm6NP",
        "colab_type": "code",
        "colab": {}
      },
      "source": [
        "corr = base.corr(method='pearson').loc['Price', 'Age':]\n",
        "idx = [i for i, corr in enumerate(corr) if abs(corr) >= 0.3]\n",
        "X_var1 = corr[idx].index"
      ],
      "execution_count": null,
      "outputs": []
    },
    {
      "cell_type": "code",
      "metadata": {
        "trusted": true,
        "id": "_kHEXCRUm6NU",
        "colab_type": "code",
        "colab": {}
      },
      "source": [
        "d3 = pd.get_dummies(base, columns=base.columns[-3:], drop_first=True)"
      ],
      "execution_count": null,
      "outputs": []
    },
    {
      "cell_type": "code",
      "metadata": {
        "trusted": true,
        "id": "koftkKDmm6NZ",
        "colab_type": "code",
        "colab": {}
      },
      "source": [
        "X_var2 = d3.columns[7:]\n",
        "X_var = list(X_var1) + list(X_var2)\n",
        "\n",
        "train_X = d3[X_var]\n",
        "train_y = d3['Price']"
      ],
      "execution_count": null,
      "outputs": []
    },
    {
      "cell_type": "code",
      "metadata": {
        "trusted": true,
        "id": "Z0xU_o5Cm6Nf",
        "colab_type": "code",
        "colab": {},
        "outputId": "011a95bd-1fb8-4eaf-cbfe-242dd3c418da"
      },
      "source": [
        "from statsmodels.api import add_constant, OLS\n",
        "\n",
        "train_X = add_constant(train_X)\n",
        "model = OLS(train_y, train_X)\n",
        "ols_result = model.fit()\n",
        "\n",
        "p_val = ols_result.pvalues\n",
        "adj_r2 = ols_result.rsquared_adj\n",
        "\n",
        "n_of_effective_var = len(p_val[[i for i, val in enumerate(p_val) if val < 0.05]][1:])\n",
        "\n",
        "print(f\"{n_of_effective_var}, {math.floor(adj_r2 * 1000) / 1000:.3f}\")"
      ],
      "execution_count": null,
      "outputs": [
        {
          "output_type": "stream",
          "text": [
            "5, 0.860\n"
          ],
          "name": "stdout"
        }
      ]
    },
    {
      "cell_type": "markdown",
      "metadata": {
        "id": "zLbNPCz-m6Nj",
        "colab_type": "text"
      },
      "source": [
        "### [4]"
      ]
    },
    {
      "cell_type": "code",
      "metadata": {
        "trusted": true,
        "id": "oN_Gtxidm6Nk",
        "colab_type": "code",
        "colab": {}
      },
      "source": [
        "test_X = pd.DataFrame([[1, 5, 50000, 143, 1170, 1, 0, 0, 0, 1, 0]], columns=train_X.columns)"
      ],
      "execution_count": null,
      "outputs": []
    },
    {
      "cell_type": "code",
      "metadata": {
        "trusted": true,
        "id": "OtQ2Sw_Cm6Nq",
        "colab_type": "code",
        "colab": {}
      },
      "source": [
        "pred = ols_result.predict(test_X)"
      ],
      "execution_count": null,
      "outputs": []
    },
    {
      "cell_type": "code",
      "metadata": {
        "trusted": true,
        "id": "mXYAlFcQm6Nu",
        "colab_type": "code",
        "colab": {},
        "outputId": "d092f278-9b2e-4d3d-9440-2e336a8970ba"
      },
      "source": [
        "print(f\"{math.floor(pred)}\")"
      ],
      "execution_count": null,
      "outputs": [
        {
          "output_type": "stream",
          "text": [
            "21053\n"
          ],
          "name": "stdout"
        }
      ]
    }
  ]
}