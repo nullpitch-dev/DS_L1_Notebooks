{
 "cells": [
  {
   "cell_type": "code",
   "execution_count": 1,
   "metadata": {},
   "outputs": [],
   "source": [
    "import pandas as pd\n",
    "import numpy as np\n",
    "import math"
   ]
  },
  {
   "cell_type": "code",
   "execution_count": 2,
   "metadata": {},
   "outputs": [],
   "source": [
    "url_1 = 'https://raw.githubusercontent.com/nullpitch-dev/hj_public/master/highway_01_07.csv'\n",
    "url_2 = 'https://raw.githubusercontent.com/nullpitch-dev/hj_public/master/highway_08_12.csv'\n",
    "\n",
    "data_1 = pd.read_csv(url_1)\n",
    "data_2 = pd.read_csv(url_2)"
   ]
  },
  {
   "cell_type": "markdown",
   "metadata": {},
   "source": [
    "### [1]"
   ]
  },
  {
   "cell_type": "code",
   "execution_count": 3,
   "metadata": {},
   "outputs": [],
   "source": [
    "def convert(kr):\n",
    "    if (kr == '강원') | (kr == 'Gangwon'):\n",
    "        return 'Gangwon'\n",
    "    elif (kr == '경기') | (kr == 'Gyeonggi'):\n",
    "        return 'Gyeonggi'\n",
    "    elif (kr == '경상') | (kr == 'Gyeongsang'):\n",
    "        return 'Gyeongsang'\n",
    "    elif (kr == '전라') | (kr == 'Jeolla'):\n",
    "        return 'Jeolla'\n",
    "    elif (kr == '충청') | (kr == 'Chungcheong'):\n",
    "        return 'Chungcheong'\n",
    "    else:\n",
    "        return 'ERROR'\n",
    "\n",
    "data_2 = data_2.assign(StartPoint=data_2.StartPoint.apply(lambda x: convert(x)))"
   ]
  },
  {
   "cell_type": "code",
   "execution_count": 4,
   "metadata": {},
   "outputs": [],
   "source": [
    "d = pd.concat([data_1, data_2], axis=0)"
   ]
  },
  {
   "cell_type": "code",
   "execution_count": 5,
   "metadata": {},
   "outputs": [],
   "source": [
    "d1 = d[d.StartPoint == 'Gangwon']\n",
    "d1 = pd.concat([d1['Gyeonggi'], d1['Chungcheong'], d1['Jeolla'], d1['Gyeongsang'], d1['Gangwon']], axis=0)"
   ]
  },
  {
   "cell_type": "code",
   "execution_count": 6,
   "metadata": {},
   "outputs": [],
   "source": [
    "q1, med, q3 = d1.quantile([0.25, 0.5, 0.75])"
   ]
  },
  {
   "cell_type": "code",
   "execution_count": 7,
   "metadata": {},
   "outputs": [
    {
     "name": "stdout",
     "output_type": "stream",
     "text": [
      "988, 5455, 54882\n"
     ]
    }
   ],
   "source": [
    "print(f\"{q1:.0f}, {med:.0f}, {q3:.0f}\")"
   ]
  },
  {
   "cell_type": "markdown",
   "metadata": {},
   "source": [
    "### [2]"
   ]
  },
  {
   "cell_type": "code",
   "execution_count": 8,
   "metadata": {},
   "outputs": [],
   "source": [
    "d2_gs = d[d.StartPoint == 'Gyeonggi'].Gyeongsang\n",
    "d2_sg = d[d.StartPoint == 'Gyeongsang'].Gyeonggi"
   ]
  },
  {
   "cell_type": "code",
   "execution_count": 9,
   "metadata": {},
   "outputs": [],
   "source": [
    "from scipy.stats import ttest_ind\n",
    "\n",
    "t_val, p_val = ttest_ind(d2_gs, d2_sg)"
   ]
  },
  {
   "cell_type": "code",
   "execution_count": 10,
   "metadata": {},
   "outputs": [
    {
     "name": "stdout",
     "output_type": "stream",
     "text": [
      "0.0013\n",
      "YES\n"
     ]
    }
   ],
   "source": [
    "print(f\"{p_val:.4f}\")\n",
    "print(f\"YES\")"
   ]
  },
  {
   "cell_type": "markdown",
   "metadata": {},
   "source": [
    "### [3]"
   ]
  },
  {
   "cell_type": "code",
   "execution_count": 11,
   "metadata": {},
   "outputs": [],
   "source": [
    "d3 = d[d.StartPoint == 'Chungcheong'][['date', 'Gangwon']]"
   ]
  },
  {
   "cell_type": "code",
   "execution_count": 12,
   "metadata": {},
   "outputs": [],
   "source": [
    "d3 = d3.assign(date=pd.to_datetime(d3.date, format='%Y%m%d'))"
   ]
  },
  {
   "cell_type": "code",
   "execution_count": 13,
   "metadata": {},
   "outputs": [],
   "source": [
    "d3 = d3.assign(month=d3.date.dt.month)\n",
    "d3 = d3.assign(dow=d3.date.dt.dayofweek)"
   ]
  },
  {
   "cell_type": "code",
   "execution_count": 14,
   "metadata": {},
   "outputs": [],
   "source": [
    "d3 = d3.groupby(['dow', 'month']).agg({'Gangwon': 'mean'}).reset_index()"
   ]
  },
  {
   "cell_type": "code",
   "execution_count": 15,
   "metadata": {},
   "outputs": [],
   "source": [
    "dowMin = d3.groupby('dow').agg({'Gangwon': 'min'}).reset_index()\n",
    "dowMax = d3.groupby('dow').agg({'Gangwon': 'max'}).reset_index()"
   ]
  },
  {
   "cell_type": "code",
   "execution_count": 16,
   "metadata": {},
   "outputs": [],
   "source": [
    "d3 = pd.merge(d3, dowMin, how='inner', on='dow')\n",
    "d3 = pd.merge(d3, dowMax, how='inner', on='dow')"
   ]
  },
  {
   "cell_type": "code",
   "execution_count": 17,
   "metadata": {},
   "outputs": [],
   "source": [
    "d3 = d3.rename(columns={'Gangwon_x': 'Dist', 'Gangwon_y': 'Min', 'Gangwon': 'Max'})"
   ]
  },
  {
   "cell_type": "code",
   "execution_count": 18,
   "metadata": {},
   "outputs": [],
   "source": [
    "d3 = d3.assign(norm=(d3.Dist - d3.Min) / (d3.Max - d3.Min))"
   ]
  },
  {
   "cell_type": "code",
   "execution_count": 19,
   "metadata": {},
   "outputs": [],
   "source": [
    "d3_month = d3.groupby('month').agg({'norm': 'mean'})"
   ]
  },
  {
   "cell_type": "code",
   "execution_count": 20,
   "metadata": {},
   "outputs": [],
   "source": [
    "from sklearn.cluster import KMeans\n",
    "\n",
    "cluster = KMeans(n_clusters=3, random_state=1234, max_iter=100).fit(d3_month)"
   ]
  },
  {
   "cell_type": "code",
   "execution_count": 21,
   "metadata": {},
   "outputs": [],
   "source": [
    "oct_cl = cluster.labels_[9]"
   ]
  },
  {
   "cell_type": "code",
   "execution_count": 22,
   "metadata": {},
   "outputs": [],
   "source": [
    "idx_A = [i for i, v in enumerate(cluster.labels_) if v == oct_cl]\n",
    "no_of_A = len(idx_A)"
   ]
  },
  {
   "cell_type": "code",
   "execution_count": 23,
   "metadata": {},
   "outputs": [
    {
     "name": "stdout",
     "output_type": "stream",
     "text": [
      "3\n"
     ]
    }
   ],
   "source": [
    "print(f\"{no_of_A}\")"
   ]
  },
  {
   "cell_type": "code",
   "execution_count": 24,
   "metadata": {},
   "outputs": [],
   "source": [
    "month_A = list(np.array(idx_A) + 1)"
   ]
  },
  {
   "cell_type": "code",
   "execution_count": 25,
   "metadata": {},
   "outputs": [
    {
     "name": "stdout",
     "output_type": "stream",
     "text": [
      "0.75\n"
     ]
    }
   ],
   "source": [
    "print(f\"{d3[(d3.dow == 0) & (d3.month.isin(month_A))].norm.mean():.2f}\")"
   ]
  },
  {
   "cell_type": "markdown",
   "metadata": {},
   "source": [
    "### [4]"
   ]
  },
  {
   "cell_type": "code",
   "execution_count": 26,
   "metadata": {},
   "outputs": [],
   "source": [
    "d4 = d.assign(date=pd.to_datetime(d.date, format='%Y%m%d'))"
   ]
  },
  {
   "cell_type": "code",
   "execution_count": 27,
   "metadata": {},
   "outputs": [],
   "source": [
    "d4 = d4.assign(dow=d4.date.dt.dayofweek)\n",
    "d4 = d4.assign(woy=d4.date.dt.isocalendar().week)\n",
    "d4 = d4[d4.StartPoint == 'Gyeonggi']"
   ]
  },
  {
   "cell_type": "code",
   "execution_count": 28,
   "metadata": {},
   "outputs": [],
   "source": [
    "d4 = d4.drop(columns=['StartPoint', 'Gyeonggi'])"
   ]
  },
  {
   "cell_type": "code",
   "execution_count": 29,
   "metadata": {},
   "outputs": [],
   "source": [
    "def get_yesterday(woy):\n",
    "    if woy < 30:\n",
    "        return d4[(d4.woy == woy) & (d4.dow == 5)].Jeolla.iloc[0]\n",
    "\n",
    "d4 = d4.assign(YJL=d4.woy.apply(lambda x: get_yesterday(x)))"
   ]
  },
  {
   "cell_type": "code",
   "execution_count": 30,
   "metadata": {},
   "outputs": [],
   "source": [
    "d4 = d4[d4.dow == 6]"
   ]
  },
  {
   "cell_type": "code",
   "execution_count": 31,
   "metadata": {},
   "outputs": [],
   "source": [
    "from sklearn.linear_model import LinearRegression\n",
    "\n",
    "X_var = ['Chungcheong', 'Gyeongsang', 'Gangwon', 'YJL']\n",
    "d4_train = d4[d4.date <= '2014-06-30']\n",
    "\n",
    "model = LinearRegression().fit(d4_train[X_var], d4_train.Jeolla)"
   ]
  },
  {
   "cell_type": "code",
   "execution_count": 32,
   "metadata": {},
   "outputs": [],
   "source": [
    "d4_test = d4[(d4.date == '2014-07-06') | (d4.date == '2014-07-13') | (d4.date == '2014-07-20')]"
   ]
  },
  {
   "cell_type": "code",
   "execution_count": 33,
   "metadata": {},
   "outputs": [],
   "source": [
    "pred = model.predict(d4_test[X_var])\n",
    "pred = pd.DataFrame(pred, columns=['esti'])\n",
    "pred = pred.assign(esti=pred.esti.apply(lambda x: round(x, 1)))"
   ]
  },
  {
   "cell_type": "code",
   "execution_count": 34,
   "metadata": {},
   "outputs": [
    {
     "data": {
      "text/html": [
       "<div>\n",
       "<style scoped>\n",
       "    .dataframe tbody tr th:only-of-type {\n",
       "        vertical-align: middle;\n",
       "    }\n",
       "\n",
       "    .dataframe tbody tr th {\n",
       "        vertical-align: top;\n",
       "    }\n",
       "\n",
       "    .dataframe thead th {\n",
       "        text-align: right;\n",
       "    }\n",
       "</style>\n",
       "<table border=\"1\" class=\"dataframe\">\n",
       "  <thead>\n",
       "    <tr style=\"text-align: right;\">\n",
       "      <th></th>\n",
       "      <th>esti</th>\n",
       "    </tr>\n",
       "  </thead>\n",
       "  <tbody>\n",
       "    <tr>\n",
       "      <th>0</th>\n",
       "      <td>2962.8</td>\n",
       "    </tr>\n",
       "    <tr>\n",
       "      <th>1</th>\n",
       "      <td>3161.4</td>\n",
       "    </tr>\n",
       "    <tr>\n",
       "      <th>2</th>\n",
       "      <td>3027.5</td>\n",
       "    </tr>\n",
       "  </tbody>\n",
       "</table>\n",
       "</div>"
      ],
      "text/plain": [
       "     esti\n",
       "0  2962.8\n",
       "1  3161.4\n",
       "2  3027.5"
      ]
     },
     "execution_count": 34,
     "metadata": {},
     "output_type": "execute_result"
    }
   ],
   "source": [
    "pred"
   ]
  }
 ],
 "metadata": {
  "kernelspec": {
   "display_name": "Python 3",
   "language": "python",
   "name": "python3"
  },
  "language_info": {
   "codemirror_mode": {
    "name": "ipython",
    "version": 3
   },
   "file_extension": ".py",
   "mimetype": "text/x-python",
   "name": "python",
   "nbconvert_exporter": "python",
   "pygments_lexer": "ipython3",
   "version": "3.6.9"
  }
 },
 "nbformat": 4,
 "nbformat_minor": 4
}
