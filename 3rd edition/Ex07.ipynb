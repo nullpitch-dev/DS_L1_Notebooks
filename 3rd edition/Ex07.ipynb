{
 "cells": [
  {
   "cell_type": "code",
   "execution_count": 54,
   "metadata": {},
   "outputs": [],
   "source": [
    "import pandas as pd\n",
    "import numpy as np\n",
    "import math"
   ]
  },
  {
   "cell_type": "code",
   "execution_count": 55,
   "metadata": {},
   "outputs": [],
   "source": [
    "url_pop = 'https://raw.githubusercontent.com/nullpitch-dev/hj_public/master/R_pop_stat.csv'\n",
    "data_pop = pd.read_csv(url_pop, encoding='utf-8')"
   ]
  },
  {
   "cell_type": "markdown",
   "metadata": {},
   "source": [
    "### [0]"
   ]
  },
  {
   "cell_type": "code",
   "execution_count": 56,
   "metadata": {},
   "outputs": [],
   "source": [
    "base = data_pop.dropna(how='any', subset=['AGE', 'INCOME', 'XGRP'])\n",
    "base = base[(base['AGE'] >= 20) & (base['AGE'] <= 50)]\n",
    "base = pd.get_dummies(base, columns=['SEX', 'SCHL', 'WORK'], drop_first=True)"
   ]
  },
  {
   "cell_type": "markdown",
   "metadata": {},
   "source": [
    "### [1]"
   ]
  },
  {
   "cell_type": "code",
   "execution_count": 57,
   "metadata": {},
   "outputs": [],
   "source": [
    "mean = base['INCOME'].mean()\n",
    "std = base['INCOME'].std()\n",
    "\n",
    "ul = mean + 3 * std\n",
    "ll = mean - 3 * std\n",
    "\n",
    "base = base.assign(outlier=base['INCOME'].apply(lambda x:\n",
    "                                               1 if (x > ul) | (x < ll) else 0))"
   ]
  },
  {
   "cell_type": "code",
   "execution_count": 58,
   "metadata": {},
   "outputs": [
    {
     "name": "stdout",
     "output_type": "stream",
     "text": [
      "3325000.0\n"
     ]
    }
   ],
   "source": [
    "d1 = base[base['outlier'] == 1]\n",
    "print(f\"{d1['INCOME'].max() - d1['INCOME'].min()}\")"
   ]
  },
  {
   "cell_type": "markdown",
   "metadata": {},
   "source": [
    "### [2]"
   ]
  },
  {
   "cell_type": "code",
   "execution_count": 59,
   "metadata": {},
   "outputs": [],
   "source": [
    "base = base[base['outlier'] == 0]"
   ]
  },
  {
   "cell_type": "code",
   "execution_count": 60,
   "metadata": {},
   "outputs": [],
   "source": [
    "d2 = base[base['INCOME'] >= base['INCOME'].quantile(0.75)]"
   ]
  },
  {
   "cell_type": "code",
   "execution_count": 61,
   "metadata": {},
   "outputs": [
    {
     "name": "stdout",
     "output_type": "stream",
     "text": [
      "0.115\n"
     ]
    }
   ],
   "source": [
    "result = d2[['AGE', 'INCOME']].corr(method='spearman')\n",
    "print(f\"{math.floor(result['AGE']['INCOME'] * 1000) / 1000:.3f}\")"
   ]
  },
  {
   "cell_type": "markdown",
   "metadata": {},
   "source": [
    "### [3]"
   ]
  },
  {
   "cell_type": "code",
   "execution_count": 93,
   "metadata": {},
   "outputs": [],
   "source": [
    "base = base.assign(high_income=base['INCOME'].apply(lambda x:\n",
    "                                                    'Y' if x >= 25000 else 'N'))"
   ]
  },
  {
   "cell_type": "code",
   "execution_count": 94,
   "metadata": {},
   "outputs": [],
   "source": [
    "d3 = pd.merge(base, data_pop[['WORK']], how='left', left_index=True,\n",
    "              right_index=True)"
   ]
  },
  {
   "cell_type": "code",
   "execution_count": 95,
   "metadata": {},
   "outputs": [],
   "source": [
    "pivot = d3.pivot_table(index='high_income', columns='WORK', aggfunc='size',\n",
    "                       fill_value=0)"
   ]
  },
  {
   "cell_type": "code",
   "execution_count": 96,
   "metadata": {},
   "outputs": [
    {
     "name": "stdout",
     "output_type": "stream",
     "text": [
      "0.00044\n"
     ]
    }
   ],
   "source": [
    "from scipy.stats import chi2_contingency\n",
    "\n",
    "chi2, p_val, dof, expected = chi2_contingency(pivot)\n",
    "print(f\"{p_val:.5f}\")"
   ]
  },
  {
   "cell_type": "markdown",
   "metadata": {},
   "source": [
    "P-value가 0.05보다 작으므로 귀무가설을 기각한다.\n",
    "귀무가설은 변수간 관계가 없다이므로\n",
    "직업과 소득수준은 관계가 있다고 할 수 있다."
   ]
  },
  {
   "cell_type": "markdown",
   "metadata": {},
   "source": [
    "### [4]"
   ]
  },
  {
   "cell_type": "code",
   "execution_count": 124,
   "metadata": {},
   "outputs": [],
   "source": [
    "X_var = list(base.columns[0:1]) + list(base.columns[3:12])\n",
    "\n",
    "train_X = base[base['XGRP'] <= 7][X_var]\n",
    "train_y = base[base['XGRP'] <= 7]['INCOME'].apply(lambda x: math.log10(x))"
   ]
  },
  {
   "cell_type": "code",
   "execution_count": 125,
   "metadata": {},
   "outputs": [],
   "source": [
    "from sklearn.linear_model import LinearRegression\n",
    "\n",
    "model = LinearRegression().fit(train_X, train_y)"
   ]
  },
  {
   "cell_type": "code",
   "execution_count": 130,
   "metadata": {},
   "outputs": [
    {
     "name": "stdout",
     "output_type": "stream",
     "text": [
      "47400\n"
     ]
    }
   ],
   "source": [
    "test_X = pd.DataFrame([[38, 0, 0, 0, 0, 0, 1, 0, 1, 0]], columns=X_var)\n",
    "\n",
    "result = model.predict(test_X)[0]\n",
    "print(f\"{round(10 ** result, -2):.0f}\")"
   ]
  },
  {
   "cell_type": "markdown",
   "metadata": {},
   "source": [
    "### [5]"
   ]
  },
  {
   "cell_type": "code",
   "execution_count": 132,
   "metadata": {},
   "outputs": [],
   "source": [
    "test_X = base[base['XGRP'] > 7][X_var]\n",
    "test_y = base[base['XGRP'] > 7]['INCOME'].apply(lambda x: math.log10(x))"
   ]
  },
  {
   "cell_type": "code",
   "execution_count": 134,
   "metadata": {},
   "outputs": [],
   "source": [
    "result = model.predict(test_X)"
   ]
  },
  {
   "cell_type": "code",
   "execution_count": 139,
   "metadata": {},
   "outputs": [
    {
     "name": "stdout",
     "output_type": "stream",
     "text": [
      "0.29\n"
     ]
    }
   ],
   "source": [
    "from sklearn.metrics import mean_squared_error\n",
    "\n",
    "rmse = np.sqrt(mean_squared_error(test_y, result))\n",
    "\n",
    "print(f\"{rmse:.2f}\")"
   ]
  }
 ],
 "metadata": {
  "kernelspec": {
   "display_name": "Python 3",
   "language": "python",
   "name": "python3"
  },
  "language_info": {
   "codemirror_mode": {
    "name": "ipython",
    "version": 3
   },
   "file_extension": ".py",
   "mimetype": "text/x-python",
   "name": "python",
   "nbconvert_exporter": "python",
   "pygments_lexer": "ipython3",
   "version": "3.6.9"
  }
 },
 "nbformat": 4,
 "nbformat_minor": 4
}
