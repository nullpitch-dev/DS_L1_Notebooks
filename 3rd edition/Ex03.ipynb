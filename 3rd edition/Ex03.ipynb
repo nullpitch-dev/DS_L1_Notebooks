{
  "nbformat": 4,
  "nbformat_minor": 0,
  "metadata": {
    "colab": {
      "name": "Ex03.ipynb",
      "provenance": [],
      "collapsed_sections": [],
      "authorship_tag": "ABX9TyMzsYmg0NsADrcy70lk+CCU",
      "include_colab_link": true
    },
    "kernelspec": {
      "name": "python3",
      "display_name": "Python 3"
    }
  },
  "cells": [
    {
      "cell_type": "markdown",
      "metadata": {
        "id": "view-in-github",
        "colab_type": "text"
      },
      "source": [
        "<a href=\"https://colab.research.google.com/github/nullpitch-dev/DS_L1_Notebooks/blob/master/Ex03.ipynb\" target=\"_parent\"><img src=\"https://colab.research.google.com/assets/colab-badge.svg\" alt=\"Open In Colab\"/></a>"
      ]
    },
    {
      "cell_type": "code",
      "metadata": {
        "id": "8gi-Jrrxuoaq",
        "colab_type": "code",
        "colab": {}
      },
      "source": [
        "import pandas as pd\n",
        "import numpy as np\n",
        "import math\n",
        "\n",
        "url = \"https://raw.githubusercontent.com/nullpitch-dev/hj_public/master/Antibiotic_70K_patinets.csv\"\n",
        "data = pd.read_csv(url)"
      ],
      "execution_count": 1,
      "outputs": []
    },
    {
      "cell_type": "markdown",
      "metadata": {
        "id": "PwXU__NQw-Ek",
        "colab_type": "text"
      },
      "source": [
        "### [1]"
      ]
    },
    {
      "cell_type": "code",
      "metadata": {
        "id": "Lo5gca9kveCr",
        "colab_type": "code",
        "colab": {
          "base_uri": "https://localhost:8080/",
          "height": 300
        },
        "outputId": "3656dabc-9039-4496-b08d-90f6414c0863"
      },
      "source": [
        "data.describe()"
      ],
      "execution_count": 2,
      "outputs": [
        {
          "output_type": "execute_result",
          "data": {
            "text/html": [
              "<div>\n",
              "<style scoped>\n",
              "    .dataframe tbody tr th:only-of-type {\n",
              "        vertical-align: middle;\n",
              "    }\n",
              "\n",
              "    .dataframe tbody tr th {\n",
              "        vertical-align: top;\n",
              "    }\n",
              "\n",
              "    .dataframe thead th {\n",
              "        text-align: right;\n",
              "    }\n",
              "</style>\n",
              "<table border=\"1\" class=\"dataframe\">\n",
              "  <thead>\n",
              "    <tr style=\"text-align: right;\">\n",
              "      <th></th>\n",
              "      <th>ID</th>\n",
              "      <th>total_d</th>\n",
              "      <th>high_d</th>\n",
              "      <th>low_d</th>\n",
              "      <th>none_high_d</th>\n",
              "      <th>high_p</th>\n",
              "      <th>cdiff</th>\n",
              "      <th>age_5</th>\n",
              "    </tr>\n",
              "  </thead>\n",
              "  <tbody>\n",
              "    <tr>\n",
              "      <th>count</th>\n",
              "      <td>70000.000000</td>\n",
              "      <td>70000.000000</td>\n",
              "      <td>70000.000000</td>\n",
              "      <td>70000.000000</td>\n",
              "      <td>70000.000000</td>\n",
              "      <td>70000.000000</td>\n",
              "      <td>70000.000000</td>\n",
              "      <td>70000.00000</td>\n",
              "    </tr>\n",
              "    <tr>\n",
              "      <th>mean</th>\n",
              "      <td>35000.500000</td>\n",
              "      <td>8.049771</td>\n",
              "      <td>3.774386</td>\n",
              "      <td>6.131871</td>\n",
              "      <td>4.275386</td>\n",
              "      <td>42.254031</td>\n",
              "      <td>0.021471</td>\n",
              "      <td>2.74870</td>\n",
              "    </tr>\n",
              "    <tr>\n",
              "      <th>std</th>\n",
              "      <td>20207.403759</td>\n",
              "      <td>13.885638</td>\n",
              "      <td>8.795789</td>\n",
              "      <td>11.502711</td>\n",
              "      <td>7.950063</td>\n",
              "      <td>39.836986</td>\n",
              "      <td>0.144951</td>\n",
              "      <td>1.56102</td>\n",
              "    </tr>\n",
              "    <tr>\n",
              "      <th>min</th>\n",
              "      <td>1.000000</td>\n",
              "      <td>2.000000</td>\n",
              "      <td>0.000000</td>\n",
              "      <td>0.000000</td>\n",
              "      <td>0.000000</td>\n",
              "      <td>0.000000</td>\n",
              "      <td>0.000000</td>\n",
              "      <td>1.00000</td>\n",
              "    </tr>\n",
              "    <tr>\n",
              "      <th>25%</th>\n",
              "      <td>17500.750000</td>\n",
              "      <td>2.000000</td>\n",
              "      <td>0.000000</td>\n",
              "      <td>2.000000</td>\n",
              "      <td>1.000000</td>\n",
              "      <td>0.000000</td>\n",
              "      <td>0.000000</td>\n",
              "      <td>1.00000</td>\n",
              "    </tr>\n",
              "    <tr>\n",
              "      <th>50%</th>\n",
              "      <td>35000.500000</td>\n",
              "      <td>4.000000</td>\n",
              "      <td>2.000000</td>\n",
              "      <td>3.000000</td>\n",
              "      <td>2.000000</td>\n",
              "      <td>37.500000</td>\n",
              "      <td>0.000000</td>\n",
              "      <td>3.00000</td>\n",
              "    </tr>\n",
              "    <tr>\n",
              "      <th>75%</th>\n",
              "      <td>52500.250000</td>\n",
              "      <td>8.000000</td>\n",
              "      <td>4.000000</td>\n",
              "      <td>6.000000</td>\n",
              "      <td>4.000000</td>\n",
              "      <td>80.000000</td>\n",
              "      <td>0.000000</td>\n",
              "      <td>4.00000</td>\n",
              "    </tr>\n",
              "    <tr>\n",
              "      <th>max</th>\n",
              "      <td>70000.000000</td>\n",
              "      <td>526.000000</td>\n",
              "      <td>368.000000</td>\n",
              "      <td>397.000000</td>\n",
              "      <td>294.000000</td>\n",
              "      <td>100.000000</td>\n",
              "      <td>1.000000</td>\n",
              "      <td>7.00000</td>\n",
              "    </tr>\n",
              "  </tbody>\n",
              "</table>\n",
              "</div>"
            ],
            "text/plain": [
              "                 ID       total_d  ...         cdiff        age_5\n",
              "count  70000.000000  70000.000000  ...  70000.000000  70000.00000\n",
              "mean   35000.500000      8.049771  ...      0.021471      2.74870\n",
              "std    20207.403759     13.885638  ...      0.144951      1.56102\n",
              "min        1.000000      2.000000  ...      0.000000      1.00000\n",
              "25%    17500.750000      2.000000  ...      0.000000      1.00000\n",
              "50%    35000.500000      4.000000  ...      0.000000      3.00000\n",
              "75%    52500.250000      8.000000  ...      0.000000      4.00000\n",
              "max    70000.000000    526.000000  ...      1.000000      7.00000\n",
              "\n",
              "[8 rows x 8 columns]"
            ]
          },
          "metadata": {
            "tags": []
          },
          "execution_count": 2
        }
      ]
    },
    {
      "cell_type": "markdown",
      "metadata": {
        "id": "4wSm49JwxZCh",
        "colab_type": "text"
      },
      "source": [
        "### [2]"
      ]
    },
    {
      "cell_type": "code",
      "metadata": {
        "id": "6LzT_m1JxU1Y",
        "colab_type": "code",
        "colab": {
          "base_uri": "https://localhost:8080/",
          "height": 34
        },
        "outputId": "f95d6611-08c7-4a17-9db8-7c21b0e8ea8e"
      },
      "source": [
        "d2 = data.groupby(\"age_5\").agg({\"high_p\": \"mean\"}).sort_values(by=\"high_p\", ascending=False)\n",
        "\n",
        "print(f\"{d2.index[0]}\")"
      ],
      "execution_count": 3,
      "outputs": [
        {
          "output_type": "stream",
          "text": [
            "7\n"
          ],
          "name": "stdout"
        }
      ]
    },
    {
      "cell_type": "markdown",
      "metadata": {
        "id": "oE5onf2yzYYg",
        "colab_type": "text"
      },
      "source": [
        "### [3]"
      ]
    },
    {
      "cell_type": "code",
      "metadata": {
        "id": "w7818ENGyXvB",
        "colab_type": "code",
        "colab": {
          "base_uri": "https://localhost:8080/",
          "height": 34
        },
        "outputId": "1962f572-1d33-4726-f7f5-37c75d670649"
      },
      "source": [
        "print(f\"{data.isna().sum().sum()}\")"
      ],
      "execution_count": 4,
      "outputs": [
        {
          "output_type": "stream",
          "text": [
            "0\n"
          ],
          "name": "stdout"
        }
      ]
    },
    {
      "cell_type": "code",
      "metadata": {
        "id": "naXpHvWSzi73",
        "colab_type": "code",
        "colab": {
          "base_uri": "https://localhost:8080/",
          "height": 34
        },
        "outputId": "c0597c4c-d446-46a9-95d2-04373977f76a"
      },
      "source": [
        "upper = data[\"total_d\"].mean() + 3 * data[\"total_d\"].std()\n",
        "lower = data[\"total_d\"].mean() - 3 * data[\"total_d\"].std()\n",
        "d3 = data.assign(outlier=data[\"total_d\"].apply(lambda x: 1 if (x > upper) | (x < lower) else 0))\n",
        "\n",
        "print(f\"{d3[d3['outlier'] >= 1]['ID'].nunique()}\")"
      ],
      "execution_count": 5,
      "outputs": [
        {
          "output_type": "stream",
          "text": [
            "1258\n"
          ],
          "name": "stdout"
        }
      ]
    },
    {
      "cell_type": "markdown",
      "metadata": {
        "id": "hp4QrY6r2dzt",
        "colab_type": "text"
      },
      "source": [
        "### [4]"
      ]
    },
    {
      "cell_type": "code",
      "metadata": {
        "id": "JyQvAGJf2f6V",
        "colab_type": "code",
        "colab": {
          "base_uri": "https://localhost:8080/",
          "height": 34
        },
        "outputId": "0f1760f9-d8e3-42f1-96f6-89090c2ada1a"
      },
      "source": [
        "d4 = data[['age_5', 'high_p']].corr(method='pearson')\n",
        "\n",
        "print(f\"{math.floor(d4.iloc[0, 1] * 100) / 100}\")"
      ],
      "execution_count": 6,
      "outputs": [
        {
          "output_type": "stream",
          "text": [
            "0.12\n"
          ],
          "name": "stdout"
        }
      ]
    },
    {
      "cell_type": "markdown",
      "metadata": {
        "id": "bNYgrcFI3nEL",
        "colab_type": "text"
      },
      "source": [
        "### [5]"
      ]
    },
    {
      "cell_type": "code",
      "metadata": {
        "id": "A9Be3lE-3bhH",
        "colab_type": "code",
        "colab": {
          "base_uri": "https://localhost:8080/",
          "height": 34
        },
        "outputId": "88f5d9e4-dd82-4a4b-8512-e0edbd9e462b"
      },
      "source": [
        "cd_y = data[data['cdiff'] == 1]\n",
        "cd_n = data[data['cdiff'] == 0]\n",
        "\n",
        "print(f\"{math.floor(abs(cd_y['high_p'].mean() - cd_n['high_p'].mean()) * 100) / 100}\")"
      ],
      "execution_count": 7,
      "outputs": [
        {
          "output_type": "stream",
          "text": [
            "4.79\n"
          ],
          "name": "stdout"
        }
      ]
    },
    {
      "cell_type": "code",
      "metadata": {
        "id": "aEEwaGzGDZTA",
        "colab_type": "code",
        "colab": {
          "base_uri": "https://localhost:8080/",
          "height": 52
        },
        "outputId": "48b2efbc-b966-4f61-daa8-cdcb63220e45"
      },
      "source": [
        "from scipy.stats import ttest_ind\n",
        "\n",
        "p_val, t_val = ttest_ind(cd_y['high_p'], cd_n['high_p'])\n",
        "\n",
        "print(f\"p : {p_val}, t : {t_val}\")\n",
        "print(\"t-value가 0.05보다 작아 귀무가설을 기각, 즉 평균이 같다고 할 수 없다\")"
      ],
      "execution_count": 8,
      "outputs": [
        {
          "output_type": "stream",
          "text": [
            "p : 4.613035361614422, t : 3.975323449530875e-06\n",
            "t-value가 0.05보다 작아 귀무가설을 기각, 즉 평균이 같다고 할 수 없다\n"
          ],
          "name": "stdout"
        }
      ]
    },
    {
      "cell_type": "markdown",
      "metadata": {
        "id": "ipp52CKizEbk",
        "colab_type": "text"
      },
      "source": [
        "### [6]"
      ]
    },
    {
      "cell_type": "code",
      "metadata": {
        "id": "y3MGP65WzeX7",
        "colab_type": "code",
        "colab": {
          "base_uri": "https://localhost:8080/",
          "height": 34
        },
        "outputId": "49ccacbc-fcd3-4845-8fc7-7373b7f4d9ec"
      },
      "source": [
        "X_cols = ['total_d', 'high_d', 'low_d', 'high_p', 'age_5']\n",
        "y_var = 'cdiff'\n",
        "\n",
        "train_X = data[X_cols]\n",
        "train_y = data[y_var]\n",
        "\n",
        "from sklearn.linear_model import LogisticRegression\n",
        "\n",
        "lr = LogisticRegression(C=100000, random_state=1234, penalty='l2', solver='newton-cg')\n",
        "model = lr.fit(train_X, train_y)\n",
        "\n",
        "idx = [i for i, coef in enumerate(model.coef_[0]) if coef < 0]\n",
        "minus_val = \", \".join([X_cols[i] for i in idx])\n",
        "\n",
        "print(f\"{minus_val}\")"
      ],
      "execution_count": 34,
      "outputs": [
        {
          "output_type": "stream",
          "text": [
            "high_d, low_d\n"
          ],
          "name": "stdout"
        }
      ]
    }
  ]
}
