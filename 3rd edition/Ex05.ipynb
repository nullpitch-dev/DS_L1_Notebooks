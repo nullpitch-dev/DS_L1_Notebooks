{
 "cells": [
  {
   "cell_type": "code",
   "execution_count": 1,
   "metadata": {},
   "outputs": [],
   "source": [
    "import pandas as pd\n",
    "import numpy as np\n",
    "import math"
   ]
  },
  {
   "cell_type": "code",
   "execution_count": 2,
   "metadata": {},
   "outputs": [],
   "source": [
    "url_ecommerce = 'https://raw.githubusercontent.com/nullpitch-dev/hj_public/master/ecommerce_transaction.csv'\n",
    "data_ecommerce = pd.read_csv(url_ecommerce)"
   ]
  },
  {
   "cell_type": "markdown",
   "metadata": {},
   "source": [
    "### [1]"
   ]
  },
  {
   "cell_type": "code",
   "execution_count": 3,
   "metadata": {},
   "outputs": [],
   "source": [
    "d1 = data_ecommerce\n",
    "d1['review_creation_date'] = pd.to_datetime(d1['review_creation_date'])"
   ]
  },
  {
   "cell_type": "code",
   "execution_count": 4,
   "metadata": {},
   "outputs": [
    {
     "name": "stdout",
     "output_type": "stream",
     "text": [
      "95\n"
     ]
    }
   ],
   "source": [
    "print(f\"{d1[d1['review_creation_date'] < '2017-01-01']['id'].nunique()}\")"
   ]
  },
  {
   "cell_type": "code",
   "execution_count": 5,
   "metadata": {
    "slideshow": {
     "slide_type": "fragment"
    }
   },
   "outputs": [],
   "source": [
    "base = d1[d1['review_creation_date'] != '2000-01-01']\n",
    "base = base.assign(review_creation_date=base['review_creation_date'].apply(\n",
    "    lambda x: x if x.year >= 2017 else pd.to_datetime(str(x.year + 7) +\n",
    "                                                      str(x.month).zfill(2) +\n",
    "                                                      str(x.day).zfill(2))))"
   ]
  },
  {
   "cell_type": "markdown",
   "metadata": {},
   "source": [
    "### [2]"
   ]
  },
  {
   "cell_type": "code",
   "execution_count": 6,
   "metadata": {},
   "outputs": [],
   "source": [
    "base['order_timestamp'] = pd.to_datetime(base['order_timestamp'])\n",
    "base['order_approved_time'] = pd.to_datetime(base['order_approved_time'])"
   ]
  },
  {
   "cell_type": "code",
   "execution_count": 7,
   "metadata": {},
   "outputs": [],
   "source": [
    "base = base.assign(gap=base.apply(lambda x:\n",
    "            (x['order_approved_time'] - x['order_timestamp']).days * 24 * 3600 +\n",
    "            (x['order_approved_time'] - x['order_timestamp']).seconds, axis=1))\n",
    "base = base.assign(pay=base.apply(lambda x:\n",
    "                             'banking' if x['gap'] >= 3600 else 'card', axis=1))"
   ]
  },
  {
   "cell_type": "code",
   "execution_count": 8,
   "metadata": {},
   "outputs": [
    {
     "name": "stdout",
     "output_type": "stream",
     "text": [
      "36.1\n"
     ]
    }
   ],
   "source": [
    "cnt = base.groupby('pay').agg({'id': 'count'})\n",
    "banking = cnt.loc['banking', 'id']\n",
    "card = cnt.loc['card', 'id']\n",
    "\n",
    "print(f\"{(banking / (banking + card) * 100):.1f}\")"
   ]
  },
  {
   "cell_type": "markdown",
   "metadata": {},
   "source": [
    "### [3]"
   ]
  },
  {
   "cell_type": "code",
   "execution_count": 18,
   "metadata": {},
   "outputs": [],
   "source": [
    "base = base.assign(unit_price=base['order_price'] / base['order_qty'])"
   ]
  },
  {
   "cell_type": "code",
   "execution_count": 19,
   "metadata": {},
   "outputs": [],
   "source": [
    "def price_range(p):\n",
    "    if p < 50:\n",
    "        return 'R1'\n",
    "    elif p < 100:\n",
    "        return 'R2'\n",
    "    elif p < 500:\n",
    "        return 'R3'\n",
    "    elif p < 5000:\n",
    "        return 'R4'\n",
    "    elif p >= 5000:\n",
    "        return 'ERROR'"
   ]
  },
  {
   "cell_type": "code",
   "execution_count": 20,
   "metadata": {
    "slideshow": {
     "slide_type": "fragment"
    }
   },
   "outputs": [],
   "source": [
    "base = base.assign(order_range=base['order_price'].apply(\n",
    "                                                    lambda x: price_range(x)))\n",
    "base = base.assign(unit_range=base['unit_price'].apply(\n",
    "                                                    lambda x: price_range(x)))"
   ]
  },
  {
   "cell_type": "code",
   "execution_count": 21,
   "metadata": {},
   "outputs": [],
   "source": [
    "from statsmodels.formula.api import ols\n",
    "from statsmodels.stats.anova import anova_lm\n",
    "\n",
    "formula_order = 'review_score ~ C(order_range)'\n",
    "model_order = ols(formula=formula_order, data=base).fit()\n",
    "result_order = anova_lm(model_order)\n",
    "\n",
    "formula_unit = 'review_score ~ C(unit_range)'\n",
    "model_unit = ols(formula=formula_unit, data=base).fit()\n",
    "result_unit = anova_lm(model_unit)"
   ]
  },
  {
   "cell_type": "code",
   "execution_count": 30,
   "metadata": {},
   "outputs": [
    {
     "name": "stdout",
     "output_type": "stream",
     "text": [
      "0.66\n"
     ]
    }
   ],
   "source": [
    "f_order = result_order.loc['C(order_range)', 'F']\n",
    "f_unit = result_unit.loc['C(unit_range)', 'F']\n",
    "\n",
    "print(f\"{max(f_order, f_unit):.2}\")"
   ]
  },
  {
   "cell_type": "code",
   "execution_count": 37,
   "metadata": {},
   "outputs": [
    {
     "name": "stdout",
     "output_type": "stream",
     "text": [
      "Multiple Comparison of Means - Tukey HSD,FWER=0.05\n",
      "============================================\n",
      "group1 group2 meandiff  lower  upper  reject\n",
      "--------------------------------------------\n",
      "  R1     R2   -0.0549  -0.2377 0.128  False \n",
      "  R1     R3   -0.0701  -0.2493 0.1091 False \n",
      "  R1     R4   -0.1908  -0.6075 0.226  False \n",
      "  R2     R3   -0.0152  -0.1917 0.1613 False \n",
      "  R2     R4   -0.1359  -0.5515 0.2797 False \n",
      "  R3     R4   -0.1207  -0.5347 0.2933 False \n",
      "--------------------------------------------\n",
      "Multiple Comparison of Means - Tukey HSD,FWER=0.05\n",
      "============================================\n",
      "group1 group2 meandiff  lower  upper  reject\n",
      "--------------------------------------------\n",
      "  R1     R2    0.0099  -0.1694 0.1892 False \n",
      "  R1     R3    0.0314  -0.1471 0.2099 False \n",
      "  R1     R4   -0.0838  -0.5223 0.3547 False \n",
      "  R2     R3    0.0215  -0.1575 0.2006 False \n",
      "  R2     R4   -0.0937  -0.5325 0.345  False \n",
      "  R3     R4   -0.1152  -0.5537 0.3232 False \n",
      "--------------------------------------------\n"
     ]
    }
   ],
   "source": [
    "from statsmodels.stats.multicomp import MultiComparison\n",
    "\n",
    "comparison_order = MultiComparison(base['review_score'], base['order_range'])\n",
    "print(comparison_order.tukeyhsd())\n",
    "\n",
    "comparison_unit = MultiComparison(base['review_score'], base['unit_range'])\n",
    "print(comparison_unit.tukeyhsd())"
   ]
  },
  {
   "cell_type": "markdown",
   "metadata": {},
   "source": [
    "### [4]"
   ]
  },
  {
   "cell_type": "code",
   "execution_count": 40,
   "metadata": {},
   "outputs": [],
   "source": [
    "base['order_delivered_customer_date'] = pd.to_datetime(\n",
    "                                          base['order_delivered_customer_date'])"
   ]
  },
  {
   "cell_type": "code",
   "execution_count": 41,
   "metadata": {},
   "outputs": [],
   "source": [
    "base = base.assign(leadtime=(base['order_delivered_customer_date'] -\n",
    "                             base['order_approved_time']).dt.days +\n",
    "                            (base['order_delivered_customer_date'] -\n",
    "                             base['order_approved_time']).dt.seconds / 3600 / 24\n",
    "                  )"
   ]
  },
  {
   "cell_type": "code",
   "execution_count": 48,
   "metadata": {},
   "outputs": [],
   "source": [
    "base = base.assign(wd=base['order_approved_time'].apply(lambda x:\n",
    "                                 'weekends' if x.dayofweek >= 5 else 'weekdays'))"
   ]
  },
  {
   "cell_type": "code",
   "execution_count": 71,
   "metadata": {},
   "outputs": [],
   "source": [
    "d4 = base[base['order_status'] == 'delivered']\n",
    "\n",
    "d4_wd = d4[d4['wd'] == 'weekdays']\n",
    "d4_we = d4[d4['wd'] == 'weekends']\n",
    "\n",
    "train_X_wd = d4_wd[['order_freight']]\n",
    "train_y_wd = d4_wd['leadtime']\n",
    "train_X_we = d4_we[['order_freight']]\n",
    "train_y_we = d4_we['leadtime']"
   ]
  },
  {
   "cell_type": "code",
   "execution_count": 72,
   "metadata": {},
   "outputs": [],
   "source": [
    "from sklearn.linear_model import LinearRegression\n",
    "\n",
    "model_wd = LinearRegression().fit(train_X_wd, train_y_wd)\n",
    "model_we = LinearRegression().fit(train_X_we, train_y_we)"
   ]
  },
  {
   "cell_type": "code",
   "execution_count": 78,
   "metadata": {},
   "outputs": [
    {
     "name": "stdout",
     "output_type": "stream",
     "text": [
      "0.0097\n"
     ]
    }
   ],
   "source": [
    "print(f\"{abs(model_wd.coef_[0] - model_we.coef_[0]):.4f}\")"
   ]
  }
 ],
 "metadata": {
  "kernelspec": {
   "display_name": "Python 3.6",
   "language": "python",
   "name": "python36"
  },
  "language_info": {
   "codemirror_mode": {
    "name": "ipython",
    "version": 3
   },
   "file_extension": ".py",
   "mimetype": "text/x-python",
   "name": "python",
   "nbconvert_exporter": "python",
   "pygments_lexer": "ipython3",
   "version": "3.6.6"
  }
 },
 "nbformat": 4,
 "nbformat_minor": 2
}
