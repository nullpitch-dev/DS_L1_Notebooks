{
 "cells": [
  {
   "cell_type": "code",
   "execution_count": 1,
   "metadata": {},
   "outputs": [],
   "source": [
    "import pandas as pd\n",
    "import numpy as np\n",
    "import math"
   ]
  },
  {
   "cell_type": "code",
   "execution_count": 2,
   "metadata": {},
   "outputs": [],
   "source": [
    "url_1 = 'https://raw.githubusercontent.com/nullpitch-dev/hj_public/master/14-1.csv'\n",
    "url_2 = 'https://raw.githubusercontent.com/nullpitch-dev/hj_public/master/14-2.csv'\n",
    "url_3 = 'https://raw.githubusercontent.com/nullpitch-dev/hj_public/master/14-3.csv'\n",
    "url_4 = 'https://raw.githubusercontent.com/nullpitch-dev/hj_public/master/14-4.csv'\n",
    "url_5 = 'https://raw.githubusercontent.com/nullpitch-dev/hj_public/master/14-5.csv'\n",
    "\n",
    "data_1 = pd.read_csv(url_1)\n",
    "data_2 = pd.read_csv(url_2)\n",
    "data_3 = pd.read_csv(url_3)\n",
    "data_4 = pd.read_csv(url_4)\n",
    "data_5 = pd.read_csv(url_5)\n",
    "\n",
    "data = data_1\n",
    "data = data.append(data_2)\n",
    "data = data.append(data_3)\n",
    "data = data.append(data_4)\n",
    "data = data.append(data_5)\n",
    "\n",
    "data = data.reset_index()\n",
    "data = data.drop(labels=['index'], axis=1)"
   ]
  },
  {
   "cell_type": "markdown",
   "metadata": {},
   "source": [
    "### [1]"
   ]
  },
  {
   "cell_type": "code",
   "execution_count": 60,
   "metadata": {},
   "outputs": [],
   "source": [
    "d1 = data[~(data.Class.isna()) | (data.Class.isna() & (data.Amount > 200))]"
   ]
  },
  {
   "cell_type": "code",
   "execution_count": 61,
   "metadata": {},
   "outputs": [],
   "source": [
    "from sklearn.neighbors import KNeighborsClassifier\n",
    "\n",
    "X_var = d1.columns[1:-2]\n",
    "train = d1[~d1.Class.isna()]\n",
    "test = d1[d1.Class.isna()]\n",
    "\n",
    "knn = KNeighborsClassifier(n_neighbors=5).fit(train[X_var], train.Class)\n",
    "pred = knn.predict_proba(test[X_var])\n",
    "pred = pd.DataFrame(pred, columns=['neg', 'pos'])"
   ]
  },
  {
   "cell_type": "code",
   "execution_count": 62,
   "metadata": {},
   "outputs": [],
   "source": [
    "pred = pred.assign(esti=pred.pos.apply(lambda x: 1 if x > 0 else 0))"
   ]
  },
  {
   "cell_type": "code",
   "execution_count": 63,
   "metadata": {},
   "outputs": [],
   "source": [
    "test = test.reset_index()\n",
    "test = test.assign(Class=pred.esti)\n",
    "test = test.set_index(keys='index')"
   ]
  },
  {
   "cell_type": "code",
   "execution_count": 67,
   "metadata": {},
   "outputs": [],
   "source": [
    "d1 = pd.concat([train, test])"
   ]
  },
  {
   "cell_type": "code",
   "execution_count": 72,
   "metadata": {},
   "outputs": [
    {
     "name": "stdout",
     "output_type": "stream",
     "text": [
      "25691\n"
     ]
    }
   ],
   "source": [
    "print(f\"{d1[d1.Class == 1].Amount.max() - d1[d1.Class == 1].Amount.min():.0f}\")"
   ]
  },
  {
   "cell_type": "markdown",
   "metadata": {},
   "source": [
    "### [2]"
   ]
  },
  {
   "cell_type": "code",
   "execution_count": 79,
   "metadata": {},
   "outputs": [
    {
     "name": "stdout",
     "output_type": "stream",
     "text": [
      "22\n"
     ]
    }
   ],
   "source": [
    "from scipy.stats import ttest_ind\n",
    "\n",
    "class1 = d1[d1.Class == 1].V2\n",
    "class2 = d1[d1.Class == 0].V2\n",
    "\n",
    "t_val, p_val = ttest_ind(class1, class2, equal_var=False)\n",
    "\n",
    "print(f\"{math.floor(abs(t_val)):.0f}\")"
   ]
  },
  {
   "cell_type": "markdown",
   "metadata": {},
   "source": [
    "### [3]"
   ]
  },
  {
   "cell_type": "code",
   "execution_count": 90,
   "metadata": {},
   "outputs": [],
   "source": [
    "from sklearn.linear_model import LinearRegression\n",
    "\n",
    "train0 = d1[d1.Class == 0]\n",
    "train1 = d1[d1.Class == 1]\n",
    "\n",
    "model0 = LinearRegression().fit(train0[X_var], train0.Amount)\n",
    "model1 = LinearRegression().fit(train1[X_var], train1.Amount)"
   ]
  },
  {
   "cell_type": "code",
   "execution_count": 97,
   "metadata": {},
   "outputs": [],
   "source": [
    "r_squared = model1.score(train1[X_var], train1.Amount)"
   ]
  },
  {
   "cell_type": "code",
   "execution_count": 98,
   "metadata": {},
   "outputs": [
    {
     "name": "stdout",
     "output_type": "stream",
     "text": [
      "0.93\n"
     ]
    }
   ],
   "source": [
    "print(f\"{math.floor(r_squared * 100) / 100}\")"
   ]
  },
  {
   "cell_type": "markdown",
   "metadata": {},
   "source": [
    "### [4]"
   ]
  },
  {
   "cell_type": "code",
   "execution_count": 120,
   "metadata": {},
   "outputs": [],
   "source": [
    "train = d1[d1.Time <= 100000]\n",
    "X_var = train.columns[1:-1]"
   ]
  },
  {
   "cell_type": "code",
   "execution_count": 121,
   "metadata": {},
   "outputs": [],
   "source": [
    "from sklearn.linear_model import LogisticRegression\n",
    "\n",
    "model = LogisticRegression(penalty='l2', C=100000, random_state=1234,\n",
    "                           solver='newton-cg').fit(train[X_var], train.Class)"
   ]
  },
  {
   "cell_type": "code",
   "execution_count": 122,
   "metadata": {},
   "outputs": [],
   "source": [
    "test = d1[d1.Time > 100000]"
   ]
  },
  {
   "cell_type": "code",
   "execution_count": 123,
   "metadata": {},
   "outputs": [],
   "source": [
    "pred = model.predict_proba(test[X_var])\n",
    "pred = pd.DataFrame(pred, columns=['neg', 'pos'])\n",
    "pred = pred.assign(esti=pred.pos.apply(lambda x: 1 if x >= 0.4 else 0))"
   ]
  },
  {
   "cell_type": "code",
   "execution_count": 124,
   "metadata": {},
   "outputs": [],
   "source": [
    "test = test.reset_index()\n",
    "pred = pd.merge(pred, test.Class, left_index=True, right_index=True)\n",
    "pred = pred.assign(accu=(pred.esti == pred.Class) * 1)\n",
    "accuracy = pred.accu.sum() / pred.accu.count()"
   ]
  },
  {
   "cell_type": "code",
   "execution_count": 125,
   "metadata": {},
   "outputs": [
    {
     "name": "stdout",
     "output_type": "stream",
     "text": [
      "0.815\n"
     ]
    }
   ],
   "source": [
    "print(f\"{math.floor(accuracy * 1000) / 1000}\")"
   ]
  },
  {
   "cell_type": "code",
   "execution_count": null,
   "metadata": {},
   "outputs": [],
   "source": []
  }
 ],
 "metadata": {
  "kernelspec": {
   "display_name": "Python 3",
   "language": "python",
   "name": "python3"
  },
  "language_info": {
   "codemirror_mode": {
    "name": "ipython",
    "version": 3
   },
   "file_extension": ".py",
   "mimetype": "text/x-python",
   "name": "python",
   "nbconvert_exporter": "python",
   "pygments_lexer": "ipython3",
   "version": "3.6.9"
  }
 },
 "nbformat": 4,
 "nbformat_minor": 4
}
