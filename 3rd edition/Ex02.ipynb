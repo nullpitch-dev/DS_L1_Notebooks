{
  "nbformat": 4,
  "nbformat_minor": 0,
  "metadata": {
    "kernelspec": {
      "name": "python36",
      "display_name": "Python 3.6",
      "language": "python"
    },
    "language_info": {
      "mimetype": "text/x-python",
      "nbconvert_exporter": "python",
      "name": "python",
      "pygments_lexer": "ipython3",
      "version": "3.6.6",
      "file_extension": ".py",
      "codemirror_mode": {
        "version": 3,
        "name": "ipython"
      }
    },
    "colab": {
      "name": "Ex02.ipynb",
      "provenance": [],
      "collapsed_sections": [],
      "include_colab_link": true
    }
  },
  "cells": [
    {
      "cell_type": "markdown",
      "metadata": {
        "id": "view-in-github",
        "colab_type": "text"
      },
      "source": [
        "<a href=\"https://colab.research.google.com/github/nullpitch-dev/DS_L1_Notebooks/blob/master/Ex02.ipynb\" target=\"_parent\"><img src=\"https://colab.research.google.com/assets/colab-badge.svg\" alt=\"Open In Colab\"/></a>"
      ]
    },
    {
      "cell_type": "code",
      "metadata": {
        "trusted": true,
        "id": "8e7RmuUS_gYm",
        "colab_type": "code",
        "colab": {}
      },
      "source": [
        "import pandas as pd\n",
        "import numpy as np\n",
        "import math\n",
        "\n",
        "url_pur = 'https://raw.githubusercontent.com/nullpitch-dev/hj_public/master/ds_purchase_log.csv'\n",
        "url_cus = 'https://raw.githubusercontent.com/nullpitch-dev/hj_public/master/ds_customer_mst.csv'\n",
        "url_pro = 'https://raw.githubusercontent.com/nullpitch-dev/hj_public/master/ds_product_mst.csv'\n",
        "\n",
        "data_pur = pd.read_csv(url_pur)\n",
        "data_cus = pd.read_csv(url_cus)\n",
        "data_pro = pd.read_csv(url_pro)"
      ],
      "execution_count": 1,
      "outputs": []
    },
    {
      "cell_type": "code",
      "metadata": {
        "trusted": true,
        "id": "Y3eRWx69_gYz",
        "colab_type": "code",
        "colab": {}
      },
      "source": [
        "# 회원별 연령대 정리\n",
        "cus_group = data_cus.groupby([\"cust_no\", \"update_dt\"]).agg({\"age_gender\": \"max\"}).reset_index()\n",
        "cus_group = cus_group.sort_values(by=[\"cust_no\", \"update_dt\"], ascending=[True, False])\n",
        "cus_group = cus_group.drop_duplicates(subset=[\"cust_no\"], keep=\"first\")\n",
        "\n",
        "# 구매이력에 연령대 추가\n",
        "base = pd.merge(data_pur, cus_group[[\"cust_no\", \"age_gender\"]], how=\"left\", left_on=\"cust_no\", right_on=\"cust_no\")\n",
        "\n",
        "# 구매이력에 카테고리와 구매금액 추가\n",
        "base = pd.merge(base, data_pro, how=\"left\", on=\"item_no\")"
      ],
      "execution_count": 2,
      "outputs": []
    },
    {
      "cell_type": "markdown",
      "metadata": {
        "id": "zOL-EgiW_gY-",
        "colab_type": "text"
      },
      "source": [
        "### [1]"
      ]
    },
    {
      "cell_type": "code",
      "metadata": {
        "trusted": true,
        "id": "ytue_XeI_gZA",
        "colab_type": "code",
        "colab": {}
      },
      "source": [
        "# 연령과 성별을 분리\n",
        "base = base.assign(age=base.apply(lambda x: x[\"age_gender\"].split()[0], axis=1))\n",
        "base = base.assign(gender=base.apply(lambda x: x[\"age_gender\"].split()[1], axis=1))"
      ],
      "execution_count": 3,
      "outputs": []
    },
    {
      "cell_type": "code",
      "metadata": {
        "trusted": true,
        "id": "hGz0H31y_gZH",
        "colab_type": "code",
        "colab": {}
      },
      "source": [
        "# 성별과 대카테고리별 매출합과 회원수 계산\n",
        "data1 = base.groupby([\"gender\", \"item_ctg1\"]).agg({\"item_amt\": \"sum\", \"cust_no\": \"nunique\"})\n",
        "data1 = data1.assign(amt_per_cust=data1[\"item_amt\"] / data1[\"cust_no\"])  # 인당 매출액 계산\n",
        "data1 = data1.sort_values(by=[\"gender\", \"amt_per_cust\"], ascending=[False, False])  # 성별별 인당 매출액 역순으로 Sorting"
      ],
      "execution_count": 4,
      "outputs": []
    },
    {
      "cell_type": "code",
      "metadata": {
        "trusted": true,
        "id": "gs1LxW2v_gZP",
        "colab_type": "code",
        "colab": {}
      },
      "source": [
        "mail = data1.loc[\"M\"][\"amt_per_cust\"].index[1]\n",
        "femail = data1.loc[\"F\"][\"amt_per_cust\"].index[1]"
      ],
      "execution_count": 5,
      "outputs": []
    },
    {
      "cell_type": "code",
      "metadata": {
        "trusted": true,
        "id": "19x8dGhq_gZW",
        "colab_type": "code",
        "colab": {
          "base_uri": "https://localhost:8080/",
          "height": 34
        },
        "outputId": "9a490b47-b4f4-4f03-e2ce-64897afec33c"
      },
      "source": [
        "print(f\"{mail}, {femail}\")"
      ],
      "execution_count": 6,
      "outputs": [
        {
          "output_type": "stream",
          "text": [
            "의류, 화장품\n"
          ],
          "name": "stdout"
        }
      ]
    },
    {
      "cell_type": "markdown",
      "metadata": {
        "id": "wix7ffyx_gZd",
        "colab_type": "text"
      },
      "source": [
        "### [2]"
      ]
    },
    {
      "cell_type": "code",
      "metadata": {
        "trusted": true,
        "id": "Yf7VZago_gZe",
        "colab_type": "code",
        "colab": {}
      },
      "source": [
        "# 회원별 매출액 계산\n",
        "data2 = base.groupby(\"cust_no\").agg({\"item_amt\": \"sum\"})\n",
        "# Ranking\n",
        "data2 = data2.assign(rank=data2.rank(ascending=False, method=\"min\"))"
      ],
      "execution_count": 7,
      "outputs": []
    },
    {
      "cell_type": "code",
      "metadata": {
        "trusted": true,
        "id": "hxF4P0kJ_gZi",
        "colab_type": "code",
        "colab": {}
      },
      "source": [
        "# Class 정의\n",
        "upper = data2.shape[0] * 0.2\n",
        "lower = data2.shape[0] * 0.8\n",
        "data2 = data2.assign(rankClass=data2[\"rank\"].apply(lambda x: \"top\" if x <= upper else (\"bottom\" if x >= lower else \"middle\")))"
      ],
      "execution_count": 8,
      "outputs": []
    },
    {
      "cell_type": "code",
      "metadata": {
        "trusted": true,
        "id": "tfpmZvqR_gZn",
        "colab_type": "code",
        "colab": {}
      },
      "source": [
        "# 매출 비율 계산\n",
        "revenue = data2.groupby(\"rankClass\").agg({\"item_amt\": \"sum\"})\n",
        "top = revenue.loc[\"top\"][0]\n",
        "middle = revenue.loc[\"middle\"][0]\n",
        "bottom = revenue.loc[\"bottom\"][0]"
      ],
      "execution_count": 9,
      "outputs": []
    },
    {
      "cell_type": "code",
      "metadata": {
        "trusted": true,
        "id": "k9V6QjpV_gZr",
        "colab_type": "code",
        "colab": {
          "base_uri": "https://localhost:8080/",
          "height": 34
        },
        "outputId": "72774e8f-394d-45e5-cbba-40bba664e774"
      },
      "source": [
        "top_total = top / (top + middle + bottom)\n",
        "top_bottom = top / bottom\n",
        "\n",
        "print(f\"{math.floor(top_total * 100)}, {math.floor(top_bottom)}\")"
      ],
      "execution_count": 10,
      "outputs": [
        {
          "output_type": "stream",
          "text": [
            "49, 9\n"
          ],
          "name": "stdout"
        }
      ]
    },
    {
      "cell_type": "markdown",
      "metadata": {
        "id": "J5IYBvdj_gZw",
        "colab_type": "text"
      },
      "source": [
        "### [3]"
      ]
    },
    {
      "cell_type": "code",
      "metadata": {
        "trusted": true,
        "id": "lnKVwDJm_gZx",
        "colab_type": "code",
        "colab": {}
      },
      "source": [
        "data3 = base.groupby([\"cust_no\", \"age\"]).agg({\"item_amt\": \"sum\"}).reset_index()"
      ],
      "execution_count": 11,
      "outputs": []
    },
    {
      "cell_type": "code",
      "metadata": {
        "trusted": true,
        "id": "ROa9vGYf_gZ2",
        "colab_type": "code",
        "colab": {}
      },
      "source": [
        "data3 = data3.assign(age_cls=data3[\"age\"].apply(lambda x: \"G1\" if x == \"30대\" else (\"G2\" if x == \"40대\" else \"G3\")))"
      ],
      "execution_count": 12,
      "outputs": []
    },
    {
      "cell_type": "code",
      "metadata": {
        "trusted": true,
        "id": "FyNtMfKX_gZ6",
        "colab_type": "code",
        "colab": {
          "base_uri": "https://localhost:8080/",
          "height": 69
        },
        "outputId": "4dc74daa-eec9-430c-cc59-592f868510b7"
      },
      "source": [
        "from statsmodels.formula.api import ols\n",
        "from statsmodels.stats.anova import anova_lm\n",
        "from statsmodels.stats.multicomp import MultiComparison\n",
        "\n",
        "result = ols(formula=\"item_amt ~ C(age_cls)\", data=data3).fit()\n",
        "anova_table = anova_lm(result)\n",
        "f_val = anova_table[\"F\"][0]\n",
        "\n",
        "print(f\"{math.floor(f_val)}\")"
      ],
      "execution_count": 13,
      "outputs": [
        {
          "output_type": "stream",
          "text": [
            "/usr/local/lib/python3.6/dist-packages/statsmodels/tools/_testing.py:19: FutureWarning: pandas.util.testing is deprecated. Use the functions in the public API at pandas.testing instead.\n",
            "  import pandas.util.testing as tm\n"
          ],
          "name": "stderr"
        },
        {
          "output_type": "stream",
          "text": [
            "11\n"
          ],
          "name": "stdout"
        }
      ]
    },
    {
      "cell_type": "code",
      "metadata": {
        "trusted": true,
        "id": "YHXuzQw7_gaA",
        "colab_type": "code",
        "colab": {
          "base_uri": "https://localhost:8080/",
          "height": 156
        },
        "outputId": "a668ba0b-0076-4470-fc0b-efaba87ce2bc"
      },
      "source": [
        "# 사후검정\n",
        "comparison = MultiComparison(data=data3[\"item_amt\"], groups=data3[\"age_cls\"])\n",
        "print(comparison.tukeyhsd())"
      ],
      "execution_count": 14,
      "outputs": [
        {
          "output_type": "stream",
          "text": [
            "    Multiple Comparison of Means - Tukey HSD, FWER=0.05     \n",
            "============================================================\n",
            "group1 group2  meandiff  p-adj    lower      upper    reject\n",
            "------------------------------------------------------------\n",
            "    G1     G2  8461.1735 0.001   4117.8207 12804.5262   True\n",
            "    G1     G3   717.8831   0.9  -3454.2396  4890.0058  False\n",
            "    G2     G3 -7743.2904 0.001 -12467.8902 -3018.6906   True\n",
            "------------------------------------------------------------\n"
          ],
          "name": "stdout"
        }
      ]
    },
    {
      "cell_type": "markdown",
      "metadata": {
        "id": "ma0XIXkY_gaE",
        "colab_type": "text"
      },
      "source": [
        "* G2 - G1 = 8461 (G2의 평균 > G1의 평균)\n",
        "* G3 - G1 = 717 (G3의 평균 > G1의 평균)\n",
        "* G3 - G2 = -7743 (G2의 평균 > G3의 평균)\n",
        "* ==> G2의 평균 > G3의 평균 > G1의 평균\n",
        "\n",
        "* G1의 평균과 G2의 평균이 다르다고 할 수 없다 <== Reject\n",
        "* G1의 평균과 G3의 평균이 다르다고 할 수 없다 <== Fail to reject\n",
        "* G2의 평균과 G3의 평균이 다르다고 할 수 없다 <== Reject\n",
        "\n",
        "### G2 >(다르다) G3 =(같다) G1"
      ]
    },
    {
      "cell_type": "markdown",
      "metadata": {
        "id": "cdiwVOWB_gaF",
        "colab_type": "text"
      },
      "source": [
        "### [4]"
      ]
    },
    {
      "cell_type": "code",
      "metadata": {
        "id": "D3dyiKTyIHQW",
        "colab_type": "code",
        "colab": {
          "base_uri": "https://localhost:8080/",
          "height": 34
        },
        "outputId": "37a49da7-7e56-41c6-adf8-f8cd2e4f0f0c"
      },
      "source": [
        "# data4 = base.groupby(\"cust_no\").agg({\"item_ctg2\": lambda x: list(set(x))})\n",
        "# data4 = data4.assign(cnt=data4[\"item_ctg2\"].apply(lambda x: len(x)))\n",
        "# data4 = data4[data4[\"cnt\"] >= 2]\n",
        "# cat_list = list(data4[\"item_ctg2\"])\n",
        "\n",
        "# from mlxtend.preprocessing import TransactionEncoder\n",
        "# from mlxtend.frequent_patterns import apriori, association_rules\n",
        "\n",
        "# te = TransactionEncoder()\n",
        "# te_array = te.fit(cat_list).transform(cat_list)\n",
        "# te_df = pd.DataFrame(te_array, columns=te.columns_)\n",
        "# freq_items = apriori(te_df, min_support=0.001, use_colnames=True)\n",
        "# asso_rules = association_rules(freq_items, metric=\"confidence\", min_threshold=0.001)\n",
        "# asso_rules = asso_rules.assign(check=asso_rules.apply(lambda x: \"농산물\" in x[\"antecedents\"], axis=1))\n",
        "# asso_rules = asso_rules[asso_rules[\"check\"]].sort_values(by=\"lift\", ascending=False)\n",
        "\n",
        "# print(f\"{list(asso_rules.iloc[0, 1])[0]}\")"
      ],
      "execution_count": 96,
      "outputs": [
        {
          "output_type": "stream",
          "text": [
            "가공식품\n"
          ],
          "name": "stdout"
        }
      ]
    },
    {
      "cell_type": "code",
      "metadata": {
        "id": "Exwr6uFneAf4",
        "colab_type": "code",
        "colab": {
          "base_uri": "https://localhost:8080/",
          "height": 34
        },
        "outputId": "bf49601d-4bc2-4c06-e4bb-b19fcd0d9e94"
      },
      "source": [
        "# Pivoting\n",
        "pivot = base.pivot_table(index=\"cust_no\", columns=\"item_ctg2\", aggfunc=\"size\", fill_value=0)\n",
        "# 1 이상은 1, 0은 0으로\n",
        "pivot = (pivot >= 1) + 0\n",
        "# filtering 2건 이상 구매만\n",
        "pivot = pivot.assign(cnt=pivot.apply(lambda x: x.sum(), axis=1))\n",
        "pivot = pivot[pivot[\"cnt\"] >= 2]\n",
        "pivot = pivot.iloc[:, :-1] # cnt column 날리기\n",
        "\n",
        "from mlxtend.frequent_patterns import apriori, association_rules\n",
        "\n",
        "freq_items = apriori(pivot, min_support=0.001, use_colnames=True)\n",
        "asso_rules = association_rules(freq_items, metric=\"confidence\", min_threshold=0.001)\n",
        "\n",
        "asso_rules = asso_rules.assign(check=asso_rules[\"antecedents\"].apply(lambda x: \"농산물\" in x))\n",
        "asso_rules = asso_rules[asso_rules[\"check\"]].sort_values(by=\"lift\", ascending=False)\n",
        "\n",
        "print(f\"{list(asso_rules.iloc[0, 1])[0]}\")"
      ],
      "execution_count": 94,
      "outputs": [
        {
          "output_type": "stream",
          "text": [
            "가공식품\n"
          ],
          "name": "stdout"
        }
      ]
    }
  ]
}
