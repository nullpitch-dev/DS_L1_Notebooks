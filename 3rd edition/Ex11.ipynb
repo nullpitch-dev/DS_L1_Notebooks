{
 "cells": [
  {
   "cell_type": "code",
   "execution_count": 1,
   "metadata": {},
   "outputs": [],
   "source": [
    "import pandas as pd\n",
    "import numpy as np\n",
    "import math"
   ]
  },
  {
   "cell_type": "code",
   "execution_count": 24,
   "metadata": {},
   "outputs": [],
   "source": [
    "url_gestures = 'https://raw.githubusercontent.com/nullpitch-dev/hj_public/master/Gestures.csv'\n",
    "data_gestures = pd.read_csv(url_gestures)"
   ]
  },
  {
   "cell_type": "code",
   "execution_count": 35,
   "metadata": {},
   "outputs": [],
   "source": [
    "base = data_gestures"
   ]
  },
  {
   "cell_type": "markdown",
   "metadata": {},
   "source": [
    "### [1]"
   ]
  },
  {
   "cell_type": "code",
   "execution_count": 45,
   "metadata": {},
   "outputs": [
    {
     "data": {
      "text/plain": [
       "469041"
      ]
     },
     "execution_count": 45,
     "metadata": {},
     "output_type": "execute_result"
    }
   ],
   "source": [
    "d1 = base.loc[:, 'arctan_1':'arctan_79']\n",
    "\n",
    "d1 = (d1 != 0) * 1\n",
    "d1.sum().sum()"
   ]
  },
  {
   "cell_type": "markdown",
   "metadata": {},
   "source": [
    "### [2]"
   ]
  },
  {
   "cell_type": "code",
   "execution_count": 51,
   "metadata": {},
   "outputs": [],
   "source": [
    "d2 = base.assign(ttl_dist=base.loc[:, 'distance_1':'distance_79'].sum(axis=1))"
   ]
  },
  {
   "cell_type": "code",
   "execution_count": 62,
   "metadata": {},
   "outputs": [],
   "source": [
    "from statsmodels.formula.api import ols\n",
    "from statsmodels.stats.anova import anova_lm\n",
    "\n",
    "formula = 'ttl_dist ~ C(character)'\n",
    "\n",
    "model = ols(formula, d2).fit()\n",
    "table = anova_lm(model)"
   ]
  },
  {
   "cell_type": "code",
   "execution_count": 69,
   "metadata": {},
   "outputs": [
    {
     "name": "stdout",
     "output_type": "stream",
     "text": [
      "814\n",
      "p-value = 0.0, so H0 is rejected.\n",
      "Meaning, total distance is different by characters\n"
     ]
    }
   ],
   "source": [
    "print(f\"{math.floor(table.loc['C(character)', 'F'])}\")\n",
    "print(f\"p-value = {table.loc['C(character)', 'PR(>F)']}, so H0 is rejected.\")\n",
    "print(f\"Meaning, total distance is different by characters\")"
   ]
  },
  {
   "cell_type": "markdown",
   "metadata": {},
   "source": [
    "### [3]"
   ]
  },
  {
   "cell_type": "code",
   "execution_count": 71,
   "metadata": {},
   "outputs": [],
   "source": [
    "d3 = base.loc[:, 'arctan_1':'distance_79']"
   ]
  },
  {
   "cell_type": "code",
   "execution_count": 88,
   "metadata": {},
   "outputs": [],
   "source": [
    "from sklearn.preprocessing import StandardScaler\n",
    "from sklearn.decomposition import PCA\n",
    "\n",
    "norm = StandardScaler().fit_transform(d3)\n",
    "pca = PCA(n_components=15, random_state=1234).fit(norm)"
   ]
  },
  {
   "cell_type": "code",
   "execution_count": 94,
   "metadata": {},
   "outputs": [],
   "source": [
    "explain = pca.explained_variance_ratio_.sum()"
   ]
  },
  {
   "cell_type": "code",
   "execution_count": 109,
   "metadata": {},
   "outputs": [],
   "source": [
    "eigen = pca.components_[1][2]"
   ]
  },
  {
   "cell_type": "code",
   "execution_count": 110,
   "metadata": {},
   "outputs": [
    {
     "name": "stdout",
     "output_type": "stream",
     "text": [
      "57.8805, 0.0658\n"
     ]
    }
   ],
   "source": [
    "print(f\"{explain * 100:.4f}, {eigen:.4f}\")"
   ]
  },
  {
   "cell_type": "markdown",
   "metadata": {},
   "source": [
    "### [4]"
   ]
  },
  {
   "cell_type": "code",
   "execution_count": 197,
   "metadata": {},
   "outputs": [],
   "source": [
    "d4 = pca.transform(norm)\n",
    "d4 = pd.DataFrame(d4)\n",
    "d4 = pd.merge(d4, base[['XGRP', 'character']],\n",
    "              left_index=True, right_index=True)\n",
    "\n",
    "d4_train = d4[d4['XGRP'] == 'TRAIN']\n",
    "d4_test = d4[d4['XGRP'] == 'TEST']"
   ]
  },
  {
   "cell_type": "code",
   "execution_count": 198,
   "metadata": {},
   "outputs": [],
   "source": [
    "from sklearn.neighbors import KNeighborsClassifier\n",
    "\n",
    "no = d4['character'].nunique()\n",
    "knn = KNeighborsClassifier(n_neighbors=no, algorithm='auto').fit(\n",
    "                                   d4_train.iloc[:, :-2], d4_train['character'])"
   ]
  },
  {
   "cell_type": "code",
   "execution_count": 199,
   "metadata": {},
   "outputs": [],
   "source": [
    "pred = knn.predict(d4_test.iloc[:, :-2])\n",
    "pred = pd.DataFrame(pred)"
   ]
  },
  {
   "cell_type": "code",
   "execution_count": 200,
   "metadata": {},
   "outputs": [],
   "source": [
    "result = pd.merge(d4_test['character'].reset_index(), pred, left_index=True,\n",
    "                  right_index=True)\n",
    "result = result.drop(columns='index')"
   ]
  },
  {
   "cell_type": "code",
   "execution_count": 201,
   "metadata": {},
   "outputs": [],
   "source": [
    "result = result.rename(columns={'character': 'fact', 0: 'esti'})"
   ]
  },
  {
   "cell_type": "code",
   "execution_count": 206,
   "metadata": {},
   "outputs": [],
   "source": [
    "result = result.assign(accu=(result['fact'] == result['esti']) * 1)"
   ]
  },
  {
   "cell_type": "code",
   "execution_count": 214,
   "metadata": {},
   "outputs": [
    {
     "name": "stdout",
     "output_type": "stream",
     "text": [
      "0.817\n"
     ]
    }
   ],
   "source": [
    "accuracy = result['accu'].sum() / result['accu'].count()\n",
    "print(f\"{accuracy:.3f}\")"
   ]
  }
 ],
 "metadata": {
  "kernelspec": {
   "display_name": "Python 3",
   "language": "python",
   "name": "python3"
  },
  "language_info": {
   "codemirror_mode": {
    "name": "ipython",
    "version": 3
   },
   "file_extension": ".py",
   "mimetype": "text/x-python",
   "name": "python",
   "nbconvert_exporter": "python",
   "pygments_lexer": "ipython3",
   "version": "3.6.9"
  }
 },
 "nbformat": 4,
 "nbformat_minor": 4
}
