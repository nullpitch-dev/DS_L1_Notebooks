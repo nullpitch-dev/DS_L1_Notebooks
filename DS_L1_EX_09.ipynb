{
  "nbformat": 4,
  "nbformat_minor": 0,
  "metadata": {
    "colab": {
      "name": "DS_L1_EX#09",
      "provenance": [],
      "collapsed_sections": [],
      "include_colab_link": true
    },
    "kernelspec": {
      "display_name": "Python 3",
      "name": "python3"
    }
  },
  "cells": [
    {
      "cell_type": "markdown",
      "metadata": {
        "id": "view-in-github",
        "colab_type": "text"
      },
      "source": [
        "<a href=\"https://colab.research.google.com/github/nullpitch-dev/DS_L1_Notebooks/blob/master/DS_L1_EX_09.ipynb\" target=\"_parent\"><img src=\"https://colab.research.google.com/assets/colab-badge.svg\" alt=\"Open In Colab\"/></a>"
      ]
    },
    {
      "cell_type": "code",
      "metadata": {
        "id": "j6BvBx2BCOdk",
        "colab_type": "code",
        "colab": {}
      },
      "source": [
        "import pandas as pd\n",
        "\n",
        "# loading data from a csv fle\n",
        "url = 'https://raw.githubusercontent.com/nullpitch-dev/hj_public/master/Womens_Clothing_Reviews.csv'\n",
        "data = pd.read_csv(url)\n",
        "\n",
        "# Pre-processing\n",
        "data = data.dropna(subset={'Seq', 'ClothingID', 'Age', 'TitleLength',\n",
        "                           'ReviewTextLength', 'Rating'})\n",
        "\n",
        "def ageClass(x):\n",
        "    if (x >= 20) & (x < 30):\n",
        "        return 'A'\n",
        "    elif (x >= 30) & (x < 40):\n",
        "        return 'B'\n",
        "    elif (x >= 40) & (x < 50):\n",
        "        return 'C'\n",
        "    elif (x >=50) & (x < 60):\n",
        "        return 'D'\n",
        "    else:\n",
        "        return 'E'\n",
        "\n",
        "data['ageCD'] = data['Age'].apply(lambda x: ageClass(x))\n",
        "data['Pos_Neg'] = data['Rating'].apply(lambda x: 1 if x > 4 else 0)\n",
        "\n"
      ],
      "execution_count": 0,
      "outputs": []
    },
    {
      "cell_type": "code",
      "metadata": {
        "id": "3s5NkvLJkUGe",
        "colab_type": "code",
        "outputId": "76c95f9c-a9ac-4fb0-9c74-e067ed9e5e51",
        "colab": {
          "base_uri": "https://localhost:8080/",
          "height": 34
        }
      },
      "source": [
        "# [1]\n",
        "\n",
        "data1 = data[data['DepartmentName'] != '0']\n",
        "\n",
        "mean1 = data1.groupby('DepartmentName').mean()['Rating']\n",
        "mean1 = mean1.reset_index()\n",
        "std1 = data1.groupby('DepartmentName').std()['Rating']\n",
        "std1 = std1.reset_index()\n",
        "\n",
        "std_mean = pd.merge(left=std1, right=mean1, on='DepartmentName',\n",
        "                    suffixes=('_std', '_mean'))\n",
        "std_mean['CV'] = std_mean['Rating_std'] / std_mean['Rating_mean']\n",
        "std_mean.sort_values('CV', ascending=False, inplace=True)\n",
        "std_mean.reset_index(inplace=True)\n",
        "\n",
        "cv = std_mean['CV'][0]\n",
        "depart = std_mean['DepartmentName'][0]\n",
        "\n",
        "print(f'Answer [1] : Department = {depart}, CV = {cv:.2f}')"
      ],
      "execution_count": 0,
      "outputs": [
        {
          "output_type": "stream",
          "text": [
            "Answer [1] : Department = Trend, CV = 0.35\n"
          ],
          "name": "stdout"
        }
      ]
    },
    {
      "cell_type": "code",
      "metadata": {
        "id": "GSfPcxbF3l0M",
        "colab_type": "code",
        "outputId": "0dfeebf5-816b-47e9-9cbf-10ab3e876d0a",
        "colab": {
          "base_uri": "https://localhost:8080/",
          "height": 34
        }
      },
      "source": [
        "# [2]\n",
        "\n",
        "import math\n",
        "\n",
        "temp = data.groupby('ClothingID').count()\n",
        "temp.reset_index(inplace=True)\n",
        "temp = temp[temp['Seq'] >= 30]\n",
        "clothings = list(temp['ClothingID'])\n",
        "\n",
        "data2 = data[data['ClothingID'].isin(clothings)]\n",
        "\n",
        "temp2 = data2.groupby('ClothingID').agg({'Seq': 'count', 'Pos_Neg': 'sum'})\n",
        "temp2.reset_index(inplace=True)\n",
        "temp2 = temp2[['ClothingID', 'Seq', 'Pos_Neg']]\n",
        "\n",
        "temp2['Rate'] = temp2['Pos_Neg'] / temp2['Seq']\n",
        "temp2.sort_values(by='Rate', ascending=False, inplace=True)\n",
        "\n",
        "clothingID = temp2.iloc[1][0]\n",
        "rate = math.floor(temp2.iloc[1][3] * 1000) / 1000\n",
        "\n",
        "print(f'Answer [2] : ClothingID = {int(clothingID)}, Positive Rate = {rate}')"
      ],
      "execution_count": 0,
      "outputs": [
        {
          "output_type": "stream",
          "text": [
            "Answer [2] : ClothingID = 964, Positive Rate = 0.794\n"
          ],
          "name": "stdout"
        }
      ]
    },
    {
      "cell_type": "code",
      "metadata": {
        "id": "7inZQRnFPFlY",
        "colab_type": "code",
        "outputId": "1bcb8929-1081-43d6-8116-065664ed0b95",
        "colab": {
          "base_uri": "https://localhost:8080/",
          "height": 34
        }
      },
      "source": [
        "# [3] Using f_oneway\n",
        "\n",
        "from scipy import stats\n",
        "import math\n",
        "\n",
        "data3_A = data[data['ageCD'] == 'A']['Rating']\n",
        "data3_B = data[data['ageCD'] == 'B']['Rating']\n",
        "data3_C = data[data['ageCD'] == 'C']['Rating']\n",
        "data3_D = data[data['ageCD'] == 'D']['Rating']\n",
        "data3_E = data[data['ageCD'] == 'E']['Rating']\n",
        "\n",
        "f_value, p_value = stats.f_oneway(data3_A, data3_B, data3_C, data3_D, data3_E)\n",
        "\n",
        "print(f'Answer [3] : F-value = {math.floor(f_value * 10000) / 10000}')"
      ],
      "execution_count": 0,
      "outputs": [
        {
          "output_type": "stream",
          "text": [
            "Answer [3] : F-value = 8.4989\n"
          ],
          "name": "stdout"
        }
      ]
    },
    {
      "cell_type": "code",
      "metadata": {
        "id": "Ff57WOox_b3L",
        "colab_type": "code",
        "outputId": "bc8e5567-d85d-40f7-94a2-175edecaa5e7",
        "colab": {
          "base_uri": "https://localhost:8080/",
          "height": 34
        }
      },
      "source": [
        "# [3] Using ols\n",
        "\n",
        "from statsmodels.formula.api import ols\n",
        "from statsmodels.stats.anova import anova_lm\n",
        "import math\n",
        "\n",
        "results = ols(formula='Rating ~ C(ageCD)', data=data).fit()\n",
        "anova_table = anova_lm(results)\n",
        "\n",
        "f_value = anova_table['F'][0]\n",
        "\n",
        "print(f'Answer [3] : F-value = {math.floor(f_value * 10000) / 10000}')"
      ],
      "execution_count": 0,
      "outputs": [
        {
          "output_type": "stream",
          "text": [
            "Answer [3] : F-value = 8.4989\n"
          ],
          "name": "stdout"
        }
      ]
    },
    {
      "cell_type": "code",
      "metadata": {
        "id": "ljOIax8GIEMg",
        "colab_type": "code",
        "outputId": "781172fa-8d82-4b81-ddd2-3b978931afd8",
        "colab": {
          "base_uri": "https://localhost:8080/",
          "height": 34
        }
      },
      "source": [
        "# [4]\n",
        "\n",
        "from sklearn.linear_model import LogisticRegression\n",
        "\n",
        "data4 = data[data['ClassName'] != '0']\n",
        "data4 = pd.get_dummies(data4, columns={'ageCD'}, drop_first=True)\n",
        "\n",
        "def getPrevRating(x):\n",
        "    if len(data4[data4['Seq'] == x - 1]) == 0:\n",
        "        return data4[data4['Seq'] == x]['Rating'].values[0]\n",
        "    else:\n",
        "        return data4[data4['Seq'] == x - 1]['Rating'].values[0]\n",
        "\n",
        "data4['prior_Rating'] = data4['Seq'].apply(lambda x: getPrevRating(x))\n",
        "\n",
        "train4 = data4[data4['ClassName'] != 'Intimates']\n",
        "test4 = data4[data4['ClassName'] == 'Intimates']\n",
        "\n",
        "x_cols = ['Rating', 'ageCD_B', 'ageCD_C', 'ageCD_D', 'ageCD_E', 'TitleLength',\n",
        "          'ReviewTextLength', 'prior_Rating']\n",
        "train_x4 = train4[x_cols]\n",
        "train_y4 = train4['RecommendedIND']\n",
        "test_x4 = test4[x_cols]\n",
        "test_y4 = test4['RecommendedIND']\n",
        "\n",
        "lr = LogisticRegression(C=100000, random_state=1234, penalty='l2', solver='newton-cg')\n",
        "model = lr.fit(train_x4, train_y4)\n",
        "pred = model.predict_proba(test_x4)\n",
        "\n",
        "pred_df = pd.DataFrame(pred, columns=['N', 'Y'])\n",
        "pred_df['Fact'] = test_y4.reset_index()['RecommendedIND']\n",
        "pred_df['Pred'] = pred_df['Y'].apply(lambda x: 'Y' if x > 0.5 else 'N')\n",
        "\n",
        "pred_df['Accuracy'] = (pred_df['Fact'] == pred_df['Pred'])\n",
        "accuracy = pred_df['Accuracy'].sum() / pred_df['Accuracy'].count()\n",
        "\n",
        "print(f'Answer [4] : Accuracy = {accuracy:.3f}')"
      ],
      "execution_count": 0,
      "outputs": [
        {
          "output_type": "stream",
          "text": [
            "Answer [4] : Accuracy = 0.946\n"
          ],
          "name": "stdout"
        }
      ]
    }
  ]
}