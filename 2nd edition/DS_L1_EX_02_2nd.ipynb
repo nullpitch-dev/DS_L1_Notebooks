{
  "nbformat": 4,
  "nbformat_minor": 0,
  "metadata": {
    "colab": {
      "name": "DS_L1_EX_02_2nd.ipynb",
      "provenance": [],
      "collapsed_sections": [],
      "include_colab_link": true
    },
    "kernelspec": {
      "name": "python3",
      "display_name": "Python 3"
    },
    "accelerator": "GPU"
  },
  "cells": [
    {
      "cell_type": "markdown",
      "metadata": {
        "id": "view-in-github",
        "colab_type": "text"
      },
      "source": [
        "<a href=\"https://colab.research.google.com/github/nullpitch-dev/DS_L1_Notebooks/blob/master/DS_L1_EX_02_2nd.ipynb\" target=\"_parent\"><img src=\"https://colab.research.google.com/assets/colab-badge.svg\" alt=\"Open In Colab\"/></a>"
      ]
    },
    {
      "cell_type": "code",
      "metadata": {
        "id": "QR5lPnyWJgs1",
        "colab_type": "code",
        "colab": {}
      },
      "source": [
        "import pandas as pd\n",
        "\n",
        "url_pur = 'https://raw.githubusercontent.com/nullpitch-dev/hj_public/master/ds_purchase_log.csv'\n",
        "url_cus = 'https://raw.githubusercontent.com/nullpitch-dev/hj_public/master/ds_customer_mst.csv'\n",
        "url_pro = 'https://raw.githubusercontent.com/nullpitch-dev/hj_public/master/ds_product_mst.csv'\n",
        "\n",
        "data_pur = pd.read_csv(url_pur)\n",
        "data_cus = pd.read_csv(url_cus)\n",
        "data_pro = pd.read_csv(url_pro)"
      ],
      "execution_count": 0,
      "outputs": []
    },
    {
      "cell_type": "code",
      "metadata": {
        "id": "QMEG3RPBY5Bx",
        "colab_type": "code",
        "colab": {}
      },
      "source": [
        "# [0] aggregation - category values into one list item\n",
        "\n",
        "import numpy as np\n",
        "\n",
        "# if cust_no & update_dt is dup, get max age_gender\n",
        "cus_group = data_cus.groupby(['cust_no', 'update_dt']).agg({'age_gender': 'max'})\n",
        "\n",
        "# sort by cust_no ascending, by update_dt descending to get latest age_gender\n",
        "cus_group = cus_group.sort_values(by=['cust_no', 'update_dt'],\n",
        "                                  ascending=[True, False])\n",
        "cus_group.reset_index(inplace=True)\n",
        "# groupby cust_no and put age_gender in a list\n",
        "cus_group = cus_group.groupby('cust_no').agg({'age_gender': lambda x: list(x)})\n",
        "# get the first age_gender in the list\n",
        "cus_group = cus_group.assign(top_ag=cus_group.apply(lambda x: x['age_gender'][0],\n",
        "                                                    axis=1))\n",
        "cus_group.reset_index(inplace=True)\n",
        "\n",
        "# merge age_gender in purchase data\n",
        "base = pd.merge(data_pur, cus_group[['cust_no', 'top_ag']], how='left',\n",
        "                      on='cust_no')\n",
        "base = base.rename(columns={'top_ag': 'age_gender'})\n",
        "\n",
        "# merge item categories\n",
        "base = pd.merge(base, data_pro, how='left', on='item_no')\n",
        "\n",
        "# split age and gender\n",
        "base = base.assign(age=base.apply(lambda x: x['age_gender'].split()[0], axis=1))\n",
        "base = base.assign(gender=base.apply(lambda x: x['age_gender'].split()[1], axis=1))"
      ],
      "execution_count": 0,
      "outputs": []
    },
    {
      "cell_type": "code",
      "metadata": {
        "id": "70ZPo5pjn7fs",
        "colab_type": "code",
        "outputId": "2556acd3-bc26-4108-e70b-73c70a907234",
        "colab": {
          "base_uri": "https://localhost:8080/",
          "height": 34
        }
      },
      "source": [
        "# [1]\n",
        "\n",
        "# per gender and item_ctg1, calculate unique number of cust_no and sum of item_amt\n",
        "data1 = base.groupby(['gender', 'item_ctg1']).agg({'item_amt': 'sum',\n",
        "                                                   'cust_no': 'nunique'})\n",
        "\n",
        "# calculate amt per 1 customer\n",
        "data1 = data1.assign(amt_cust=data1.apply(lambda x: x['item_amt'] / x['cust_no'],\n",
        "                                          axis=1))\n",
        "\n",
        "# sort in descending by amt\n",
        "data1 = data1.sort_values(by=['gender', 'amt_cust'], ascending=[True, False])\n",
        "\n",
        "# find 2nd(index[1]) items per gender\n",
        "male = data1.loc['M']['amt_cust'].index[1]\n",
        "female = data1.loc['F']['amt_cust'].index[1]\n",
        "\n",
        "print(f'Answer [1] : {male}, {female}')"
      ],
      "execution_count": 33,
      "outputs": [
        {
          "output_type": "stream",
          "text": [
            "Answer [1] : 의류, 화장품\n"
          ],
          "name": "stdout"
        }
      ]
    },
    {
      "cell_type": "code",
      "metadata": {
        "id": "O1rutCaCsP_2",
        "colab_type": "code",
        "outputId": "b3728e62-2870-4399-a1d6-1cf2f1537786",
        "colab": {
          "base_uri": "https://localhost:8080/",
          "height": 34
        }
      },
      "source": [
        "# [2] rank\n",
        "\n",
        "import math\n",
        "\n",
        "# aggregate by customer with amt sum\n",
        "data2 = base.groupby('cust_no').agg({'item_amt': 'sum'})\n",
        "\n",
        "# calculate rank: min means \"smaller value for tie\"\n",
        "data2 = data2.assign(rank=data2['item_amt'].rank(method='min', ascending=False))\n",
        "\n",
        "# total number of customers\n",
        "no_cust = data2.index.nunique()\n",
        "\n",
        "# classify rank class\n",
        "def rankClass(x):\n",
        "    if x <= no_cust * 0.2:\n",
        "        return 'top'\n",
        "    elif x >= no_cust * 0.8:\n",
        "        return 'bottom'\n",
        "    else:\n",
        "        return 'normal'\n",
        "\n",
        "data2 = data2.assign(rank_class=data2.apply(lambda x: rankClass(x['rank']),\n",
        "                                            axis=1))\n",
        "\n",
        "# calculate amt by class\n",
        "data2 = data2.groupby('rank_class').agg({'item_amt': 'sum'})\n",
        "\n",
        "top_portion = data2.loc['top']['item_amt'] / data2['item_amt'].sum() * 100\n",
        "top_over_bottom = data2.loc['top']['item_amt'] / data2.loc['bottom']['item_amt']\n",
        "\n",
        "print(f'Answer [2] : {math.floor(top_portion)}, {math.floor(top_over_bottom)}')"
      ],
      "execution_count": 34,
      "outputs": [
        {
          "output_type": "stream",
          "text": [
            "Answer [2] : 49, 9\n"
          ],
          "name": "stdout"
        }
      ]
    },
    {
      "cell_type": "code",
      "metadata": {
        "id": "6YtsQGSwwajg",
        "colab_type": "code",
        "outputId": "13ab812f-aad2-482f-a244-80cb7237a7ad",
        "colab": {
          "base_uri": "https://localhost:8080/",
          "height": 225
        }
      },
      "source": [
        "# [3] ANOVA, MultiComparison\n",
        "\n",
        "from statsmodels.formula.api import ols\n",
        "from statsmodels.stats.anova import anova_lm\n",
        "from statsmodels.stats.multicomp import MultiComparison\n",
        "import math\n",
        "\n",
        "# create total spend and age per customer\n",
        "data3 = base.groupby('cust_no').agg({'item_amt': 'sum',\n",
        "                                     'age': lambda x: list(set(x))})\n",
        "\n",
        "# classify age_class\n",
        "def ageClass(x):\n",
        "    if x == '30대':\n",
        "        return 'G1'\n",
        "    elif x == '40대':\n",
        "        return 'G2'\n",
        "    else:\n",
        "        return 'G3'\n",
        "\n",
        "data3 = data3.assign(age_cls=data3.apply(lambda x: ageClass(x['age'][0]), axis=1))\n",
        "\n",
        "# perform ANOVA test\n",
        "result = ols(formula='item_amt ~ C(age_cls)', data=data3).fit()\n",
        "anova_table = anova_lm(result)\n",
        "f_val = anova_table['F'].iloc[0]\n",
        "\n",
        "# perform Duncan Test\n",
        "comparison = MultiComparison(data3['item_amt'], data3['age_cls'])\n",
        "print(comparison.tukeyhsd())\n",
        "\n",
        "# find mean values per age_cls and sort\n",
        "ave = data3.groupby('age_cls').agg({'item_amt': 'mean'}).sort_values(\n",
        "                                                 by='item_amt', ascending=False)\n",
        "\n",
        "# print and analyze result\n",
        "print(f'age_cls order : {ave.index[0]}, {ave.index[1]}, {ave.index[2]}')\n",
        "print(f'P-val G2-G3 : 0.001 < 0.05 : Reject H0')\n",
        "print(f'P-val G3-G1 : 0.9 > 0.05 : Cannot reject H0')\n",
        "\n",
        "print(f'Answer [3] : {math.floor(f_val)}, G2 > G3 = G1')"
      ],
      "execution_count": 35,
      "outputs": [
        {
          "output_type": "stream",
          "text": [
            "    Multiple Comparison of Means - Tukey HSD, FWER=0.05     \n",
            "============================================================\n",
            "group1 group2  meandiff  p-adj    lower      upper    reject\n",
            "------------------------------------------------------------\n",
            "    G1     G2  8461.1735 0.001   4117.8207 12804.5262   True\n",
            "    G1     G3   717.8831   0.9  -3454.2396  4890.0058  False\n",
            "    G2     G3 -7743.2904 0.001 -12467.8902 -3018.6906   True\n",
            "------------------------------------------------------------\n",
            "age_cls order : G2, G3, G1\n",
            "P-val G2-G3 : 0.001 < 0.05 : Reject H0\n",
            "P-val G3-G1 : 0.9 > 0.05 : Cannot reject H0\n",
            "Answer [3] : 11, G2 > G3 = G1\n"
          ],
          "name": "stdout"
        }
      ]
    },
    {
      "cell_type": "code",
      "metadata": {
        "id": "2YUlzaDvZ_8v",
        "colab_type": "code",
        "colab": {
          "base_uri": "https://localhost:8080/",
          "height": 34
        },
        "outputId": "b3b7c388-d921-4644-fdf1-603f9fe39260"
      },
      "source": [
        "# [4] apriori, association_rules\n",
        "\n",
        "from mlxtend.preprocessing import TransactionEncoder\n",
        "from mlxtend.frequent_patterns import apriori, association_rules\n",
        "\n",
        "# create item_ctg2 list per customer\n",
        "data4 = base.groupby('cust_no').agg({'item_ctg2': lambda x: list(set(x))})\n",
        "\n",
        "# count number of category\n",
        "data4 = data4.assign(cnt=data4.apply(lambda x: len(x['item_ctg2']), axis=1))\n",
        "\n",
        "# filter by cnt >= 2\n",
        "data4 = data4[data4['cnt'] >= 2]\n",
        "\n",
        "# create category combinations in a list\n",
        "cat_list = list(data4['item_ctg2'])\n",
        "\n",
        "# make transaction encoder\n",
        "# creates True / False table (number of samples BY categories)\n",
        "te = TransactionEncoder()\n",
        "te_array = te.fit(cat_list).transform(cat_list)\n",
        "te_df = pd.DataFrame(te_array, columns=te.columns_)\n",
        "\n",
        "# create frequent items sets by support values\n",
        "freq_items = apriori(te_df, min_support=0.001, use_colnames=True)\n",
        "\n",
        "# create association_rules\n",
        "asso_rules = association_rules(freq_items, metric='confidence',\n",
        "                               min_threshold=0.001)\n",
        "\n",
        "# find associations which has '농산물' in antecedents\n",
        "asso_rules = asso_rules.assign(check=asso_rules.apply(lambda x:\n",
        "                                                      '농산물' in x['antecedents'],\n",
        "                                                      axis=1))\n",
        "asso_rules = asso_rules[asso_rules['check'] == 1]\n",
        "\n",
        "# sort by Lift descending\n",
        "asso_rules = asso_rules.sort_values(by='lift', ascending=False)\n",
        "\n",
        "recomm = list(asso_rules['consequents'].iloc[0])\n",
        "\n",
        "print(f'Answer [4] : {recomm[0]}')"
      ],
      "execution_count": 36,
      "outputs": [
        {
          "output_type": "stream",
          "text": [
            "Answer [4] : 가공식품\n"
          ],
          "name": "stdout"
        }
      ]
    }
  ]
}
