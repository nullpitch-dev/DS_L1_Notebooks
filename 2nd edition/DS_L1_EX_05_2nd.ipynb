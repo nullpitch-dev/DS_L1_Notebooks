{
  "nbformat": 4,
  "nbformat_minor": 0,
  "metadata": {
    "colab": {
      "name": "DS_L1_EX_05_2nd.ipynb",
      "provenance": [],
      "collapsed_sections": [],
      "include_colab_link": true
    },
    "kernelspec": {
      "name": "python3",
      "display_name": "Python 3"
    },
    "accelerator": "GPU"
  },
  "cells": [
    {
      "cell_type": "markdown",
      "metadata": {
        "id": "view-in-github",
        "colab_type": "text"
      },
      "source": [
        "<a href=\"https://colab.research.google.com/github/nullpitch-dev/DS_L1_Notebooks/blob/master/DS_L1_EX_05_2nd.ipynb\" target=\"_parent\"><img src=\"https://colab.research.google.com/assets/colab-badge.svg\" alt=\"Open In Colab\"/></a>"
      ]
    },
    {
      "cell_type": "code",
      "metadata": {
        "id": "QR5lPnyWJgs1",
        "colab_type": "code",
        "colab": {}
      },
      "source": [
        "import pandas as pd\n",
        "\n",
        "url = 'https://raw.githubusercontent.com/nullpitch-dev/hj_public/master/ecommerce_transaction.csv'\n",
        "data = pd.read_csv(url)"
      ],
      "execution_count": 0,
      "outputs": []
    },
    {
      "cell_type": "code",
      "metadata": {
        "id": "91bfOhUZLLcJ",
        "colab_type": "code",
        "outputId": "7a5b6890-c1d5-4863-c0b0-e567452e926a",
        "colab": {
          "base_uri": "https://localhost:8080/",
          "height": 34
        }
      },
      "source": [
        "# [1] datetime, relativedelta\n",
        "\n",
        "from datetime import datetime\n",
        "from dateutil.relativedelta import relativedelta\n",
        "\n",
        "data1 = data[data['review_creation_date'] < '2017-01-01']\n",
        "wrong_cnt = data1['id'].count()\n",
        "\n",
        "print(f'Answer [1] : {wrong_cnt}')\n",
        "\n",
        "# wrong data correction\n",
        "# convert review_creation_date to datetime format\n",
        "base = data.assign(dt_review=data.apply(lambda x:\n",
        "              datetime.strptime(x['review_creation_date'], '%Y-%m-%d %H:%M:%S'),\n",
        "                                        axis=1))\n",
        "\n",
        "# delete 2000-01-01 records\n",
        "base = base[base['dt_review'] != '2000-01-01']\n",
        "\n",
        "# correct 7 year error \n",
        "def correct7(x):\n",
        "    if x.strftime('%Y') < '2017':\n",
        "        return x + relativedelta(years=7)\n",
        "    else:\n",
        "        return x\n",
        "\n",
        "base = base.assign(dt_review=base.apply(lambda x: correct7(x['dt_review']),\n",
        "                                        axis=1))\n",
        "\n",
        "# update review_creation_date with corrected dt_review\n",
        "base = base.assign(review_creation_date=base.apply(lambda x:\n",
        "                                   x['dt_review'].strftime('%Y-%m-%d %H:%M:%S'),\n",
        "                                                   axis=1))"
      ],
      "execution_count": 73,
      "outputs": [
        {
          "output_type": "stream",
          "text": [
            "Answer [1] : 95\n"
          ],
          "name": "stdout"
        }
      ]
    },
    {
      "cell_type": "code",
      "metadata": {
        "id": "fm0GjlcaN6tQ",
        "colab_type": "code",
        "outputId": "5c6435d2-22ba-4af2-ba39-030aa817c6b2",
        "colab": {
          "base_uri": "https://localhost:8080/",
          "height": 34
        }
      },
      "source": [
        "# [2] timedelta\n",
        "\n",
        "from datetime import timedelta\n",
        "\n",
        "# convert order_timestamp to datetime type\n",
        "base = base.assign(dt_order=base.apply(lambda x:\n",
        "                   datetime.strptime(x['order_timestamp'], '%Y-%m-%d %H:%M:%S'),\n",
        "                                       axis=1))\n",
        "# convert order_approved_time to datetime type\n",
        "base = base.assign(dt_approved=base.apply(lambda x:\n",
        "               datetime.strptime(x['order_approved_time'], '%Y-%m-%d %H:%M:%S'),\n",
        "                                          axis=1))\n",
        "# calculate timedelta\n",
        "base = base.assign(approve_lt=base.apply(lambda x:\n",
        "                                               x['dt_approved'] - x['dt_order'],\n",
        "                                         axis=1))\n",
        "# mark card vs. banking\n",
        "base = base.assign(pay=base.apply(lambda x:\n",
        "                 'banking' if x['approve_lt'] >= timedelta(hours=1) else 'card',\n",
        "                                  axis=1))\n",
        "\n",
        "# calculate banking ratio\n",
        "ratio = base[base['pay'] == 'banking']['id'].count() / base['id'].count() * 100\n",
        "\n",
        "print(f'Answer [2] : {ratio:.1f}')"
      ],
      "execution_count": 74,
      "outputs": [
        {
          "output_type": "stream",
          "text": [
            "Answer [2] : 36.1\n"
          ],
          "name": "stdout"
        }
      ]
    },
    {
      "cell_type": "code",
      "metadata": {
        "id": "6MVlL2YSXWau",
        "colab_type": "code",
        "outputId": "a5473fd4-5f3f-470d-fd1a-d447445fa881",
        "colab": {
          "base_uri": "https://localhost:8080/",
          "height": 34
        }
      },
      "source": [
        "# [3] ANOVA\n",
        "\n",
        "from statsmodels.formula.api import ols\n",
        "from statsmodels.stats.anova import anova_lm\n",
        "\n",
        "# calculate unit price\n",
        "base = base.assign(price=base.apply(lambda x: x['order_price'] / x['order_qty'],\n",
        "                                    axis=1))\n",
        "\n",
        "# make price range\n",
        "def priceRange(x):\n",
        "    if x < 50:\n",
        "        return '0-50'\n",
        "    elif x < 100:\n",
        "        return '50-100'\n",
        "    elif x < 500:\n",
        "        return '100-500'\n",
        "    elif x < 5000:\n",
        "        return '500-5000'\n",
        "    else:\n",
        "        return 'ERROR'\n",
        "\n",
        "# price range based on order amount\n",
        "base = base.assign(range_amt=base.apply(lambda x: priceRange(x['order_price']),\n",
        "                                        axis=1))\n",
        "# price range based on unit price\n",
        "base = base.assign(range_price=base.apply(lambda x: priceRange(x['price']),\n",
        "                                          axis=1))\n",
        "\n",
        "# perform ANOVA test\n",
        "ols_amt = ols(formula='review_score ~ C(range_amt)', data=base).fit()\n",
        "ols_price = ols(formula='review_score ~ C(range_price)', data=base).fit()\n",
        "\n",
        "table_amt = anova_lm(ols_amt)\n",
        "table_price = anova_lm(ols_price)\n",
        "\n",
        "f_amt = table_amt['F'].iloc[0]\n",
        "f_price = table_price['F'].iloc[0]\n",
        "\n",
        "print(f'Answer [3] : {max(f_amt, f_price):.2f}')"
      ],
      "execution_count": 75,
      "outputs": [
        {
          "output_type": "stream",
          "text": [
            "Answer [3] : 0.66\n"
          ],
          "name": "stdout"
        }
      ]
    },
    {
      "cell_type": "code",
      "metadata": {
        "id": "DAgHDdBCZSto",
        "colab_type": "code",
        "colab": {
          "base_uri": "https://localhost:8080/",
          "height": 34
        },
        "outputId": "4564d550-9680-4c1e-e6cc-16f5fa5d64dc"
      },
      "source": [
        "# [4] datetime, timedelta, LinearRegression\n",
        "\n",
        "from datetime import timedelta\n",
        "from sklearn.linear_model import LinearRegression\n",
        "\n",
        "# include only delivered transactions\n",
        "base = base[base['order_status'] == 'delivered']\n",
        "\n",
        "# convert order_delivered_customer_date to datetim format\n",
        "base = base.assign(dt_delivered=base.apply(lambda x:\n",
        "     datetime.strptime(x['order_delivered_customer_date'], '%Y-%m-%d %H:%M:%S'),\n",
        "                   axis=1))\n",
        "\n",
        "# calculate delivery leadtime in days\n",
        "def calcLT(x, y):\n",
        "    return (y - x).days + (y - x).seconds / 60 / 60 / 24\n",
        "\n",
        "base = base.assign(delivery_lt=base.apply(lambda x:calcLT(x['dt_approved'],\n",
        "                                                          x['dt_delivered']),\n",
        "                                          axis=1))\n",
        "\n",
        "# mark weekdays or weekends\n",
        "base = base.assign(wd=base.apply(lambda x:\n",
        "                     'weekends' if x['dt_approved'].strftime('%w') in ['0', '6']\n",
        "                                else 'weekdays', axis=1))\n",
        "\n",
        "# make train set\n",
        "train_x_wd = base[base['wd'] == 'weekdays'][['order_freight']]\n",
        "train_x_we = base[base['wd'] == 'weekends'][['order_freight']]\n",
        "train_y_wd = base[base['wd'] == 'weekdays']['delivery_lt']\n",
        "train_y_we = base[base['wd'] == 'weekends']['delivery_lt']\n",
        "\n",
        "# train\n",
        "lr_wd = LinearRegression()\n",
        "lr_we = LinearRegression()\n",
        "model_wd = lr_wd.fit(train_x_wd, train_y_wd)\n",
        "model_we = lr_we.fit(train_x_we, train_y_we)\n",
        "\n",
        "print(f'Answer [4] : {abs(model_wd.coef_[0] - model_we.coef_[0]):.4f}')"
      ],
      "execution_count": 77,
      "outputs": [
        {
          "output_type": "stream",
          "text": [
            "Answer [4] : 0.0097\n"
          ],
          "name": "stdout"
        }
      ]
    }
  ]
}
