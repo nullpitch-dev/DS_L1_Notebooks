{
  "nbformat": 4,
  "nbformat_minor": 0,
  "metadata": {
    "colab": {
      "name": "DS_L1_EX_11_2nd.ipynb",
      "provenance": [],
      "collapsed_sections": [],
      "include_colab_link": true
    },
    "kernelspec": {
      "name": "python3",
      "display_name": "Python 3"
    },
    "accelerator": "GPU"
  },
  "cells": [
    {
      "cell_type": "markdown",
      "metadata": {
        "id": "view-in-github",
        "colab_type": "text"
      },
      "source": [
        "<a href=\"https://colab.research.google.com/github/nullpitch-dev/DS_L1_Notebooks/blob/master/DS_L1_EX_11_2nd.ipynb\" target=\"_parent\"><img src=\"https://colab.research.google.com/assets/colab-badge.svg\" alt=\"Open In Colab\"/></a>"
      ]
    },
    {
      "cell_type": "code",
      "metadata": {
        "id": "QR5lPnyWJgs1",
        "colab_type": "code",
        "colab": {}
      },
      "source": [
        "import pandas as pd\n",
        "\n",
        "url = 'https://raw.githubusercontent.com/nullpitch-dev/hj_public/master/Gestures.csv'\n",
        "data = pd.read_csv(url)"
      ],
      "execution_count": 0,
      "outputs": []
    },
    {
      "cell_type": "code",
      "metadata": {
        "id": "kxUOn_-t1ANS",
        "colab_type": "code",
        "outputId": "22a1060b-a946-4937-ae17-919ef0e4b873",
        "colab": {
          "base_uri": "https://localhost:8080/",
          "height": 34
        }
      },
      "source": [
        "# [1]\n",
        "\n",
        "# select arctan variables\n",
        "data1 = data.iloc[:, 3:82]\n",
        "\n",
        "# replace all numbers other than 0 with 1\n",
        "for i in range(79):\n",
        "    data1.iloc[:, i] = data1.iloc[:, i].apply(lambda x: 0 if x == 0 else 1)\n",
        "\n",
        "# count all \"1\"s\n",
        "count = data1.sum().sum()\n",
        "\n",
        "print(f'Answer [1] : {count}')"
      ],
      "execution_count": 67,
      "outputs": [
        {
          "output_type": "stream",
          "text": [
            "Answer [1] : 469041\n"
          ],
          "name": "stdout"
        }
      ]
    },
    {
      "cell_type": "code",
      "metadata": {
        "id": "XwP7TWqp53ZI",
        "colab_type": "code",
        "outputId": "d9d59a45-ac5b-462e-91b2-80aa70f4d4c5",
        "colab": {
          "base_uri": "https://localhost:8080/",
          "height": 34
        }
      },
      "source": [
        "# [2] ANOVA\n",
        "\n",
        "from statsmodels.formula.api import ols\n",
        "from statsmodels.stats.anova import anova_lm\n",
        "import math\n",
        "\n",
        "\n",
        "# get column name list\n",
        "cols = data.columns\n",
        "\n",
        "# create total distand column\n",
        "data2 = data.assign(ttl_dist=data[cols[82:]].sum(axis=1))\n",
        "\n",
        "# perform ANOVA test\n",
        "ols_reg = ols(formula='ttl_dist ~ C(character)', data=data2).fit()\n",
        "anova_table = anova_lm(ols_reg)\n",
        "\n",
        "# decision\n",
        "if anova_table['PR(>F)'].iloc[0] < 0.05:\n",
        "    reject = 'YES'\n",
        "else:\n",
        "    reject = 'NO'\n",
        "\n",
        "# get F-value\n",
        "f_val = math.floor(anova_table.F.iloc[0])\n",
        "\n",
        "print(f'Answer [2] : Dist by Char is SAME, Reject this? {reject}, {f_val}')"
      ],
      "execution_count": 68,
      "outputs": [
        {
          "output_type": "stream",
          "text": [
            "Answer [2] : Dist by Char is SAME, Reject this? YES, 814\n"
          ],
          "name": "stdout"
        }
      ]
    },
    {
      "cell_type": "code",
      "metadata": {
        "id": "MVyux-MQSvx5",
        "colab_type": "code",
        "outputId": "44cb9ab2-e617-45a3-96a6-f2cbca09ea91",
        "colab": {
          "base_uri": "https://localhost:8080/",
          "height": 34
        }
      },
      "source": [
        "# [3] PCA, StandardScaler\n",
        "\n",
        "from sklearn.preprocessing import StandardScaler\n",
        "from sklearn.decomposition import PCA\n",
        "\n",
        "# normalization\n",
        "norm = StandardScaler().fit_transform(data[cols[3:]])\n",
        "\n",
        "# get principal components\n",
        "pca = PCA(n_components=15, random_state=1234).fit(norm)\n",
        "\n",
        "# get percentage of variance explained\n",
        "explain = pca.explained_variance_ratio_.sum() * 100\n",
        "\n",
        "# get component\n",
        "comp = pca.components_[1][2]\n",
        "\n",
        "print(f'Answer [3] : {explain:.4f}, {comp:.4f}')"
      ],
      "execution_count": 69,
      "outputs": [
        {
          "output_type": "stream",
          "text": [
            "Answer [3] : 57.8805, 0.0658\n"
          ],
          "name": "stdout"
        }
      ]
    },
    {
      "cell_type": "code",
      "metadata": {
        "id": "4EOrHQdz0yDh",
        "colab_type": "code",
        "outputId": "17b6cdda-8566-409c-be54-14d74a6dc73a",
        "colab": {
          "base_uri": "https://localhost:8080/",
          "height": 34
        }
      },
      "source": [
        "# [4] PCA, KNN\n",
        "\n",
        "from sklearn.neighbors import KNeighborsClassifier\n",
        "\n",
        "# prepare training and test set\n",
        "data4 = pca.transform(norm)     # transform PCA data\n",
        "data4 = pd.DataFrame(data4)     # convert to DataFrame\n",
        "data4 = pd.concat([data[['seq', 'character', 'XGRP']], data4], axis=1)\n",
        "\n",
        "train_X = data4[data4.XGRP == 'TRAIN'].iloc[:, 3:]\n",
        "train_y = data4[data4.XGRP == 'TRAIN'].iloc[:, 1:2]\n",
        "test_X = data4[data4.XGRP == 'TEST'].iloc[:, 3:]\n",
        "test_y = data4[data4.XGRP == 'TEST'].iloc[:, 1:2]\n",
        "\n",
        "# perform KNN\n",
        "# reday to estimate new(test) point's class\n",
        "knn = KNeighborsClassifier(n_neighbors=data4.character.nunique()).fit(\n",
        "                                               train_X, train_y.to_numpy().T[0])\n",
        "                                                        # convert to 1-d array\n",
        "# estimate with test data\n",
        "pred = knn.predict(test_X)\n",
        "\n",
        "# calculate accuracy\n",
        "test_y.reset_index(inplace=True) # reset test_y to concat with pred\n",
        "test_y = test_y.drop(columns='index')\n",
        "pred = pd.DataFrame(pred)   # convert pred to DataFrame\n",
        "accu = pd.concat([test_y, pred], ignore_index=True, axis=1) # concat actual and\n",
        "                                                            # pred\n",
        "accu = accu.assign(accuracy=accu.apply(lambda x: 1 if x[0] == x[1] else 0,\n",
        "                                       axis=1))\n",
        "\n",
        "result = accu.accuracy.sum() / accu.accuracy.count()\n",
        "\n",
        "print(f'Answer [4] : {result:.3f}')"
      ],
      "execution_count": 70,
      "outputs": [
        {
          "output_type": "stream",
          "text": [
            "Answer [4] : 0.817\n"
          ],
          "name": "stdout"
        }
      ]
    }
  ]
}
