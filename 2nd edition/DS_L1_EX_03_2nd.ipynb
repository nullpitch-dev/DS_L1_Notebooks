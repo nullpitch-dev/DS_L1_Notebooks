{
  "nbformat": 4,
  "nbformat_minor": 0,
  "metadata": {
    "colab": {
      "name": "DS_L1_EX_03_2nd.ipynb",
      "provenance": [],
      "collapsed_sections": [],
      "include_colab_link": true
    },
    "kernelspec": {
      "name": "python3",
      "display_name": "Python 3"
    },
    "accelerator": "GPU"
  },
  "cells": [
    {
      "cell_type": "markdown",
      "metadata": {
        "id": "view-in-github",
        "colab_type": "text"
      },
      "source": [
        "<a href=\"https://colab.research.google.com/github/nullpitch-dev/DS_L1_Notebooks/blob/master/DS_L1_EX_03_2nd.ipynb\" target=\"_parent\"><img src=\"https://colab.research.google.com/assets/colab-badge.svg\" alt=\"Open In Colab\"/></a>"
      ]
    },
    {
      "cell_type": "code",
      "metadata": {
        "id": "QR5lPnyWJgs1",
        "colab_type": "code",
        "colab": {}
      },
      "source": [
        "import pandas as pd\n",
        "\n",
        "url = 'https://raw.githubusercontent.com/nullpitch-dev/hj_public/master/Antibiotic_70K_patinets.csv'\n",
        "data = pd.read_csv(url)"
      ],
      "execution_count": 0,
      "outputs": []
    },
    {
      "cell_type": "code",
      "metadata": {
        "id": "3gsPyMgb3LJJ",
        "colab_type": "code",
        "outputId": "7c26cd22-7587-4b97-8a72-5c7d258e9178",
        "colab": {
          "base_uri": "https://localhost:8080/",
          "height": 320
        }
      },
      "source": [
        "# [1]\n",
        "\n",
        "data.describe()"
      ],
      "execution_count": 2,
      "outputs": [
        {
          "output_type": "execute_result",
          "data": {
            "text/html": [
              "<div>\n",
              "<style scoped>\n",
              "    .dataframe tbody tr th:only-of-type {\n",
              "        vertical-align: middle;\n",
              "    }\n",
              "\n",
              "    .dataframe tbody tr th {\n",
              "        vertical-align: top;\n",
              "    }\n",
              "\n",
              "    .dataframe thead th {\n",
              "        text-align: right;\n",
              "    }\n",
              "</style>\n",
              "<table border=\"1\" class=\"dataframe\">\n",
              "  <thead>\n",
              "    <tr style=\"text-align: right;\">\n",
              "      <th></th>\n",
              "      <th>ID</th>\n",
              "      <th>total_d</th>\n",
              "      <th>high_d</th>\n",
              "      <th>low_d</th>\n",
              "      <th>none_high_d</th>\n",
              "      <th>high_p</th>\n",
              "      <th>cdiff</th>\n",
              "      <th>age_5</th>\n",
              "    </tr>\n",
              "  </thead>\n",
              "  <tbody>\n",
              "    <tr>\n",
              "      <th>count</th>\n",
              "      <td>70000.000000</td>\n",
              "      <td>70000.000000</td>\n",
              "      <td>70000.000000</td>\n",
              "      <td>70000.000000</td>\n",
              "      <td>70000.000000</td>\n",
              "      <td>70000.000000</td>\n",
              "      <td>70000.000000</td>\n",
              "      <td>70000.00000</td>\n",
              "    </tr>\n",
              "    <tr>\n",
              "      <th>mean</th>\n",
              "      <td>35000.500000</td>\n",
              "      <td>8.049771</td>\n",
              "      <td>3.774386</td>\n",
              "      <td>6.131871</td>\n",
              "      <td>4.275386</td>\n",
              "      <td>42.254031</td>\n",
              "      <td>0.021471</td>\n",
              "      <td>2.74870</td>\n",
              "    </tr>\n",
              "    <tr>\n",
              "      <th>std</th>\n",
              "      <td>20207.403759</td>\n",
              "      <td>13.885638</td>\n",
              "      <td>8.795789</td>\n",
              "      <td>11.502711</td>\n",
              "      <td>7.950063</td>\n",
              "      <td>39.836986</td>\n",
              "      <td>0.144951</td>\n",
              "      <td>1.56102</td>\n",
              "    </tr>\n",
              "    <tr>\n",
              "      <th>min</th>\n",
              "      <td>1.000000</td>\n",
              "      <td>2.000000</td>\n",
              "      <td>0.000000</td>\n",
              "      <td>0.000000</td>\n",
              "      <td>0.000000</td>\n",
              "      <td>0.000000</td>\n",
              "      <td>0.000000</td>\n",
              "      <td>1.00000</td>\n",
              "    </tr>\n",
              "    <tr>\n",
              "      <th>25%</th>\n",
              "      <td>17500.750000</td>\n",
              "      <td>2.000000</td>\n",
              "      <td>0.000000</td>\n",
              "      <td>2.000000</td>\n",
              "      <td>1.000000</td>\n",
              "      <td>0.000000</td>\n",
              "      <td>0.000000</td>\n",
              "      <td>1.00000</td>\n",
              "    </tr>\n",
              "    <tr>\n",
              "      <th>50%</th>\n",
              "      <td>35000.500000</td>\n",
              "      <td>4.000000</td>\n",
              "      <td>2.000000</td>\n",
              "      <td>3.000000</td>\n",
              "      <td>2.000000</td>\n",
              "      <td>37.500000</td>\n",
              "      <td>0.000000</td>\n",
              "      <td>3.00000</td>\n",
              "    </tr>\n",
              "    <tr>\n",
              "      <th>75%</th>\n",
              "      <td>52500.250000</td>\n",
              "      <td>8.000000</td>\n",
              "      <td>4.000000</td>\n",
              "      <td>6.000000</td>\n",
              "      <td>4.000000</td>\n",
              "      <td>80.000000</td>\n",
              "      <td>0.000000</td>\n",
              "      <td>4.00000</td>\n",
              "    </tr>\n",
              "    <tr>\n",
              "      <th>max</th>\n",
              "      <td>70000.000000</td>\n",
              "      <td>526.000000</td>\n",
              "      <td>368.000000</td>\n",
              "      <td>397.000000</td>\n",
              "      <td>294.000000</td>\n",
              "      <td>100.000000</td>\n",
              "      <td>1.000000</td>\n",
              "      <td>7.00000</td>\n",
              "    </tr>\n",
              "  </tbody>\n",
              "</table>\n",
              "</div>"
            ],
            "text/plain": [
              "                 ID       total_d  ...         cdiff        age_5\n",
              "count  70000.000000  70000.000000  ...  70000.000000  70000.00000\n",
              "mean   35000.500000      8.049771  ...      0.021471      2.74870\n",
              "std    20207.403759     13.885638  ...      0.144951      1.56102\n",
              "min        1.000000      2.000000  ...      0.000000      1.00000\n",
              "25%    17500.750000      2.000000  ...      0.000000      1.00000\n",
              "50%    35000.500000      4.000000  ...      0.000000      3.00000\n",
              "75%    52500.250000      8.000000  ...      0.000000      4.00000\n",
              "max    70000.000000    526.000000  ...      1.000000      7.00000\n",
              "\n",
              "[8 rows x 8 columns]"
            ]
          },
          "metadata": {
            "tags": []
          },
          "execution_count": 2
        }
      ]
    },
    {
      "cell_type": "code",
      "metadata": {
        "id": "riqiNOoQ3YCv",
        "colab_type": "code",
        "outputId": "caf3188b-bc26-4028-84a6-522c03a05aed",
        "colab": {
          "base_uri": "https://localhost:8080/",
          "height": 34
        }
      },
      "source": [
        "# [2]\n",
        "\n",
        "data2 = data.groupby('age_5').agg({'high_p': 'mean'})\n",
        "data2 = data2.sort_values(by='high_p', ascending=False)\n",
        "\n",
        "print(f'Answer [2] : {data2.index[0]}')"
      ],
      "execution_count": 3,
      "outputs": [
        {
          "output_type": "stream",
          "text": [
            "Answer [2] : 7\n"
          ],
          "name": "stdout"
        }
      ]
    },
    {
      "cell_type": "code",
      "metadata": {
        "id": "UjSi0OAS4pZT",
        "colab_type": "code",
        "outputId": "0b1a4899-15c2-420f-802e-2ee5d05e4100",
        "colab": {
          "base_uri": "https://localhost:8080/",
          "height": 34
        }
      },
      "source": [
        "# [3]\n",
        "\n",
        "import math\n",
        "\n",
        "# number of NAs\n",
        "no_na = data.isna().sum().sum()\n",
        "\n",
        "# find mean and standard deviation\n",
        "mean = math.floor(data['total_d'].mean() * 100) / 100\n",
        "std = math.floor(data['total_d'].std() * 100) / 100\n",
        "\n",
        "# define upper limit and lower limit\n",
        "ul = mean + 3 * std\n",
        "ll = mean - 3 * std\n",
        "\n",
        "# tag outlier\n",
        "data3 = data.assign(outlier=data.apply(lambda x:\n",
        "                                       1 if (x['total_d'] > ul) | (x['total_d'] < ll)\n",
        "                                       else 0, axis=1))\n",
        "\n",
        "# count outlier patient\n",
        "cnt = data3[data3['outlier'] == 1]['ID'].count()\n",
        "\n",
        "print(f'Answer [3] : {no_na}, {cnt}')"
      ],
      "execution_count": 4,
      "outputs": [
        {
          "output_type": "stream",
          "text": [
            "Answer [3] : 0, 1258\n"
          ],
          "name": "stdout"
        }
      ]
    },
    {
      "cell_type": "code",
      "metadata": {
        "id": "uv7Uccos7FqZ",
        "colab_type": "code",
        "outputId": "82abaf38-4051-4afe-983a-9a8ca4936e48",
        "colab": {
          "base_uri": "https://localhost:8080/",
          "height": 34
        }
      },
      "source": [
        "# [4] corr\n",
        "\n",
        "correl = data[['age_5', 'high_p']].corr(method='pearson')\n",
        "\n",
        "print(f'Answer [4] : {math.floor(correl.iloc[0][1] * 100) / 100}')"
      ],
      "execution_count": 5,
      "outputs": [
        {
          "output_type": "stream",
          "text": [
            "Answer [4] : 0.12\n"
          ],
          "name": "stdout"
        }
      ]
    },
    {
      "cell_type": "code",
      "metadata": {
        "id": "cMLIeaEr8QnW",
        "colab_type": "code",
        "outputId": "c8bb0c7d-afc2-4536-cd41-5850c42f622b",
        "colab": {
          "base_uri": "https://localhost:8080/",
          "height": 34
        }
      },
      "source": [
        "# [5] ttest_ind\n",
        "\n",
        "from scipy import stats\n",
        "import math\n",
        "\n",
        "cdiff_1 = data[data['cdiff'] == 1]\n",
        "cdiff_0 = data[data['cdiff'] == 0]\n",
        "\n",
        "# find difference between two means\n",
        "mean_diff = math.floor(\n",
        "            abs(cdiff_1['high_p'].mean() - cdiff_0['high_p'].mean()) *100) / 100\n",
        "\n",
        "# perform ttest_ind\n",
        "t_val, p_val = stats.ttest_ind(cdiff_1['high_p'], cdiff_0['high_p'])\n",
        "\n",
        "# decision: reject H0 or not\n",
        "if p_val < 0.05:\n",
        "    reject = True\n",
        "else:\n",
        "    reject = False\n",
        "\n",
        "print(f'Answer [5] : {mean_diff}, Mean is not same = {reject}')"
      ],
      "execution_count": 6,
      "outputs": [
        {
          "output_type": "stream",
          "text": [
            "Answer [5] : 4.79, Mean is not same = True\n"
          ],
          "name": "stdout"
        }
      ]
    },
    {
      "cell_type": "code",
      "metadata": {
        "id": "cqS8Fj9y_U5S",
        "colab_type": "code",
        "outputId": "f00078cc-ab44-4303-85b0-5012e7820945",
        "colab": {
          "base_uri": "https://localhost:8080/",
          "height": 34
        }
      },
      "source": [
        "# [6] LogisticRegression, array - get index with certain value or condition,\n",
        "#     enumerate, list comprehension, array - join array items into one string\n",
        "\n",
        "from sklearn.linear_model import LogisticRegression\n",
        "\n",
        "# define X variables\n",
        "X_cols = list(data.columns[1:4]) + list(data.columns[5:6]) + list(data.columns[7:8])\n",
        "\n",
        "# make training set\n",
        "train_X = data[X_cols]\n",
        "train_y = data['cdiff']\n",
        "\n",
        "# train\n",
        "lr = LogisticRegression(C=100000, random_state=1234, penalty='l2', solver='newton-cg')\n",
        "model = lr.fit(train_X, train_y)\n",
        "\n",
        "# find index of coef_ with minus value\n",
        "idx = [i for i, coeff in enumerate(model.coef_[0]) if coeff < 0]\n",
        "\n",
        "# find variable names with the found index\n",
        "variables = ', '.join([X_cols[i] for i in idx])\n",
        "\n",
        "print(f'Answer [6] : {variables}')"
      ],
      "execution_count": 7,
      "outputs": [
        {
          "output_type": "stream",
          "text": [
            "Answer [6] : high_d, low_d\n"
          ],
          "name": "stdout"
        }
      ]
    }
  ]
}
