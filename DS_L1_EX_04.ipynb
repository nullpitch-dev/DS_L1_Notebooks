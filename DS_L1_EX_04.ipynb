{
  "nbformat": 4,
  "nbformat_minor": 0,
  "metadata": {
    "colab": {
      "name": "DS_L1_EX#04",
      "provenance": [],
      "collapsed_sections": [],
      "include_colab_link": true
    },
    "kernelspec": {
      "display_name": "Python 3",
      "name": "python3"
    }
  },
  "cells": [
    {
      "cell_type": "markdown",
      "metadata": {
        "id": "view-in-github",
        "colab_type": "text"
      },
      "source": [
        "<a href=\"https://colab.research.google.com/github/nullpitch-dev/DS_L1_Notebooks/blob/master/DS_L1_EX_04.ipynb\" target=\"_parent\"><img src=\"https://colab.research.google.com/assets/colab-badge.svg\" alt=\"Open In Colab\"/></a>"
      ]
    },
    {
      "cell_type": "code",
      "metadata": {
        "id": "j6BvBx2BCOdk",
        "colab_type": "code",
        "colab": {}
      },
      "source": [
        "# [0]\n",
        "\n",
        "import pandas as pd\n",
        "\n",
        "# loading data from a csv fle\n",
        "url1 = 'https://raw.githubusercontent.com/nullpitch-dev/hj_public/master/corolla_1.csv'\n",
        "url2 = 'https://raw.githubusercontent.com/nullpitch-dev/hj_public/master/corolla_2.csv'\n",
        "data1 = pd.read_csv(url1)\n",
        "data2 = pd.read_csv(url2)\n",
        "data = pd.merge(left=data1, right=data2, on='ID')\n",
        "\n",
        "# removing null values(records)\n",
        "data = data.dropna()\n",
        "\n",
        "# creating a list of column names\n",
        "cols = list(data.columns)"
      ],
      "execution_count": 0,
      "outputs": []
    },
    {
      "cell_type": "code",
      "metadata": {
        "id": "60n9p_sswgcJ",
        "colab_type": "code",
        "outputId": "7c91c440-9394-4fd1-f86d-4a4ada49fe41",
        "colab": {
          "base_uri": "https://localhost:8080/",
          "height": 34
        }
      },
      "source": [
        "# [1]\n",
        "\n",
        "from scipy import stats\n",
        "import math\n",
        "\n",
        "price_auto = data[data['TransmissionType'] == 'Automatic']['Price']\n",
        "price_manu = data[data['TransmissionType'] == 'Manual']['Price']\n",
        "\n",
        "t_value, p_value = stats.ttest_ind(price_auto, price_manu)\n",
        "\n",
        "print(f'Answer [1] : p-value = {math.floor(p_value * 1000) / 1000}')"
      ],
      "execution_count": 0,
      "outputs": [
        {
          "output_type": "stream",
          "text": [
            "Answer [1] : p-value = 0.095\n"
          ],
          "name": "stdout"
        }
      ]
    },
    {
      "cell_type": "code",
      "metadata": {
        "id": "c0loPgT53izc",
        "colab_type": "code",
        "outputId": "5bca8937-ab33-4095-a3cb-19d2620bc41c",
        "colab": {
          "base_uri": "https://localhost:8080/",
          "height": 34
        }
      },
      "source": [
        "# [2]\n",
        "\n",
        "doors_2 = data[data['Doors'] == '2doors']['Price']\n",
        "doors_3 = data[data['Doors'] == '3doors']['Price']\n",
        "doors_4 = data[data['Doors'] == '4doors']['Price']\n",
        "doors_5 = data[data['Doors'] == '5doors']['Price']\n",
        "\n",
        "f_value, p_value = stats.f_oneway(doors_2, doors_3, doors_4, doors_5)\n",
        "\n",
        "print(f'Answer [2] : f-value = {math.floor(f_value * 100) / 100}, ' +\n",
        "      f'p-value = {math.floor(p_value * 10000) / 10000}')"
      ],
      "execution_count": 0,
      "outputs": [
        {
          "output_type": "stream",
          "text": [
            "Answer [2] : f-value = 6.65, p-value = 0.0001\n"
          ],
          "name": "stdout"
        }
      ]
    },
    {
      "cell_type": "code",
      "metadata": {
        "id": "YXyeIxmUVoyL",
        "colab_type": "code",
        "outputId": "370ed05d-b265-401c-a082-78f2ad2975f0",
        "colab": {
          "base_uri": "https://localhost:8080/",
          "height": 106
        }
      },
      "source": [
        "# [3]\n",
        "\n",
        "import statsmodels.api as sm\n",
        "\n",
        "data_corr = data.corr(method='pearson')\n",
        "corr_list = list(data_corr[abs(data_corr['Price']) >= 0.3].index)\n",
        "corr_list.remove('ID')\n",
        "corr_list.remove('Price')\n",
        "data_cat = pd.get_dummies(data, columns=cols[7:], drop_first=True)\n",
        "\n",
        "train_x = pd.concat([data[corr_list], data_cat[data_cat.columns[7:]]], axis=1)\n",
        "train_y = data['Price']\n",
        "\n",
        "train_x = sm.add_constant(train_x)\n",
        "model = sm.OLS(train_y, train_x)\n",
        "results = model.fit()\n",
        "\n",
        "cnt = 0\n",
        "for index, pvalue in enumerate(results.pvalues):\n",
        "    if index == 0:\n",
        "        continue\n",
        "    if pvalue <= 0.05:\n",
        "        cnt += 1\n",
        "\n",
        "print(f'Answer [3] No of variant = {cnt}, ' +\n",
        "      f'Adjusted R2 = {math.floor(results.rsquared_adj * 1000) / 1000:.3f}\\n')"
      ],
      "execution_count": 0,
      "outputs": [
        {
          "output_type": "stream",
          "text": [
            "Answer [3] No of variant = 5, Adjusted R2 = 0.860\n",
            "\n"
          ],
          "name": "stdout"
        },
        {
          "output_type": "stream",
          "text": [
            "/usr/local/lib/python3.6/dist-packages/numpy/core/fromnumeric.py:2495: FutureWarning: Method .ptp is deprecated and will be removed in a future version. Use numpy.ptp instead.\n",
            "  return ptp(axis=axis, out=out, **kwargs)\n"
          ],
          "name": "stderr"
        }
      ]
    },
    {
      "cell_type": "code",
      "metadata": {
        "id": "u0G8F4Fl0Yzo",
        "colab_type": "code",
        "outputId": "c3db7435-5b64-458d-cebe-9eb97fb0aa5c",
        "colab": {
          "base_uri": "https://localhost:8080/",
          "height": 34
        }
      },
      "source": [
        "# [4]\n",
        "\n",
        "value = [[1.0, 5, 50000, 143, 1170, 1, 0, 0, 0, 1, 0]]\n",
        "columns = ['const', 'Age', 'KM', 'HP', 'Weight', 'FuelType_Diesel',\n",
        "           'FuelType_Petrol', 'TransmissionType_Manual', 'Doors_3doors',\n",
        "           'Doors_4doors', 'Doors_5doors']\n",
        "test = pd.DataFrame(value, columns=columns)\n",
        "\n",
        "predicts = results.predict(test)\n",
        "\n",
        "print(f'Answer [4] : Predicted price = {math.floor(predicts)}')"
      ],
      "execution_count": 0,
      "outputs": [
        {
          "output_type": "stream",
          "text": [
            "Answer [4] : Predicted price = 21053\n"
          ],
          "name": "stdout"
        }
      ]
    }
  ]
}