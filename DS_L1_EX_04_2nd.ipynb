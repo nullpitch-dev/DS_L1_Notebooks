{
  "nbformat": 4,
  "nbformat_minor": 0,
  "metadata": {
    "colab": {
      "name": "DS_L1_EX_04_2nd.ipynb",
      "provenance": [],
      "collapsed_sections": [],
      "include_colab_link": true
    },
    "kernelspec": {
      "name": "python3",
      "display_name": "Python 3"
    },
    "accelerator": "GPU"
  },
  "cells": [
    {
      "cell_type": "markdown",
      "metadata": {
        "id": "view-in-github",
        "colab_type": "text"
      },
      "source": [
        "<a href=\"https://colab.research.google.com/github/nullpitch-dev/DS_L1_Notebooks/blob/master/DS_L1_EX_04_2nd.ipynb\" target=\"_parent\"><img src=\"https://colab.research.google.com/assets/colab-badge.svg\" alt=\"Open In Colab\"/></a>"
      ]
    },
    {
      "cell_type": "code",
      "metadata": {
        "id": "QR5lPnyWJgs1",
        "colab_type": "code",
        "colab": {}
      },
      "source": [
        "import pandas as pd\n",
        "\n",
        "url_1 = 'https://raw.githubusercontent.com/nullpitch-dev/hj_public/master/corolla_1.csv'\n",
        "url_2 = 'https://raw.githubusercontent.com/nullpitch-dev/hj_public/master/corolla_2.csv'\n",
        "data_1 = pd.read_csv(url_1)\n",
        "data_2 = pd.read_csv(url_2)"
      ],
      "execution_count": 0,
      "outputs": []
    },
    {
      "cell_type": "code",
      "metadata": {
        "id": "AI5OsbPmGEUN",
        "colab_type": "code",
        "colab": {}
      },
      "source": [
        "# [0]\n",
        "\n",
        "# merge two tables\n",
        "base = pd.merge(data_1, data_2, how='inner', on='ID')\n",
        "\n",
        "# drop NAs\n",
        "base = base.dropna()"
      ],
      "execution_count": 0,
      "outputs": []
    },
    {
      "cell_type": "code",
      "metadata": {
        "id": "j0QYThWtO2aT",
        "colab_type": "code",
        "colab": {
          "base_uri": "https://localhost:8080/",
          "height": 34
        },
        "outputId": "cc83014e-d32f-4c42-b99f-2998a58f9bd7"
      },
      "source": [
        "# [1] ttest_ind\n",
        "\n",
        "from scipy import stats\n",
        "import math\n",
        "\n",
        "# create input data set\n",
        "auto = base[base['TransmissionType'] == 'Automatic']['Price']\n",
        "manual = base[base['TransmissionType'] == 'Manual']['Price']\n",
        "\n",
        "# perform ttest_ind\n",
        "t_val, p_val = stats.ttest_ind(auto, manual, equal_var=True)\n",
        "\n",
        "print(f'Answer [1] : {math.floor(p_val * 1000) / 1000}')"
      ],
      "execution_count": 22,
      "outputs": [
        {
          "output_type": "stream",
          "text": [
            "Answer [1] : 0.095\n"
          ],
          "name": "stdout"
        }
      ]
    },
    {
      "cell_type": "code",
      "metadata": {
        "id": "2YGZOjlKPxDj",
        "colab_type": "code",
        "colab": {
          "base_uri": "https://localhost:8080/",
          "height": 34
        },
        "outputId": "12b9aadd-88fb-4571-e6a3-c653d986df67"
      },
      "source": [
        "# [2] ANOVA\n",
        "\n",
        "from statsmodels.formula.api import ols\n",
        "from statsmodels.stats.anova import anova_lm\n",
        "import math\n",
        "\n",
        "# analyze ANNOVA\n",
        "ols_result = ols(formula='Price ~ C(Doors)', data=base).fit()\n",
        "anova_table = anova_lm(ols_result)\n",
        "\n",
        "# get result\n",
        "f_val = anova_table['F'][0]\n",
        "p_val = anova_table['PR(>F)'][0]\n",
        "\n",
        "print(f'Answer [2] : {math.floor(f_val * 100) / 100}, ' +\n",
        "      f'{math.floor(p_val * 10000) / 10000}')"
      ],
      "execution_count": 23,
      "outputs": [
        {
          "output_type": "stream",
          "text": [
            "Answer [2] : 6.65, 0.0001\n"
          ],
          "name": "stdout"
        }
      ]
    },
    {
      "cell_type": "code",
      "metadata": {
        "id": "rHmkqu2MRK2a",
        "colab_type": "code",
        "colab": {
          "base_uri": "https://localhost:8080/",
          "height": 89
        },
        "outputId": "920e3983-8721-4137-9e0b-7e7a6d1ee119"
      },
      "source": [
        "# [3] corr, LinearRegression(OLS), list comprehension, enumerate, get_dummies, \n",
        "#     Series to DataFrame\n",
        "\n",
        "import statsmodels.api as sm\n",
        "import math\n",
        "\n",
        "# find correlation\n",
        "correl = base.corr(method='pearson')\n",
        "correl_col = correl.columns[2:] # define X variables\n",
        "correl_val = correl[correl_col].loc['Price'] # find corr values\n",
        "\n",
        "# find variables with abs(corr) greater than 0.3\n",
        "X_cols1 = [correl_col[i] for i, v in enumerate(correl_val) if abs(v) >= 0.3]\n",
        "\n",
        "# create dummy variables\n",
        "data3 = pd.get_dummies(base, columns=base.columns[7:], drop_first=True)\n",
        "X_cols2 = data3.columns[7:]\n",
        "\n",
        "# define X variables\n",
        "X_cols = list(X_cols1) + list(X_cols2)\n",
        "\n",
        "# create train set\n",
        "train_X = data3[X_cols]\n",
        "train_y = data3['Price']\n",
        "\n",
        "# train\n",
        "train_X = sm.add_constant(train_X)\n",
        "model = sm.OLS(train_y, train_X)\n",
        "reg_result = model.fit()\n",
        "\n",
        "# find meaningful variables (P-value <= 0.05)\n",
        "p_vals = reg_result.pvalues\n",
        "reg_df = pd.DataFrame({'X': p_vals.index, 'p-value': p_vals.values})\n",
        "effective_var = reg_df[reg_df['p-value'] <= 0.05]  # filter by p-value\n",
        "effective_var = effective_var[effective_var['X'] != 'const']  # exclude const\n",
        "count = effective_var['X'].count() # counting\n",
        "\n",
        "# find Adjusted R^2\n",
        "adj_r2 = reg_result.rsquared_adj\n",
        "\n",
        "print(f'Answer [3] : {count}, {math.floor(adj_r2 * 1000) / 1000:.3f}')"
      ],
      "execution_count": 29,
      "outputs": [
        {
          "output_type": "stream",
          "text": [
            "Answer [3] : 5, 0.860\n"
          ],
          "name": "stdout"
        },
        {
          "output_type": "stream",
          "text": [
            "/usr/local/lib/python3.6/dist-packages/numpy/core/fromnumeric.py:2542: FutureWarning: Method .ptp is deprecated and will be removed in a future version. Use numpy.ptp instead.\n",
            "  return ptp(axis=axis, out=out, **kwargs)\n"
          ],
          "name": "stderr"
        }
      ]
    },
    {
      "cell_type": "code",
      "metadata": {
        "id": "Bs3kSQqsTKn_",
        "colab_type": "code",
        "colab": {
          "base_uri": "https://localhost:8080/",
          "height": 34
        },
        "outputId": "540eac0d-b102-449f-c1f3-57e9c2daa076"
      },
      "source": [
        "# [4]\n",
        "\n",
        "import math\n",
        "\n",
        "# create test data\n",
        "# variables including p-val > 0.05, excluding corr < 0.3, including const\n",
        "sample = [[1, 5, 50000, 143, 1170, 1, 0, 0, 0, 1, 0]]\n",
        "sample_df = pd.DataFrame(sample, columns=train_X.columns)\n",
        "\n",
        "# predict\n",
        "pred = reg_result.predict(sample_df)\n",
        "\n",
        "print(f'Answer [4] : {math.floor(pred)}')"
      ],
      "execution_count": 30,
      "outputs": [
        {
          "output_type": "stream",
          "text": [
            "Answer [4] : 21053\n"
          ],
          "name": "stdout"
        }
      ]
    }
  ]
}