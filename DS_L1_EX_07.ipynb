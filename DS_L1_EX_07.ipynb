{
  "nbformat": 4,
  "nbformat_minor": 0,
  "metadata": {
    "colab": {
      "name": "DS_L1_EX#07",
      "provenance": [],
      "collapsed_sections": [],
      "include_colab_link": true
    },
    "kernelspec": {
      "display_name": "Python 3",
      "name": "python3"
    }
  },
  "cells": [
    {
      "cell_type": "markdown",
      "metadata": {
        "id": "view-in-github",
        "colab_type": "text"
      },
      "source": [
        "<a href=\"https://colab.research.google.com/github/nullpitch-dev/DS_L1_Notebooks/blob/master/DS_L1_EX_07.ipynb\" target=\"_parent\"><img src=\"https://colab.research.google.com/assets/colab-badge.svg\" alt=\"Open In Colab\"/></a>"
      ]
    },
    {
      "cell_type": "code",
      "metadata": {
        "id": "j6BvBx2BCOdk",
        "colab_type": "code",
        "colab": {}
      },
      "source": [
        "import pandas as pd\n",
        "\n",
        "# loading data from a csv fle\n",
        "url = 'https://raw.githubusercontent.com/nullpitch-dev/hj_public/master/R_pop_stat.csv'\n",
        "data = pd.read_csv(url)\n",
        "\n",
        "# preprocessing loaded\n",
        "data = data.dropna(subset=['AGE'])\n",
        "data = data[(data['AGE'] >= 20) & (data['AGE'] <= 50)]\n",
        "\n",
        "data_dummy = pd.get_dummies(data, columns=['SEX', 'SCHL', 'WORK'], drop_first=True)"
      ],
      "execution_count": 0,
      "outputs": []
    },
    {
      "cell_type": "code",
      "metadata": {
        "id": "pK-dJuGSk2E5",
        "colab_type": "code",
        "outputId": "f5b3feb5-6d1e-4ae7-fe31-242c40b40ff2",
        "colab": {
          "base_uri": "https://localhost:8080/",
          "height": 34
        }
      },
      "source": [
        "# [1]\n",
        "\n",
        "mean_income = data['INCOME'].mean()\n",
        "std_income = data['INCOME'].std()\n",
        "\n",
        "ul = mean_income + 3 * std_income\n",
        "ll = mean_income - 3 * std_income\n",
        "\n",
        "outlier = data[(data['INCOME'] > ul) | (data['INCOME'] < ll)]\n",
        "range = outlier['INCOME'].max() - outlier['INCOME'].min()\n",
        "\n",
        "print(f'Answer [1] : Range = {range:.0f}')\n",
        "\n",
        "data = data[(data['INCOME'] <= ul) & (data['INCOME'] >= ll)]\n",
        "data_dummy = data_dummy[(data_dummy['INCOME'] <= ul) & (data_dummy['INCOME'] >= ll)]"
      ],
      "execution_count": 0,
      "outputs": [
        {
          "output_type": "stream",
          "text": [
            "Answer [1] : Range = 3325000\n"
          ],
          "name": "stdout"
        }
      ]
    },
    {
      "cell_type": "code",
      "metadata": {
        "id": "LCY1yBbgwD0_",
        "colab_type": "code",
        "outputId": "5f1c268f-47f4-43a0-c074-7b8fb4fa447d",
        "colab": {
          "base_uri": "https://localhost:8080/",
          "height": 34
        }
      },
      "source": [
        "# [2]\n",
        "\n",
        "import math\n",
        "\n",
        "data2 = data[data['INCOME'] >= data['INCOME'].quantile(q=0.75)]\n",
        "corr = data2['INCOME'].corr(data2['AGE'], method='spearman')\n",
        "\n",
        "print(f'Answer [2] : Correlation = {math.floor(corr * 1000) / 1000}')"
      ],
      "execution_count": 0,
      "outputs": [
        {
          "output_type": "stream",
          "text": [
            "Answer [2] : Correlation = 0.115\n"
          ],
          "name": "stdout"
        }
      ]
    },
    {
      "cell_type": "code",
      "metadata": {
        "id": "Y5Lj3dHVozmK",
        "colab_type": "code",
        "outputId": "dfd9a497-bf72-4d83-d332-e342653912fa",
        "colab": {
          "base_uri": "https://localhost:8080/",
          "height": 34
        }
      },
      "source": [
        "# [3]\n",
        "\n",
        "from scipy.stats import chi2_contingency\n",
        "import numpy as np\n",
        "\n",
        "data3 = data\n",
        "data3['High'] = data3['INCOME'].apply(lambda x: 1 if x >= 25000 else 0)\n",
        "temp = data3.groupby(['High', 'WORK']).count()\n",
        "temp.reset_index(level=['High', 'WORK'], inplace=True)\n",
        "temp = temp[['High', 'WORK', 'AGE']]\n",
        "\n",
        "cont = pd.DataFrame({'Low': list(temp['AGE'][:4]),\n",
        "                     'High': list(temp['AGE'][4:])},\n",
        "                     index=['공무원', '기업', '비영리단체', '자영업'])\n",
        "\n",
        "stat, p_value, dof, expected = chi2_contingency(cont)\n",
        "\n",
        "print(f'Answer [3] : P-value = {p_value:.5f}')"
      ],
      "execution_count": 0,
      "outputs": [
        {
          "output_type": "stream",
          "text": [
            "Answer [3] : P-value = 0.00044\n"
          ],
          "name": "stdout"
        }
      ]
    },
    {
      "cell_type": "code",
      "metadata": {
        "id": "PzBXm3o5oT6C",
        "colab_type": "code",
        "outputId": "8dc62458-32ff-4b81-8b01-ad52cf5732d9",
        "colab": {
          "base_uri": "https://localhost:8080/",
          "height": 34
        }
      },
      "source": [
        "# [4]\n",
        "\n",
        "import math\n",
        "from sklearn.linear_model import LinearRegression\n",
        "\n",
        "data4 = data_dummy[data_dummy['XGRP'] <= 7]\n",
        "\n",
        "cols = list(data4.columns)\n",
        "cols.remove('INCOME')\n",
        "cols.remove('XGRP')\n",
        "\n",
        "train_x = data4[cols]\n",
        "train_y = data4['INCOME'].apply(lambda x: math.log10(x))\n",
        "\n",
        "lr = LinearRegression()\n",
        "lr.fit(train_x, train_y)\n",
        "\n",
        "test = pd.DataFrame({'AGE': 38, 'SEX_여': 0, 'SCHL_박사': 0, 'SCHL_석사': 0,\n",
        "                     'SCHL_전문학사': 0, 'SCHL_중졸이하': 0, 'SCHL_학사': 1,\n",
        "                     'WORK_기업': 0, 'WORK_비영리단체': 1, 'WORK_자영업': 0},\n",
        "                     index={0})\n",
        "\n",
        "pred = lr.predict(test)\n",
        "\n",
        "print(f'Answer [4] : Prediction = {round(10 ** (pred[0]), -2):.0f}')"
      ],
      "execution_count": 0,
      "outputs": [
        {
          "output_type": "stream",
          "text": [
            "Answer [4] : Prediction = 47400\n"
          ],
          "name": "stdout"
        }
      ]
    },
    {
      "cell_type": "code",
      "metadata": {
        "id": "gKO_fpyhxME6",
        "colab_type": "code",
        "outputId": "6870085d-6056-4a02-d709-82025584c4e9",
        "colab": {
          "base_uri": "https://localhost:8080/",
          "height": 34
        }
      },
      "source": [
        "# [5]\n",
        "\n",
        "from sklearn.metrics import mean_squared_error\n",
        "\n",
        "data5 = data_dummy[data_dummy['XGRP'] > 7]\n",
        "\n",
        "test_x = data5[cols]\n",
        "test_y = data5['INCOME'].apply(lambda x: math.log10(x))\n",
        "\n",
        "preds = lr.predict(test_x)\n",
        "mse = mean_squared_error(test_y, preds)\n",
        "rmse = np.sqrt(mse)\n",
        "\n",
        "print(f'Answer [5] : RMSE = {rmse:.2f}')"
      ],
      "execution_count": 0,
      "outputs": [
        {
          "output_type": "stream",
          "text": [
            "Answer [5] : RMSE = 0.29\n"
          ],
          "name": "stdout"
        }
      ]
    }
  ]
}