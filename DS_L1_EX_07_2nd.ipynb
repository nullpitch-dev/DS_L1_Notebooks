{
  "nbformat": 4,
  "nbformat_minor": 0,
  "metadata": {
    "colab": {
      "name": "DS_L1_EX_07_2nd.ipynb",
      "provenance": [],
      "collapsed_sections": [],
      "include_colab_link": true
    },
    "kernelspec": {
      "name": "python3",
      "display_name": "Python 3"
    },
    "accelerator": "GPU"
  },
  "cells": [
    {
      "cell_type": "markdown",
      "metadata": {
        "id": "view-in-github",
        "colab_type": "text"
      },
      "source": [
        "<a href=\"https://colab.research.google.com/github/nullpitch-dev/DS_L1_Notebooks/blob/master/DS_L1_EX_07_2nd.ipynb\" target=\"_parent\"><img src=\"https://colab.research.google.com/assets/colab-badge.svg\" alt=\"Open In Colab\"/></a>"
      ]
    },
    {
      "cell_type": "code",
      "metadata": {
        "id": "QR5lPnyWJgs1",
        "colab_type": "code",
        "colab": {}
      },
      "source": [
        "import pandas as pd\n",
        "\n",
        "url = 'https://raw.githubusercontent.com/nullpitch-dev/hj_public/master/R_pop_stat.csv'\n",
        "data = pd.read_csv(url)"
      ],
      "execution_count": 0,
      "outputs": []
    },
    {
      "cell_type": "code",
      "metadata": {
        "id": "890suIvx6EuK",
        "colab_type": "code",
        "colab": {}
      },
      "source": [
        "# [0] get_dummies\n",
        "\n",
        "# drop NAs\n",
        "base = data.dropna(subset=['AGE', 'INCOME', 'XGRP'])\n",
        "\n",
        "# filter by age\n",
        "base = base[(base['AGE'] >= 20) & (base['AGE'] <= 50)]\n",
        "\n",
        "# get dummy variables\n",
        "base = pd.get_dummies(base, columns=['SEX', 'SCHL', 'WORK'], drop_first=True)"
      ],
      "execution_count": 0,
      "outputs": []
    },
    {
      "cell_type": "code",
      "metadata": {
        "id": "eJ47BG6k7oG8",
        "colab_type": "code",
        "outputId": "8447dfce-046b-4e2c-c5ce-e3045c19e214",
        "colab": {
          "base_uri": "https://localhost:8080/",
          "height": 34
        }
      },
      "source": [
        "# [1]\n",
        "\n",
        "mean = base.INCOME.mean()\n",
        "std = base.INCOME.std()\n",
        "\n",
        "ul = mean + 3 * std\n",
        "ll = mean - 3 * std\n",
        "\n",
        "# check outliers\n",
        "base = base.assign(outlier=base.INCOME.apply(lambda x: 1 if (x > ul) | (x < ll)\n",
        "                                                         else 0))\n",
        "\n",
        "# get max and min\n",
        "max = base[base.outlier == 1].INCOME.max()\n",
        "min = base[base.outlier == 1].INCOME.min()\n",
        "\n",
        "print(f'Answer [1] : {max - min:.0f}')\n",
        "\n",
        "base = base[base.outlier == 0]"
      ],
      "execution_count": 37,
      "outputs": [
        {
          "output_type": "stream",
          "text": [
            "Answer [1] : 3325000\n"
          ],
          "name": "stdout"
        }
      ]
    },
    {
      "cell_type": "code",
      "metadata": {
        "id": "Xku-i_g2WErW",
        "colab_type": "code",
        "colab": {
          "base_uri": "https://localhost:8080/",
          "height": 34
        },
        "outputId": "b775133b-0ad0-4b81-8d05-9c9bf8f39160"
      },
      "source": [
        "# [2]\n",
        "\n",
        "import math\n",
        "\n",
        "corr = base[base.INCOME >= base.INCOME.quantile(0.75)][['INCOME', 'AGE']].corr(\n",
        "                                                              method='spearman')\n",
        "print(f'Answer [2] : {math.floor(corr.iloc[0, 1] * 1000) / 1000}')"
      ],
      "execution_count": 38,
      "outputs": [
        {
          "output_type": "stream",
          "text": [
            "Answer [2] : 0.115\n"
          ],
          "name": "stdout"
        }
      ]
    },
    {
      "cell_type": "code",
      "metadata": {
        "id": "-yOzklFuYA70",
        "colab_type": "code",
        "colab": {
          "base_uri": "https://localhost:8080/",
          "height": 34
        },
        "outputId": "c2b46ca7-e7aa-4ab3-93db-5526ab19c604"
      },
      "source": [
        "# [3] chi2_contingency, pivot_table\n",
        "\n",
        "from scipy.stats import chi2_contingency\n",
        "\n",
        "# check if INCOME >= 25000\n",
        "base = base.assign(h_income=base.INCOME.apply(lambda x: 'High' if x >=25000\n",
        "                                                               else 'Low'))\n",
        "\n",
        "# get original WORK column\n",
        "data3 = pd.merge(base, data.WORK, how='left', left_index=True, right_index=True)\n",
        "\n",
        "# make pivot talbe\n",
        "pivot = data3.pivot_table(index=['WORK'], columns=['h_income'], aggfunc='size')\n",
        "\n",
        "# perform chi2 test and get P-value\n",
        "_, p_val, _, _ = chi2_contingency(pivot)\n",
        "\n",
        "# decision \n",
        "if p_val < 0.05:\n",
        "    decision = 'Reject H0, there is relationship'\n",
        "else:\n",
        "    decision = 'Cannot reject H0, there is no relationship'\n",
        "\n",
        "print(f'Answer [3] : {p_val:.5f}, {decision}')"
      ],
      "execution_count": 39,
      "outputs": [
        {
          "output_type": "stream",
          "text": [
            "Answer [3] : 0.00044, Reject H0, there is relationship\n"
          ],
          "name": "stdout"
        }
      ]
    },
    {
      "cell_type": "code",
      "metadata": {
        "id": "OczoE8JjZ51I",
        "colab_type": "code",
        "colab": {
          "base_uri": "https://localhost:8080/",
          "height": 34
        },
        "outputId": "44ea9987-1c3b-4207-df02-523f00744193"
      },
      "source": [
        "# [4] LinearRegression, log10(x), 10 ** x\n",
        "\n",
        "import math\n",
        "from sklearn.linear_model import LinearRegression\n",
        "\n",
        "# prepare train set\n",
        "X_cols = list(base.columns[0:1]) + list(base.columns[3:-2])\n",
        "train_X = base[base.XGRP <= 7][X_cols]\n",
        "train_y = base[base.XGRP <= 7].INCOME.apply(lambda x: math.log10(x))\n",
        "\n",
        "# train\n",
        "lr = LinearRegression()\n",
        "model = lr.fit(train_X, train_y)\n",
        "\n",
        "# predict\n",
        "sample = pd.DataFrame([[38, 0, 0, 0, 0, 0, 1, 0, 1, 0]], columns=X_cols)\n",
        "pred = model.predict(sample)\n",
        "\n",
        "print(f'Answer [4] : {round(10 ** pred[0], -2):.0f}')"
      ],
      "execution_count": 40,
      "outputs": [
        {
          "output_type": "stream",
          "text": [
            "Answer [4] : 47400\n"
          ],
          "name": "stdout"
        }
      ]
    },
    {
      "cell_type": "code",
      "metadata": {
        "id": "uRLig4L0d6Nu",
        "colab_type": "code",
        "colab": {
          "base_uri": "https://localhost:8080/",
          "height": 34
        },
        "outputId": "c27f0c0f-e651-4ee3-e353-93e8471350dc"
      },
      "source": [
        "# [5] mean_squared_error\n",
        "\n",
        "from sklearn.metrics import mean_squared_error\n",
        "import numpy as np\n",
        "\n",
        "# prepare test set\n",
        "test_X = base[base.XGRP > 7][X_cols]\n",
        "test_y = base[base.XGRP > 7].INCOME.apply(lambda x: math.log10(x))\n",
        "\n",
        "# predict\n",
        "pred_5 = model.predict(test_X)\n",
        "\n",
        "# calculate root mean squared error\n",
        "rmse = np.sqrt(mean_squared_error(test_y, pred_5))\n",
        "\n",
        "print(f'Answer [5] : {rmse:.2f}')"
      ],
      "execution_count": 41,
      "outputs": [
        {
          "output_type": "stream",
          "text": [
            "Answer [5] : 0.29\n"
          ],
          "name": "stdout"
        }
      ]
    }
  ]
}