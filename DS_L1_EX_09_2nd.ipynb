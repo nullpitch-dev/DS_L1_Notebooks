{
  "nbformat": 4,
  "nbformat_minor": 0,
  "metadata": {
    "colab": {
      "name": "DS_L1_EX_09_2nd.ipynb",
      "provenance": [],
      "collapsed_sections": [],
      "include_colab_link": true
    },
    "kernelspec": {
      "name": "python3",
      "display_name": "Python 3"
    },
    "accelerator": "GPU"
  },
  "cells": [
    {
      "cell_type": "markdown",
      "metadata": {
        "id": "view-in-github",
        "colab_type": "text"
      },
      "source": [
        "<a href=\"https://colab.research.google.com/github/nullpitch-dev/DS_L1_Notebooks/blob/master/DS_L1_EX_09_2nd.ipynb\" target=\"_parent\"><img src=\"https://colab.research.google.com/assets/colab-badge.svg\" alt=\"Open In Colab\"/></a>"
      ]
    },
    {
      "cell_type": "code",
      "metadata": {
        "id": "QR5lPnyWJgs1",
        "colab_type": "code",
        "colab": {}
      },
      "source": [
        "import pandas as pd\n",
        "\n",
        "url = 'https://raw.githubusercontent.com/nullpitch-dev/hj_public/master/Womens_Clothing_Reviews.csv'\n",
        "data = pd.read_csv(url)"
      ],
      "execution_count": 0,
      "outputs": []
    },
    {
      "cell_type": "code",
      "metadata": {
        "id": "GW2AP6ZX5-2e",
        "colab_type": "code",
        "colab": {}
      },
      "source": [
        "# [0]\n",
        "\n",
        "# dropna\n",
        "base = data.dropna(subset=['Seq', 'ClothingID', 'Age', 'TitleLength',\n",
        "                           'ReviewTextLength', 'Rating'])\n",
        "\n",
        "# get age category\n",
        "def getAgeCt(x):\n",
        "    if (x >= 20) & (x < 30):\n",
        "        return 'A'\n",
        "    elif (x >= 30) & (x < 40):\n",
        "        return 'B'\n",
        "    elif (x >= 40) & (x < 50):\n",
        "        return 'C'\n",
        "    elif (x >= 50) & (x < 60):\n",
        "        return 'D'\n",
        "    else:\n",
        "        return 'E'\n",
        "\n",
        "base = base.assign(ageCD=base.Age.apply(lambda x: getAgeCt(x)))\n",
        "\n",
        "# get rating category\n",
        "base = base.assign(Pos_Neg=base.Rating.apply(lambda x: 1 if x > 4 else 0))"
      ],
      "execution_count": 0,
      "outputs": []
    },
    {
      "cell_type": "code",
      "metadata": {
        "id": "T7v3dT5HMGYV",
        "colab_type": "code",
        "colab": {
          "base_uri": "https://localhost:8080/",
          "height": 34
        },
        "outputId": "e1cacd35-5162-4341-a35c-008effe7e69a"
      },
      "source": [
        "# [1] coefficient of variation\n",
        "\n",
        "# get mean and std\n",
        "dept_mean = base.groupby('DepartmentName').agg({'Rating': 'mean'})\n",
        "dept_std = base.groupby('DepartmentName').agg({'Rating': 'std'})\n",
        "\n",
        "# merge mean and std in one table\n",
        "dept = pd.merge(dept_mean, dept_std, how='inner', left_index=True,\n",
        "                right_index=True, suffixes=('_mean', '_std'))\n",
        "\n",
        "# calculate coefficient of variation\n",
        "dept = dept.assign(CV=dept.apply(lambda x: x.Rating_std / x.Rating_mean,\n",
        "                                 axis=1))\n",
        "\n",
        "# get max CV\n",
        "dept = dept.sort_values(by='CV', ascending=False)\n",
        "top_dept = dept.index[0]\n",
        "top_CV = dept.CV.iloc[0]\n",
        "\n",
        "print(f'Answer [1] : {top_dept}, {top_CV:.2f}')"
      ],
      "execution_count": 97,
      "outputs": [
        {
          "output_type": "stream",
          "text": [
            "Answer [1] : Trend, 0.35\n"
          ],
          "name": "stdout"
        }
      ]
    },
    {
      "cell_type": "code",
      "metadata": {
        "id": "dGTWz--QMzZp",
        "colab_type": "code",
        "colab": {
          "base_uri": "https://localhost:8080/",
          "height": 34
        },
        "outputId": "88a91381-e8cb-4288-baed-8a03c0d0453a"
      },
      "source": [
        "# [2]\n",
        "\n",
        "import math\n",
        "\n",
        "# groupby ClothingID and get rating counts and pos rating counts by sum\n",
        "data2 = base.groupby('ClothingID').agg({'Rating': 'count', 'Pos_Neg': 'sum'})\n",
        "\n",
        "# filter by counts >= 30\n",
        "data2 = data2[data2.Rating >= 30]\n",
        "\n",
        "# calculate positive rate\n",
        "data2 = data2.assign(PR=data2.apply(lambda x: x['Pos_Neg'] / x['Rating'],\n",
        "                                    axis=1))\n",
        "\n",
        "# get 2nd highest positive rating item\n",
        "data2 = data2.sort_values(by='PR', ascending=False)\n",
        "top2_clothing = data2.index[1]\n",
        "top2_PR = data2.PR.iloc[1]\n",
        "\n",
        "print(f'Answer [2] : {top2_clothing:.0f}, {math.floor(top2_PR * 1000) / 1000}')"
      ],
      "execution_count": 98,
      "outputs": [
        {
          "output_type": "stream",
          "text": [
            "Answer [2] : 964, 0.794\n"
          ],
          "name": "stdout"
        }
      ]
    },
    {
      "cell_type": "code",
      "metadata": {
        "id": "GYbj_W_AP4mS",
        "colab_type": "code",
        "colab": {
          "base_uri": "https://localhost:8080/",
          "height": 34
        },
        "outputId": "3cdd223f-6ff8-42f3-de55-cf6770a76b0a"
      },
      "source": [
        "# [3] ANOVA test\n",
        "\n",
        "from statsmodels.formula.api import ols\n",
        "from statsmodels.stats.anova import anova_lm\n",
        "import math\n",
        "\n",
        "# perform ANOVA test\n",
        "ols_reg = ols(formula='Rating ~ C(ageCD)', data=base).fit()\n",
        "anova_table = anova_lm(ols_reg)\n",
        "\n",
        "# get test result\n",
        "p_val = anova_table['PR(>F)'].iloc[0]\n",
        "t_val = anova_table['F'].iloc[0]\n",
        "\n",
        "if p_val < 0.05:\n",
        "    reject = 'Reject H0, so MUs are not same'\n",
        "else:\n",
        "    reject = 'Cannot reject H0, so MUs are same'\n",
        "\n",
        "print(f'Answer [3] : {reject}, {math.floor(t_val * 10000) / 10000}')"
      ],
      "execution_count": 99,
      "outputs": [
        {
          "output_type": "stream",
          "text": [
            "Answer [3] : Reject H0, so MUs are not same, 8.4989\n"
          ],
          "name": "stdout"
        }
      ]
    },
    {
      "cell_type": "code",
      "metadata": {
        "id": "UXpcoF3bTcvR",
        "colab_type": "code",
        "colab": {
          "base_uri": "https://localhost:8080/",
          "height": 34
        },
        "outputId": "088e746a-c525-4ee1-c0c6-235b18cfddd6"
      },
      "source": [
        "# [4] LogisticRegression, get_dummies\n",
        "\n",
        "from sklearn.linear_model import LogisticRegression\n",
        "\n",
        "# exclude ClassName == '0'\n",
        "data4 = base[base.ClassName != '0']\n",
        "\n",
        "# get dummy vairables\n",
        "data4 = pd.get_dummies(data4, columns={'ageCD'}, drop_first=True)\n",
        "\n",
        "# get previous rating\n",
        "def getPrevR(x):\n",
        "    if len(data4[data4.Seq == x - 1]) > 0:\n",
        "        return data4[data4.Seq == (x - 1)].Rating.values[0]\n",
        "    else:\n",
        "        return data4[data4.Seq == x].Rating.values[0]\n",
        "\n",
        "data4 = data4.assign(prior_Rating=data4.Seq.apply(lambda x: getPrevR(x)))\n",
        "\n",
        "# prepare training and test set\n",
        "X_cols = list(data4.columns[3:6]) + list(data4.columns[10:])\n",
        "train_X = data4[data4.ClassName != 'Intimates'][X_cols]\n",
        "train_y = data4[data4.ClassName != 'Intimates']['RecommendedIND']\n",
        "test_X = data4[data4.ClassName == 'Intimates'][X_cols]\n",
        "test_y = data4[data4.ClassName == 'Intimates']['RecommendedIND']\n",
        "\n",
        "# train\n",
        "lr = LogisticRegression(C=100000, random_state=1234, penalty='l2',\n",
        "                        solver='newton-cg')\n",
        "model = lr.fit(train_X, train_y)\n",
        "\n",
        "# predict\n",
        "pred = model.predict_proba(test_X)\n",
        "\n",
        "# get accuracy\n",
        "pred_df = pd.DataFrame(pred, columns=['N', 'Y'])\n",
        "pred_df = pred_df.assign(esti=pred_df.Y.apply(lambda x: 'Y' if x >= 0.5 else 'N'))\n",
        "test_y_df = pd.DataFrame(test_y)\n",
        "test_y_df.reset_index(inplace=True)\n",
        "pred_df = pd.merge(pred_df, test_y_df.RecommendedIND, left_index=True, right_index=True)\n",
        "pred_df = pred_df.assign(accuracy=pred_df.apply(lambda x:\n",
        "                                         1 if x.esti == x.RecommendedIND else 0,\n",
        "                                                axis=1))\n",
        "accuracy = pred_df.accuracy.sum() / pred_df.accuracy.count()\n",
        "\n",
        "print(f'Answer [4] : {accuracy:.3f}')"
      ],
      "execution_count": 124,
      "outputs": [
        {
          "output_type": "stream",
          "text": [
            "Answer [4] : 0.946\n"
          ],
          "name": "stdout"
        }
      ]
    }
  ]
}