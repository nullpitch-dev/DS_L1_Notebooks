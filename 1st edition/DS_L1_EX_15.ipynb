{
  "nbformat": 4,
  "nbformat_minor": 0,
  "metadata": {
    "colab": {
      "name": "DS_L1_EX#15",
      "provenance": [],
      "collapsed_sections": [],
      "include_colab_link": true
    },
    "kernelspec": {
      "display_name": "Python 3",
      "name": "python3"
    }
  },
  "cells": [
    {
      "cell_type": "markdown",
      "metadata": {
        "id": "view-in-github",
        "colab_type": "text"
      },
      "source": [
        "<a href=\"https://colab.research.google.com/github/nullpitch-dev/DS_L1_Notebooks/blob/master/DS_L1_EX_15.ipynb\" target=\"_parent\"><img src=\"https://colab.research.google.com/assets/colab-badge.svg\" alt=\"Open In Colab\"/></a>"
      ]
    },
    {
      "cell_type": "code",
      "metadata": {
        "id": "j6BvBx2BCOdk",
        "colab_type": "code",
        "colab": {}
      },
      "source": [
        "import pandas as pd\n",
        "\n",
        "# loading data from a csv fle\n",
        "url_1 = 'https://raw.githubusercontent.com/nullpitch-dev/hj_public/master/16Part1.csv'\n",
        "url_2 = 'https://raw.githubusercontent.com/nullpitch-dev/hj_public/master/16Part2.csv'\n",
        "\n",
        "data_1 = pd.read_csv(url_1)\n",
        "data_2 = pd.read_csv(url_2)"
      ],
      "execution_count": 0,
      "outputs": []
    },
    {
      "cell_type": "code",
      "metadata": {
        "id": "g9iOguO3cQnv",
        "colab_type": "code",
        "colab": {}
      },
      "source": [
        "# [0] fillna, isin\n",
        "\n",
        "data1 = data_1.dropna(subset=['Year'])\n",
        "data1 = data1[data1['Year'] >= 1980]\n",
        "\n",
        "# replace na to 0 in each column\n",
        "cols = list(data1.columns)[6:]\n",
        "for i in cols:\n",
        "    data1[i] = data1[i].fillna(value=0)\n",
        "\n",
        "# drop na\n",
        "data2 = data_2.dropna()\n",
        "\n",
        "# convert height and weight\n",
        "def convHeight(x):\n",
        "    \"\"\" convert height from Feet-Inch formt to cm \"\"\"\n",
        "    h_us = x.split('-')\n",
        "    return round(int(h_us[0]) * 30.5 + int(h_us[1]) * 2.54)\n",
        "\n",
        "data2 = data2.assign(height=data2.apply(lambda x: convHeight(x['height']), axis=1))\n",
        "data2 = data2.assign(weight=data2.apply(lambda x: round(x['weight'] / 2.2046), axis=1))\n",
        "\n",
        "# find dupplicated players and exclude players in dup_player\n",
        "# DON'T TRY: find unique players and include players in unique players\n",
        "#            unique players in certain years are duplicated players in other years\n",
        "dup_player = data1.groupby(['Year', 'Player']).agg({'Age': 'nunique'})\n",
        "dup_player.reset_index(inplace=True)\n",
        "dup_player = dup_player[dup_player['Age'] > 1]\n",
        "dup_player = dup_player.groupby('Player').agg({'Year': 'nunique'})\n",
        "dup_player.reset_index(inplace=True)\n",
        "data1 = data1[data1['Player'].isin(dup_player['Player']) == False]\n",
        "\n",
        "# find number of years and exclue players with >20 or <3 condition\n",
        "# NOT year counting, BUT year range (there might be empty years)\n",
        "yr_min = data1.groupby('Player').agg({'Year': 'min'})\n",
        "yr_max = data1.groupby('Player').agg({'Year': 'max'})\n",
        "yr_outlier = pd.merge(yr_min, yr_max, left_index=True, right_index=True)\n",
        "yr_outlier = yr_outlier.assign(period=yr_outlier.apply(lambda x:\n",
        "                                                    x['Year_y'] - x['Year_x'],\n",
        "                                                    # why not adding 1 (???)\n",
        "                                                    axis=1))\n",
        "yr_outlier.reset_index(inplace=True)\n",
        "yr_outlier = yr_outlier[(yr_outlier['period'] > 20) | (yr_outlier['period'] < 3)]\n",
        "data1 = data1[data1['Player'].isin(yr_outlier['Player']) == False]\n",
        "\n",
        "# adding height and weight\n",
        "data = pd.merge(data1, data2, how='inner', left_on='Player', right_on='name')"
      ],
      "execution_count": 0,
      "outputs": []
    },
    {
      "cell_type": "code",
      "metadata": {
        "id": "j-hXYt4av21h",
        "colab_type": "code",
        "outputId": "497fa36d-389d-481e-8e95-3ca1ebb8ed1a",
        "colab": {
          "base_uri": "https://localhost:8080/",
          "height": 34
        }
      },
      "source": [
        "# [5]\n",
        "\n",
        "data5 = data.groupby(['Tm', 'Year']).agg({'Age': 'mean'})\n",
        "data_by_age = data5.sort_values(by='Age', ascending=False)\n",
        "data_by_age.reset_index(inplace=True)\n",
        "team = data_by_age.iloc[0]['Tm']\n",
        "year = data_by_age.iloc[0]['Year']\n",
        "\n",
        "player = data[(data['Year'] == year) & (data['Tm'] == team)].sort_values(by='Age',\n",
        "                                              ascending=False).iloc[0]['Player']\n",
        "\n",
        "print(f'Answer [5] : Oldest player = {player}')"
      ],
      "execution_count": 3,
      "outputs": [
        {
          "output_type": "stream",
          "text": [
            "Answer [5] : Oldest player = Tim Duncan\n"
          ],
          "name": "stdout"
        }
      ]
    },
    {
      "cell_type": "code",
      "metadata": {
        "id": "OEhioHMqMRav",
        "colab_type": "code",
        "outputId": "b4ee85c8-87fb-4532-cd9f-9e0c10971f24",
        "colab": {
          "base_uri": "https://localhost:8080/",
          "height": 34
        }
      },
      "source": [
        "# [6] ttest_ind\n",
        "\n",
        "from scipy import stats\n",
        "import math\n",
        "\n",
        "# define a player is a multi-player or not\n",
        "data6 = data.groupby('Player').agg({'Pos': 'nunique', 'height': 'mean'})\n",
        "\n",
        "single = data6[data6['Pos'] == 1]['height']\n",
        "multi = data6[data6['Pos'] >= 2]['height']\n",
        "\n",
        "t_val, p_val = stats.ttest_ind(single, multi, equal_var=False)\n",
        "\n",
        "print(f'Answer [6] : P-value = {math.floor(p_val * 10000) / 10000:.4f}')"
      ],
      "execution_count": 4,
      "outputs": [
        {
          "output_type": "stream",
          "text": [
            "Answer [6] : P-value = 0.1676\n"
          ],
          "name": "stdout"
        }
      ]
    },
    {
      "cell_type": "code",
      "metadata": {
        "id": "4TCT4c_T4cEO",
        "colab_type": "code",
        "colab": {}
      },
      "source": [
        "# [7 ~ 8 data processing]\n",
        "\n",
        "# count team number per year and player\n",
        "team_cnt = data.groupby(['Year', 'Player']).agg({'Tm': 'nunique'})\n",
        "team_cnt.reset_index(inplace=True)\n",
        "\n",
        "# tag moved or not (if cnt > 1 then moved)\n",
        "team_cnt = team_cnt.assign(mov=team_cnt.apply(lambda x: 1 if x['Tm'] > 1 else 0,\n",
        "                                             axis=1))\n",
        "#team_cnt[team_cnt['mov'] == 0].count()\n",
        "\n",
        "# make mov_season and prev_season\n",
        "data7 = pd.merge(data, team_cnt, how='inner', on=['Year', 'Player'])\n",
        "mov_season = data7[data7['mov'] == 1]\n",
        "prev_season = data7[data7['mov'] == 0]"
      ],
      "execution_count": 0,
      "outputs": []
    },
    {
      "cell_type": "code",
      "metadata": {
        "id": "2HGfLMXp8_Hi",
        "colab_type": "code",
        "colab": {
          "base_uri": "https://localhost:8080/",
          "height": 34
        },
        "outputId": "7c0ed551-cea4-4720-fe98-7833d211f5b2"
      },
      "source": [
        "# [7]\n",
        "\n",
        "import math\n",
        "\n",
        "three = mov_season.groupby(['Year', 'Player']).agg({'ThreeP': 'sum',\n",
        "                                                    'ThreePA': 'sum'})\n",
        "three = three.assign(success=three['ThreeP'] / three['ThreePA'])\n",
        "\n",
        "ave_success = three[three['ThreePA'] >= 10]['success'].mean()\n",
        "\n",
        "print(f'Answer [7] : Average success rate = {math.floor(ave_success * 10000) / 10000:.4f}')"
      ],
      "execution_count": 6,
      "outputs": [
        {
          "output_type": "stream",
          "text": [
            "Answer [7] : Average success rate = 0.3002\n"
          ],
          "name": "stdout"
        }
      ]
    },
    {
      "cell_type": "code",
      "metadata": {
        "id": "pJv0R4aN_LHQ",
        "colab_type": "code",
        "colab": {
          "base_uri": "https://localhost:8080/",
          "height": 34
        },
        "outputId": "bcc69bd3-5441-4f2d-b4ba-0076b7836fad"
      },
      "source": [
        "# [8] dummy variables, LinearRegression, mean_squared_error, fillna\n",
        "\n",
        "from sklearn.linear_model import LinearRegression\n",
        "from sklearn.metrics import mean_squared_error\n",
        "import math\n",
        "\n",
        "# transform Pos to dummy variables\n",
        "dummy_Pos = pd.get_dummies(prev_season['Pos'], drop_first=True)\n",
        "prev_season = pd.concat([prev_season, dummy_Pos], axis=1)\n",
        "\n",
        "# create calculated columns\n",
        "prev_season = prev_season.assign(suc2=prev_season['TwoP'] / prev_season['TwoPA'])\n",
        "prev_season = prev_season.assign(suc3=prev_season['ThreeP'] / prev_season['ThreePA'])\n",
        "prev_season = prev_season.assign(sucFT=prev_season['FT'] / prev_season['FTA'])\n",
        "\n",
        "# fillna\n",
        "for col in ['suc2', 'suc3', 'sucFT']:\n",
        "    prev_season[col] = prev_season[col].fillna(value=0)\n",
        "\n",
        "# create train set and test set\n",
        "train = prev_season[prev_season['Year'] <= 2000]\n",
        "test = prev_season[prev_season['Year'] >= 2001]\n",
        "\n",
        "# creat train_X and test_X\n",
        "train_X = train[['PF', 'PG', 'SF', 'SG', 'Age', 'MP', 'suc2', 'suc3', 'sucFT',\n",
        "                 'AST', 'height', 'weight']]\n",
        "test_X = test[['PF', 'PG', 'SF', 'SG', 'Age', 'MP', 'suc2', 'suc3', 'sucFT',\n",
        "               'AST', 'height', 'weight']]\n",
        "\n",
        "# create train_y and test_y\n",
        "train_y = train['PTS']\n",
        "test_y = test['PTS']\n",
        "\n",
        "# train\n",
        "lr = LinearRegression()\n",
        "model = lr.fit(train_X, train_y)\n",
        "\n",
        "# teset\n",
        "pred = model.predict(test_X)\n",
        "\n",
        "# find MSE\n",
        "mse = mean_squared_error(test_y, pred)\n",
        "\n",
        "print(f'Answer [8] : MSE = {math.floor(mse)}')"
      ],
      "execution_count": 7,
      "outputs": [
        {
          "output_type": "stream",
          "text": [
            "Answer [8] : MSE = 38384\n"
          ],
          "name": "stdout"
        }
      ]
    }
  ]
}
