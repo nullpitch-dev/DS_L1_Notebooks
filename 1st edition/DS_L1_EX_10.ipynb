{
  "nbformat": 4,
  "nbformat_minor": 0,
  "metadata": {
    "colab": {
      "name": "DS_L1_EX#10",
      "provenance": [],
      "collapsed_sections": [],
      "include_colab_link": true
    },
    "kernelspec": {
      "display_name": "Python 3",
      "name": "python3"
    }
  },
  "cells": [
    {
      "cell_type": "markdown",
      "metadata": {
        "id": "view-in-github",
        "colab_type": "text"
      },
      "source": [
        "<a href=\"https://colab.research.google.com/github/nullpitch-dev/DS_L1_Notebooks/blob/master/DS_L1_EX_10.ipynb\" target=\"_parent\"><img src=\"https://colab.research.google.com/assets/colab-badge.svg\" alt=\"Open In Colab\"/></a>"
      ]
    },
    {
      "cell_type": "code",
      "metadata": {
        "id": "j6BvBx2BCOdk",
        "colab_type": "code",
        "colab": {}
      },
      "source": [
        "import numpy as np\n",
        "import pandas as pd\n",
        "\n",
        "# loading data from a csv fle\n",
        "url = 'https://raw.githubusercontent.com/nullpitch-dev/hj_public/master/imdb.csv'\n",
        "df = pd.read_csv(url)\n",
        "\n",
        "# removing null values(records)\n",
        "df_clean = df.dropna(how='any')\n"
      ],
      "execution_count": 0,
      "outputs": []
    },
    {
      "cell_type": "code",
      "metadata": {
        "colab_type": "code",
        "id": "zqjGsNy_5xTI",
        "outputId": "a27e4e8e-3ef0-4464-abb4-8368b21d84d1",
        "colab": {
          "base_uri": "https://localhost:8080/",
          "height": 34
        }
      },
      "source": [
        "# [1]\n",
        "from scipy.stats import ttest_ind\n",
        "\n",
        "df_scifi = df_clean[df_clean['SciFi'] == 1]\n",
        "df_nonscifi = df_clean[df_clean['SciFi'] == 0]\n",
        "stat, p = ttest_ind(df_scifi['imdbRating'], df_nonscifi['imdbRating'],\n",
        "                    equal_var=False)\n",
        "print(f'T-value = {stat}, p-value = {p}')"
      ],
      "execution_count": 0,
      "outputs": [
        {
          "output_type": "stream",
          "text": [
            "T-value = -9.792416636544313, p-value = 1.0987311961490895e-21\n"
          ],
          "name": "stdout"
        }
      ]
    },
    {
      "cell_type": "code",
      "metadata": {
        "id": "ss2WaSPP59XD",
        "colab_type": "code",
        "outputId": "7c48cc60-d3f2-4314-888d-6fe73117b2e9",
        "colab": {
          "base_uri": "https://localhost:8080/",
          "height": 69
        }
      },
      "source": [
        "# [2]\n",
        "from sklearn.cluster import KMeans\n",
        "\n",
        "yr_50_cnt = df_clean.groupby('year').count()\n",
        "yr_50_cnt = yr_50_cnt[yr_50_cnt['tid'] >= 50]\n",
        "\n",
        "mv_50 = df_clean[df_clean['year'] == 0]\n",
        "for i in yr_50_cnt.index:\n",
        "    df_temp = df_clean[df_clean['year'] == i]\n",
        "    mv_50 = mv_50.append(df_temp, ignore_index=False)\n",
        "\n",
        "yr_mean = mv_50.groupby('year').mean()\n",
        "yr_mean = yr_mean[['duration', 'imdbRating', 'nrOfGenre', 'nrOfNewsArticles',\n",
        "                   'nrOfUserReviews', 'ratingCount']]\n",
        "\n",
        "yr_norm = (yr_mean - yr_mean.min()) / (yr_mean.max() - yr_mean.min())\n",
        "\n",
        "kmeans = KMeans(n_clusters=7, random_state=1234, n_init=1234).fit(yr_norm)\n",
        "centroids = pd.DataFrame(kmeans.cluster_centers_, columns=yr_norm.columns)\n",
        "\n",
        "clu_1977 = kmeans.predict([yr_norm.loc[1977].to_numpy()])[0]\n",
        "print(f'year 1977 is in cluster #{clu_1977 + 1}\\n')\n",
        "\n",
        "j = 0\n",
        "mv_count = 0\n",
        "for i in kmeans.labels_:\n",
        "    if i == clu_1977:\n",
        "        year_same_clus = yr_norm.iloc[j].name\n",
        "        counts = mv_50[mv_50['year'] == year_same_clus].count()['tid']\n",
        "        mv_count += counts\n",
        "    j += 1\n",
        "\n",
        "print(f'Total movies in cluster #{clu_1977 + 1} is {mv_count}')\n"
      ],
      "execution_count": 0,
      "outputs": [
        {
          "output_type": "stream",
          "text": [
            "year 1977 is in cluster #5\n",
            "\n",
            "Total movies in cluster #5 is 1047\n"
          ],
          "name": "stdout"
        }
      ]
    },
    {
      "cell_type": "code",
      "metadata": {
        "id": "8tQaiRBm6_IO",
        "colab_type": "code",
        "outputId": "66738bb2-904f-4d40-e590-7f0fc34bbfcd",
        "colab": {
          "base_uri": "https://localhost:8080/",
          "height": 193
        }
      },
      "source": [
        "# [3]\n",
        "#from statsmodels.formula.api import ols\n",
        "from sklearn.linear_model import LogisticRegression\n",
        "\n",
        "episode = df_clean[df_clean['type'] == 'video.episode']\n",
        "movie = df_clean[df_clean['type'] == 'video.movie']\n",
        "tv = df_clean[df_clean['type'] == 'video.tv']\n",
        "\n",
        "episode_x = episode[['ratingCount', 'duration', 'nrOfWins', 'nrOfNewsArticles',\n",
        "                     'nrOfUserReviews', 'nrOfGenre']]\n",
        "episode_y = episode[['imdbRating']]\n",
        "#episode_x = (episode_x - episode_x.min()) / (episode_x.max() - episode_x.min())\n",
        "episode_y = episode_y['imdbRating'].apply(lambda x: 1 if x > 9 else 0)\n",
        "\n",
        "movie_x = movie[['ratingCount', 'duration', 'nrOfWins', 'nrOfNewsArticles',\n",
        "                 'nrOfUserReviews', 'nrOfGenre']]\n",
        "movie_y = movie[['imdbRating']]\n",
        "#movie_x = (movie_x - movie_x.min()) / (movie_x.max() - movie_x.min())\n",
        "movie_y = movie_y['imdbRating'].apply(lambda x: 1 if x > 9 else 0)\n",
        "\n",
        "tv_x = tv[['ratingCount', 'duration', 'nrOfWins', 'nrOfNewsArticles',\n",
        "           'nrOfUserReviews', 'nrOfGenre']]\n",
        "tv_y = tv[['imdbRating']]\n",
        "#tv_x = (tv_x - tv_x.min()) / (tv_x.max() - tv_x.min())\n",
        "tv_y = tv_y['imdbRating'].apply(lambda x: 1 if x > 9 else 0)\n",
        "\n",
        "lr_episode = LogisticRegression(C=100000, random_state=1234, penalty='l2', solver='newton-cg')\n",
        "lr_movie = LogisticRegression(C=100000, random_state=1234, penalty='l2', solver='newton-cg')\n",
        "lr_tv = LogisticRegression(C=100000, random_state=1234, penalty='l2', solver='newton-cg')\n",
        "\n",
        "result_episode = lr_episode.fit(episode_x, episode_y)\n",
        "result_movie = lr_movie.fit(movie_x, movie_y)\n",
        "result_tv = lr_tv.fit(tv_x, tv_y)\n",
        "\n",
        "\n",
        "coef_episode = pd.DataFrame(data=np.exp(result_episode.coef_[0]).tolist(),\n",
        "                            index=['ratingCount', 'duration', 'nrOfWins',\n",
        "                                   'nrOfNewsArticles', 'nrOfUserReviews',\n",
        "                                   'nrOfGenre'], columns=['coef'])\n",
        "coef_movie = pd.DataFrame(data=np.exp(result_movie.coef_[0]).tolist(),\n",
        "                            index=['ratingCount', 'duration', 'nrOfWins',\n",
        "                                   'nrOfNewsArticles', 'nrOfUserReviews',\n",
        "                                   'nrOfGenre'], columns=['coef'])\n",
        "coef_tv = pd.DataFrame(data=np.exp(result_tv.coef_[0]).tolist(),\n",
        "                            index=['ratingCount', 'duration', 'nrOfWins',\n",
        "                                   'nrOfNewsArticles', 'nrOfUserReviews',\n",
        "                                   'nrOfGenre'], columns=['coef'])\n",
        "\n",
        "ans_episode = coef_episode.sort_values('coef', ascending=False).index[0]\n",
        "ans_movie = coef_movie.sort_values('coef', ascending=False).index[0]\n",
        "ans_tv = coef_tv.sort_values('coef', ascending=False).index[0]\n",
        "\n",
        "print(f'video.episode : {ans_episode}')\n",
        "print(f'video.movie : {ans_movie}')\n",
        "print(f'video.tv : {ans_tv}')\n"
      ],
      "execution_count": 0,
      "outputs": [
        {
          "output_type": "stream",
          "text": [
            "/usr/local/lib/python3.6/dist-packages/sklearn/utils/optimize.py:212: ConvergenceWarning: newton-cg failed to converge. Increase the number of iterations.\n",
            "  \"number of iterations.\", ConvergenceWarning)\n"
          ],
          "name": "stderr"
        },
        {
          "output_type": "stream",
          "text": [
            "video.episode : nrOfUserReviews\n",
            "video.movie : ratingCount\n",
            "video.tv : nrOfUserReviews\n"
          ],
          "name": "stdout"
        },
        {
          "output_type": "stream",
          "text": [
            "/usr/local/lib/python3.6/dist-packages/sklearn/utils/optimize.py:212: ConvergenceWarning: newton-cg failed to converge. Increase the number of iterations.\n",
            "  \"number of iterations.\", ConvergenceWarning)\n",
            "/usr/local/lib/python3.6/dist-packages/sklearn/utils/optimize.py:212: ConvergenceWarning: newton-cg failed to converge. Increase the number of iterations.\n",
            "  \"number of iterations.\", ConvergenceWarning)\n"
          ],
          "name": "stderr"
        }
      ]
    },
    {
      "cell_type": "code",
      "metadata": {
        "id": "qVuVilwqGdP2",
        "colab_type": "code",
        "outputId": "09ef3751-61f1-4835-bdc6-3466de91bf90",
        "colab": {
          "base_uri": "https://localhost:8080/",
          "height": 52
        }
      },
      "source": [
        "# [4]\n",
        "from mlxtend.frequent_patterns import apriori, association_rules\n",
        "\n",
        "# Data pre-processing\n",
        "episode = df_clean[df_clean['type'] == 'video.episode']\n",
        "episode = episode[episode['nrOfGenre'] != 1]\n",
        "episode = episode.iloc[:, 10:]\n",
        "\n",
        "freq_items = apriori(episode, min_support=0.01, use_colnames=True)\n",
        "rules = association_rules(freq_items, metric='confidence', min_threshold=0.01)\n",
        "rules['check'] = rules.apply(lambda x: 1 if len(x.antecedents) == 1 & len(x.consequents) == 1 else 0, axis=1)\n",
        "rules = rules[rules['check'] == 1]\n",
        "\n",
        "ans_genre = list(rules[rules['antecedents'] == {'Animation'}].sort_values('confidence').iloc[0].consequents)[0]\n",
        "ans_confidence = round(rules[rules['antecedents'] == {'Animation'}].sort_values('confidence').iloc[0].confidence, 3)\n",
        "\n",
        "print(ans_genre)\n",
        "print(ans_confidence)"
      ],
      "execution_count": 0,
      "outputs": [
        {
          "output_type": "stream",
          "text": [
            "Drama\n",
            "0.062\n"
          ],
          "name": "stdout"
        }
      ]
    }
  ]
}
