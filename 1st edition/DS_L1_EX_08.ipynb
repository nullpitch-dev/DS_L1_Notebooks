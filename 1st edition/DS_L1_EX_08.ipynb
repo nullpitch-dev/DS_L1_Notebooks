{
  "nbformat": 4,
  "nbformat_minor": 0,
  "metadata": {
    "colab": {
      "name": "DS_L1_EX#08",
      "provenance": [],
      "collapsed_sections": [],
      "include_colab_link": true
    },
    "kernelspec": {
      "display_name": "Python 3",
      "name": "python3"
    }
  },
  "cells": [
    {
      "cell_type": "markdown",
      "metadata": {
        "id": "view-in-github",
        "colab_type": "text"
      },
      "source": [
        "<a href=\"https://colab.research.google.com/github/nullpitch-dev/DS_L1_Notebooks/blob/master/DS_L1_EX_08.ipynb\" target=\"_parent\"><img src=\"https://colab.research.google.com/assets/colab-badge.svg\" alt=\"Open In Colab\"/></a>"
      ]
    },
    {
      "cell_type": "code",
      "metadata": {
        "id": "j6BvBx2BCOdk",
        "colab_type": "code",
        "colab": {}
      },
      "source": [
        "import pandas as pd\n",
        "\n",
        "# loading data from a csv fle\n",
        "url = 'https://raw.githubusercontent.com/nullpitch-dev/hj_public/master/California_housing.csv'\n",
        "data = pd.read_csv(url)"
      ],
      "execution_count": 0,
      "outputs": []
    },
    {
      "cell_type": "code",
      "metadata": {
        "id": "0PEPYCxMf8B-",
        "colab_type": "code",
        "colab": {
          "base_uri": "https://localhost:8080/",
          "height": 34
        },
        "outputId": "1fe2b49b-d835-4579-d1c2-9d9574e9054c"
      },
      "source": [
        "# [1] corr\n",
        "\n",
        "base_data = data.dropna()\n",
        "\n",
        "corr = base_data[['Target', 'MedInc', 'HouseAge', 'AveRooms', 'AveBedrms',\n",
        "                  'AveOccup']].corr(method='pearson')\n",
        "result = abs(corr['Target']).sort_values(ascending=False)\n",
        "\n",
        "print(f'Answer [1] : {result.index[1]}, {result.index[2]}')"
      ],
      "execution_count": 129,
      "outputs": [
        {
          "output_type": "stream",
          "text": [
            "Answer [1] : MedInc, AveRooms\n"
          ],
          "name": "stdout"
        }
      ]
    },
    {
      "cell_type": "code",
      "metadata": {
        "id": "o11UDsIgkd5Z",
        "colab_type": "code",
        "colab": {
          "base_uri": "https://localhost:8080/",
          "height": 34
        },
        "outputId": "7c051be1-06da-4c4b-ed4e-8e620d7b7d28"
      },
      "source": [
        "# [2] LinearRegression\n",
        "\n",
        "from sklearn.linear_model import LinearRegression\n",
        "import math\n",
        "\n",
        "train = base_data[base_data['Xgrp'] == 0]\n",
        "\n",
        "# set X variables and train dataset\n",
        "X_cols = list(result.index[1:5])\n",
        "X_cols.append('Population')\n",
        "train_X = train[X_cols]\n",
        "train_y = train['Target']\n",
        "\n",
        "# train\n",
        "lr = LinearRegression()\n",
        "model = lr.fit(train_X, train_y)\n",
        "\n",
        "# predict \n",
        "test_X = pd.DataFrame(data=[[4, 4, 37, 1, 1200]], columns=X_cols)\n",
        "pred2 = model.predict(test_X)\n",
        "\n",
        "print(f'Answer [2] : Prediction = {math.floor(pred2 * 1000) / 1000}')"
      ],
      "execution_count": 130,
      "outputs": [
        {
          "output_type": "stream",
          "text": [
            "Answer [2] : Prediction = 2.485\n"
          ],
          "name": "stdout"
        }
      ]
    },
    {
      "cell_type": "code",
      "metadata": {
        "id": "VItsQdtiltEo",
        "colab_type": "code",
        "colab": {
          "base_uri": "https://localhost:8080/",
          "height": 34
        },
        "outputId": "7c12b5b7-fd21-43ce-d9dd-942209cf4a29"
      },
      "source": [
        "# [3] root mean_squared_error\n",
        "\n",
        "from sklearn.metrics import mean_squared_error\n",
        "import numpy as np\n",
        "import math\n",
        "\n",
        "# set validation dataset\n",
        "validation = base_data[base_data['Xgrp'] == 1]\n",
        "val_X = validation[X_cols]\n",
        "val_y = validation['Target']\n",
        "\n",
        "# predict\n",
        "pred3 = model.predict(val_X)\n",
        "\n",
        "# calcualate RMSE\n",
        "rmse = np.sqrt(mean_squared_error(val_y, pred3))\n",
        "\n",
        "print(f'Answer [3] : RMES = {math.floor(rmse * 1000) / 1000}')"
      ],
      "execution_count": 131,
      "outputs": [
        {
          "output_type": "stream",
          "text": [
            "Answer [3] : RMES = 0.794\n"
          ],
          "name": "stdout"
        }
      ]
    },
    {
      "cell_type": "code",
      "metadata": {
        "id": "ztbt9BNRuxKY",
        "colab_type": "code",
        "colab": {
          "base_uri": "https://localhost:8080/",
          "height": 34
        },
        "outputId": "7ca66604-317e-4970-c9bb-e5284acf18f6"
      },
      "source": [
        "# [4] PCA / StandardScaler\n",
        "\n",
        "from sklearn.preprocessing import StandardScaler\n",
        "from sklearn.decomposition import PCA\n",
        "import math\n",
        "\n",
        "# normalize and PCA\n",
        "norm_data = StandardScaler().fit_transform(base_data.iloc[:, 0:6])\n",
        "pca = PCA(n_components=6).fit(norm_data)\n",
        "\n",
        "# find eigen values\n",
        "eigen = pca.explained_variance_\n",
        "\n",
        "print(f'Answer [4] : 3rd Eigen value = {math.floor(eigen[2] * 1000) / 1000}')"
      ],
      "execution_count": 132,
      "outputs": [
        {
          "output_type": "stream",
          "text": [
            "Answer [4] : 3rd Eigen value = 1.023\n"
          ],
          "name": "stdout"
        }
      ]
    },
    {
      "cell_type": "code",
      "metadata": {
        "id": "OPX37EA40bah",
        "colab_type": "code",
        "colab": {
          "base_uri": "https://localhost:8080/",
          "height": 34
        },
        "outputId": "d2320f8b-8b42-4af0-8454-4e8e03561e01"
      },
      "source": [
        "# [5] PCA, LinearRegression - score(r-Squared)\n",
        "\n",
        "from sklearn.linear_model import LinearRegression\n",
        "import math\n",
        "\n",
        "# create train_X and test_y\n",
        "pca_train = pca.transform(norm_data)\n",
        "pca_train = pd.DataFrame(pca_train)\n",
        "pca_train = pca_train.iloc[:, 0:5]\n",
        "test_y = base_data.loc[:, ['Target']]\n",
        "\n",
        "# train\n",
        "lr5 = LinearRegression()\n",
        "model5 = lr5.fit(pca_train, test_y)\n",
        "\n",
        "# find score - coefficient of determination R^2\n",
        "r_squared = model5.score(pca_train, test_y)\n",
        "\n",
        "print(f'Answer [5] : R-Squared = {math.floor(r_squared * 1000) / 1000}')"
      ],
      "execution_count": 133,
      "outputs": [
        {
          "output_type": "stream",
          "text": [
            "Answer [5] : R-Squared = 0.492\n"
          ],
          "name": "stdout"
        }
      ]
    }
  ]
}
