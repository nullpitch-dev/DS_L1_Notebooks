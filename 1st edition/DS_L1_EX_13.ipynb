{
  "nbformat": 4,
  "nbformat_minor": 0,
  "metadata": {
    "colab": {
      "name": "DS_L1_EX#13",
      "provenance": [],
      "collapsed_sections": [],
      "include_colab_link": true
    },
    "kernelspec": {
      "display_name": "Python 3",
      "name": "python3"
    }
  },
  "cells": [
    {
      "cell_type": "markdown",
      "metadata": {
        "id": "view-in-github",
        "colab_type": "text"
      },
      "source": [
        "<a href=\"https://colab.research.google.com/github/nullpitch-dev/DS_L1_Notebooks/blob/master/DS_L1_EX_13.ipynb\" target=\"_parent\"><img src=\"https://colab.research.google.com/assets/colab-badge.svg\" alt=\"Open In Colab\"/></a>"
      ]
    },
    {
      "cell_type": "code",
      "metadata": {
        "id": "j6BvBx2BCOdk",
        "colab_type": "code",
        "colab": {}
      },
      "source": [
        "# [0]\n",
        "\n",
        "import pandas as pd\n",
        "\n",
        "# Loading data\n",
        "url = 'https://raw.githubusercontent.com/nullpitch-dev/hj_public/master/13.csv'\n",
        "data = pd.read_csv(url)"
      ],
      "execution_count": 0,
      "outputs": []
    },
    {
      "cell_type": "code",
      "metadata": {
        "id": "cAa7pDlAFrBX",
        "colab_type": "code",
        "colab": {}
      },
      "source": [
        "# [0]\n",
        "\n",
        "# Preprocessing data\n",
        "data = data[data['Year'].isna() == False]\n",
        "data = data.sort_values(by=['Name', 'Platform', 'Year'],\n",
        "                        ascending=[True, True, True])\n",
        "data = data.drop_duplicates(subset=['Name', 'Platform'], keep='last')\n",
        "data[{'NA_Sales', 'EU_Sales', 'JP_Sales', 'Other_Sales'}].fillna(0)\n",
        "data['Global_sales'] = data[{'NA_Sales', 'EU_Sales',\n",
        "                             'JP_Sales', 'Other_Sales'}].sum(axis=1)\n",
        "platforms = data.groupby('Platform').sum()['Global_sales']\n",
        "platforms = platforms[platforms.values >= 20000]\n",
        "data = data[data['Platform'].isin(platforms.index)]\n",
        "data = data.reset_index().iloc[:, 1:]"
      ],
      "execution_count": 0,
      "outputs": []
    },
    {
      "cell_type": "code",
      "metadata": {
        "id": "SsYK16jWyXHM",
        "colab_type": "code",
        "outputId": "2c3b5b4e-3601-4a0f-b8bf-8f76ef560933",
        "colab": {
          "base_uri": "https://localhost:8080/",
          "height": 34
        }
      },
      "source": [
        "# [1]\n",
        "\n",
        "from sklearn.neighbors import KNeighborsClassifier\n",
        "\n",
        "type_max = data['Global_sales'].max()\n",
        "type_min = data['Global_sales'].min()\n",
        "type_median = data['Global_sales'].median()\n",
        "\n",
        "def checkType(x):\n",
        "    if x == type_max or x == type_min:\n",
        "        return 'Type1'\n",
        "    elif x == type_median:\n",
        "        return 'Type2'\n",
        "    else:\n",
        "        return 'NotCheckPoint'\n",
        "\n",
        "\n",
        "data['Check_point'] = data['Global_sales'].apply(lambda x: checkType(x))\n",
        "\n",
        "train_x = data[data['Check_point'] != 'NotCheckPoint'][{'NA_Sales', 'EU_Sales',\n",
        "                                                        'JP_Sales',\n",
        "                                                        'Other_Sales'}]\n",
        "train_y = data[data['Check_point'] != 'NotCheckPoint']['Check_point']\n",
        "\n",
        "knn = KNeighborsClassifier(n_neighbors=1, p=2, metric='minkowski')\n",
        "knn_model = knn.fit(train_x, train_y)\n",
        "\n",
        "test_x = data[{'NA_Sales', 'EU_Sales', 'JP_Sales', 'Other_Sales'}]\n",
        "pred = knn_model.predict(test_x)\n",
        "\n",
        "results = pd.DataFrame({'pred': pred})\n",
        "\n",
        "data_pro = pd.concat([data, results], axis=1)\n",
        "data_pro = data_pro[\n",
        "         (data_pro['Check_point'] != 'Type1') & (data_pro['pred'] != 'Type1')]\n",
        "\n",
        "global_sales_mean = data_pro['Global_sales'].mean()\n",
        "print(f'Answer [1] : Mean of Global_sales = {global_sales_mean:.3f}')"
      ],
      "execution_count": 0,
      "outputs": [
        {
          "output_type": "stream",
          "text": [
            "Answer [1] : Mean of Global_sales = 74.201\n"
          ],
          "name": "stdout"
        }
      ]
    },
    {
      "cell_type": "code",
      "metadata": {
        "id": "tHi7EfiUUM0T",
        "colab_type": "code",
        "outputId": "7d71830d-42ef-4baf-bd82-948644920abc",
        "colab": {
          "base_uri": "https://localhost:8080/",
          "height": 34
        }
      },
      "source": [
        "# [2]\n",
        "\n",
        "data_temp = data_pro.groupby(['Name', 'Genre']).agg({'Platform': 'count'})\n",
        "data_temp = data_temp.groupby('Genre').mean()\n",
        "data_temp = data_temp.sort_values(by='Platform', ascending=False)\n",
        "\n",
        "top_genre = data_temp.index[0]\n",
        "bottom_genre = data_temp.index[-1]\n",
        "\n",
        "print(f'Answer [2] : Top genre = {top_genre}, Bottom genre = {bottom_genre}')"
      ],
      "execution_count": 0,
      "outputs": [
        {
          "output_type": "stream",
          "text": [
            "Answer [2] : Top genre = Action, Bottom genre = Puzzle\n"
          ],
          "name": "stdout"
        }
      ]
    },
    {
      "cell_type": "code",
      "metadata": {
        "id": "t_EhuyKEhzS0",
        "colab_type": "code",
        "outputId": "cf1cf4b3-3909-48b9-9212-55a8a5b65f89",
        "colab": {
          "base_uri": "https://localhost:8080/",
          "height": 34
        }
      },
      "source": [
        "# [3]\n",
        "\n",
        "from scipy import stats\n",
        "\n",
        "data_temp = pd.merge(left=data_pro[data_pro['Platform'] == 'PC'],\n",
        "                   right=data_pro[data_pro['Platform'] == 'X360'],\n",
        "                   on='Name')\n",
        "data3 = data_pro[data_pro['Name'].isin(data_temp['Name']) == True]\n",
        "\n",
        "data3_pc = data3[data3['Platform'] == 'PC']['Global_sales']\n",
        "data3_x360 = data3[data3['Platform'] == 'X360']['Global_sales']\n",
        "\n",
        "t_value, p_value = stats.ttest_rel(data3_pc, data3_x360)\n",
        "\n",
        "print(f'Answer [3] : t-value = {abs(t_value):.3f}')"
      ],
      "execution_count": 0,
      "outputs": [
        {
          "output_type": "stream",
          "text": [
            "Answer [3] : t-value = 7.772\n"
          ],
          "name": "stdout"
        }
      ]
    },
    {
      "cell_type": "code",
      "metadata": {
        "id": "Q2nUkkVIzsQL",
        "colab_type": "code",
        "outputId": "435c9dd3-5779-4334-976d-f332d879bb51",
        "colab": {
          "base_uri": "https://localhost:8080/",
          "height": 34
        }
      },
      "source": [
        "# [4]\n",
        "\n",
        "from sklearn.linear_model import LogisticRegression\n",
        "from sklearn.metrics import accuracy_score\n",
        "import numpy as np\n",
        "\n",
        "data4 = pd.get_dummies(data_pro, columns=['Platform'], drop_first=True)\n",
        "data4['Sports'] = data4['Genre'].apply(lambda x: 0 if x != 'Sports' else 1)\n",
        "\n",
        "cols = list(data4.columns)[4:8] + list(data4.columns)[12:-1]\n",
        "\n",
        "train_x = data4[data4['XGRP'] == 'A'][cols]\n",
        "train_y = data4[data4['XGRP'] == 'A']['Sports']\n",
        "test_x = data4[data4['XGRP'] == 'B'][cols]\n",
        "test_y = data4[data4['XGRP'] == 'B']['Sports']\n",
        "\n",
        "lr = LogisticRegression(C=100000, random_state=1234, penalty='l2',\n",
        "                        solver='newton-cg')\n",
        "lr_model = lr.fit(train_x, train_y)\n",
        "pred = lr_model.predict_proba(test_x)\n",
        "\n",
        "odds = np.matrix(pred[:, 1] / pred[:, 0])\n",
        "pred = np.hstack((pred, odds.T))\n",
        "\n",
        "pred_df = pd.DataFrame(pred, columns=['No', 'Yes', 'Odds'])\n",
        "pred_df['Pred'] = pred_df['Odds'].apply(lambda x: 1 if x >= 0.12 else 0)\n",
        "\n",
        "print(f\"Answer [4] : Accuracy = {accuracy_score(test_y, pred_df['Pred']):.3f}\")"
      ],
      "execution_count": 0,
      "outputs": [
        {
          "output_type": "stream",
          "text": [
            "Answer [4] : Accuracy = 0.383\n"
          ],
          "name": "stdout"
        }
      ]
    }
  ]
}
