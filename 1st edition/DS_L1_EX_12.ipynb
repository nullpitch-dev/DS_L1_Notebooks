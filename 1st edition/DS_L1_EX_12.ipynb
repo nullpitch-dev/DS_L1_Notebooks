{
  "nbformat": 4,
  "nbformat_minor": 0,
  "metadata": {
    "colab": {
      "name": "DS_L1_EX#12",
      "provenance": [],
      "collapsed_sections": [],
      "include_colab_link": true
    },
    "kernelspec": {
      "display_name": "Python 3",
      "name": "python3"
    }
  },
  "cells": [
    {
      "cell_type": "markdown",
      "metadata": {
        "id": "view-in-github",
        "colab_type": "text"
      },
      "source": [
        "<a href=\"https://colab.research.google.com/github/nullpitch-dev/DS_L1_Notebooks/blob/master/DS_L1_EX_12.ipynb\" target=\"_parent\"><img src=\"https://colab.research.google.com/assets/colab-badge.svg\" alt=\"Open In Colab\"/></a>"
      ]
    },
    {
      "cell_type": "code",
      "metadata": {
        "id": "j6BvBx2BCOdk",
        "colab_type": "code",
        "colab": {}
      },
      "source": [
        "import pandas as pd\n",
        "\n",
        "# loading data from a csv fle\n",
        "url = 'https://raw.githubusercontent.com/nullpitch-dev/hj_public/master/baseball.csv'\n",
        "data = pd.read_csv(url)"
      ],
      "execution_count": 0,
      "outputs": []
    },
    {
      "cell_type": "code",
      "metadata": {
        "id": "RaESO2Cfj2c8",
        "colab_type": "code",
        "outputId": "a4f9a2c6-53cd-4539-c937-a7e52431c40d",
        "colab": {
          "base_uri": "https://localhost:8080/",
          "height": 34
        }
      },
      "source": [
        "# [1]\n",
        "\n",
        "data1 = data[(data['yearID'] == 2015) | (data['yearID'] == 2016)]\n",
        "\n",
        "def checkChanged(x):\n",
        "    player = data1[data1['playerID'] == x]\n",
        "    if len(player) != 2:\n",
        "        # should be in both 2015 and 2016\n",
        "        return 0\n",
        "    else:\n",
        "        team_2015 = player[player['yearID'] == 2015]['teamID'].values[0]\n",
        "        team_2016 = player[player['yearID'] == 2016]['teamID'].values[0]\n",
        "        if team_2015 != team_2016:\n",
        "            return 1\n",
        "        else:\n",
        "            return 0\n",
        "\n",
        "data1 = data1.assign(Changed=data1['playerID'].apply(lambda x: checkChanged(x)))\n",
        "result1 = data1[data1['Changed'] == 1]\n",
        "result1 = result1[result1['AB'] > 400]\n",
        "result1 = result1.groupby('playerID').count()\n",
        "result1 = result1[result1['yearID'] == 2]\n",
        "\n",
        "print(f'Answer [1] : # of players = {len(result1)}')"
      ],
      "execution_count": 0,
      "outputs": [
        {
          "output_type": "stream",
          "text": [
            "Answer [1] : # of players = 17\n"
          ],
          "name": "stdout"
        }
      ]
    },
    {
      "cell_type": "code",
      "metadata": {
        "id": "tVfMzXwWJSze",
        "colab_type": "code",
        "outputId": "1bfea88b-2687-4085-fa92-9d6c78dc58e0",
        "colab": {
          "base_uri": "https://localhost:8080/",
          "height": 34
        }
      },
      "source": [
        "# [2]\n",
        "\n",
        "data2 = data[data['playerID'].isin(result1.index)]\n",
        "player_15 = data2[data2['yearID'] == 2015].sort_values('playerID', ascending=True)\n",
        "player_16 = data2[data2['yearID'] == 2016].sort_values('playerID', ascending=True)\n",
        "player2 = pd.merge(player_15, player_16, on='playerID')\n",
        "player2['hit_15'] = player2['H_x'] / player2['AB_x']\n",
        "player2['sac_15'] = player2['SH_x'] + player2['SF_x']\n",
        "player2['change'] = player2['RBI_y'] / player2['RBI_x']\n",
        "\n",
        "hit = player2[['hit_15', 'change']]\n",
        "sac = player2[['sac_15', 'change']]\n",
        "\n",
        "corr_hit = hit.corr(method='pearson').iloc[0, 1]\n",
        "corr_sac = sac.corr(method='pearson').iloc[0, 1]\n",
        "\n",
        "print(f'Answer [2] : {corr_hit:.2f}, {corr_sac:.2f}')"
      ],
      "execution_count": 0,
      "outputs": [
        {
          "output_type": "stream",
          "text": [
            "Answer [2] : -0.37, 0.42\n"
          ],
          "name": "stdout"
        }
      ]
    },
    {
      "cell_type": "code",
      "metadata": {
        "id": "o70Vcvh-bloh",
        "colab_type": "code",
        "outputId": "2a7d45fd-ffee-4a91-c154-51476e4f9ab3",
        "colab": {
          "base_uri": "https://localhost:8080/",
          "height": 34
        }
      },
      "source": [
        "# [3]\n",
        "\n",
        "from scipy import stats\n",
        "import math\n",
        "\n",
        "data3 = data.groupby('playerID').agg({'yearID': 'min', 'AB': 'sum', 'RBI': 'mean'})\n",
        "\n",
        "data3 = data3[data3['AB'] >= 200]\n",
        "a_group = data3[data3['yearID'] <= 2013]\n",
        "b_group = data3[data3['yearID'] >= 2014]\n",
        "\n",
        "t_value, p_value = stats.ttest_ind(a_group['RBI'], b_group['RBI'], equal_var=False)\n",
        "\n",
        "print(f'Answer [3] : P-value = {math.floor(p_value * 1000) / 1000}')"
      ],
      "execution_count": 0,
      "outputs": [
        {
          "output_type": "stream",
          "text": [
            "Answer [3] : P-value = 0.328\n"
          ],
          "name": "stdout"
        }
      ]
    },
    {
      "cell_type": "code",
      "metadata": {
        "id": "eEiKqnWVgbH4",
        "colab_type": "code",
        "outputId": "64b8ac9d-0302-4099-a6ef-3256fdb97353",
        "colab": {
          "base_uri": "https://localhost:8080/",
          "height": 34
        }
      },
      "source": [
        "# [4]\n",
        "\n",
        "from mlxtend.preprocessing import TransactionEncoder\n",
        "from mlxtend.frequent_patterns import apriori, association_rules\n",
        "\n",
        "def func(x):\n",
        "    return list(set(x))\n",
        "\n",
        "teams = data.groupby('playerID').agg({'teamID': func})\n",
        "teams['counts'] = teams['teamID'].apply(lambda x: len(x))\n",
        "teams = list(teams[teams['counts'] >= 2]['teamID'])\n",
        "\n",
        "te = TransactionEncoder()\n",
        "te_array = te.fit(teams).transform(teams)\n",
        "\n",
        "te_df = pd.DataFrame(te_array, columns=te.columns_)\n",
        "freq_items = apriori(te_df, min_support=0.0015, use_colnames=True)\n",
        "asso_rules = association_rules(freq_items, metric='confidence', min_threshold=0.5)\n",
        "\n",
        "print(f'Answer [4] : No of association rules = {len(asso_rules)}')"
      ],
      "execution_count": 0,
      "outputs": [
        {
          "output_type": "stream",
          "text": [
            "Answer [4] : No of association rules = 65\n"
          ],
          "name": "stdout"
        }
      ]
    },
    {
      "cell_type": "code",
      "metadata": {
        "id": "EpMn6wPRaoFY",
        "colab_type": "code",
        "outputId": "68367c93-72f7-48b3-cba6-aa74a3b4c5ba",
        "colab": {
          "base_uri": "https://localhost:8080/",
          "height": 34
        }
      },
      "source": [
        "# [5]\n",
        "\n",
        "from sklearn.linear_model import LogisticRegression\n",
        "\n",
        "data5 = data[(data['AB'] >= 400) & (data['yearID'] >= 2014)]\n",
        "data5 = data5.assign(hitR=data5['H'] / data5['AB'])\n",
        "data5 = data5.assign(rank=data5.groupby('yearID')['hitR'].rank(method='dense',\n",
        "                                                               ascending=False))\n",
        "data5 = data5.assign(top30=data5.apply(lambda x: 'Y' if x['rank'] <= 30 else 'N',\n",
        "                                       axis=1))\n",
        "data5 = data5.assign(dr=data5['HBP'] + data5['BB'])\n",
        "data5 = data5.assign(long=(data5['H'] + data5['X2B'] + 2 * data5['X3B'] +\n",
        "                           3 * data5['HR']) / (data5['AB']))\n",
        "\n",
        "def nextTop(player, year):\n",
        "    if year == 2016:\n",
        "        return 'NA'\n",
        "    if len(data5[(data5['playerID'] == player) & (data5['yearID'] == year + 1)]) == 0:\n",
        "        return 'NA'\n",
        "    if data5[(data5['playerID'] == player) & (data5['yearID'] == year + 1)]\\\n",
        "       ['top30'].values[0] == 'Y':\n",
        "        return 'Y'\n",
        "    else:\n",
        "        return 'N'\n",
        "\n",
        "data5 = data5.assign(target=data5.apply(lambda x:\n",
        "                                        nextTop(x['playerID'], x['yearID']),\n",
        "                                        axis=1))\n",
        "data5 = data5[data5['target'] != 'NA']\n",
        "\n",
        "train_x = data5[data5['yearID'] == 2014][['RBI', 'dr', 'long', 'SO']]\n",
        "train_y = data5[data5['yearID'] == 2014][['target']]\n",
        "\n",
        "lr = LogisticRegression(random_state=1234, solver='newton-cg', penalty='l2',\n",
        "                        C=100000)\n",
        "model = lr.fit(train_x, train_y.squeeze())\n",
        "\n",
        "test_x = data5[data5['yearID'] == 2015][['RBI', 'dr', 'long', 'SO']]\n",
        "test_y = data5[data5['yearID'] == 2015][['target']]\n",
        "\n",
        "pred = model.predict_proba(test_x)\n",
        "pred_df = pd.DataFrame(pred, columns=['N', 'Y'])\n",
        "pred_df = pred_df.assign(Pred=pred_df.apply(lambda x: 'Y' if x['Y'] >= 0.18 else 'N',\n",
        "                                            axis=1))\n",
        "test_y = test_y.reset_index()\n",
        "pred_df = pred_df.assign(Fact=test_y['target'])\n",
        "true_pos = pred_df[(pred_df['Fact'] == 'Y') & (pred_df['Pred'] == 'Y')].shape[0]\n",
        "\n",
        "print(f'Answer [5] : No of True Positive = {true_pos}')"
      ],
      "execution_count": 0,
      "outputs": [
        {
          "output_type": "stream",
          "text": [
            "Answer [5] : No of True Positive = 21\n"
          ],
          "name": "stdout"
        }
      ]
    }
  ]
}
