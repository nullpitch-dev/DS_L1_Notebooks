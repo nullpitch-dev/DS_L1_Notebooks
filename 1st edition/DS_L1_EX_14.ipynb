{
  "nbformat": 4,
  "nbformat_minor": 0,
  "metadata": {
    "colab": {
      "name": "DS_L1_EX#14",
      "provenance": [],
      "collapsed_sections": [],
      "include_colab_link": true
    },
    "kernelspec": {
      "display_name": "Python 3",
      "name": "python3"
    }
  },
  "cells": [
    {
      "cell_type": "markdown",
      "metadata": {
        "id": "view-in-github",
        "colab_type": "text"
      },
      "source": [
        "<a href=\"https://colab.research.google.com/github/nullpitch-dev/DS_L1_Notebooks/blob/master/DS_L1_EX_14.ipynb\" target=\"_parent\"><img src=\"https://colab.research.google.com/assets/colab-badge.svg\" alt=\"Open In Colab\"/></a>"
      ]
    },
    {
      "cell_type": "code",
      "metadata": {
        "id": "j6BvBx2BCOdk",
        "colab_type": "code",
        "colab": {}
      },
      "source": [
        "import pandas as pd\n",
        "\n",
        "# loading data from a csv fle\n",
        "url1 = 'https://raw.githubusercontent.com/nullpitch-dev/hj_public/master/14-1.csv'\n",
        "url2 = 'https://raw.githubusercontent.com/nullpitch-dev/hj_public/master/14-2.csv'\n",
        "url3 = 'https://raw.githubusercontent.com/nullpitch-dev/hj_public/master/14-3.csv'\n",
        "url4 = 'https://raw.githubusercontent.com/nullpitch-dev/hj_public/master/14-4.csv'\n",
        "url5 = 'https://raw.githubusercontent.com/nullpitch-dev/hj_public/master/14-5.csv'\n",
        "\n",
        "data_1 = pd.read_csv(url1)\n",
        "data_2 = pd.read_csv(url2)\n",
        "data_3 = pd.read_csv(url3)\n",
        "data_4 = pd.read_csv(url4)\n",
        "data_5 = pd.read_csv(url5)\n",
        "\n",
        "data = data_1\n",
        "data = data.append(data_2)\n",
        "data = data.append(data_3)\n",
        "data = data.append(data_4)\n",
        "data = data.append(data_5)\n",
        "\n",
        "data = data.reset_index()\n",
        "data = data.drop(['index'], axis=1)"
      ],
      "execution_count": 0,
      "outputs": []
    },
    {
      "cell_type": "code",
      "metadata": {
        "id": "K7tdfWfsN4mU",
        "colab_type": "code",
        "outputId": "8938691d-37d3-4a73-9a2c-3951eeb179c8",
        "colab": {
          "base_uri": "https://localhost:8080/",
          "height": 34
        }
      },
      "source": [
        "# [1]\n",
        "\n",
        "from sklearn.neighbors import KNeighborsClassifier\n",
        "import math\n",
        "\n",
        "data1 = data[(data['Class'].isna()) & (data['Amount'] > 200)]\n",
        "nonnull = data[data['Class'].isna() == False]\n",
        "\n",
        "X_cols = list(data1.columns)[1:29]\n",
        "train_X = nonnull[X_cols]\n",
        "train_y = nonnull['Class']\n",
        "test_X = data1[X_cols]\n",
        "\n",
        "# preparing to give closest 5 points in eucledian\n",
        "knc = KNeighborsClassifier(n_neighbors=5, p=2)\n",
        "model = knc.fit(train_X, train_y)\n",
        "\n",
        "# finding 5 points per test sample (28,704 X 5)\n",
        "neig_dist, neig_index = model.kneighbors(test_X[X_cols])\n",
        "\n",
        "# creating test_y (28,704 X 1)\n",
        "test_y = pd.DataFrame(neig_index, columns=range(1, 6))\n",
        "\n",
        "def getClass(x):\n",
        "    # if at least 1 point is 1, make the class as 1\n",
        "    for i in range(1, 6):\n",
        "        if train_y[x[i]] == 1:\n",
        "            return 1\n",
        "    return 0\n",
        "\n",
        "test_y = test_y.assign(esti=test_y.apply(lambda x: getClass(x), axis=1))\n",
        "\n",
        "# filling the calculated class in the original data\n",
        "test_X.reset_index(inplace=True)\n",
        "test = test_X.assign(eClass=test_y['esti'])\n",
        "test.set_index('index', inplace=True)\n",
        "\n",
        "# applying estimation in the original null records\n",
        "data1 = data1.assign(Class=test['eClass'])\n",
        "\n",
        "# merging Null records into NonNull records\n",
        "merged_df = pd.concat([data1, nonnull], axis=0, ignore_index=False)\n",
        "\n",
        "max_val = merged_df[merged_df['Class'] == 1]['Amount'].max()\n",
        "min_val = merged_df[merged_df['Class'] == 1]['Amount'].min()\n",
        "\n",
        "print(f'Answer [1] : Range = {math.floor(max_val - min_val)}')"
      ],
      "execution_count": 0,
      "outputs": [
        {
          "output_type": "stream",
          "text": [
            "Answer [1] : Range = 25691\n"
          ],
          "name": "stdout"
        }
      ]
    },
    {
      "cell_type": "code",
      "metadata": {
        "id": "HhP_hX8L6yYc",
        "colab_type": "code",
        "outputId": "5a181973-5890-4731-9aac-dad27efa019e",
        "colab": {
          "base_uri": "https://localhost:8080/",
          "height": 34
        }
      },
      "source": [
        "# [2]\n",
        "\n",
        "from scipy import stats\n",
        "import math\n",
        "\n",
        "group0 = merged_df[merged_df['Class'] == 0]['V2']\n",
        "group1 = merged_df[merged_df['Class'] == 1]['V2']\n",
        "\n",
        "t_val, p_val = stats.ttest_ind(group0, group1, equal_var=False)\n",
        "\n",
        "print(f'Answer [2] : t-value = {math.floor(t_val)}')"
      ],
      "execution_count": 0,
      "outputs": [
        {
          "output_type": "stream",
          "text": [
            "Answer [2] : t-value = 22\n"
          ],
          "name": "stdout"
        }
      ]
    },
    {
      "cell_type": "code",
      "metadata": {
        "id": "_L87xa_Wykdv",
        "colab_type": "code",
        "outputId": "a11eda82-2157-4a55-9c86-9272f0e8d8bc",
        "colab": {
          "base_uri": "https://localhost:8080/",
          "height": 34
        }
      },
      "source": [
        "# [3]\n",
        "\n",
        "from sklearn.linear_model import LinearRegression\n",
        "import math\n",
        "\n",
        "data3 = merged_df[merged_df['Class'] == 1]\n",
        "train_X = data3[X_cols]\n",
        "train_y = data3['Amount']\n",
        "\n",
        "lr = LinearRegression()\n",
        "model = lr.fit(train_X, train_y)\n",
        "score = model.score(train_X, train_y)\n",
        "\n",
        "print(f'Answer [3] : R-squared = {math.floor(score * 100) / 100}')"
      ],
      "execution_count": 0,
      "outputs": [
        {
          "output_type": "stream",
          "text": [
            "Answer [3] : R-squared = 0.93\n"
          ],
          "name": "stdout"
        }
      ]
    },
    {
      "cell_type": "code",
      "metadata": {
        "id": "9_1oARIL06zP",
        "colab_type": "code",
        "outputId": "249829ab-7ccd-41ae-a51e-896f7581adeb",
        "colab": {
          "base_uri": "https://localhost:8080/",
          "height": 34
        }
      },
      "source": [
        "# [4]\n",
        "\n",
        "from sklearn.linear_model import LogisticRegression\n",
        "\n",
        "train = merged_df[merged_df['Time'] <= 100000]\n",
        "test = merged_df[merged_df['Time'] > 100000]\n",
        "\n",
        "train_X = train[X_cols + ['Amount']]\n",
        "train_y = train['Class']\n",
        "test_X = test[X_cols + ['Amount']]\n",
        "test_y = test['Class']\n",
        "\n",
        "lr = LogisticRegression(C=100000, random_state=1234, solver='newton-cg')\n",
        "model = lr.fit(train_X, train_y)\n",
        "pred = model.predict_proba(test_X)\n",
        "\n",
        "pred_df = pd.DataFrame(pred, columns=['0', '1'])\n",
        "pred_df = pred_df.assign(esti=pred_df.apply(lambda x: 1 if x['1'] >= 0.4 else 0,\n",
        "                                            axis=1))\n",
        "pred_df = pred_df.assign(fact=test_y.reset_index()['Class'])\n",
        "pred_df = pred_df.assign(accurate=pred_df.apply(lambda x:\n",
        "                                                1 if x['esti'] == x['fact'] else 0,\n",
        "                                                axis=1))\n",
        "accuracy = pred_df['accurate'].sum() / pred_df['accurate'].count()\n",
        "\n",
        "print(f'Answer [4] : Accuracy = {math.floor(accuracy * 1000) / 1000}')"
      ],
      "execution_count": 0,
      "outputs": [
        {
          "output_type": "stream",
          "text": [
            "Answer [4] : Accuracy = 0.815\n"
          ],
          "name": "stdout"
        }
      ]
    }
  ]
}
