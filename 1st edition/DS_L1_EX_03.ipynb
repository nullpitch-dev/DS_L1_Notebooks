{
  "nbformat": 4,
  "nbformat_minor": 0,
  "metadata": {
    "colab": {
      "name": "DS_L1_EX#03",
      "provenance": [],
      "collapsed_sections": [],
      "include_colab_link": true
    },
    "kernelspec": {
      "display_name": "Python 3",
      "name": "python3"
    }
  },
  "cells": [
    {
      "cell_type": "markdown",
      "metadata": {
        "id": "view-in-github",
        "colab_type": "text"
      },
      "source": [
        "<a href=\"https://colab.research.google.com/github/nullpitch-dev/DS_L1_Notebooks/blob/master/DS_L1_EX_03.ipynb\" target=\"_parent\"><img src=\"https://colab.research.google.com/assets/colab-badge.svg\" alt=\"Open In Colab\"/></a>"
      ]
    },
    {
      "cell_type": "code",
      "metadata": {
        "id": "j6BvBx2BCOdk",
        "colab_type": "code",
        "colab": {}
      },
      "source": [
        "import pandas as pd\n",
        "\n",
        "# loading data from a csv fle\n",
        "url = 'https://raw.githubusercontent.com/nullpitch-dev/hj_public/master/Antibiotic_70K_patinets.csv'\n",
        "data = pd.read_csv(url)"
      ],
      "execution_count": 0,
      "outputs": []
    },
    {
      "cell_type": "code",
      "metadata": {
        "id": "wtp7Sjkf9MQz",
        "colab_type": "code",
        "colab": {
          "base_uri": "https://localhost:8080/",
          "height": 320
        },
        "outputId": "a2510547-29b3-483e-c53d-7b7379185a41"
      },
      "source": [
        "# [1]\n",
        "\n",
        "data.describe()"
      ],
      "execution_count": 6,
      "outputs": [
        {
          "output_type": "execute_result",
          "data": {
            "text/html": [
              "<div>\n",
              "<style scoped>\n",
              "    .dataframe tbody tr th:only-of-type {\n",
              "        vertical-align: middle;\n",
              "    }\n",
              "\n",
              "    .dataframe tbody tr th {\n",
              "        vertical-align: top;\n",
              "    }\n",
              "\n",
              "    .dataframe thead th {\n",
              "        text-align: right;\n",
              "    }\n",
              "</style>\n",
              "<table border=\"1\" class=\"dataframe\">\n",
              "  <thead>\n",
              "    <tr style=\"text-align: right;\">\n",
              "      <th></th>\n",
              "      <th>ID</th>\n",
              "      <th>total_d</th>\n",
              "      <th>high_d</th>\n",
              "      <th>low_d</th>\n",
              "      <th>none_high_d</th>\n",
              "      <th>high_p</th>\n",
              "      <th>cdiff</th>\n",
              "      <th>age_5</th>\n",
              "    </tr>\n",
              "  </thead>\n",
              "  <tbody>\n",
              "    <tr>\n",
              "      <th>count</th>\n",
              "      <td>70000.000000</td>\n",
              "      <td>70000.000000</td>\n",
              "      <td>70000.000000</td>\n",
              "      <td>70000.000000</td>\n",
              "      <td>70000.000000</td>\n",
              "      <td>70000.000000</td>\n",
              "      <td>70000.000000</td>\n",
              "      <td>70000.00000</td>\n",
              "    </tr>\n",
              "    <tr>\n",
              "      <th>mean</th>\n",
              "      <td>35000.500000</td>\n",
              "      <td>8.049771</td>\n",
              "      <td>3.774386</td>\n",
              "      <td>6.131871</td>\n",
              "      <td>4.275386</td>\n",
              "      <td>42.254031</td>\n",
              "      <td>0.021471</td>\n",
              "      <td>2.74870</td>\n",
              "    </tr>\n",
              "    <tr>\n",
              "      <th>std</th>\n",
              "      <td>20207.403759</td>\n",
              "      <td>13.885638</td>\n",
              "      <td>8.795789</td>\n",
              "      <td>11.502711</td>\n",
              "      <td>7.950063</td>\n",
              "      <td>39.836986</td>\n",
              "      <td>0.144951</td>\n",
              "      <td>1.56102</td>\n",
              "    </tr>\n",
              "    <tr>\n",
              "      <th>min</th>\n",
              "      <td>1.000000</td>\n",
              "      <td>2.000000</td>\n",
              "      <td>0.000000</td>\n",
              "      <td>0.000000</td>\n",
              "      <td>0.000000</td>\n",
              "      <td>0.000000</td>\n",
              "      <td>0.000000</td>\n",
              "      <td>1.00000</td>\n",
              "    </tr>\n",
              "    <tr>\n",
              "      <th>25%</th>\n",
              "      <td>17500.750000</td>\n",
              "      <td>2.000000</td>\n",
              "      <td>0.000000</td>\n",
              "      <td>2.000000</td>\n",
              "      <td>1.000000</td>\n",
              "      <td>0.000000</td>\n",
              "      <td>0.000000</td>\n",
              "      <td>1.00000</td>\n",
              "    </tr>\n",
              "    <tr>\n",
              "      <th>50%</th>\n",
              "      <td>35000.500000</td>\n",
              "      <td>4.000000</td>\n",
              "      <td>2.000000</td>\n",
              "      <td>3.000000</td>\n",
              "      <td>2.000000</td>\n",
              "      <td>37.500000</td>\n",
              "      <td>0.000000</td>\n",
              "      <td>3.00000</td>\n",
              "    </tr>\n",
              "    <tr>\n",
              "      <th>75%</th>\n",
              "      <td>52500.250000</td>\n",
              "      <td>8.000000</td>\n",
              "      <td>4.000000</td>\n",
              "      <td>6.000000</td>\n",
              "      <td>4.000000</td>\n",
              "      <td>80.000000</td>\n",
              "      <td>0.000000</td>\n",
              "      <td>4.00000</td>\n",
              "    </tr>\n",
              "    <tr>\n",
              "      <th>max</th>\n",
              "      <td>70000.000000</td>\n",
              "      <td>526.000000</td>\n",
              "      <td>368.000000</td>\n",
              "      <td>397.000000</td>\n",
              "      <td>294.000000</td>\n",
              "      <td>100.000000</td>\n",
              "      <td>1.000000</td>\n",
              "      <td>7.00000</td>\n",
              "    </tr>\n",
              "  </tbody>\n",
              "</table>\n",
              "</div>"
            ],
            "text/plain": [
              "                 ID       total_d  ...         cdiff        age_5\n",
              "count  70000.000000  70000.000000  ...  70000.000000  70000.00000\n",
              "mean   35000.500000      8.049771  ...      0.021471      2.74870\n",
              "std    20207.403759     13.885638  ...      0.144951      1.56102\n",
              "min        1.000000      2.000000  ...      0.000000      1.00000\n",
              "25%    17500.750000      2.000000  ...      0.000000      1.00000\n",
              "50%    35000.500000      4.000000  ...      0.000000      3.00000\n",
              "75%    52500.250000      8.000000  ...      0.000000      4.00000\n",
              "max    70000.000000    526.000000  ...      1.000000      7.00000\n",
              "\n",
              "[8 rows x 8 columns]"
            ]
          },
          "metadata": {
            "tags": []
          },
          "execution_count": 6
        }
      ]
    },
    {
      "cell_type": "code",
      "metadata": {
        "id": "RzLj-C1F-Z-S",
        "colab_type": "code",
        "colab": {
          "base_uri": "https://localhost:8080/",
          "height": 34
        },
        "outputId": "717ec670-6d62-4f6a-b9cc-312fd00ecba6"
      },
      "source": [
        "# [2]\n",
        "\n",
        "data2 = data.groupby('age_5').agg({'high_p': 'mean'})\n",
        "data2.sort_values(by='high_p', ascending=False, inplace=True)\n",
        "\n",
        "print(f'Answer [2] : Top age_5 = {data2.index[0]}')"
      ],
      "execution_count": 69,
      "outputs": [
        {
          "output_type": "stream",
          "text": [
            "Answer [2] : Top age_5 = 7\n"
          ],
          "name": "stdout"
        }
      ]
    },
    {
      "cell_type": "code",
      "metadata": {
        "id": "Tt_U-GBL_fKY",
        "colab_type": "code",
        "colab": {
          "base_uri": "https://localhost:8080/",
          "height": 34
        },
        "outputId": "8e425746-c7eb-46fe-9e79-0b749c4e8083"
      },
      "source": [
        "# [3]\n",
        "\n",
        "import math\n",
        "\n",
        "check_na = data[data.isna()]\n",
        "\n",
        "ll = math.floor(data['total_d'].mean() * 100) / 100 -\\\n",
        "     3 * math.floor(data['total_d'].std() * 100) / 100\n",
        "ul = math.floor(data['total_d'].mean() * 100) / 100 +\\\n",
        "     3 * math.floor(data['total_d'].std() * 100) / 100\n",
        "\n",
        "data3 = data.assign(outlier=data.apply(lambda x:\n",
        "                                       1 if (x['total_d'] < ll) | (x['total_d'] > ul)\n",
        "                                       else 0, axis=1))\n",
        "\n",
        "print(f'Answer [3] : No of null = {sum(check_na.sum()):.0f}, ' +\n",
        "      f\"No of outliers = {data3['outlier'].sum()}\")"
      ],
      "execution_count": 70,
      "outputs": [
        {
          "output_type": "stream",
          "text": [
            "Answer [3] : No of null = 0, No of outliers = 1258\n"
          ],
          "name": "stdout"
        }
      ]
    },
    {
      "cell_type": "code",
      "metadata": {
        "id": "Q8cKcZaknz6B",
        "colab_type": "code",
        "colab": {
          "base_uri": "https://localhost:8080/",
          "height": 34
        },
        "outputId": "be936245-5f1a-42e7-9ff7-fc82b481f6be"
      },
      "source": [
        "# [4]\n",
        "\n",
        "import math\n",
        "\n",
        "corr = data[['age_5', 'high_p']].corr(method='pearson')['age_5'].iloc[1]\n",
        "\n",
        "print(f'Answer [4] : Corr = {math.floor(corr * 100) / 100}')"
      ],
      "execution_count": 72,
      "outputs": [
        {
          "output_type": "stream",
          "text": [
            "Answer [4] : Corr = 0.12\n"
          ],
          "name": "stdout"
        }
      ]
    },
    {
      "cell_type": "code",
      "metadata": {
        "id": "m252IJj2Cuu1",
        "colab_type": "code",
        "colab": {
          "base_uri": "https://localhost:8080/",
          "height": 52
        },
        "outputId": "db6e7ab4-4d21-4998-a708-ef264dbd8ef8"
      },
      "source": [
        "# [5] ttest_ind\n",
        "\n",
        "from scipy import stats\n",
        "\n",
        "yes = data[data['cdiff'] == 1]\n",
        "no = data[data['cdiff'] == 0]\n",
        "\n",
        "diff = math.floor((yes['high_p'].mean() - no['high_p'].mean()) * 100) / 100\n",
        "\n",
        "t_val, p_val = stats.ttest_ind(yes['high_p'], no['high_p'])\n",
        "\n",
        "print(f'Answer [5] : Difference = {diff}, P-value = {p_val}')\n",
        "print(f'             P-value is less than 0.05 so the means are not same')"
      ],
      "execution_count": 95,
      "outputs": [
        {
          "output_type": "stream",
          "text": [
            "Answer [5] : Difference = 4.79, P-value = 3.975323449530875e-06\n",
            "             P-value is less than 0.05 so the means are not same\n"
          ],
          "name": "stdout"
        }
      ]
    },
    {
      "cell_type": "code",
      "metadata": {
        "id": "jZww_ghM-9oy",
        "colab_type": "code",
        "colab": {
          "base_uri": "https://localhost:8080/",
          "height": 34
        },
        "outputId": "9c00e216-98fb-4c41-b4e5-6da60a570af1"
      },
      "source": [
        "# [6] LogisticRegression\n",
        "\n",
        "from sklearn.linear_model import LogisticRegression\n",
        "\n",
        "train_X = data[['total_d', 'high_d', 'low_d', 'high_p', 'age_5']]\n",
        "train_y = data['cdiff']\n",
        "\n",
        "lr = LogisticRegression(solver='newton-cg')\n",
        "model = lr.fit(train_X, train_y)\n",
        "coef = model.coef_\n",
        "\n",
        "ind = []\n",
        "for i in range(len(coef[0])):\n",
        "    if coef[0, i] < 0:\n",
        "        ind.append(i)\n",
        "\n",
        "ans = f'Answer [6] : '\n",
        "for i in range(len(ind)):\n",
        "    ans += f'{train_X.columns[ind][i]} '\n",
        "\n",
        "print(ans)"
      ],
      "execution_count": 131,
      "outputs": [
        {
          "output_type": "stream",
          "text": [
            "Answer [6] : high_d low_d \n"
          ],
          "name": "stdout"
        }
      ]
    }
  ]
}
