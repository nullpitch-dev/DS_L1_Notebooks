{
  "nbformat": 4,
  "nbformat_minor": 0,
  "metadata": {
    "colab": {
      "name": "DS_L1_EX#01",
      "provenance": [],
      "collapsed_sections": [],
      "include_colab_link": true
    },
    "kernelspec": {
      "display_name": "Python 3",
      "name": "python3"
    }
  },
  "cells": [
    {
      "cell_type": "markdown",
      "metadata": {
        "id": "view-in-github",
        "colab_type": "text"
      },
      "source": [
        "<a href=\"https://colab.research.google.com/github/nullpitch-dev/DS_L1_Notebooks/blob/master/DS_L1_EX_01.ipynb\" target=\"_parent\"><img src=\"https://colab.research.google.com/assets/colab-badge.svg\" alt=\"Open In Colab\"/></a>"
      ]
    },
    {
      "cell_type": "code",
      "metadata": {
        "id": "j6BvBx2BCOdk",
        "colab_type": "code",
        "colab": {}
      },
      "source": [
        "import pandas as pd\n",
        "\n",
        "# loading data from a csv fle\n",
        "url1 = 'https://raw.githubusercontent.com/nullpitch-dev/hj_public/master/highway_01_07.csv'\n",
        "url2 = 'https://raw.githubusercontent.com/nullpitch-dev/hj_public/master/highway_08_12.csv'\n",
        "\n",
        "data_1st = pd.read_csv(url1)\n",
        "data_2nd = pd.read_csv(url2)\n",
        "\n",
        "def conv(x):\n",
        "    if x == '경기':\n",
        "        return 'Gyeonggi'\n",
        "    elif x == '충청':\n",
        "        return 'Chungcheong'\n",
        "    elif x == '전라':\n",
        "        return 'Jeolla'\n",
        "    elif x == '경상':\n",
        "        return 'Gyeongsang'\n",
        "    elif x == '강원':\n",
        "        return 'Gangwon'\n",
        "    else:\n",
        "        return 'ERROR'\n",
        "\n",
        "data_2nd['StartPoint'] = data_2nd.apply(lambda x: conv(x['StartPoint']), axis=1)\n",
        "data = data_1st.append(data_2nd)"
      ],
      "execution_count": 0,
      "outputs": []
    },
    {
      "cell_type": "code",
      "metadata": {
        "id": "f8ctHHStc5OU",
        "colab_type": "code",
        "outputId": "1c8c8aa0-7715-4b82-dc19-4b69a7c17783",
        "colab": {
          "base_uri": "https://localhost:8080/",
          "height": 34
        }
      },
      "source": [
        "# [1]\n",
        "\n",
        "data1 = data[data['StartPoint'] == 'Gangwon']\n",
        "data1_1 = pd.concat([data1['Gyeonggi'], data1['Chungcheong'], data1['Jeolla'],\n",
        "                    data1['Gyeongsang'], data1['Gangwon']], ignore_index=True)\n",
        "\n",
        "quantile = data1_1.quantile(q=[0.25, 0.5, 0.75])\n",
        "\n",
        "print(f'Answer [1] : q1 = {quantile[0.25]:.0f}, ' +\n",
        "                   f'median = {quantile[0.50]:.0f}, ' +\n",
        "                   f'q3 = {quantile[0.75]:.0f}')"
      ],
      "execution_count": 0,
      "outputs": [
        {
          "output_type": "stream",
          "text": [
            "Answer [1] : q1 = 988, median = 5455, q3 = 54882\n"
          ],
          "name": "stdout"
        }
      ]
    },
    {
      "cell_type": "code",
      "metadata": {
        "id": "kGwxogdWqKv7",
        "colab_type": "code",
        "outputId": "59ccfad0-d566-4d0f-fdb5-0c9782cb7c57",
        "colab": {
          "base_uri": "https://localhost:8080/",
          "height": 34
        }
      },
      "source": [
        "# [2]\n",
        "\n",
        "from scipy.stats import stats\n",
        "\n",
        "G_S = data[data['StartPoint'] == 'Gyeonggi']['Gyeongsang']\n",
        "S_G = data[data['StartPoint'] == 'Gyeongsang']['Gyeonggi']\n",
        "\n",
        "t_value, p_value = stats.ttest_ind(G_S, S_G)\n",
        "\n",
        "if p_value < 0.05:\n",
        "    reject = 'YES'\n",
        "else:\n",
        "    reject = 'NO'\n",
        "\n",
        "print(f'Answer[2] : P-value = {p_value:.4f}, Reject = {reject}')"
      ],
      "execution_count": 0,
      "outputs": [
        {
          "output_type": "stream",
          "text": [
            "Answer[2] : P-value = 0.0013, Reject = YES\n"
          ],
          "name": "stdout"
        }
      ]
    },
    {
      "cell_type": "code",
      "metadata": {
        "id": "2eZmGVBKwKZv",
        "colab_type": "code",
        "outputId": "3a36fc7f-3f59-4569-db24-f25708b32b6a",
        "colab": {
          "base_uri": "https://localhost:8080/",
          "height": 34
        }
      },
      "source": [
        "# [3]\n",
        "\n",
        "import datetime\n",
        "from sklearn.preprocessing import MinMaxScaler\n",
        "from sklearn.cluster import KMeans\n",
        "import numpy as np\n",
        "\n",
        "data3 = data[data['StartPoint'] == 'Chungcheong'][['date', 'Gangwon']]\n",
        "\n",
        "data3 = data3.assign(strdate=data3.apply(lambda x: str(int(x['date'])), axis=1))\n",
        "data3 = data3.assign(conv_date=data3.apply(lambda x: datetime.datetime.strptime(\n",
        "                                                      x['strdate'], '%Y%m%d'\n",
        "                                                   ), axis=1))\n",
        "data3 = data3.assign(weekday=data3.apply(lambda x: int(x['conv_date'].strftime('%w')), axis=1))\n",
        "data3 = data3.assign(month=data3.apply(lambda x: int(x['conv_date'].strftime('%m')), axis=1))\n",
        "\n",
        "data3 = data3.groupby(['weekday', 'month']).agg({'Gangwon': 'mean'})\n",
        "data3.reset_index(level=['weekday', 'month'], inplace=True)\n",
        "\n",
        "norm_data = []\n",
        "for wd in range(7):\n",
        "    data_wd = data3[data3['weekday'] == wd]\n",
        "    scaler = MinMaxScaler()\n",
        "    result = scaler.fit_transform(data_wd['Gangwon'].to_numpy().reshape(-1, 1))\n",
        "    result_df = pd.DataFrame(result, index=list(data_wd.index.values),\n",
        "                             columns=['norm_traffic'])\n",
        "    norm_data.append(result_df)\n",
        "\n",
        "norm_data_df = pd.concat(objs=norm_data)\n",
        "data3 = pd.merge(left=data3, right=norm_data_df, left_index=True, right_index=True)\n",
        "\n",
        "data3_month = data3.groupby('month').agg({'norm_traffic': 'mean'})\n",
        "\n",
        "cluster = KMeans(n_clusters=3, n_init=3, max_iter=100, random_state=1234)\n",
        "pred = cluster.fit(data3_month)\n",
        "km_result = pred.predict(data3_month)\n",
        "\n",
        "# finding October's cluster\n",
        "data3_month.reset_index(inplace=True)\n",
        "oct_index = data3_month[data3_month['month'] == 10].index.values[0]\n",
        "A_group = cluster.labels_[oct_index]\n",
        "\n",
        "# counting number of months in the October's cluster\n",
        "unique, counts = np.unique(km_result, return_counts=True)\n",
        "no_months = dict(zip(unique, counts))[A_group]\n",
        "\n",
        "# finding months in the October's cluster\n",
        "a_group_month = np.where(km_result == A_group)[0] + 1\n",
        "\n",
        "a_monday = data3[(data3['month'].isin(a_group_month)) & (data3['weekday'] == 1)]\n",
        "ans = a_monday.groupby('weekday').agg({'norm_traffic': 'mean'})['norm_traffic'].loc[1]\n",
        "\n",
        "print(f'Answer [3] : No of months = {no_months:.0f}, Mean value = {ans:.2f}')"
      ],
      "execution_count": 0,
      "outputs": [
        {
          "output_type": "stream",
          "text": [
            "Answer [3] : No of months = 3, Mean value = 0.75\n"
          ],
          "name": "stdout"
        }
      ]
    },
    {
      "cell_type": "code",
      "metadata": {
        "id": "pvHB98uYSUfK",
        "colab_type": "code",
        "outputId": "97965f2a-09b4-44d7-bf2f-5e5f11a4a68c",
        "colab": {
          "base_uri": "https://localhost:8080/",
          "height": 34
        }
      },
      "source": [
        "# [4]\n",
        "\n",
        "import datetime\n",
        "from sklearn.linear_model import LinearRegression\n",
        "\n",
        "data5 = data[data['StartPoint'] == 'Gyeonggi']\n",
        "\n",
        "data5 = data5.assign(strdate=data5.apply(lambda x: str(int(x['date'])), axis=1))\n",
        "data5 = data5.assign(conv_date=data5.apply(lambda x: datetime.datetime.strptime(\n",
        "                                                      x['strdate'], '%Y%m%d'\n",
        "                                                   ), axis=1))\n",
        "data5 = data5.assign(month=data5.apply(lambda x: int(x['conv_date'].strftime('%m')),\n",
        "                                       axis=1))\n",
        "data5 = data5.assign(week=data5.apply(lambda x: int(x['conv_date'].strftime('%U')),\n",
        "                                      axis=1))\n",
        "data5 = data5.assign(weekday=data5.apply(lambda x: int(x['conv_date'].strftime('%w')),\n",
        "                                         axis=1))\n",
        "\n",
        "def yesterdayDepart(x):\n",
        "    wn = data5[data5['conv_date'] == x]['week'].iloc[0]\n",
        "    wd = data5[data5['conv_date'] == x]['weekday'].iloc[0]\n",
        "\n",
        "    if (wn == 0) & (wd == 0):  # if there is no yesterday\n",
        "        return 0\n",
        "    else:\n",
        "        if wd == 0:\n",
        "            y_wd = 6\n",
        "            y_wn = wn - 1\n",
        "        else:\n",
        "            y_wd = wd - 1\n",
        "            y_wn = wn\n",
        "\n",
        "        traffic = data5[(data5['week'] == y_wn) & (data5['weekday'] == y_wd)]['Jeolla']\n",
        "        \n",
        "        if len(traffic) == 0:  # if there is no traffic yesterday\n",
        "            return 0\n",
        "        else:\n",
        "            return traffic.iloc[0]\n",
        "    \n",
        "data5 = data5.assign(yesterday= data5.apply(lambda x: yesterdayDepart(x['conv_date']),\n",
        "                                            axis=1))\n",
        "\n",
        "train = data5[(data5['month'] >= 1) & (data5['month'] <= 6) & (data5['weekday'] == 0)]\n",
        "train_X = train[['Chungcheong', 'Gyeongsang', 'Gangwon', 'yesterday']]\n",
        "train_y = train['Jeolla']\n",
        "\n",
        "test = data5[(data5['date'] == 20140706) | (data5['date'] == 20140713) |\n",
        "             (data5['date'] == 20140720)]\n",
        "test_X = test[['Chungcheong', 'Gyeongsang', 'Gangwon', 'yesterday']]\n",
        "\n",
        "lr = LinearRegression()\n",
        "model = lr.fit(train_X, train_y)\n",
        "pred = model.predict(test_X)\n",
        "\n",
        "print(f'Answer [4] : {pred[0]:.1f}, {pred[1]:.1f}, {pred[2]:.1f}')"
      ],
      "execution_count": 0,
      "outputs": [
        {
          "output_type": "stream",
          "text": [
            "Answer [4] : 2962.8, 3161.4, 3027.5\n"
          ],
          "name": "stdout"
        }
      ]
    }
  ]
}
