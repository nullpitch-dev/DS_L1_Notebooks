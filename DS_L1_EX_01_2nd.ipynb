{
  "nbformat": 4,
  "nbformat_minor": 0,
  "metadata": {
    "colab": {
      "name": "DS_L1_EX_01_2nd.ipynb",
      "provenance": [],
      "collapsed_sections": [],
      "include_colab_link": true
    },
    "kernelspec": {
      "name": "python3",
      "display_name": "Python 3"
    },
    "accelerator": "GPU"
  },
  "cells": [
    {
      "cell_type": "markdown",
      "metadata": {
        "id": "view-in-github",
        "colab_type": "text"
      },
      "source": [
        "<a href=\"https://colab.research.google.com/github/nullpitch-dev/DS_L1_Notebooks/blob/master/DS_L1_EX_01_2nd.ipynb\" target=\"_parent\"><img src=\"https://colab.research.google.com/assets/colab-badge.svg\" alt=\"Open In Colab\"/></a>"
      ]
    },
    {
      "cell_type": "code",
      "metadata": {
        "id": "QR5lPnyWJgs1",
        "colab_type": "code",
        "colab": {}
      },
      "source": [
        "import pandas as pd\n",
        "\n",
        "# load data\n",
        "url_1 = 'https://raw.githubusercontent.com/nullpitch-dev/hj_public/master/highway_01_07.csv'\n",
        "url_2 = 'https://raw.githubusercontent.com/nullpitch-dev/hj_public/master/highway_08_12.csv'\n",
        "\n",
        "data_1 = pd.read_csv(url_1)\n",
        "data_2 = pd.read_csv(url_2)\n",
        "\n",
        "# change Korean StartPoint to English StartPoint\n",
        "def changeLang(x):\n",
        "    if x == '경기':\n",
        "        return 'Gyeonggi'                                                       \n",
        "    elif x == '충청':                                                           \n",
        "        return 'Chungcheong'                                                    \n",
        "    elif x == '전라':                                                           \n",
        "        return 'Jeolla'                                                         \n",
        "    elif x == '경상':                                                           \n",
        "        return 'Gyeongsang'                                                     \n",
        "    elif x == '강원':                                                           \n",
        "        return 'Gangwon'                                                        \n",
        "    else:                                                                       \n",
        "        return 'ERROR'   \n",
        "\n",
        "data_2 = data_2.assign(StartPoint=data_2.apply(lambda x:\n",
        "                                               changeLang(x['StartPoint']),\n",
        "                                               axis=1))\n",
        "\n",
        "# merge into one dataframe\n",
        "data = pd.concat([data_1, data_2], axis=0)\n"
      ],
      "execution_count": 0,
      "outputs": []
    },
    {
      "cell_type": "code",
      "metadata": {
        "id": "FWgLaSI__2IG",
        "colab_type": "code",
        "colab": {
          "base_uri": "https://localhost:8080/",
          "height": 34
        },
        "outputId": "c05898c3-33ae-4405-967f-3b5767fbf690"
      },
      "source": [
        "# [1] quantile\n",
        "\n",
        "# get destinations\n",
        "dest = data.columns[2:]\n",
        "\n",
        "# filter travels from Gangwon\n",
        "from_GW = data[data['StartPoint'] == 'Gangwon']\n",
        "\n",
        "# move traffics into one column\n",
        "traffic = from_GW[dest[0]]\n",
        "for i in dest[1:]:\n",
        "    traffic = pd.concat([traffic, from_GW[i]], axis=0)\n",
        "\n",
        "# calculate quantile\n",
        "q = traffic.quantile([0.25, 0.5, 0.75])\n",
        "print(f'Answer [1] : q1 = {q[0.25]:.0f}, meadian = {q[0.5]:.0f}, q3 = {q[0.75]:.0f}')"
      ],
      "execution_count": 123,
      "outputs": [
        {
          "output_type": "stream",
          "text": [
            "Answer [1] : q1 = 988, meadian = 5455, q3 = 54882\n"
          ],
          "name": "stdout"
        }
      ]
    },
    {
      "cell_type": "code",
      "metadata": {
        "id": "wL7i4LUZNwMU",
        "colab_type": "code",
        "colab": {
          "base_uri": "https://localhost:8080/",
          "height": 34
        },
        "outputId": "748b85f4-1477-405e-9be1-3a836e447373"
      },
      "source": [
        "# [2] ttest_ind\n",
        "\n",
        "from scipy import stats\n",
        "\n",
        "GG_GS = data[data['StartPoint'] == 'Gyeonggi']['Gyeongsang']\n",
        "GS_GG = data[data['StartPoint'] == 'Gyeongsang']['Gyeonggi']\n",
        "\n",
        "# T-Test\n",
        "t_val, p_val = stats.ttest_ind(GG_GS, GS_GG)\n",
        "\n",
        "if p_val < 0.5:\n",
        "    reject = 'YES'\n",
        "else:\n",
        "    reject = 'NO'\n",
        "\n",
        "print(f'Answer [2] : P-value = {p_val:.4f}, Reject H0 : {reject}')"
      ],
      "execution_count": 124,
      "outputs": [
        {
          "output_type": "stream",
          "text": [
            "Answer [2] : P-value = 0.0013, Reject H0 : YES\n"
          ],
          "name": "stdout"
        }
      ]
    },
    {
      "cell_type": "code",
      "metadata": {
        "id": "Glb4Wn_RTXly",
        "colab_type": "code",
        "colab": {
          "base_uri": "https://localhost:8080/",
          "height": 34
        },
        "outputId": "8b9045b1-b08f-4d42-8110-46d7d645e06f"
      },
      "source": [
        "# [3] datetime, KMeans,\n",
        "#     Array(unique values and counts, index with certain value, zfill)\n",
        "\n",
        "import datetime\n",
        "from sklearn.cluster import KMeans\n",
        "import numpy as np\n",
        "\n",
        "CC_GW = data[data['StartPoint'] == 'Chungcheong'][['date', 'Gangwon']]\n",
        "\n",
        "# convert date column to int and then convert to string and to datetime\n",
        "# otherwise, str(data['date']) will produce 'YYYYMMDD.0' format\n",
        "CC_GW = CC_GW.assign(dt_date=CC_GW.apply(lambda x:\n",
        "                                         datetime.datetime.strptime(str(int(x['date'])),\n",
        "                                                                    '%Y%m%d'),\n",
        "                                         axis=1))\n",
        "\n",
        "# create month and day of week columns (Sunday = 0)\n",
        "CC_GW = CC_GW.assign(month=CC_GW.apply(lambda x: x['dt_date'].strftime('%m'), axis=1))\n",
        "CC_GW = CC_GW.assign(wd=CC_GW.apply(lambda x: x['dt_date'].strftime('%w'), axis=1))\n",
        "\n",
        "# groupby dayofweek and month\n",
        "wd_m = CC_GW.groupby(['wd', 'month']).agg({'Gangwon': 'mean'})\n",
        "wd_m.reset_index(inplace=True)\n",
        "\n",
        "# find min and max per day of week\n",
        "wd_min = wd_m.groupby('wd').agg({'Gangwon': 'min'})\n",
        "wd_min.rename(columns={'Gangwon': 'min'}, inplace=True)\n",
        "wd_max = wd_m.groupby('wd').agg({'Gangwon': 'max'})\n",
        "wd_max.rename(columns={'Gangwon': 'max'}, inplace=True)\n",
        "wd_minmax = pd.concat([wd_min, wd_max], axis=1)\n",
        "wd_minmax.reset_index(inplace=True)\n",
        "\n",
        "# merge into one dataframe\n",
        "wd_m = pd.merge(wd_m, wd_minmax, how='inner', on='wd')\n",
        "\n",
        "# MinMax normalize\n",
        "wd_m = wd_m.assign(norm_gw=\n",
        "                  (wd_m['Gangwon'] - wd_m['min']) / (wd_m['max'] - wd_m['min']))\n",
        "\n",
        "# groupby month\n",
        "month_ave = wd_m.groupby('month').agg({'norm_gw': 'mean'})\n",
        "\n",
        "# conduct KMeans\n",
        "cluster = KMeans(n_clusters=3, n_init=3, max_iter=100, random_state=1234)\n",
        "pred = cluster.fit(month_ave)\n",
        "\n",
        "# find A_group(October's group)\n",
        "A_group = pred.labels_[9]\n",
        "\n",
        "# find labels and counts for each label\n",
        "labels, counts = np.unique(pred.labels_, return_counts=True)\n",
        "cnt = pd.DataFrame(data=counts, index=labels, columns=['counts'])\n",
        "\n",
        "# find A_group's count\n",
        "A_count = cnt.loc[A_group]['counts']\n",
        "\n",
        "# find months in A_group\n",
        "A_months = np.where(pred.labels_ == A_group)[0] + 1\n",
        "\n",
        "# convert months(8) to string('08')\n",
        "A_months_str = []\n",
        "\n",
        "for m in A_months:\n",
        "    A_months_str.append(str(m).zfill(2))\n",
        "\n",
        "# filter with A_group months and Mondays\n",
        "wd_m_filter = wd_m[(wd_m['month'].isin(A_months_str)) & (wd_m['wd'] == '1')]\n",
        "\n",
        "# Average of A_group months' monday travels\n",
        "ave = wd_m_filter['norm_gw'].mean()\n",
        "\n",
        "print(f'Answer [3] : No of A group = {A_count}, Average = {ave:.2f}')"
      ],
      "execution_count": 125,
      "outputs": [
        {
          "output_type": "stream",
          "text": [
            "Answer [3] : No of A group = 3, Average = 0.75\n"
          ],
          "name": "stdout"
        }
      ]
    },
    {
      "cell_type": "code",
      "metadata": {
        "id": "Xi74aEJNhP4H",
        "colab_type": "code",
        "colab": {
          "base_uri": "https://localhost:8080/",
          "height": 34
        },
        "outputId": "81613f90-4851-4214-887d-e46a2490999b"
      },
      "source": [
        "# [4] LinearRegression, datetime\n",
        "\n",
        "from sklearn.linear_model import LinearRegression\n",
        "\n",
        "# create datetime type date field\n",
        "data = data.assign(dt_date=data.apply(lambda x:\n",
        "                                      datetime.datetime.strptime(\n",
        "                                          str(int(x['date'])), '%Y%m%d'),\n",
        "                                      axis=1)) \n",
        "\n",
        "# create day of week column\n",
        "data = data.assign(wd=data.apply(lambda x: int(x['dt_date'].strftime('%w')),\n",
        "                                 axis=1))\n",
        "\n",
        "# create week number column\n",
        "data = data.assign(week=data.apply(lambda x: int(x['dt_date'].strftime('%U')),\n",
        "                                 axis=1))\n",
        "\n",
        "# make train set\n",
        "train = data[(data['dt_date'] >= '20140101') & (data['dt_date'] < '20140701')]\n",
        "train = train[train['StartPoint'] == 'Gyeonggi']\n",
        "\n",
        "train_x1 = pd.DataFrame(train[train['wd'] == 0]['Chungcheong']).reset_index()\n",
        "train_x2 = pd.DataFrame(train[train['wd'] == 0]['Gyeongsang']).reset_index()\n",
        "train_x3 = pd.DataFrame(train[train['wd'] == 0]['Gangwon']).reset_index()\n",
        "train_x4 = pd.DataFrame(train[train['wd'] == 6]['Jeolla']).reset_index()\n",
        "\n",
        "train_X = pd.concat([train_x1, train_x2, train_x3, train_x4], axis=1)\n",
        "train_X = train_X.drop(columns=['index'])\n",
        "\n",
        "train_y = pd.DataFrame(train[train['wd'] == 0]['Jeolla']).reset_index()\n",
        "train_y = train_y.drop(columns=['index'])\n",
        "\n",
        "# make test set\n",
        "test = data[(data['dt_date'] == '20140705') | (data['dt_date'] == '20140706') |\\\n",
        "            (data['dt_date'] == '20140712') | (data['dt_date'] == '20140713') |\\\n",
        "            (data['dt_date'] == '20140719') | (data['dt_date'] == '20140720')]\n",
        "test = test[test['StartPoint'] == 'Gyeonggi']\n",
        "\n",
        "test_x1 = pd.DataFrame(test[test['wd'] == 0]['Chungcheong']).reset_index()\n",
        "test_x2 = pd.DataFrame(test[test['wd'] == 0]['Gyeongsang']).reset_index()\n",
        "test_x3 = pd.DataFrame(test[test['wd'] == 0]['Gangwon']).reset_index()\n",
        "test_x4 = pd.DataFrame(test[test['wd'] == 6]['Jeolla']).reset_index()\n",
        "\n",
        "test_X = pd.concat([test_x1, test_x2, test_x3, test_x4], axis=1)\n",
        "test_X = test_X.drop(columns=['index'])\n",
        "\n",
        "# train\n",
        "lr = LinearRegression()\n",
        "model = lr.fit(train_X, train_y)\n",
        "\n",
        "# predict\n",
        "pred = model.predict(test_X)\n",
        "\n",
        "print(f'Answer [4] : {pred[0][0]:.1f}, {pred[1][0]:.1f}, {pred[2][0]:.1f}')"
      ],
      "execution_count": 126,
      "outputs": [
        {
          "output_type": "stream",
          "text": [
            "Answer [4] : 2962.8, 3161.4, 3027.5\n"
          ],
          "name": "stdout"
        }
      ]
    }
  ]
}