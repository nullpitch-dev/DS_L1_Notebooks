{
  "nbformat": 4,
  "nbformat_minor": 0,
  "metadata": {
    "colab": {
      "name": "DS_L1_EX#02",
      "provenance": [],
      "collapsed_sections": [],
      "include_colab_link": true
    },
    "kernelspec": {
      "display_name": "Python 3",
      "name": "python3"
    }
  },
  "cells": [
    {
      "cell_type": "markdown",
      "metadata": {
        "id": "view-in-github",
        "colab_type": "text"
      },
      "source": [
        "<a href=\"https://colab.research.google.com/github/nullpitch-dev/DS_L1_Notebooks/blob/master/DS_L1_EX_02.ipynb\" target=\"_parent\"><img src=\"https://colab.research.google.com/assets/colab-badge.svg\" alt=\"Open In Colab\"/></a>"
      ]
    },
    {
      "cell_type": "code",
      "metadata": {
        "id": "j6BvBx2BCOdk",
        "colab_type": "code",
        "colab": {}
      },
      "source": [
        "import pandas as pd\n",
        "\n",
        "# loading data from a csv fle\n",
        "url_purchase = 'https://raw.githubusercontent.com/nullpitch-dev/hj_public/master/ds_purchase_log.csv'\n",
        "url_customer = 'https://raw.githubusercontent.com/nullpitch-dev/hj_public/master/ds_customer_mst.csv'\n",
        "url_product = 'https://raw.githubusercontent.com/nullpitch-dev/hj_public/master/ds_product_mst.csv'\n",
        "\n",
        "purchase = pd.read_csv(url_purchase)\n",
        "customer = pd.read_csv(url_customer)\n",
        "product = pd.read_csv(url_product)"
      ],
      "execution_count": 0,
      "outputs": []
    },
    {
      "cell_type": "code",
      "metadata": {
        "id": "mWl_OgppGNTa",
        "colab_type": "code",
        "colab": {}
      },
      "source": [
        "customer = customer.sort_values(['cust_no', 'update_dt', 'age_gender'],\n",
        "                                ascending=False)\n",
        "base = purchase\n",
        "# should be improved\n",
        "base = base.assign(age_gender=base.apply( lambda x:\n",
        "            customer[customer['cust_no'] == x['cust_no']]['age_gender'].iloc[0],\n",
        "            axis=1))\n",
        "base = pd.merge(base, product, how='left', on='item_no')"
      ],
      "execution_count": 0,
      "outputs": []
    },
    {
      "cell_type": "code",
      "metadata": {
        "id": "i6Sz7yslM3Sn",
        "colab_type": "code",
        "outputId": "e13b3748-3e06-42ca-99fe-41030ecf88bf",
        "colab": {
          "base_uri": "https://localhost:8080/",
          "height": 34
        }
      },
      "source": [
        "# [1]\n",
        "\n",
        "base = base.assign(age=base.apply(lambda x: x['age_gender'].split()[0], axis=1))\n",
        "base = base.assign(gender=base.apply(lambda x: x['age_gender'].split()[1], axis=1))\n",
        "\n",
        "agg = base.groupby(['gender', 'item_ctg1']).agg({'item_amt': 'sum',\n",
        "                                                 'cust_no': 'nunique'})\n",
        "                                                 # counting unique cust_no only\n",
        "agg = agg.assign(amtPerCust=agg['item_amt'] / agg['cust_no'])\n",
        "agg = agg.sort_values(['gender', 'amtPerCust'], ascending=[False, False])\n",
        "\n",
        "men = agg.loc['M'].iloc[1].name\n",
        "women = agg.loc['F'].iloc[1].name\n",
        "\n",
        "print(f'Answer [1] : Men = {men}, Women = {women}')"
      ],
      "execution_count": 0,
      "outputs": [
        {
          "output_type": "stream",
          "text": [
            "Answer [1] : Men = 의류, Women = 화장품\n"
          ],
          "name": "stdout"
        }
      ]
    },
    {
      "cell_type": "code",
      "metadata": {
        "id": "9ZpdgF4sdJyf",
        "colab_type": "code",
        "outputId": "6faead88-87d0-434d-e792-be4d632f9955",
        "colab": {
          "base_uri": "https://localhost:8080/",
          "height": 34
        }
      },
      "source": [
        "# [2]\n",
        "\n",
        "import math\n",
        "\n",
        "data1 = base.groupby('cust_no').agg({'item_amt': 'sum'})\n",
        "data1 = data1.assign(rank=data1['item_amt'].rank(method='min', ascending=False))\n",
        "\n",
        "cust_cnt = data1.shape[0]   # total number of customers\n",
        "\n",
        "def highlow(x):\n",
        "    if x['rank'] <= cust_cnt * 0.2:\n",
        "        return 'High'\n",
        "    elif x['rank'] >= cust_cnt * 0.8:\n",
        "        return 'Low'\n",
        "    else:\n",
        "        return 'Middle'\n",
        "        \n",
        "# setting rank category (High or Low)\n",
        "data1 = data1.assign(rank_c=data1.apply(lambda x: highlow(x), axis=1))\n",
        "\n",
        "data1 = data1.groupby('rank_c').agg({'item_amt': 'sum'})\n",
        "total = data1['item_amt'].sum()\n",
        "high = data1.loc['High'].iloc[0]\n",
        "low = data1.loc['Low'].iloc[0]\n",
        "\n",
        "print(f'Answer [2] : High/Total = {math.floor(high / total * 100)}, ' + \n",
        "                   f'High/Low = {math.floor(high / low)}')"
      ],
      "execution_count": 0,
      "outputs": [
        {
          "output_type": "stream",
          "text": [
            "Answer [2] : High/Total = 49, High/Low = 9\n"
          ],
          "name": "stdout"
        }
      ]
    },
    {
      "cell_type": "code",
      "metadata": {
        "id": "KXRCA3lt_vvL",
        "colab_type": "code",
        "outputId": "538ea8cb-47a5-4d7d-8204-0d5e3550855c",
        "colab": {
          "base_uri": "https://localhost:8080/",
          "height": 191
        }
      },
      "source": [
        "# [3] using ols and anova_lm\n",
        "\n",
        "from statsmodels.formula.api import ols\n",
        "from statsmodels.stats.anova import anova_lm\n",
        "from statsmodels.stats.multicomp import MultiComparison\n",
        "import math\n",
        "\n",
        "data3 = base.groupby('cust_no').agg({'item_amt': 'sum',\n",
        "                                     'age': lambda x: list(set(x))[0]})\n",
        "\n",
        "def ageCat(x):\n",
        "    if x['age'] == '30대':\n",
        "        return 'G1'\n",
        "    elif x['age'] == '40대':\n",
        "        return 'G2'\n",
        "    else:\n",
        "        return 'G3'\n",
        "\n",
        "data3 = data3.assign(age_cls=data3.apply(lambda x: ageCat(x), axis=1))\n",
        "\n",
        "# performing ANOVA TEST\n",
        "result = ols(formula='item_amt ~ C(age_cls)', data=data3).fit()\n",
        "anova_table = anova_lm(result)\n",
        "f_val = anova_table['F'][0]\n",
        "\n",
        "# performing Tukey's Range Test\n",
        "comparison = MultiComparison(data3['item_amt'], data3['age_cls'])\n",
        "print(comparison.tukeyhsd())\n",
        "# G2 > G1, G3 > G1, G2 > G3 so, G2 > G3 > G1\n",
        "# (G2, G3) : True to reject, (G1, G3) False to reject\n",
        "# conclusion : G2 > G3 = G1\n",
        "\n",
        "print(f'\\nAnswer [3] : F-value = {math.floor(f_val)}, ' +\n",
        "      f\"Tukey's Range Test = G2 > G3 = G1\")"
      ],
      "execution_count": 0,
      "outputs": [
        {
          "output_type": "stream",
          "text": [
            "    Multiple Comparison of Means - Tukey HSD, FWER=0.05     \n",
            "============================================================\n",
            "group1 group2  meandiff  p-adj    lower      upper    reject\n",
            "------------------------------------------------------------\n",
            "    G1     G2  8461.1735 0.001   4117.8207 12804.5262   True\n",
            "    G1     G3   717.8831   0.9  -3454.2396  4890.0058  False\n",
            "    G2     G3 -7743.2904 0.001 -12467.8902 -3018.6906   True\n",
            "------------------------------------------------------------\n",
            "\n",
            "Answer [3] : F-value = 11, Tukey's Range Test = G2 > G3 = G1\n"
          ],
          "name": "stdout"
        }
      ]
    },
    {
      "cell_type": "code",
      "metadata": {
        "colab_type": "code",
        "id": "H7nyUUJM0cXq",
        "outputId": "818c1cf4-b771-45a3-d710-a5e81184c44b",
        "colab": {
          "base_uri": "https://localhost:8080/",
          "height": 34
        }
      },
      "source": [
        "# [4]\n",
        "\n",
        "from mlxtend.preprocessing import TransactionEncoder\n",
        "from mlxtend.frequent_patterns import apriori, association_rules\n",
        "\n",
        "# finding customers who bought at least 2 sub categories\n",
        "cust_list = base.groupby('cust_no').agg({'item_ctg2': 'nunique'})\n",
        "cust_list = cust_list[cust_list['item_ctg2'] >= 2]\n",
        "cust_list.reset_index(inplace=True)\n",
        "\n",
        "# filtering purchase data within above customers\n",
        "data2 = base[base['cust_no'].isin(cust_list['cust_no'])]\n",
        "\n",
        "# transform customer - category - number of categories view\n",
        "data2 = data2.groupby('cust_no').agg({'item_ctg2': lambda x: list(set(x))})\n",
        "#data2 = data2.assign(cnt=data2.apply(lambda x: len(x['item_ctg2']), axis=1))\n",
        "\n",
        "# item_ctg2 combinations in list\n",
        "cat_list = list(data2['item_ctg2'])\n",
        "\n",
        "# transform item_ctg2 combinations in case number X category view with True / False values\n",
        "te = TransactionEncoder()\n",
        "te_array = te.fit(cat_list).transform(cat_list)\n",
        "te_df = pd.DataFrame(te_array, columns=te.columns_)\n",
        "\n",
        "# find frequent items\n",
        "freq_items = apriori(te_df, min_support=0.001, use_colnames=True)\n",
        "\n",
        "# apply association rules\n",
        "asso_rules = association_rules(freq_items, metric='confidence',\n",
        "                               min_threshold=0.001)\n",
        "\n",
        "# filter : antecedents is '농산물'\n",
        "asso_rules = asso_rules.assign(check=asso_rules.apply(lambda x:\n",
        "                                                      '농산물' in x['antecedents']\n",
        "                                                      , axis=1))\n",
        "asso_rules = asso_rules[asso_rules['check']]\n",
        "\n",
        "# sort by lift in descending order\n",
        "asso_rules.sort_values(by='lift', ascending=False)\n",
        "\n",
        "best = list(asso_rules['consequents'].iloc[0])[0]\n",
        "\n",
        "print(f'Answer [4] : Best category to show is {best}')\n"
      ],
      "execution_count": 0,
      "outputs": [
        {
          "output_type": "stream",
          "text": [
            "Answer [4] : Best category to show is 가공식품\n"
          ],
          "name": "stdout"
        }
      ]
    }
  ]
}