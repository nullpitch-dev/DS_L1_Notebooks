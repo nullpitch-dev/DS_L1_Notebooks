{
  "nbformat": 4,
  "nbformat_minor": 0,
  "metadata": {
    "colab": {
      "name": "DS_L1_EX_08_2nd.ipynb",
      "provenance": [],
      "collapsed_sections": [],
      "include_colab_link": true
    },
    "kernelspec": {
      "name": "python3",
      "display_name": "Python 3"
    },
    "accelerator": "GPU"
  },
  "cells": [
    {
      "cell_type": "markdown",
      "metadata": {
        "id": "view-in-github",
        "colab_type": "text"
      },
      "source": [
        "<a href=\"https://colab.research.google.com/github/nullpitch-dev/DS_L1_Notebooks/blob/master/DS_L1_EX_08_2nd.ipynb\" target=\"_parent\"><img src=\"https://colab.research.google.com/assets/colab-badge.svg\" alt=\"Open In Colab\"/></a>"
      ]
    },
    {
      "cell_type": "code",
      "metadata": {
        "id": "QR5lPnyWJgs1",
        "colab_type": "code",
        "colab": {}
      },
      "source": [
        "import pandas as pd\n",
        "\n",
        "url = 'https://raw.githubusercontent.com/nullpitch-dev/hj_public/master/California_housing.csv'\n",
        "data = pd.read_csv(url)\n",
        "\n",
        "base = data.dropna()"
      ],
      "execution_count": 0,
      "outputs": []
    },
    {
      "cell_type": "code",
      "metadata": {
        "id": "qIfUQgt8XNh8",
        "colab_type": "code",
        "outputId": "91cc096b-ed30-4b2f-877e-783c6df48e16",
        "colab": {
          "base_uri": "https://localhost:8080/",
          "height": 34
        }
      },
      "source": [
        "# [1] corr\n",
        "\n",
        "corr = base[['MedInc', 'HouseAge', 'AveRooms', 'AveBedrms', 'AveOccup',\n",
        "             'Target']].corr(method='pearson')\n",
        "\n",
        "corr = corr.assign(abs_corr=corr.Target.apply(lambda x: abs(x)))\n",
        "corr = corr.sort_values(by='abs_corr', ascending=False)\n",
        "\n",
        "top2 = ', '.join(list(corr.abs_corr.index[1:3]))\n",
        "\n",
        "print(f'Answer [1] : {top2}')"
      ],
      "execution_count": 2,
      "outputs": [
        {
          "output_type": "stream",
          "text": [
            "Answer [1] : MedInc, AveRooms\n"
          ],
          "name": "stdout"
        }
      ]
    },
    {
      "cell_type": "code",
      "metadata": {
        "id": "j4BMyLAwdPYS",
        "colab_type": "code",
        "outputId": "ce15ead5-234a-466e-88dd-004d1dc330f7",
        "colab": {
          "base_uri": "https://localhost:8080/",
          "height": 34
        }
      },
      "source": [
        "# [2] LinearRegression\n",
        "\n",
        "from sklearn.linear_model import LinearRegression\n",
        "import math\n",
        "\n",
        "# set X variables\n",
        "X_cols = list(corr.abs_corr.index[1:-1]) + ['Population']\n",
        "\n",
        "# prepare train set\n",
        "train_X = base[base.Xgrp == 0][X_cols]\n",
        "train_y = base[base.Xgrp == 0].Target\n",
        "\n",
        "# train\n",
        "lr = LinearRegression()\n",
        "model = lr.fit(train_X, train_y)\n",
        "\n",
        "# predict\n",
        "sample = pd.DataFrame([[4, 4, 37, 1, 1200]], columns=X_cols)\n",
        "pred2 = model.predict(sample)\n",
        "\n",
        "print(f'Answer [2] : {math.floor(pred2[0] * 1000) / 1000}')"
      ],
      "execution_count": 3,
      "outputs": [
        {
          "output_type": "stream",
          "text": [
            "Answer [2] : 2.485\n"
          ],
          "name": "stdout"
        }
      ]
    },
    {
      "cell_type": "code",
      "metadata": {
        "id": "osPcKO7whaoq",
        "colab_type": "code",
        "colab": {
          "base_uri": "https://localhost:8080/",
          "height": 34
        },
        "outputId": "0af71a4f-41c0-49b0-ce62-635e57b4b4d7"
      },
      "source": [
        "# [3] root mean_squared_error\n",
        "\n",
        "from sklearn.metrics import mean_squared_error\n",
        "import numpy as np\n",
        "import math\n",
        "\n",
        "# prepare validation set\n",
        "val_X = base[base.Xgrp == 1][X_cols]\n",
        "val_y = base[base.Xgrp == 1].Target\n",
        "\n",
        "# predict\n",
        "pred3 = model.predict(val_X)\n",
        "\n",
        "# calculate room mean squared error\n",
        "rmse = np.sqrt(mean_squared_error(val_y, pred3))\n",
        "\n",
        "print(f'Answer [3] : {math.floor(rmse * 1000) / 1000}')"
      ],
      "execution_count": 4,
      "outputs": [
        {
          "output_type": "stream",
          "text": [
            "Answer [3] : 0.794\n"
          ],
          "name": "stdout"
        }
      ]
    },
    {
      "cell_type": "code",
      "metadata": {
        "id": "bRTflTTLnxgi",
        "colab_type": "code",
        "colab": {
          "base_uri": "https://localhost:8080/",
          "height": 34
        },
        "outputId": "3fb69f21-eb2b-4ade-d9ea-ead536cc4966"
      },
      "source": [
        "# [4] StandardScaler, PCA\n",
        "\n",
        "from sklearn.preprocessing import StandardScaler\n",
        "from sklearn.decomposition import PCA\n",
        "import math\n",
        "\n",
        "# normalize and PCA\n",
        "norm_data = StandardScaler().fit_transform(base[base.columns[0:-2]])\n",
        "pca = PCA(n_components=6).fit(norm_data)\n",
        "\n",
        "# find eigen values\n",
        "print(f'Answer [4] : {math.floor(pca.explained_variance_[2] * 1000) / 1000}')"
      ],
      "execution_count": 5,
      "outputs": [
        {
          "output_type": "stream",
          "text": [
            "Answer [4] : 1.023\n"
          ],
          "name": "stdout"
        }
      ]
    },
    {
      "cell_type": "code",
      "metadata": {
        "id": "qxzHcWjni8fl",
        "colab_type": "code",
        "colab": {
          "base_uri": "https://localhost:8080/",
          "height": 34
        },
        "outputId": "d1c5f7c4-410f-4b07-d4d5-ca5f9328719b"
      },
      "source": [
        "# [5] list comprehension, enumerate, LinearRegression - R-Squared(Score)\n",
        "\n",
        "from sklearn.linear_model import LinearRegression\n",
        "\n",
        "# find top 5 principal component index\n",
        "ind = [i for i, v in enumerate(pca.explained_variance_)\n",
        "         if v != pca.explained_variance_.min()]\n",
        "\n",
        "# prepare test set\n",
        "test_X = pca.transform(norm_data)\n",
        "test_X = pd.DataFrame(test_X)\n",
        "test_y = base.Target\n",
        "\n",
        "# select top 5 component\n",
        "test_X = test_X[ind]\n",
        "\n",
        "# train\n",
        "lr = LinearRegression()\n",
        "model = lr.fit(test_X, test_y)\n",
        "\n",
        "# predict\n",
        "pred5 = model.predict(test_X)\n",
        "\n",
        "# find score\n",
        "r_squared = model.score(test_X, test_y)\n",
        "\n",
        "print(f'Answer [5] : {math.floor(r_squared * 1000) / 1000}')"
      ],
      "execution_count": 17,
      "outputs": [
        {
          "output_type": "stream",
          "text": [
            "Answer [5] : 0.492\n"
          ],
          "name": "stdout"
        }
      ]
    }
  ]
}