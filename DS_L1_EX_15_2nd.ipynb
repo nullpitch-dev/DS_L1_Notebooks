{
  "nbformat": 4,
  "nbformat_minor": 0,
  "metadata": {
    "colab": {
      "name": "DS_L1_EX_15_2nd.ipynb",
      "provenance": [],
      "collapsed_sections": [],
      "include_colab_link": true
    },
    "kernelspec": {
      "name": "python3",
      "display_name": "Python 3"
    },
    "accelerator": "GPU"
  },
  "cells": [
    {
      "cell_type": "markdown",
      "metadata": {
        "id": "view-in-github",
        "colab_type": "text"
      },
      "source": [
        "<a href=\"https://colab.research.google.com/github/nullpitch-dev/DS_L1_Notebooks/blob/master/DS_L1_EX_15_2nd.ipynb\" target=\"_parent\"><img src=\"https://colab.research.google.com/assets/colab-badge.svg\" alt=\"Open In Colab\"/></a>"
      ]
    },
    {
      "cell_type": "code",
      "metadata": {
        "id": "QR5lPnyWJgs1",
        "colab_type": "code",
        "colab": {}
      },
      "source": [
        "import pandas as pd\n",
        "\n",
        "url_1 = 'https://raw.githubusercontent.com/nullpitch-dev/hj_public/master/16Part1.csv'\n",
        "url_2 = 'https://raw.githubusercontent.com/nullpitch-dev/hj_public/master/16Part2.csv'\n",
        "data_1 = pd.read_csv(url_1)\n",
        "data_2 = pd.read_csv(url_2)"
      ],
      "execution_count": 0,
      "outputs": []
    },
    {
      "cell_type": "code",
      "metadata": {
        "id": "yH7J4kbtJWjb",
        "colab_type": "code",
        "colab": {}
      },
      "source": [
        "# [0]\n",
        "\n",
        "# drop na in Year\n",
        "dataA = data_1.dropna(subset=['Year'])\n",
        "\n",
        "# remove records with Year < 1980\n",
        "dataA = dataA[dataA.Year >= 1980]\n",
        "\n",
        "# fillna\n",
        "targetCols = dataA.columns[6:]\n",
        "dataA[targetCols] = dataA[targetCols].fillna(value=0)\n",
        "\n",
        "# dropna for data B\n",
        "dataB = data_2.dropna()\n",
        "\n",
        "# convert height and weight\n",
        "def convert(x):\n",
        "    feet, inch = x.split('-')\n",
        "    return round(int(feet) * 30.5 + int(inch) * 2.54)\n",
        "\n",
        "dataB = dataB.assign(height=dataB.height.apply(lambda x: convert(x)))\n",
        "dataB = dataB.assign(weight=dataB.weight.apply(lambda x: round(x / 2.2046)))\n",
        "\n",
        "# remove players with same name\n",
        "players_dup = dataA.groupby(['Year', 'Player']).agg({'Age': 'nunique'})\n",
        "players_dup = players_dup[players_dup.Age > 1]\n",
        "players_dup = players_dup.groupby('Player').agg({'Age': 'count'}) # agg doesn't matter\n",
        "dataA = dataA[~dataA.Player.isin(players_dup.index)]\n",
        "\n",
        "# filter by Year condition\n",
        "players_yMin = dataA.groupby('Player').agg({'Year': 'min'})\n",
        "players_yMax = dataA.groupby('Player').agg({'Year': 'max'})\n",
        "players_year = pd.merge(players_yMin, players_yMax, left_index=True,\n",
        "                        right_index=True)\n",
        "players_year = players_year.assign(period=players_year.apply(lambda x:\n",
        "                             x.Year_y - x.Year_x, axis=1)) # should be y - x + 1\n",
        "players_year = players_year[(players_year.period > 20) |\n",
        "                            (players_year.period < 3)]\n",
        "dataA = dataA[~dataA.Player.isin(players_year.index)]\n",
        "\n",
        "# merge height and weight\n",
        "base = pd.merge(dataA, dataB[{'name', 'height', 'weight'}], left_on='Player',\n",
        "                right_on='name')"
      ],
      "execution_count": 0,
      "outputs": []
    },
    {
      "cell_type": "code",
      "metadata": {
        "id": "i5OSi_I9JBxe",
        "colab_type": "code",
        "outputId": "b997fda7-5ecf-4391-b887-3e1c268e7ebf",
        "colab": {
          "base_uri": "https://localhost:8080/",
          "height": 34
        }
      },
      "source": [
        "# [5]\n",
        "\n",
        "# keep player level data for Age and G\n",
        "data5 = base.groupby(['Tm', 'Year', 'Player']).agg({'Age': 'last', 'G': 'last'})\n",
        "\n",
        "# get max age team and year\n",
        "meanAge = data5.groupby(['Tm', 'Year']).agg({'Age': 'mean'})\n",
        "meanAge = meanAge.sort_values('Age', ascending=False)\n",
        "team = meanAge.index[0][0]\n",
        "year = meanAge.index[0][1]\n",
        "\n",
        "# get oldest (and high G) player in the team and year\n",
        "player = data5.loc[team, year].sort_values(['Age', 'G'],\n",
        "                                           ascending=[False, False]).index[0]\n",
        "\n",
        "print(f'Answer [5] : {player}')"
      ],
      "execution_count": 72,
      "outputs": [
        {
          "output_type": "stream",
          "text": [
            "Answer [5] : Tim Duncan\n"
          ],
          "name": "stdout"
        }
      ]
    },
    {
      "cell_type": "code",
      "metadata": {
        "id": "C5IHjN6fF_a0",
        "colab_type": "code",
        "outputId": "749bbd58-0de4-4c9f-adc0-acd8dae30a29",
        "colab": {
          "base_uri": "https://localhost:8080/",
          "height": 34
        }
      },
      "source": [
        "# [6] ttest_ind\n",
        "\n",
        "from scipy.stats import ttest_ind\n",
        "import math\n",
        "\n",
        "# calculate number of positions per player\n",
        "data6 = base.groupby('Player').agg({'Pos': 'nunique', 'height': 'last'})\n",
        "\n",
        "# ttest\n",
        "t_val, p_val = ttest_ind(data6[data6.Pos == 1].height,\n",
        "                         data6[data6.Pos > 1].height, equal_var=False)\n",
        "\n",
        "print(f'Answer [6] : {math.floor(p_val * 10000) / 10000}')"
      ],
      "execution_count": 73,
      "outputs": [
        {
          "output_type": "stream",
          "text": [
            "Answer [6] : 0.1676\n"
          ],
          "name": "stdout"
        }
      ]
    },
    {
      "cell_type": "code",
      "metadata": {
        "id": "HoKV7bloGeXp",
        "colab_type": "code",
        "colab": {}
      },
      "source": [
        "# [7 ~ 8 data processing]\n",
        "\n",
        "# prepare datasets\n",
        "team_cnt = base.groupby(['Year', 'Player']).agg({'Tm': 'nunique'})\n",
        "team_cnt.reset_index(inplace=True)\n",
        "\n",
        "data7 = pd.merge(base, team_cnt, how='inner', on=['Year', 'Player'])\n",
        "data7 = data7.drop(labels=['Index', 'name'], axis=1)\n",
        "\n",
        "mov_season = data7[data7.Tm_y > 1]\n",
        "prev_season = data7[data7.Tm_y == 1]"
      ],
      "execution_count": 0,
      "outputs": []
    },
    {
      "cell_type": "code",
      "metadata": {
        "id": "nJ8pgf-1oUKK",
        "colab_type": "code",
        "colab": {
          "base_uri": "https://localhost:8080/",
          "height": 34
        },
        "outputId": "27aa7b11-4ecf-40db-f7b7-1b714bde2e41"
      },
      "source": [
        "# [7]\n",
        "\n",
        "import math\n",
        "\n",
        "# create sum of ThreeP and ThreePA per Year and Player\n",
        "three = mov_season.groupby(['Year', 'Player']).agg({'ThreeP': 'sum',\n",
        "                                                    'ThreePA': 'sum'})\n",
        "\n",
        "# filter by ThreePA >= 10\n",
        "three = three[three.ThreePA >= 10]\n",
        "\n",
        "# calculate Success rate\n",
        "three = three.assign(SR=three.apply(lambda x: x.ThreeP / x.ThreePA, axis=1))\n",
        "\n",
        "# get mean of Success rate\n",
        "meanSR = three.SR.mean()\n",
        "\n",
        "print(f'Answer [7] : {math.floor(meanSR * 10000) / 10000}')"
      ],
      "execution_count": 75,
      "outputs": [
        {
          "output_type": "stream",
          "text": [
            "Answer [7] : 0.3002\n"
          ],
          "name": "stdout"
        }
      ]
    },
    {
      "cell_type": "code",
      "metadata": {
        "id": "hx4IInmjuZAg",
        "colab_type": "code",
        "colab": {
          "base_uri": "https://localhost:8080/",
          "height": 34
        },
        "outputId": "be91df11-4b33-4c77-d69d-9fc463ce3507"
      },
      "source": [
        "# [8] get_dummies, LinearRegression, mean_squared_error\n",
        "\n",
        "from sklearn.linear_model import LinearRegression\n",
        "from sklearn.metrics import mean_squared_error\n",
        "import math\n",
        "\n",
        "# drop unnecessary columns\n",
        "data8 = prev_season.drop(labels=['Tm_x', 'G', 'TOVP', 'USGP', 'FG', 'FGA',\n",
        "                                 'FGP', 'STL', 'Tm_y'], axis=1)\n",
        "\n",
        "# create dummy variables\n",
        "data8 = pd.get_dummies(data8, columns=['Pos'], drop_first=True)\n",
        "\n",
        "# calculate success rate\n",
        "def SR(x, y):\n",
        "    if y == 0:\n",
        "        return 0\n",
        "    else:\n",
        "        return x / y\n",
        "\n",
        "data8 = data8.assign(TwoSR=data8.apply(lambda x: SR(x.TwoP, x.TwoPA), axis=1))\n",
        "data8 = data8.assign(ThreeSR=data8.apply(lambda x: SR(x.ThreeP, x.ThreePA),\n",
        "                                         axis=1))\n",
        "data8 = data8.assign(FTSR=data8.apply(lambda x: SR(x.FT, x.FTA), axis=1))\n",
        "\n",
        "# select X variables\n",
        "cols = data8.columns\n",
        "X_cols = list(cols[2:4]) + list(cols[10:11]) + list(cols[13:])\n",
        "\n",
        "# create train set\n",
        "train_X = data8[data8.Year <= 2000][X_cols]\n",
        "train_y = data8[data8.Year <= 2000].PTS\n",
        "\n",
        "# train\n",
        "lr = LinearRegression().fit(train_X, train_y)\n",
        "\n",
        "# create test set\n",
        "test_X = data8[data8.Year >= 2001][X_cols]\n",
        "test_y = data8[data8.Year >= 2001].PTS\n",
        "\n",
        "# predict\n",
        "pred = lr.predict(test_X)\n",
        "\n",
        "# find MSE\n",
        "mse = mean_squared_error(test_y, pred)\n",
        "\n",
        "print(f'Answer [8] : {math.floor(mse)}')"
      ],
      "execution_count": 76,
      "outputs": [
        {
          "output_type": "stream",
          "text": [
            "Answer [8] : 38384\n"
          ],
          "name": "stdout"
        }
      ]
    }
  ]
}