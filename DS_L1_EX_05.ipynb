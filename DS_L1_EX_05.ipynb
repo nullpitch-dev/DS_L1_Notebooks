{
  "nbformat": 4,
  "nbformat_minor": 0,
  "metadata": {
    "colab": {
      "name": "DS_L1_EX#05",
      "provenance": [],
      "collapsed_sections": [],
      "include_colab_link": true
    },
    "kernelspec": {
      "display_name": "Python 3",
      "name": "python3"
    }
  },
  "cells": [
    {
      "cell_type": "markdown",
      "metadata": {
        "id": "view-in-github",
        "colab_type": "text"
      },
      "source": [
        "<a href=\"https://colab.research.google.com/github/nullpitch-dev/DS_L1_Notebooks/blob/master/DS_L1_EX_05.ipynb\" target=\"_parent\"><img src=\"https://colab.research.google.com/assets/colab-badge.svg\" alt=\"Open In Colab\"/></a>"
      ]
    },
    {
      "cell_type": "code",
      "metadata": {
        "id": "j6BvBx2BCOdk",
        "colab_type": "code",
        "colab": {}
      },
      "source": [
        "import pandas as pd\n",
        "\n",
        "# loading data from a csv fle\n",
        "url = 'https://raw.githubusercontent.com/nullpitch-dev/hj_public/master/ecommerce_transaction.csv'\n",
        "data = pd.read_csv(url)"
      ],
      "execution_count": 0,
      "outputs": []
    },
    {
      "cell_type": "code",
      "metadata": {
        "id": "ULZofO09t1RM",
        "colab_type": "code",
        "outputId": "f094064c-302a-4aca-aa26-48604f9976b7",
        "colab": {
          "base_uri": "https://localhost:8080/",
          "height": 34
        }
      },
      "source": [
        "# [1] datetime\n",
        "\n",
        "import datetime\n",
        "\n",
        "data1 = data\n",
        "\n",
        "# create datetime type review_creation_date column\n",
        "data1 = data1.assign(dt_review=data1.apply(lambda x:\n",
        "                                 datetime.datetime.strptime(x['review_creation_date'],\n",
        "                                                            '%Y-%m-%d %H:%M:%S'),\n",
        "                                 axis=1))\n",
        "\n",
        "def checkError(x):\n",
        "    if x.strftime('%Y-%m-%d') == '2000-01-01':\n",
        "        return '2000'\n",
        "    elif x.strftime('%Y-%m-%d') < '2011-12-31':\n",
        "        return '7Y'\n",
        "    else:\n",
        "        return 'normal'\n",
        "    \n",
        "# create flag for wrong review_creation_date\n",
        "data1 = data1.assign(check=data1.apply(lambda x: checkError(x['dt_review']), axis=1))\n",
        "\n",
        "# find the number of wrong records\n",
        "wrong = data1[(data1['check'] == '2000') | (data1['check'] == '7Y')]['check'].count()\n",
        "\n",
        "print(f'Answer [1] : no of wrong review date = {wrong}')\n",
        "\n",
        "# remove type 1 wrong data\n",
        "data1 = data1[data1['check'] != '2000']\n",
        "\n",
        "def revert(x, y):\n",
        "    if y == '7Y':\n",
        "        year = str(int(x.strftime('%Y')) + 7)\n",
        "    else:\n",
        "        year = x.strftime('%Y')\n",
        "    month = x.strftime('%m')\n",
        "    day = x.strftime('%d')\n",
        "    hour = x.strftime('%H')\n",
        "    minute = x.strftime('%M')\n",
        "    second = x.strftime('%S')\n",
        "    dt = year + '-' + month + '-' + day + ' ' + hour + ':' + minute + ':' + second\n",
        "    #return datetime.datetime.strptime(dt, '%Y-%m-%d %H:%m:%S')\n",
        "    return dt\n",
        "\n",
        "# correct type 2 wrong data\n",
        "data1['review_creation_date'] = data1.apply(lambda x: revert(x['dt_review'],\n",
        "                                                             x['check']),\n",
        "                                            axis=1)\n",
        "\n",
        "# update dt_review with corrected review_creation_date\n",
        "data1['dt_review'] = data1.apply(lambda x:\n",
        "                                 datetime.datetime.strptime(x['review_creation_date'],\n",
        "                                                            '%Y-%m-%d %H:%M:%S'),\n",
        "                                 axis=1)\n",
        "data1 = data1.drop(axis=1, columns='check')"
      ],
      "execution_count": 61,
      "outputs": [
        {
          "output_type": "stream",
          "text": [
            "Answer [1] : no of wrong review date = 95\n"
          ],
          "name": "stdout"
        }
      ]
    },
    {
      "cell_type": "code",
      "metadata": {
        "id": "G6V-WVDmG2Bi",
        "colab_type": "code",
        "colab": {
          "base_uri": "https://localhost:8080/",
          "height": 34
        },
        "outputId": "b1251703-11c3-4401-f4e2-22035a29cae3"
      },
      "source": [
        "# [2]\n",
        "\n",
        "data2 = data1\n",
        "\n",
        "# convert str timestamp to timestamp type\n",
        "data2 = data2.assign(dt_order=data2.apply(lambda x:\n",
        "                                          datetime.datetime.strptime(x['order_timestamp'],\n",
        "                                                                     '%Y-%m-%d %H:%M:%S'),\n",
        "                                          axis=1))\n",
        "data2 = data2.assign(dt_approve=data2.apply(lambda x:\n",
        "                                            datetime.datetime.strptime(x['order_approved_time'],\n",
        "                                                                       '%Y-%m-%d %H:%M:%S'),\n",
        "                                            axis=1))\n",
        "\n",
        "# calculate approval lead time\n",
        "def leadtime(x, y):\n",
        "    gap = y - x\n",
        "    lt_seconds = gap.days * 24 * 60 * 60 + gap.seconds\n",
        "    return lt_seconds\n",
        "\n",
        "data2 = data2.assign(leadtime=data2.apply(lambda x: leadtime(x['dt_order'],\n",
        "                                                             x['dt_approve']),\n",
        "                                          axis=1))\n",
        "data2 = data2.assign(method=data2.apply(lambda x: '계좌이체' if x['leadtime'] >= 3600\n",
        "                                        else '신용카드', axis=1))\n",
        "\n",
        "records_by_method = data2.groupby('method').agg({'id': 'count'})\n",
        "bank = records_by_method['id']['계좌이체']\n",
        "card = records_by_method['id']['신용카드']\n",
        "\n",
        "print(f'Answer [2] : Ratio = {bank / (bank + card) * 100:.1f}')"
      ],
      "execution_count": 62,
      "outputs": [
        {
          "output_type": "stream",
          "text": [
            "Answer [2] : Ratio = 36.1\n"
          ],
          "name": "stdout"
        }
      ]
    },
    {
      "cell_type": "code",
      "metadata": {
        "id": "uLA4TzsVJ2AO",
        "colab_type": "code",
        "colab": {
          "base_uri": "https://localhost:8080/",
          "height": 34
        },
        "outputId": "7500354b-8996-42e9-9c23-bedf89e31b77"
      },
      "source": [
        "# [3]\n",
        "\n",
        "from statsmodels.formula.api import ols\n",
        "from statsmodels.stats.anova import anova_lm\n",
        "\n",
        "data3 = data2\n",
        "\n",
        "# calculate product price\n",
        "data3 = data3.assign(price=data3.apply(lambda x: x['order_price'] / x['order_qty'],\n",
        "                                       axis=1))\n",
        "\n",
        "def calcRange(x):\n",
        "    if x < 50:\n",
        "        return '0_50'\n",
        "    elif x < 100:\n",
        "        return '50_100'\n",
        "    elif x < 500:\n",
        "        return '100_500'\n",
        "    elif x < 5000:\n",
        "        return '500_5000'\n",
        "    else:\n",
        "        return 'ERROR'\n",
        "\n",
        "# calculate price range\n",
        "data3 = data3.assign(p_range=data3.apply(lambda x: calcRange(x['price']), axis=1))\n",
        "# calculate order_price range\n",
        "data3 = data3.assign(o_range=data3.apply(lambda x: calcRange(x['order_price']), axis=1))\n",
        "\n",
        "# perform ANOVA TEST\n",
        "result_amount = ols(formula='review_score ~ C(o_range)', data=data3).fit()\n",
        "result_price = ols(formula='review_score ~ C(p_range)', data=data3).fit()\n",
        "\n",
        "table_amount = anova_lm(result_amount)\n",
        "table_price = anova_lm(result_price)\n",
        "\n",
        "f_amount = table_amount['F'][0]\n",
        "f_price = table_amount['F'][0]\n",
        "\n",
        "print(f'Answer [3] : Max F-value = {max(f_amount, f_price):.2f}')\n"
      ],
      "execution_count": 63,
      "outputs": [
        {
          "output_type": "stream",
          "text": [
            "Answer [3] : Max F-value = 0.66\n"
          ],
          "name": "stdout"
        }
      ]
    },
    {
      "cell_type": "code",
      "metadata": {
        "id": "HD9dAdH0IWfv",
        "colab_type": "code",
        "colab": {
          "base_uri": "https://localhost:8080/",
          "height": 34
        },
        "outputId": "5b5c6443-f88e-400f-c71f-9b2a9bd645e4"
      },
      "source": [
        "# [4]\n",
        "\n",
        "from sklearn.linear_model import LinearRegression\n",
        "\n",
        "data4 = data3[data3['order_status'] == 'delivered']\n",
        "\n",
        "# convert str timestamp to timestamp type\n",
        "data4 = data4.assign(dt_delivered=data4.apply(lambda x:\n",
        "                                  datetime.datetime.strptime(x['order_delivered_customer_date'],\n",
        "                                                            '%Y-%m-%d %H:%M:%S'),\n",
        "                                          axis=1))\n",
        "# calculate delivery lead time\n",
        "data4 = data4.assign(del_lt=data4.apply(lambda x:\n",
        "                                        leadtime(x['dt_approve'],\n",
        "                                                 x['dt_delivered']) / 60 / 60 / 24,\n",
        "                                        axis=1))\n",
        "\n",
        "# calculate weekdays vs. weekends\n",
        "def dayOfWeek(x):\n",
        "    wd = int(x.strftime('%w'))\n",
        "    if (wd == 0) | (wd == 6):\n",
        "        return 'weekends'\n",
        "    else:\n",
        "        return 'weekdays'\n",
        "\n",
        "data4 = data4.assign(wd=data4.apply(lambda x: dayOfWeek(x['dt_approve']),\n",
        "                                    axis=1))\n",
        "\n",
        "# Train\n",
        "X_wd = data4[data4['wd'] == 'weekdays'][['order_freight']]\n",
        "X_we = data4[data4['wd'] == 'weekends'][['order_freight']]\n",
        "y_wd = data4[data4['wd'] == 'weekdays']['del_lt']\n",
        "y_we = data4[data4['wd'] == 'weekends']['del_lt']\n",
        "\n",
        "lr_wd = LinearRegression()\n",
        "lr_we = LinearRegression()\n",
        "\n",
        "model_wd = lr_wd.fit(X_wd, y_wd)\n",
        "model_we = lr_we.fit(X_we, y_we)\n",
        "\n",
        "print(f'Answer [4] : Coef Diff = {abs(model_wd.coef_[0] - model_we.coef_[0]):.4f}')"
      ],
      "execution_count": 68,
      "outputs": [
        {
          "output_type": "stream",
          "text": [
            "Answer [4] : Coef Diff = 0.0097\n"
          ],
          "name": "stdout"
        }
      ]
    }
  ]
}