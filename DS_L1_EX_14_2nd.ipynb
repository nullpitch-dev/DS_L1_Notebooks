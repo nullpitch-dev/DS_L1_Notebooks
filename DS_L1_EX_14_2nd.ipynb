{
  "nbformat": 4,
  "nbformat_minor": 0,
  "metadata": {
    "colab": {
      "name": "DS_L1_EX_14_2nd.ipynb",
      "provenance": [],
      "collapsed_sections": [],
      "include_colab_link": true
    },
    "kernelspec": {
      "name": "python3",
      "display_name": "Python 3"
    },
    "accelerator": "GPU"
  },
  "cells": [
    {
      "cell_type": "markdown",
      "metadata": {
        "id": "view-in-github",
        "colab_type": "text"
      },
      "source": [
        "<a href=\"https://colab.research.google.com/github/nullpitch-dev/DS_L1_Notebooks/blob/master/DS_L1_EX_14_2nd.ipynb\" target=\"_parent\"><img src=\"https://colab.research.google.com/assets/colab-badge.svg\" alt=\"Open In Colab\"/></a>"
      ]
    },
    {
      "cell_type": "code",
      "metadata": {
        "id": "QR5lPnyWJgs1",
        "colab_type": "code",
        "colab": {}
      },
      "source": [
        "import pandas as pd\n",
        "\n",
        "url_1 = 'https://raw.githubusercontent.com/nullpitch-dev/hj_public/master/14-1.csv'\n",
        "url_2 = 'https://raw.githubusercontent.com/nullpitch-dev/hj_public/master/14-2.csv'\n",
        "url_3 = 'https://raw.githubusercontent.com/nullpitch-dev/hj_public/master/14-3.csv'\n",
        "url_4 = 'https://raw.githubusercontent.com/nullpitch-dev/hj_public/master/14-4.csv'\n",
        "url_5 = 'https://raw.githubusercontent.com/nullpitch-dev/hj_public/master/14-5.csv'\n",
        "\n",
        "data_1 = pd.read_csv(url_1)\n",
        "data_2 = pd.read_csv(url_2)\n",
        "data_3 = pd.read_csv(url_3)\n",
        "data_4 = pd.read_csv(url_4)\n",
        "data_5 = pd.read_csv(url_5)\n",
        "\n",
        "data = data_1\n",
        "data = data.append(data_2)\n",
        "data = data.append(data_3)\n",
        "data = data.append(data_4)\n",
        "data = data.append(data_5)\n",
        "\n",
        "data = data.reset_index()\n",
        "data = data.drop(labels=['index'], axis=1)"
      ],
      "execution_count": 0,
      "outputs": []
    },
    {
      "cell_type": "code",
      "metadata": {
        "id": "1I8aS_baOFf_",
        "colab_type": "code",
        "colab": {
          "base_uri": "https://localhost:8080/",
          "height": 34
        },
        "outputId": "9487e470-a166-4e18-fc74-ad2df2d68093"
      },
      "source": [
        "# [1] KNN, KNN(predict_proba)\n",
        "\n",
        "from sklearn.neighbors import KNeighborsClassifier\n",
        "import math\n",
        "\n",
        "# selet : class == null & Amount > 200\n",
        "NC = data[data.Class.isna()]\n",
        "NC = NC[NC.Amount > 200]\n",
        "\n",
        "# perform KNN (prepare to classify for new samples)\n",
        "X_cols = data.columns[1:-2]\n",
        "VC = data[~data.Class.isna()]  # all data with valid Class values\n",
        "knn = KNeighborsClassifier(n_neighbors=5).fit(VC[X_cols], VC.Class)\n",
        "\n",
        "# predict for null data\n",
        "pred = knn.predict_proba(NC[X_cols])\n",
        "pred = pd.DataFrame(pred, columns=['neg', 'pos'])\n",
        "pred = pred.assign(esti=pred.pos.apply(lambda x: 1 if x > 0 else 0))\n",
        "\n",
        "# merge pred with NC\n",
        "NC.reset_index(inplace=True)\n",
        "NC = pd.merge(NC, pred, left_index=True, right_index=True)\n",
        "NC = NC.assign(Class=NC.esti)\n",
        "NC = NC.drop(labels=['neg', 'pos', 'esti'], axis=1)\n",
        "NC = NC.set_index(keys='index', drop=True)\n",
        "\n",
        "# merge NC and VC\n",
        "base = pd.concat([VC, NC], axis=0)\n",
        "\n",
        "# find range\n",
        "maxA = base[base.Class == 1].Amount.max()\n",
        "minA = base[base.Class == 1].Amount.min()\n",
        "\n",
        "print(f'Answer [1] : {math.floor(maxA - minA)}')"
      ],
      "execution_count": 55,
      "outputs": [
        {
          "output_type": "stream",
          "text": [
            "Answer [1] : 25691\n"
          ],
          "name": "stdout"
        }
      ]
    },
    {
      "cell_type": "code",
      "metadata": {
        "id": "SJamY5_e5IOZ",
        "colab_type": "code",
        "colab": {
          "base_uri": "https://localhost:8080/",
          "height": 34
        },
        "outputId": "8c9a1ace-3fb3-4baa-83bc-63feb28dcc54"
      },
      "source": [
        "# [2] ttest_ind\n",
        "\n",
        "from scipy.stats import ttest_ind\n",
        "\n",
        "class0 = base[base.Class == 0].V2\n",
        "class1 = base[base.Class == 1].V2\n",
        "\n",
        "t_val, p_val = ttest_ind(class0, class1, equal_var=False)\n",
        "\n",
        "print(f'{math.floor(t_val)}')"
      ],
      "execution_count": 56,
      "outputs": [
        {
          "output_type": "stream",
          "text": [
            "22\n"
          ],
          "name": "stdout"
        }
      ]
    },
    {
      "cell_type": "code",
      "metadata": {
        "id": "t8YsUWG-_afB",
        "colab_type": "code",
        "colab": {
          "base_uri": "https://localhost:8080/",
          "height": 34
        },
        "outputId": "50ebf8ee-0ddc-4956-c22b-e1eb114b1038"
      },
      "source": [
        "# [3] LinearRegression (R-Squared)\n",
        "\n",
        "from sklearn.linear_model import LinearRegression\n",
        "\n",
        "train_X = base[base.Class == 1][X_cols]\n",
        "train_y = base[base.Class == 1].Amount\n",
        "\n",
        "lr = LinearRegression().fit(train_X, train_y)\n",
        "r_squared = lr.score(train_X, train_y)\n",
        "\n",
        "print(f'Answer [3] : {math.floor(r_squared * 100) / 100}')"
      ],
      "execution_count": 57,
      "outputs": [
        {
          "output_type": "stream",
          "text": [
            "Answer [3] : 0.93\n"
          ],
          "name": "stdout"
        }
      ]
    },
    {
      "cell_type": "code",
      "metadata": {
        "id": "KAMdk2sxDoqz",
        "colab_type": "code",
        "colab": {
          "base_uri": "https://localhost:8080/",
          "height": 34
        },
        "outputId": "3b81cfc6-d72f-4339-c828-927ca79ed9ff"
      },
      "source": [
        "# [4] LogisticRegression\n",
        "\n",
        "from sklearn.linear_model import LogisticRegression\n",
        "\n",
        "# create train and test data\n",
        "train_X = base[base.Time <= 100000][list(X_cols) + ['Amount']]\n",
        "train_y = base[base.Time <= 100000].Class\n",
        "test_X = base[base.Time > 100000][list(X_cols) + ['Amount']]\n",
        "test_y = base[base.Time > 100000].Class\n",
        "\n",
        "# train\n",
        "lr = LogisticRegression(C=100000, random_state=1234, solver='newton-cg')\n",
        "model = lr.fit(train_X, train_y)\n",
        "\n",
        "# test\n",
        "pred = model.predict_proba(test_X)\n",
        "pred = pd.DataFrame(pred, columns=['neg', 'pos'])\n",
        "pred = pred.assign(esti=pred.pos.apply(lambda x: 1 if x >= 0.4 else 0))\n",
        "\n",
        "# merge estimation and fact\n",
        "test_y = pd.DataFrame(test_y).reset_index()\n",
        "pred = pd.merge(pred, test_y, left_index=True, right_index=True)\n",
        "\n",
        "# calculate accuracy\n",
        "pred = pred.assign(true=pred.apply(lambda x: 1 if x.esti == x.Class else 0,\n",
        "                                   axis=1))\n",
        "accuracy = pred.true.sum() / pred.true.count()\n",
        "\n",
        "print(f'Answer [4] : {math.floor(accuracy * 1000) / 1000}')"
      ],
      "execution_count": 58,
      "outputs": [
        {
          "output_type": "stream",
          "text": [
            "Answer [4] : 0.815\n"
          ],
          "name": "stdout"
        }
      ]
    }
  ]
}